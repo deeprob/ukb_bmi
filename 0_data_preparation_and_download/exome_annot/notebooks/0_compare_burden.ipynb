{
 "cells": [
  {
   "cell_type": "code",
   "execution_count": 1,
   "metadata": {},
   "outputs": [],
   "source": [
    "import pandas as pd"
   ]
  },
  {
   "cell_type": "code",
   "execution_count": 2,
   "metadata": {},
   "outputs": [],
   "source": [
    "df = pd.read_csv(\"/data6/deepro/ukb_bmi/0_data_preparation_and_download/exome_annot/data/annot_tables_vep109/chr1/block_0.tsv.gz\", sep=\"\\t\")"
   ]
  },
  {
   "cell_type": "code",
   "execution_count": 8,
   "metadata": {},
   "outputs": [
    {
     "data": {
      "text/html": [
       "<div>\n",
       "<style scoped>\n",
       "    .dataframe tbody tr th:only-of-type {\n",
       "        vertical-align: middle;\n",
       "    }\n",
       "\n",
       "    .dataframe tbody tr th {\n",
       "        vertical-align: top;\n",
       "    }\n",
       "\n",
       "    .dataframe thead th {\n",
       "        text-align: right;\n",
       "    }\n",
       "</style>\n",
       "<table border=\"1\" class=\"dataframe\">\n",
       "  <thead>\n",
       "    <tr style=\"text-align: right;\">\n",
       "      <th></th>\n",
       "      <th>Unnamed: 0</th>\n",
       "      <th>locus</th>\n",
       "      <th>alleles</th>\n",
       "      <th>gene</th>\n",
       "      <th>lof</th>\n",
       "      <th>missense</th>\n",
       "      <th>splice_lof</th>\n",
       "      <th>splice</th>\n",
       "      <th>del_score</th>\n",
       "      <th>samples</th>\n",
       "    </tr>\n",
       "  </thead>\n",
       "  <tbody>\n",
       "    <tr>\n",
       "      <th>0</th>\n",
       "      <td>0</td>\n",
       "      <td>chr1:69095</td>\n",
       "      <td>T_G</td>\n",
       "      <td>OR4F5</td>\n",
       "      <td>False</td>\n",
       "      <td>True</td>\n",
       "      <td>False</td>\n",
       "      <td>False</td>\n",
       "      <td>2.0</td>\n",
       "      <td>4394389,2966356</td>\n",
       "    </tr>\n",
       "    <tr>\n",
       "      <th>1</th>\n",
       "      <td>1</td>\n",
       "      <td>chr1:69134</td>\n",
       "      <td>A_G</td>\n",
       "      <td>OR4F5</td>\n",
       "      <td>False</td>\n",
       "      <td>True</td>\n",
       "      <td>False</td>\n",
       "      <td>False</td>\n",
       "      <td>1.0</td>\n",
       "      <td>1856492,6007862,6019452,3370431,3318170,592680...</td>\n",
       "    </tr>\n",
       "    <tr>\n",
       "      <th>2</th>\n",
       "      <td>2</td>\n",
       "      <td>chr1:69149</td>\n",
       "      <td>T_A</td>\n",
       "      <td>OR4F5</td>\n",
       "      <td>False</td>\n",
       "      <td>True</td>\n",
       "      <td>False</td>\n",
       "      <td>False</td>\n",
       "      <td>2.0</td>\n",
       "      <td>1650752,5898656,5908464,3417780,4327320,395227...</td>\n",
       "    </tr>\n",
       "    <tr>\n",
       "      <th>3</th>\n",
       "      <td>3</td>\n",
       "      <td>chr1:69173</td>\n",
       "      <td>A_T</td>\n",
       "      <td>OR4F5</td>\n",
       "      <td>False</td>\n",
       "      <td>True</td>\n",
       "      <td>False</td>\n",
       "      <td>False</td>\n",
       "      <td>2.0</td>\n",
       "      <td>4183531,3120680</td>\n",
       "    </tr>\n",
       "    <tr>\n",
       "      <th>4</th>\n",
       "      <td>4</td>\n",
       "      <td>chr1:69202</td>\n",
       "      <td>A_G</td>\n",
       "      <td>OR4F5</td>\n",
       "      <td>False</td>\n",
       "      <td>True</td>\n",
       "      <td>False</td>\n",
       "      <td>False</td>\n",
       "      <td>0.0</td>\n",
       "      <td>5695119,5567129</td>\n",
       "    </tr>\n",
       "    <tr>\n",
       "      <th>...</th>\n",
       "      <td>...</td>\n",
       "      <td>...</td>\n",
       "      <td>...</td>\n",
       "      <td>...</td>\n",
       "      <td>...</td>\n",
       "      <td>...</td>\n",
       "      <td>...</td>\n",
       "      <td>...</td>\n",
       "      <td>...</td>\n",
       "      <td>...</td>\n",
       "    </tr>\n",
       "    <tr>\n",
       "      <th>5503</th>\n",
       "      <td>5503</td>\n",
       "      <td>chr1:1217788</td>\n",
       "      <td>G_A</td>\n",
       "      <td>SDF4</td>\n",
       "      <td>False</td>\n",
       "      <td>True</td>\n",
       "      <td>False</td>\n",
       "      <td>False</td>\n",
       "      <td>1.0</td>\n",
       "      <td>5892998,3243507,2724691</td>\n",
       "    </tr>\n",
       "    <tr>\n",
       "      <th>5504</th>\n",
       "      <td>5504</td>\n",
       "      <td>chr1:1217792</td>\n",
       "      <td>G_A</td>\n",
       "      <td>SDF4</td>\n",
       "      <td>False</td>\n",
       "      <td>True</td>\n",
       "      <td>False</td>\n",
       "      <td>False</td>\n",
       "      <td>0.0</td>\n",
       "      <td>5570175,1717028</td>\n",
       "    </tr>\n",
       "    <tr>\n",
       "      <th>5505</th>\n",
       "      <td>5505</td>\n",
       "      <td>chr1:1217798</td>\n",
       "      <td>G_C</td>\n",
       "      <td>SDF4</td>\n",
       "      <td>False</td>\n",
       "      <td>True</td>\n",
       "      <td>False</td>\n",
       "      <td>False</td>\n",
       "      <td>0.0</td>\n",
       "      <td>3310731,3340381,2093448,4105195</td>\n",
       "    </tr>\n",
       "    <tr>\n",
       "      <th>5506</th>\n",
       "      <td>5506</td>\n",
       "      <td>chr1:1217801</td>\n",
       "      <td>C_T</td>\n",
       "      <td>SDF4</td>\n",
       "      <td>False</td>\n",
       "      <td>True</td>\n",
       "      <td>False</td>\n",
       "      <td>False</td>\n",
       "      <td>1.0</td>\n",
       "      <td>5865426,4181931,4133186,2404250,4068671,492420...</td>\n",
       "    </tr>\n",
       "    <tr>\n",
       "      <th>5507</th>\n",
       "      <td>5507</td>\n",
       "      <td>chr1:1217802</td>\n",
       "      <td>G_A</td>\n",
       "      <td>SDF4</td>\n",
       "      <td>False</td>\n",
       "      <td>False</td>\n",
       "      <td>False</td>\n",
       "      <td>True</td>\n",
       "      <td>0.0</td>\n",
       "      <td>2989346,1653365,2482430,4737270</td>\n",
       "    </tr>\n",
       "  </tbody>\n",
       "</table>\n",
       "<p>5508 rows × 10 columns</p>\n",
       "</div>"
      ],
      "text/plain": [
       "      Unnamed: 0         locus alleles   gene    lof  missense  splice_lof  \\\n",
       "0              0    chr1:69095     T_G  OR4F5  False      True       False   \n",
       "1              1    chr1:69134     A_G  OR4F5  False      True       False   \n",
       "2              2    chr1:69149     T_A  OR4F5  False      True       False   \n",
       "3              3    chr1:69173     A_T  OR4F5  False      True       False   \n",
       "4              4    chr1:69202     A_G  OR4F5  False      True       False   \n",
       "...          ...           ...     ...    ...    ...       ...         ...   \n",
       "5503        5503  chr1:1217788     G_A   SDF4  False      True       False   \n",
       "5504        5504  chr1:1217792     G_A   SDF4  False      True       False   \n",
       "5505        5505  chr1:1217798     G_C   SDF4  False      True       False   \n",
       "5506        5506  chr1:1217801     C_T   SDF4  False      True       False   \n",
       "5507        5507  chr1:1217802     G_A   SDF4  False     False       False   \n",
       "\n",
       "      splice  del_score                                            samples  \n",
       "0      False        2.0                                    4394389,2966356  \n",
       "1      False        1.0  1856492,6007862,6019452,3370431,3318170,592680...  \n",
       "2      False        2.0  1650752,5898656,5908464,3417780,4327320,395227...  \n",
       "3      False        2.0                                    4183531,3120680  \n",
       "4      False        0.0                                    5695119,5567129  \n",
       "...      ...        ...                                                ...  \n",
       "5503   False        1.0                            5892998,3243507,2724691  \n",
       "5504   False        0.0                                    5570175,1717028  \n",
       "5505   False        0.0                    3310731,3340381,2093448,4105195  \n",
       "5506   False        1.0  5865426,4181931,4133186,2404250,4068671,492420...  \n",
       "5507    True        0.0                    2989346,1653365,2482430,4737270  \n",
       "\n",
       "[5508 rows x 10 columns]"
      ]
     },
     "execution_count": 8,
     "metadata": {},
     "output_type": "execute_result"
    }
   ],
   "source": [
    "df"
   ]
  },
  {
   "cell_type": "code",
   "execution_count": 9,
   "metadata": {},
   "outputs": [
    {
     "data": {
      "text/plain": [
       "Series([], Name: del_score, dtype: float64)"
      ]
     },
     "execution_count": 9,
     "metadata": {},
     "output_type": "execute_result"
    }
   ],
   "source": [
    "df.loc[df.splice_lof==True, \"del_score\"]#.value_counts()"
   ]
  },
  {
   "cell_type": "code",
   "execution_count": 4,
   "metadata": {},
   "outputs": [
    {
     "data": {
      "text/plain": [
       "del_score\n",
       "0.0    2137\n",
       "1.0    1258\n",
       "2.0     907\n",
       "3.0     520\n",
       "4.0     243\n",
       "5.0     177\n",
       "6.0     128\n",
       "7.0      93\n",
       "8.0      34\n",
       "9.0      11\n",
       "Name: count, dtype: int64"
      ]
     },
     "execution_count": 4,
     "metadata": {},
     "output_type": "execute_result"
    }
   ],
   "source": [
    "df.del_score.value_counts()"
   ]
  },
  {
   "cell_type": "code",
   "execution_count": 29,
   "metadata": {},
   "outputs": [],
   "source": [
    "df_new = pd.read_csv(\"/data6/deepro/ukb_bmi/0_data_preparation_and_download/exome_annot/data/processed_burden/all_gene_burden.csv.gz\")"
   ]
  },
  {
   "cell_type": "code",
   "execution_count": 30,
   "metadata": {},
   "outputs": [],
   "source": [
    "df_old = pd.read_csv(\"/data6/deepro/ukb_bmi/0_data_preparation_and_download/genotype/data/processed_burden/all_gene_burden.csv.gz\")"
   ]
  },
  {
   "cell_type": "code",
   "execution_count": 34,
   "metadata": {},
   "outputs": [],
   "source": [
    "df_new[\"len_samples\"] = df_new.samples.apply(lambda x: len(set(x.split(\",\"))))\n",
    "df_old[\"len_samples\"] = df_old.samples.apply(lambda x: len(set(x.split(\",\"))))"
   ]
  },
  {
   "cell_type": "code",
   "execution_count": 39,
   "metadata": {},
   "outputs": [
    {
     "data": {
      "text/plain": [
       "(18587, 18591)"
      ]
     },
     "execution_count": 39,
     "metadata": {},
     "output_type": "execute_result"
    }
   ],
   "source": [
    "len(df_new), len(df_old)"
   ]
  },
  {
   "cell_type": "code",
   "execution_count": 50,
   "metadata": {},
   "outputs": [],
   "source": [
    "df_old = df_old.loc[df_old.gene.isin(df_new.gene)].reset_index()"
   ]
  },
  {
   "cell_type": "code",
   "execution_count": null,
   "metadata": {},
   "outputs": [],
   "source": []
  },
  {
   "cell_type": "code",
   "execution_count": null,
   "metadata": {},
   "outputs": [],
   "source": []
  },
  {
   "cell_type": "code",
   "execution_count": null,
   "metadata": {},
   "outputs": [],
   "source": []
  },
  {
   "cell_type": "code",
   "execution_count": 22,
   "metadata": {},
   "outputs": [],
   "source": [
    "b1 = pd.read_csv(\"/data6/deepro/ukb_bmi/0_data_preparation_and_download/genotype/data/burden_tables/chrY/block_0.tsv\", sep=\"\\t\", index_col=0)\n",
    "b2 = pd.read_csv(\"/data6/deepro/ukb_bmi/0_data_preparation_and_download/exome_annot/data/burden_tables/chrY/block_0.tsv\", sep=\"\\t\")"
   ]
  },
  {
   "cell_type": "code",
   "execution_count": 26,
   "metadata": {},
   "outputs": [],
   "source": [
    "b1[\"len_samples\"] = b1.samples.apply(lambda x: len(set(x.split(\",\"))))\n",
    "b2[\"len_samples\"] = b2.samples.apply(lambda x: len(set(x.split(\",\"))))"
   ]
  },
  {
   "cell_type": "code",
   "execution_count": null,
   "metadata": {},
   "outputs": [],
   "source": []
  },
  {
   "cell_type": "code",
   "execution_count": null,
   "metadata": {},
   "outputs": [],
   "source": []
  },
  {
   "cell_type": "code",
   "execution_count": 2,
   "metadata": {},
   "outputs": [],
   "source": [
    "df = pd.read_csv(\"../data/annot_tables_vep109/chr10/block_2.tsv.gz\", sep=\"\\t\", index_col=0)"
   ]
  },
  {
   "cell_type": "code",
   "execution_count": null,
   "metadata": {},
   "outputs": [],
   "source": [
    "def create_burden(block_df):\n",
    "    # select lof and deleterious missense variants\n",
    "    block_df = block_df.loc[(block_df.lof==True)|(block_df.splice_lof==True)|((block_df.missense==True)&(block_df.del_score>4))]\n",
    "    block_df = block_df.groupby(\"gene\").agg({\"samples\": lambda x: \",\".join(x)})\n",
    "    return block_df\n",
    "    "
   ]
  },
  {
   "cell_type": "code",
   "execution_count": 6,
   "metadata": {},
   "outputs": [],
   "source": [
    "df = df.loc[(df.lof==True)|(df.splice_lof==True)|((df.missense==True)&(df.del_score>4))]"
   ]
  },
  {
   "cell_type": "code",
   "execution_count": 8,
   "metadata": {},
   "outputs": [
    {
     "data": {
      "text/html": [
       "<div>\n",
       "<style scoped>\n",
       "    .dataframe tbody tr th:only-of-type {\n",
       "        vertical-align: middle;\n",
       "    }\n",
       "\n",
       "    .dataframe tbody tr th {\n",
       "        vertical-align: top;\n",
       "    }\n",
       "\n",
       "    .dataframe thead th {\n",
       "        text-align: right;\n",
       "    }\n",
       "</style>\n",
       "<table border=\"1\" class=\"dataframe\">\n",
       "  <thead>\n",
       "    <tr style=\"text-align: right;\">\n",
       "      <th></th>\n",
       "      <th>samples</th>\n",
       "    </tr>\n",
       "    <tr>\n",
       "      <th>gene</th>\n",
       "      <th></th>\n",
       "    </tr>\n",
       "  </thead>\n",
       "  <tbody>\n",
       "    <tr>\n",
       "      <th>AGAP9</th>\n",
       "      <td>3643793,3586779,4667234,1087493,1253435,501178...</td>\n",
       "    </tr>\n",
       "    <tr>\n",
       "      <th>ANXA8</th>\n",
       "      <td>4906066,2752227,1991068,2021963,4961728,245918...</td>\n",
       "    </tr>\n",
       "    <tr>\n",
       "      <th>ANXA8L1</th>\n",
       "      <td>1215260,2472979,2717060</td>\n",
       "    </tr>\n",
       "    <tr>\n",
       "      <th>ARHGAP22</th>\n",
       "      <td>4152876,3760398,1850853,5313690,1770409,524508...</td>\n",
       "    </tr>\n",
       "    <tr>\n",
       "      <th>FAM25C</th>\n",
       "      <td>4935601,1794985,1313230,4906156,2892458,533426...</td>\n",
       "    </tr>\n",
       "    <tr>\n",
       "      <th>FAM25G</th>\n",
       "      <td>1794985,1313230,4906156,2892458,3016868,484380...</td>\n",
       "    </tr>\n",
       "    <tr>\n",
       "      <th>FRMPD2</th>\n",
       "      <td>2144466,1094120,1776320,2790425,4624748,290773...</td>\n",
       "    </tr>\n",
       "    <tr>\n",
       "      <th>GDF10</th>\n",
       "      <td>2156106,1034656,4579492,5323753,4491216,110988...</td>\n",
       "    </tr>\n",
       "    <tr>\n",
       "      <th>GDF2</th>\n",
       "      <td>5350553,2097795,5852212,1517095,5574611,242947...</td>\n",
       "    </tr>\n",
       "    <tr>\n",
       "      <th>GPRIN2</th>\n",
       "      <td>5806122,3141768,2648510,5920889,3736171,313187...</td>\n",
       "    </tr>\n",
       "    <tr>\n",
       "      <th>LRRC18</th>\n",
       "      <td>2796724,5953233,5402087,5201986,5429596,120958...</td>\n",
       "    </tr>\n",
       "    <tr>\n",
       "      <th>MAPK8</th>\n",
       "      <td>2204813,1714487,1252347,3076780,3944030,321169...</td>\n",
       "    </tr>\n",
       "    <tr>\n",
       "      <th>NPY4R</th>\n",
       "      <td>5533839,2495965,5600545,5156436,3497268,510190...</td>\n",
       "    </tr>\n",
       "    <tr>\n",
       "      <th>PTPN20</th>\n",
       "      <td>5535451,4474080,3717201,4653680,1549136,583033...</td>\n",
       "    </tr>\n",
       "    <tr>\n",
       "      <th>RBP3</th>\n",
       "      <td>1979111,4325938,5523730,2679296,2392156,419064...</td>\n",
       "    </tr>\n",
       "    <tr>\n",
       "      <th>SYT15</th>\n",
       "      <td>1069915,1379171,2863181,4169605,5185893,303374...</td>\n",
       "    </tr>\n",
       "    <tr>\n",
       "      <th>WDFY4</th>\n",
       "      <td>4267008,3247730,4268471,4068286,2231244,349409...</td>\n",
       "    </tr>\n",
       "    <tr>\n",
       "      <th>ZNF488</th>\n",
       "      <td>3786164,4325606,5857819,1376976,2204465,344825...</td>\n",
       "    </tr>\n",
       "  </tbody>\n",
       "</table>\n",
       "</div>"
      ],
      "text/plain": [
       "                                                    samples\n",
       "gene                                                       \n",
       "AGAP9     3643793,3586779,4667234,1087493,1253435,501178...\n",
       "ANXA8     4906066,2752227,1991068,2021963,4961728,245918...\n",
       "ANXA8L1                             1215260,2472979,2717060\n",
       "ARHGAP22  4152876,3760398,1850853,5313690,1770409,524508...\n",
       "FAM25C    4935601,1794985,1313230,4906156,2892458,533426...\n",
       "FAM25G    1794985,1313230,4906156,2892458,3016868,484380...\n",
       "FRMPD2    2144466,1094120,1776320,2790425,4624748,290773...\n",
       "GDF10     2156106,1034656,4579492,5323753,4491216,110988...\n",
       "GDF2      5350553,2097795,5852212,1517095,5574611,242947...\n",
       "GPRIN2    5806122,3141768,2648510,5920889,3736171,313187...\n",
       "LRRC18    2796724,5953233,5402087,5201986,5429596,120958...\n",
       "MAPK8     2204813,1714487,1252347,3076780,3944030,321169...\n",
       "NPY4R     5533839,2495965,5600545,5156436,3497268,510190...\n",
       "PTPN20    5535451,4474080,3717201,4653680,1549136,583033...\n",
       "RBP3      1979111,4325938,5523730,2679296,2392156,419064...\n",
       "SYT15     1069915,1379171,2863181,4169605,5185893,303374...\n",
       "WDFY4     4267008,3247730,4268471,4068286,2231244,349409...\n",
       "ZNF488    3786164,4325606,5857819,1376976,2204465,344825..."
      ]
     },
     "execution_count": 8,
     "metadata": {},
     "output_type": "execute_result"
    }
   ],
   "source": []
  },
  {
   "cell_type": "code",
   "execution_count": null,
   "metadata": {},
   "outputs": [],
   "source": []
  }
 ],
 "metadata": {
  "kernelspec": {
   "display_name": "dnanexus",
   "language": "python",
   "name": "python3"
  },
  "language_info": {
   "codemirror_mode": {
    "name": "ipython",
    "version": 3
   },
   "file_extension": ".py",
   "mimetype": "text/x-python",
   "name": "python",
   "nbconvert_exporter": "python",
   "pygments_lexer": "ipython3",
   "version": "3.11.4"
  }
 },
 "nbformat": 4,
 "nbformat_minor": 2
}
