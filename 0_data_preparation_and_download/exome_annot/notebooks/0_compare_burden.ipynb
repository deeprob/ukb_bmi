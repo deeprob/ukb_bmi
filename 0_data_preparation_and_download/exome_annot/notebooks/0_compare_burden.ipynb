{
 "cells": [
  {
   "cell_type": "code",
   "execution_count": 1,
   "metadata": {},
   "outputs": [],
   "source": [
    "import pandas as pd"
   ]
  },
  {
   "cell_type": "code",
   "execution_count": 29,
   "metadata": {},
   "outputs": [],
   "source": [
    "df_new = pd.read_csv(\"/data6/deepro/ukb_bmi/0_data_preparation_and_download/exome_annot/data/processed_burden/all_gene_burden.csv.gz\")"
   ]
  },
  {
   "cell_type": "code",
   "execution_count": 30,
   "metadata": {},
   "outputs": [],
   "source": [
    "df_old = pd.read_csv(\"/data6/deepro/ukb_bmi/0_data_preparation_and_download/genotype/data/processed_burden/all_gene_burden.csv.gz\")"
   ]
  },
  {
   "cell_type": "code",
   "execution_count": 34,
   "metadata": {},
   "outputs": [],
   "source": [
    "df_new[\"len_samples\"] = df_new.samples.apply(lambda x: len(set(x.split(\",\"))))\n",
    "df_old[\"len_samples\"] = df_old.samples.apply(lambda x: len(set(x.split(\",\"))))"
   ]
  },
  {
   "cell_type": "code",
   "execution_count": 39,
   "metadata": {},
   "outputs": [
    {
     "data": {
      "text/plain": [
       "(18587, 18591)"
      ]
     },
     "execution_count": 39,
     "metadata": {},
     "output_type": "execute_result"
    }
   ],
   "source": [
    "len(df_new), len(df_old)"
   ]
  },
  {
   "cell_type": "code",
   "execution_count": 50,
   "metadata": {},
   "outputs": [],
   "source": [
    "df_old = df_old.loc[df_old.gene.isin(df_new.gene)].reset_index()"
   ]
  },
  {
   "cell_type": "code",
   "execution_count": null,
   "metadata": {},
   "outputs": [],
   "source": []
  },
  {
   "cell_type": "code",
   "execution_count": null,
   "metadata": {},
   "outputs": [],
   "source": []
  },
  {
   "cell_type": "code",
   "execution_count": null,
   "metadata": {},
   "outputs": [],
   "source": []
  },
  {
   "cell_type": "code",
   "execution_count": 22,
   "metadata": {},
   "outputs": [],
   "source": [
    "b1 = pd.read_csv(\"/data6/deepro/ukb_bmi/0_data_preparation_and_download/genotype/data/burden_tables/chrY/block_0.tsv\", sep=\"\\t\", index_col=0)\n",
    "b2 = pd.read_csv(\"/data6/deepro/ukb_bmi/0_data_preparation_and_download/exome_annot/data/burden_tables/chrY/block_0.tsv\", sep=\"\\t\")"
   ]
  },
  {
   "cell_type": "code",
   "execution_count": 26,
   "metadata": {},
   "outputs": [],
   "source": [
    "b1[\"len_samples\"] = b1.samples.apply(lambda x: len(set(x.split(\",\"))))\n",
    "b2[\"len_samples\"] = b2.samples.apply(lambda x: len(set(x.split(\",\"))))"
   ]
  },
  {
   "cell_type": "code",
   "execution_count": null,
   "metadata": {},
   "outputs": [],
   "source": []
  },
  {
   "cell_type": "code",
   "execution_count": null,
   "metadata": {},
   "outputs": [],
   "source": []
  },
  {
   "cell_type": "code",
   "execution_count": 2,
   "metadata": {},
   "outputs": [],
   "source": [
    "df = pd.read_csv(\"../data/annot_tables_vep109/chr10/block_2.tsv.gz\", sep=\"\\t\", index_col=0)"
   ]
  },
  {
   "cell_type": "code",
   "execution_count": null,
   "metadata": {},
   "outputs": [],
   "source": [
    "def create_burden(block_df):\n",
    "    # select lof and deleterious missense variants\n",
    "    block_df = block_df.loc[(block_df.lof==True)|(block_df.splice_lof==True)|((block_df.missense==True)&(block_df.del_score>4))]\n",
    "    block_df = block_df.groupby(\"gene\").agg({\"samples\": lambda x: \",\".join(x)})\n",
    "    return block_df\n",
    "    "
   ]
  },
  {
   "cell_type": "code",
   "execution_count": 6,
   "metadata": {},
   "outputs": [],
   "source": [
    "df = df.loc[(df.lof==True)|(df.splice_lof==True)|((df.missense==True)&(df.del_score>4))]"
   ]
  },
  {
   "cell_type": "code",
   "execution_count": 8,
   "metadata": {},
   "outputs": [
    {
     "data": {
      "text/html": [
       "<div>\n",
       "<style scoped>\n",
       "    .dataframe tbody tr th:only-of-type {\n",
       "        vertical-align: middle;\n",
       "    }\n",
       "\n",
       "    .dataframe tbody tr th {\n",
       "        vertical-align: top;\n",
       "    }\n",
       "\n",
       "    .dataframe thead th {\n",
       "        text-align: right;\n",
       "    }\n",
       "</style>\n",
       "<table border=\"1\" class=\"dataframe\">\n",
       "  <thead>\n",
       "    <tr style=\"text-align: right;\">\n",
       "      <th></th>\n",
       "      <th>samples</th>\n",
       "    </tr>\n",
       "    <tr>\n",
       "      <th>gene</th>\n",
       "      <th></th>\n",
       "    </tr>\n",
       "  </thead>\n",
       "  <tbody>\n",
       "    <tr>\n",
       "      <th>AGAP9</th>\n",
       "      <td>3643793,3586779,4667234,1087493,1253435,501178...</td>\n",
       "    </tr>\n",
       "    <tr>\n",
       "      <th>ANXA8</th>\n",
       "      <td>4906066,2752227,1991068,2021963,4961728,245918...</td>\n",
       "    </tr>\n",
       "    <tr>\n",
       "      <th>ANXA8L1</th>\n",
       "      <td>1215260,2472979,2717060</td>\n",
       "    </tr>\n",
       "    <tr>\n",
       "      <th>ARHGAP22</th>\n",
       "      <td>4152876,3760398,1850853,5313690,1770409,524508...</td>\n",
       "    </tr>\n",
       "    <tr>\n",
       "      <th>FAM25C</th>\n",
       "      <td>4935601,1794985,1313230,4906156,2892458,533426...</td>\n",
       "    </tr>\n",
       "    <tr>\n",
       "      <th>FAM25G</th>\n",
       "      <td>1794985,1313230,4906156,2892458,3016868,484380...</td>\n",
       "    </tr>\n",
       "    <tr>\n",
       "      <th>FRMPD2</th>\n",
       "      <td>2144466,1094120,1776320,2790425,4624748,290773...</td>\n",
       "    </tr>\n",
       "    <tr>\n",
       "      <th>GDF10</th>\n",
       "      <td>2156106,1034656,4579492,5323753,4491216,110988...</td>\n",
       "    </tr>\n",
       "    <tr>\n",
       "      <th>GDF2</th>\n",
       "      <td>5350553,2097795,5852212,1517095,5574611,242947...</td>\n",
       "    </tr>\n",
       "    <tr>\n",
       "      <th>GPRIN2</th>\n",
       "      <td>5806122,3141768,2648510,5920889,3736171,313187...</td>\n",
       "    </tr>\n",
       "    <tr>\n",
       "      <th>LRRC18</th>\n",
       "      <td>2796724,5953233,5402087,5201986,5429596,120958...</td>\n",
       "    </tr>\n",
       "    <tr>\n",
       "      <th>MAPK8</th>\n",
       "      <td>2204813,1714487,1252347,3076780,3944030,321169...</td>\n",
       "    </tr>\n",
       "    <tr>\n",
       "      <th>NPY4R</th>\n",
       "      <td>5533839,2495965,5600545,5156436,3497268,510190...</td>\n",
       "    </tr>\n",
       "    <tr>\n",
       "      <th>PTPN20</th>\n",
       "      <td>5535451,4474080,3717201,4653680,1549136,583033...</td>\n",
       "    </tr>\n",
       "    <tr>\n",
       "      <th>RBP3</th>\n",
       "      <td>1979111,4325938,5523730,2679296,2392156,419064...</td>\n",
       "    </tr>\n",
       "    <tr>\n",
       "      <th>SYT15</th>\n",
       "      <td>1069915,1379171,2863181,4169605,5185893,303374...</td>\n",
       "    </tr>\n",
       "    <tr>\n",
       "      <th>WDFY4</th>\n",
       "      <td>4267008,3247730,4268471,4068286,2231244,349409...</td>\n",
       "    </tr>\n",
       "    <tr>\n",
       "      <th>ZNF488</th>\n",
       "      <td>3786164,4325606,5857819,1376976,2204465,344825...</td>\n",
       "    </tr>\n",
       "  </tbody>\n",
       "</table>\n",
       "</div>"
      ],
      "text/plain": [
       "                                                    samples\n",
       "gene                                                       \n",
       "AGAP9     3643793,3586779,4667234,1087493,1253435,501178...\n",
       "ANXA8     4906066,2752227,1991068,2021963,4961728,245918...\n",
       "ANXA8L1                             1215260,2472979,2717060\n",
       "ARHGAP22  4152876,3760398,1850853,5313690,1770409,524508...\n",
       "FAM25C    4935601,1794985,1313230,4906156,2892458,533426...\n",
       "FAM25G    1794985,1313230,4906156,2892458,3016868,484380...\n",
       "FRMPD2    2144466,1094120,1776320,2790425,4624748,290773...\n",
       "GDF10     2156106,1034656,4579492,5323753,4491216,110988...\n",
       "GDF2      5350553,2097795,5852212,1517095,5574611,242947...\n",
       "GPRIN2    5806122,3141768,2648510,5920889,3736171,313187...\n",
       "LRRC18    2796724,5953233,5402087,5201986,5429596,120958...\n",
       "MAPK8     2204813,1714487,1252347,3076780,3944030,321169...\n",
       "NPY4R     5533839,2495965,5600545,5156436,3497268,510190...\n",
       "PTPN20    5535451,4474080,3717201,4653680,1549136,583033...\n",
       "RBP3      1979111,4325938,5523730,2679296,2392156,419064...\n",
       "SYT15     1069915,1379171,2863181,4169605,5185893,303374...\n",
       "WDFY4     4267008,3247730,4268471,4068286,2231244,349409...\n",
       "ZNF488    3786164,4325606,5857819,1376976,2204465,344825..."
      ]
     },
     "execution_count": 8,
     "metadata": {},
     "output_type": "execute_result"
    }
   ],
   "source": []
  },
  {
   "cell_type": "code",
   "execution_count": null,
   "metadata": {},
   "outputs": [],
   "source": []
  }
 ],
 "metadata": {
  "kernelspec": {
   "display_name": "dnanexus",
   "language": "python",
   "name": "python3"
  },
  "language_info": {
   "codemirror_mode": {
    "name": "ipython",
    "version": 3
   },
   "file_extension": ".py",
   "mimetype": "text/x-python",
   "name": "python",
   "nbconvert_exporter": "python",
   "pygments_lexer": "ipython3",
   "version": "3.11.4"
  }
 },
 "nbformat": 4,
 "nbformat_minor": 2
}
