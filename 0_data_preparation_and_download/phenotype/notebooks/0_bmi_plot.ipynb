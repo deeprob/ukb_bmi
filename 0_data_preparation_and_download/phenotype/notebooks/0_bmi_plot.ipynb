{
 "cells": [
  {
   "cell_type": "code",
   "execution_count": 1,
   "metadata": {},
   "outputs": [
    {
     "name": "stderr",
     "output_type": "stream",
     "text": [
      "/data5/deepro/miniconda3/envs/starrseq/lib/python3.9/site-packages/scipy/__init__.py:146: UserWarning: A NumPy version >=1.16.5 and <1.23.0 is required for this version of SciPy (detected version 1.25.0\n",
      "  warnings.warn(f\"A NumPy version >={np_minversion} and <{np_maxversion}\"\n"
     ]
    }
   ],
   "source": [
    "import numpy as np\n",
    "import pandas as pd\n",
    "from scipy.stats import kstest,ttest_ind\n",
    "import seaborn as sns\n",
    "from matplotlib.ticker import MultipleLocator\n",
    "import matplotlib\n",
    "import matplotlib.pyplot as plt\n",
    "matplotlib.rcParams['pdf.fonttype'] = 42\n",
    "matplotlib.rcParams['ps.fonttype'] = 42\n",
    "matplotlib.rcParams.update({'font.size': 14, 'axes.linewidth': 2, 'xtick.major.width': 1.5, 'xtick.major.size': 7, 'ytick.major.width': 1.5, 'ytick.major.size': 7})\n",
    "from matplotlib.backends.backend_pdf import PdfPages"
   ]
  },
  {
   "cell_type": "code",
   "execution_count": 4,
   "metadata": {},
   "outputs": [],
   "source": [
    "train_df = pd.read_csv(\"/data6/deepro/ukb_bmi/0_data_preparation_and_download/phenotype/data/bmi_processed/british/train_cohort_bmi.csv.gz\")"
   ]
  },
  {
   "cell_type": "code",
   "execution_count": 7,
   "metadata": {},
   "outputs": [],
   "source": [
    "test_df = pd.read_csv(\"/data6/deepro/ukb_bmi/0_data_preparation_and_download/phenotype/data/bmi_processed/british/test_cohort_bmi.csv.gz\")"
   ]
  },
  {
   "cell_type": "code",
   "execution_count": 8,
   "metadata": {},
   "outputs": [
    {
     "data": {
      "text/plain": [
       "(427639, 59018, 486657)"
      ]
     },
     "execution_count": 8,
     "metadata": {},
     "output_type": "execute_result"
    }
   ],
   "source": [
    "len(train_df), len(test_df), len(train_df) + len(test_df)"
   ]
  },
  {
   "cell_type": "code",
   "execution_count": 9,
   "metadata": {},
   "outputs": [],
   "source": [
    "train_df[\"bmi_deciles\"] = pd.qcut(train_df.bmi_residuals, q=10, labels=False)"
   ]
  },
  {
   "cell_type": "code",
   "execution_count": 14,
   "metadata": {},
   "outputs": [
    {
     "data": {
      "text/plain": [
       "count    42764.000000\n",
       "mean        24.276916\n",
       "std          1.407834\n",
       "min         18.480200\n",
       "25%         23.313500\n",
       "50%         24.264200\n",
       "75%         25.217800\n",
       "max         30.060500\n",
       "Name: bmi, dtype: float64"
      ]
     },
     "execution_count": 14,
     "metadata": {},
     "output_type": "execute_result"
    }
   ],
   "source": [
    "train_df.loc[train_df.bmi_deciles==2, \"bmi\"].describe()"
   ]
  },
  {
   "cell_type": "code",
   "execution_count": 15,
   "metadata": {},
   "outputs": [
    {
     "data": {
      "text/plain": [
       "count    42764.000000\n",
       "mean        31.743776\n",
       "std          1.592406\n",
       "min         24.929100\n",
       "25%         30.655900\n",
       "50%         31.738550\n",
       "75%         32.820425\n",
       "max         37.983900\n",
       "Name: bmi, dtype: float64"
      ]
     },
     "execution_count": 15,
     "metadata": {},
     "output_type": "execute_result"
    }
   ],
   "source": [
    "train_df.loc[train_df.bmi_deciles==8, \"bmi\"].describe()"
   ]
  },
  {
   "cell_type": "code",
   "execution_count": null,
   "metadata": {},
   "outputs": [],
   "source": []
  },
  {
   "cell_type": "code",
   "execution_count": 14,
   "metadata": {},
   "outputs": [
    {
     "data": {
      "text/plain": [
       "(24.2642, 24.276916049714714)"
      ]
     },
     "execution_count": 14,
     "metadata": {},
     "output_type": "execute_result"
    }
   ],
   "source": [
    "df.loc[df.bmi_deciles==2].loc[:, \"bmi\"].median(), df.loc[df.bmi_deciles==2].bmi.mean()"
   ]
  },
  {
   "cell_type": "code",
   "execution_count": 24,
   "metadata": {},
   "outputs": [
    {
     "data": {
      "text/plain": [
       "24.1445"
      ]
     },
     "execution_count": 24,
     "metadata": {},
     "output_type": "execute_result"
    }
   ],
   "source": [
    "df.loc[df.bmi_deciles==2].loc[:, \"bmi\"].median()"
   ]
  },
  {
   "cell_type": "code",
   "execution_count": 21,
   "metadata": {},
   "outputs": [
    {
     "data": {
      "text/plain": [
       "24.15733169687932"
      ]
     },
     "execution_count": 21,
     "metadata": {},
     "output_type": "execute_result"
    }
   ],
   "source": [
    "df.loc[df.bmi_deciles==2].bmi.mean()"
   ]
  },
  {
   "cell_type": "code",
   "execution_count": 15,
   "metadata": {},
   "outputs": [
    {
     "data": {
      "text/plain": [
       "31.74377647281202"
      ]
     },
     "execution_count": 15,
     "metadata": {},
     "output_type": "execute_result"
    }
   ],
   "source": [
    "df.loc[df.bmi_deciles==8].bmi.mean()"
   ]
  },
  {
   "cell_type": "code",
   "execution_count": 25,
   "metadata": {},
   "outputs": [
    {
     "data": {
      "text/plain": [
       "31.95533040837566"
      ]
     },
     "execution_count": 25,
     "metadata": {},
     "output_type": "execute_result"
    }
   ],
   "source": [
    "df.loc[df.bmi_deciles==8].bmi.mean()"
   ]
  },
  {
   "cell_type": "code",
   "execution_count": 16,
   "metadata": {},
   "outputs": [
    {
     "data": {
      "text/plain": [
       "<Axes: xlabel='bmi', ylabel='Count'>"
      ]
     },
     "execution_count": 16,
     "metadata": {},
     "output_type": "execute_result"
    },
    {
     "data": {
      "image/png": "[encoded data removed]",
      "text/plain": [
       "<Figure size 640x480 with 1 Axes>"
      ]
     },
     "metadata": {},
     "output_type": "display_data"
    }
   ],
   "source": [
    "sns.histplot(data=df, x=\"bmi\")"
   ]
  },
  {
   "cell_type": "code",
   "execution_count": 17,
   "metadata": {},
   "outputs": [
    {
     "data": {
      "text/plain": [
       "<Axes: xlabel='bmi_residuals', ylabel='Count'>"
      ]
     },
     "execution_count": 17,
     "metadata": {},
     "output_type": "execute_result"
    },
    {
     "data": {
      "image/png": "[encoded data removed]",
      "text/plain": [
       "<Figure size 640x480 with 1 Axes>"
      ]
     },
     "metadata": {},
     "output_type": "display_data"
    }
   ],
   "source": [
    "sns.histplot(data=df, x=\"bmi_residuals\")"
   ]
  },
  {
   "cell_type": "code",
   "execution_count": 19,
   "metadata": {},
   "outputs": [
    {
     "data": {
      "text/html": [
       "<div>\n",
       "<style scoped>\n",
       "    .dataframe tbody tr th:only-of-type {\n",
       "        vertical-align: middle;\n",
       "    }\n",
       "\n",
       "    .dataframe tbody tr th {\n",
       "        vertical-align: top;\n",
       "    }\n",
       "\n",
       "    .dataframe thead th {\n",
       "        text-align: right;\n",
       "    }\n",
       "</style>\n",
       "<table border=\"1\" class=\"dataframe\">\n",
       "  <thead>\n",
       "    <tr style=\"text-align: right;\">\n",
       "      <th></th>\n",
       "      <th>sample_names</th>\n",
       "      <th>sex</th>\n",
       "      <th>genetic_kinship_to_other_participants</th>\n",
       "      <th>genetic_ethnic_grouping</th>\n",
       "      <th>genetic_sex</th>\n",
       "      <th>year_of_birth</th>\n",
       "      <th>bmi_prs</th>\n",
       "      <th>genetic_pca1</th>\n",
       "      <th>genetic_pca2</th>\n",
       "      <th>genetic_pca3</th>\n",
       "      <th>...</th>\n",
       "      <th>genetic_pca38</th>\n",
       "      <th>genetic_pca39</th>\n",
       "      <th>genetic_pca40</th>\n",
       "      <th>menopause</th>\n",
       "      <th>ethnic_background</th>\n",
       "      <th>bmi</th>\n",
       "      <th>age</th>\n",
       "      <th>bmi_scaled</th>\n",
       "      <th>bmi_residuals</th>\n",
       "      <th>bmi_deciles</th>\n",
       "    </tr>\n",
       "  </thead>\n",
       "  <tbody>\n",
       "    <tr>\n",
       "      <th>0</th>\n",
       "      <td>1000028</td>\n",
       "      <td>Male</td>\n",
       "      <td>No kinship found</td>\n",
       "      <td>Caucasian</td>\n",
       "      <td>1</td>\n",
       "      <td>1947.0</td>\n",
       "      <td>-0.452521</td>\n",
       "      <td>-1.049343</td>\n",
       "      <td>-0.035594</td>\n",
       "      <td>-0.318610</td>\n",
       "      <td>...</td>\n",
       "      <td>-1.301051</td>\n",
       "      <td>-2.121493</td>\n",
       "      <td>-0.528176</td>\n",
       "      <td>NaN</td>\n",
       "      <td>British</td>\n",
       "      <td>25.50385</td>\n",
       "      <td>1.053334</td>\n",
       "      <td>-0.400313</td>\n",
       "      <td>-0.408359</td>\n",
       "      <td>3</td>\n",
       "    </tr>\n",
       "    <tr>\n",
       "      <th>1</th>\n",
       "      <td>1000045</td>\n",
       "      <td>Female</td>\n",
       "      <td>At least one relative identified</td>\n",
       "      <td>Caucasian</td>\n",
       "      <td>0</td>\n",
       "      <td>1952.0</td>\n",
       "      <td>-0.894587</td>\n",
       "      <td>-0.375479</td>\n",
       "      <td>-0.102603</td>\n",
       "      <td>-0.511934</td>\n",
       "      <td>...</td>\n",
       "      <td>0.116458</td>\n",
       "      <td>0.172739</td>\n",
       "      <td>-2.491580</td>\n",
       "      <td>Yes</td>\n",
       "      <td>British</td>\n",
       "      <td>23.71090</td>\n",
       "      <td>-0.190425</td>\n",
       "      <td>-0.777059</td>\n",
       "      <td>-0.462484</td>\n",
       "      <td>3</td>\n",
       "    </tr>\n",
       "    <tr>\n",
       "      <th>2</th>\n",
       "      <td>1000171</td>\n",
       "      <td>Female</td>\n",
       "      <td>No kinship found</td>\n",
       "      <td>Caucasian</td>\n",
       "      <td>0</td>\n",
       "      <td>1944.0</td>\n",
       "      <td>-0.788252</td>\n",
       "      <td>-0.382776</td>\n",
       "      <td>-0.734280</td>\n",
       "      <td>0.182330</td>\n",
       "      <td>...</td>\n",
       "      <td>-1.801504</td>\n",
       "      <td>-0.090783</td>\n",
       "      <td>-0.755636</td>\n",
       "      <td>Yes</td>\n",
       "      <td>British</td>\n",
       "      <td>30.92310</td>\n",
       "      <td>1.426462</td>\n",
       "      <td>0.738413</td>\n",
       "      <td>0.985810</td>\n",
       "      <td>8</td>\n",
       "    </tr>\n",
       "    <tr>\n",
       "      <th>3</th>\n",
       "      <td>1000196</td>\n",
       "      <td>Female</td>\n",
       "      <td>No kinship found</td>\n",
       "      <td>NaN</td>\n",
       "      <td>0</td>\n",
       "      <td>1959.0</td>\n",
       "      <td>0.248674</td>\n",
       "      <td>9.739123</td>\n",
       "      <td>-21.189125</td>\n",
       "      <td>-11.847223</td>\n",
       "      <td>...</td>\n",
       "      <td>0.756860</td>\n",
       "      <td>-1.405768</td>\n",
       "      <td>0.201243</td>\n",
       "      <td>inconsistent</td>\n",
       "      <td>British</td>\n",
       "      <td>19.57480</td>\n",
       "      <td>-0.563553</td>\n",
       "      <td>-1.646162</td>\n",
       "      <td>-1.554883</td>\n",
       "      <td>0</td>\n",
       "    </tr>\n",
       "    <tr>\n",
       "      <th>4</th>\n",
       "      <td>1000222</td>\n",
       "      <td>Male</td>\n",
       "      <td>No kinship found</td>\n",
       "      <td>Caucasian</td>\n",
       "      <td>1</td>\n",
       "      <td>1940.0</td>\n",
       "      <td>0.309868</td>\n",
       "      <td>0.531430</td>\n",
       "      <td>0.476652</td>\n",
       "      <td>-0.542410</td>\n",
       "      <td>...</td>\n",
       "      <td>0.699100</td>\n",
       "      <td>0.215883</td>\n",
       "      <td>3.912200</td>\n",
       "      <td>NaN</td>\n",
       "      <td>British</td>\n",
       "      <td>30.00600</td>\n",
       "      <td>1.302086</td>\n",
       "      <td>0.545706</td>\n",
       "      <td>0.292562</td>\n",
       "      <td>6</td>\n",
       "    </tr>\n",
       "    <tr>\n",
       "      <th>...</th>\n",
       "      <td>...</td>\n",
       "      <td>...</td>\n",
       "      <td>...</td>\n",
       "      <td>...</td>\n",
       "      <td>...</td>\n",
       "      <td>...</td>\n",
       "      <td>...</td>\n",
       "      <td>...</td>\n",
       "      <td>...</td>\n",
       "      <td>...</td>\n",
       "      <td>...</td>\n",
       "      <td>...</td>\n",
       "      <td>...</td>\n",
       "      <td>...</td>\n",
       "      <td>...</td>\n",
       "      <td>...</td>\n",
       "      <td>...</td>\n",
       "      <td>...</td>\n",
       "      <td>...</td>\n",
       "      <td>...</td>\n",
       "      <td>...</td>\n",
       "    </tr>\n",
       "    <tr>\n",
       "      <th>427634</th>\n",
       "      <td>6024948</td>\n",
       "      <td>Male</td>\n",
       "      <td>No kinship found</td>\n",
       "      <td>Caucasian</td>\n",
       "      <td>1</td>\n",
       "      <td>1953.0</td>\n",
       "      <td>0.543946</td>\n",
       "      <td>0.166423</td>\n",
       "      <td>0.526967</td>\n",
       "      <td>-0.109158</td>\n",
       "      <td>...</td>\n",
       "      <td>0.109191</td>\n",
       "      <td>0.542504</td>\n",
       "      <td>-4.138590</td>\n",
       "      <td>NaN</td>\n",
       "      <td>British</td>\n",
       "      <td>47.22080</td>\n",
       "      <td>-0.314801</td>\n",
       "      <td>4.162986</td>\n",
       "      <td>3.942332</td>\n",
       "      <td>9</td>\n",
       "    </tr>\n",
       "    <tr>\n",
       "      <th>427635</th>\n",
       "      <td>6025016</td>\n",
       "      <td>Male</td>\n",
       "      <td>No kinship found</td>\n",
       "      <td>Caucasian</td>\n",
       "      <td>1</td>\n",
       "      <td>1942.0</td>\n",
       "      <td>-0.974780</td>\n",
       "      <td>0.985217</td>\n",
       "      <td>-0.361463</td>\n",
       "      <td>0.462544</td>\n",
       "      <td>...</td>\n",
       "      <td>0.097005</td>\n",
       "      <td>0.024763</td>\n",
       "      <td>-0.583682</td>\n",
       "      <td>NaN</td>\n",
       "      <td>British</td>\n",
       "      <td>26.56900</td>\n",
       "      <td>1.053334</td>\n",
       "      <td>-0.176497</td>\n",
       "      <td>-0.024413</td>\n",
       "      <td>5</td>\n",
       "    </tr>\n",
       "    <tr>\n",
       "      <th>427636</th>\n",
       "      <td>6025119</td>\n",
       "      <td>Male</td>\n",
       "      <td>At least one relative identified</td>\n",
       "      <td>Caucasian</td>\n",
       "      <td>1</td>\n",
       "      <td>1957.0</td>\n",
       "      <td>1.205798</td>\n",
       "      <td>0.028790</td>\n",
       "      <td>-0.315907</td>\n",
       "      <td>-0.332173</td>\n",
       "      <td>...</td>\n",
       "      <td>0.547546</td>\n",
       "      <td>-1.157715</td>\n",
       "      <td>1.978230</td>\n",
       "      <td>NaN</td>\n",
       "      <td>British</td>\n",
       "      <td>30.07590</td>\n",
       "      <td>-0.252613</td>\n",
       "      <td>0.560394</td>\n",
       "      <td>0.120928</td>\n",
       "      <td>6</td>\n",
       "    </tr>\n",
       "    <tr>\n",
       "      <th>427637</th>\n",
       "      <td>6025181</td>\n",
       "      <td>Male</td>\n",
       "      <td>No kinship found</td>\n",
       "      <td>Caucasian</td>\n",
       "      <td>1</td>\n",
       "      <td>1964.0</td>\n",
       "      <td>0.092660</td>\n",
       "      <td>0.053980</td>\n",
       "      <td>-0.853161</td>\n",
       "      <td>-0.321771</td>\n",
       "      <td>...</td>\n",
       "      <td>0.705838</td>\n",
       "      <td>-0.349592</td>\n",
       "      <td>5.136710</td>\n",
       "      <td>NaN</td>\n",
       "      <td>British</td>\n",
       "      <td>26.49910</td>\n",
       "      <td>-1.558560</td>\n",
       "      <td>-0.191185</td>\n",
       "      <td>-0.211799</td>\n",
       "      <td>4</td>\n",
       "    </tr>\n",
       "    <tr>\n",
       "      <th>427638</th>\n",
       "      <td>6025208</td>\n",
       "      <td>Female</td>\n",
       "      <td>At least one relative identified</td>\n",
       "      <td>Caucasian</td>\n",
       "      <td>0</td>\n",
       "      <td>1941.0</td>\n",
       "      <td>-0.230774</td>\n",
       "      <td>0.056533</td>\n",
       "      <td>-0.430585</td>\n",
       "      <td>-0.727058</td>\n",
       "      <td>...</td>\n",
       "      <td>0.389413</td>\n",
       "      <td>2.163102</td>\n",
       "      <td>-1.672450</td>\n",
       "      <td>Not sure - had a hysterectomy</td>\n",
       "      <td>British</td>\n",
       "      <td>23.99740</td>\n",
       "      <td>1.177710</td>\n",
       "      <td>-0.716858</td>\n",
       "      <td>-0.621711</td>\n",
       "      <td>2</td>\n",
       "    </tr>\n",
       "  </tbody>\n",
       "</table>\n",
       "<p>427639 rows × 54 columns</p>\n",
       "</div>"
      ],
      "text/plain": [
       "        sample_names     sex genetic_kinship_to_other_participants  \\\n",
       "0            1000028    Male                      No kinship found   \n",
       "1            1000045  Female      At least one relative identified   \n",
       "2            1000171  Female                      No kinship found   \n",
       "3            1000196  Female                      No kinship found   \n",
       "4            1000222    Male                      No kinship found   \n",
       "...              ...     ...                                   ...   \n",
       "427634       6024948    Male                      No kinship found   \n",
       "427635       6025016    Male                      No kinship found   \n",
       "427636       6025119    Male      At least one relative identified   \n",
       "427637       6025181    Male                      No kinship found   \n",
       "427638       6025208  Female      At least one relative identified   \n",
       "\n",
       "       genetic_ethnic_grouping  genetic_sex  year_of_birth   bmi_prs  \\\n",
       "0                    Caucasian            1         1947.0 -0.452521   \n",
       "1                    Caucasian            0         1952.0 -0.894587   \n",
       "2                    Caucasian            0         1944.0 -0.788252   \n",
       "3                          NaN            0         1959.0  0.248674   \n",
       "4                    Caucasian            1         1940.0  0.309868   \n",
       "...                        ...          ...            ...       ...   \n",
       "427634               Caucasian            1         1953.0  0.543946   \n",
       "427635               Caucasian            1         1942.0 -0.974780   \n",
       "427636               Caucasian            1         1957.0  1.205798   \n",
       "427637               Caucasian            1         1964.0  0.092660   \n",
       "427638               Caucasian            0         1941.0 -0.230774   \n",
       "\n",
       "        genetic_pca1  genetic_pca2  genetic_pca3  ...  genetic_pca38  \\\n",
       "0          -1.049343     -0.035594     -0.318610  ...      -1.301051   \n",
       "1          -0.375479     -0.102603     -0.511934  ...       0.116458   \n",
       "2          -0.382776     -0.734280      0.182330  ...      -1.801504   \n",
       "3           9.739123    -21.189125    -11.847223  ...       0.756860   \n",
       "4           0.531430      0.476652     -0.542410  ...       0.699100   \n",
       "...              ...           ...           ...  ...            ...   \n",
       "427634      0.166423      0.526967     -0.109158  ...       0.109191   \n",
       "427635      0.985217     -0.361463      0.462544  ...       0.097005   \n",
       "427636      0.028790     -0.315907     -0.332173  ...       0.547546   \n",
       "427637      0.053980     -0.853161     -0.321771  ...       0.705838   \n",
       "427638      0.056533     -0.430585     -0.727058  ...       0.389413   \n",
       "\n",
       "        genetic_pca39  genetic_pca40                      menopause  \\\n",
       "0           -2.121493      -0.528176                            NaN   \n",
       "1            0.172739      -2.491580                            Yes   \n",
       "2           -0.090783      -0.755636                            Yes   \n",
       "3           -1.405768       0.201243                   inconsistent   \n",
       "4            0.215883       3.912200                            NaN   \n",
       "...               ...            ...                            ...   \n",
       "427634       0.542504      -4.138590                            NaN   \n",
       "427635       0.024763      -0.583682                            NaN   \n",
       "427636      -1.157715       1.978230                            NaN   \n",
       "427637      -0.349592       5.136710                            NaN   \n",
       "427638       2.163102      -1.672450  Not sure - had a hysterectomy   \n",
       "\n",
       "        ethnic_background       bmi       age  bmi_scaled  bmi_residuals  \\\n",
       "0                 British  25.50385  1.053334   -0.400313      -0.408359   \n",
       "1                 British  23.71090 -0.190425   -0.777059      -0.462484   \n",
       "2                 British  30.92310  1.426462    0.738413       0.985810   \n",
       "3                 British  19.57480 -0.563553   -1.646162      -1.554883   \n",
       "4                 British  30.00600  1.302086    0.545706       0.292562   \n",
       "...                   ...       ...       ...         ...            ...   \n",
       "427634            British  47.22080 -0.314801    4.162986       3.942332   \n",
       "427635            British  26.56900  1.053334   -0.176497      -0.024413   \n",
       "427636            British  30.07590 -0.252613    0.560394       0.120928   \n",
       "427637            British  26.49910 -1.558560   -0.191185      -0.211799   \n",
       "427638            British  23.99740  1.177710   -0.716858      -0.621711   \n",
       "\n",
       "        bmi_deciles  \n",
       "0                 3  \n",
       "1                 3  \n",
       "2                 8  \n",
       "3                 0  \n",
       "4                 6  \n",
       "...             ...  \n",
       "427634            9  \n",
       "427635            5  \n",
       "427636            6  \n",
       "427637            4  \n",
       "427638            2  \n",
       "\n",
       "[427639 rows x 54 columns]"
      ]
     },
     "execution_count": 19,
     "metadata": {},
     "output_type": "execute_result"
    }
   ],
   "source": [
    "df"
   ]
  },
  {
   "cell_type": "code",
   "execution_count": null,
   "metadata": {},
   "outputs": [],
   "source": []
  },
  {
   "cell_type": "code",
   "execution_count": null,
   "metadata": {},
   "outputs": [],
   "source": []
  }
 ],
 "metadata": {
  "kernelspec": {
   "display_name": "Python 3",
   "language": "python",
   "name": "python3"
  },
  "language_info": {
   "codemirror_mode": {
    "name": "ipython",
    "version": 3
   },
   "file_extension": ".py",
   "mimetype": "text/x-python",
   "name": "python",
   "nbconvert_exporter": "python",
   "pygments_lexer": "ipython3",
   "version": "3.9.16"
  },
  "orig_nbformat": 4
 },
 "nbformat": 4,
 "nbformat_minor": 2
}
