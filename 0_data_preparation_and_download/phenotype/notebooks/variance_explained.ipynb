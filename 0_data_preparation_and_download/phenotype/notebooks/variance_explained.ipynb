{
 "cells": [
  {
   "cell_type": "code",
   "execution_count": 1,
   "metadata": {},
   "outputs": [],
   "source": [
    "import os\n",
    "from functools import reduce\n",
    "import numpy as np\n",
    "import pandas as pd\n",
    "from scipy.stats import kstest,ttest_ind\n",
    "import seaborn as sns\n",
    "from matplotlib.ticker import MultipleLocator\n",
    "import matplotlib\n",
    "import matplotlib.pyplot as plt\n",
    "matplotlib.rcParams['pdf.fonttype'] = 42\n",
    "matplotlib.rcParams['ps.fonttype'] = 42\n",
    "matplotlib.rcParams.update({'font.size': 14, 'axes.linewidth': 2, 'xtick.major.width': 1.5, 'xtick.major.size': 7, 'ytick.major.width': 1.5, 'ytick.major.size': 7})\n",
    "from matplotlib.backends.backend_pdf import PdfPages\n",
    "\n",
    "from sklearn.preprocessing import LabelEncoder\n",
    "from sklearn.preprocessing import StandardScaler\n",
    "from sklearn.linear_model import LinearRegression\n",
    "from sklearn.metrics import explained_variance_score"
   ]
  },
  {
   "cell_type": "code",
   "execution_count": 2,
   "metadata": {},
   "outputs": [],
   "source": [
    "def save_pdf(save_file, fig):\n",
    "    pdf = PdfPages(save_file)\n",
    "    pdf.savefig(fig, bbox_inches='tight', dpi=300)\n",
    "    pdf.close()\n",
    "    return"
   ]
  },
  {
   "cell_type": "code",
   "execution_count": 3,
   "metadata": {},
   "outputs": [],
   "source": [
    "phenotype_file = \"/data6/deepro/ukb_bmi/0_data_preparation_and_download/phenotype/data/bmi_processed/filtered_bmi_info.csv.gz\""
   ]
  },
  {
   "cell_type": "code",
   "execution_count": 4,
   "metadata": {},
   "outputs": [],
   "source": [
    "phenotype_df = pd.read_csv(\n",
    "    phenotype_file, \n",
    "    usecols=[\"sample_names\", \"genetic_sex\", \"age\", \"ethnic_background\"] + [f\"genetic_pca{i}\" for i in range(1, 40)] + [\"bmi_prs\", \"bmi\"],\n",
    "    index_col=[\"sample_names\"]).dropna()"
   ]
  },
  {
   "cell_type": "code",
   "execution_count": 5,
   "metadata": {},
   "outputs": [],
   "source": [
    "phenotype_df = phenotype_df.loc[phenotype_df.ethnic_background==\"British\"]\n",
    "phenotype_df.index = phenotype_df.index.astype(str)"
   ]
  },
  {
   "cell_type": "code",
   "execution_count": 6,
   "metadata": {},
   "outputs": [],
   "source": [
    "categorical_cols = [\"genetic_sex\"]\n",
    "numerical_cols = [\"age\"] + [f\"genetic_pca{i}\" for i in range(1, 40)]\n",
    "scaled_numerical_cols = [\"bmi_prs\"]"
   ]
  },
  {
   "cell_type": "code",
   "execution_count": 7,
   "metadata": {},
   "outputs": [],
   "source": [
    "def train_model(df, categorical_cols, numerical_cols, scaled_numerical_cols):\n",
    "    en = LabelEncoder()\n",
    "    scaler = StandardScaler()\n",
    "    # select the categorical and numerical columns\n",
    "    # transform the categorical columns to integer values\n",
    "    for cat_col in categorical_cols:\n",
    "        df[cat_col] = en.fit_transform(df[cat_col])\n",
    "    # scale the numerical columns\n",
    "    df[numerical_cols] = scaler.fit_transform(df.loc[:, numerical_cols])\n",
    "    # scale bmi separately\n",
    "    df[\"bmi_scaled\"] = scaler.fit_transform(df.loc[:, [\"bmi\"]])\n",
    "    # Create the target variable (bmi_residuals) using linear regression\n",
    "    X = df.loc[:, categorical_cols + numerical_cols + scaled_numerical_cols]\n",
    "    y = df.loc[:, 'bmi_scaled']\n",
    "    model = LinearRegression()\n",
    "    model.fit(X, y)\n",
    "    y_pred = model.predict(X)\n",
    "    return y.values, y_pred"
   ]
  },
  {
   "cell_type": "code",
   "execution_count": 8,
   "metadata": {},
   "outputs": [],
   "source": [
    "y, y_pred = train_model(phenotype_df, categorical_cols, numerical_cols, scaled_numerical_cols)"
   ]
  },
  {
   "cell_type": "code",
   "execution_count": 9,
   "metadata": {},
   "outputs": [],
   "source": [
    "# https://www.nature.com/articles/s41576-021-00414-z\n",
    "prs_exp_variance = explained_variance_score(y, y_pred)"
   ]
  },
  {
   "cell_type": "code",
   "execution_count": 10,
   "metadata": {},
   "outputs": [
    {
     "data": {
      "text/plain": [
       "0.08499206246198532"
      ]
     },
     "execution_count": 10,
     "metadata": {},
     "output_type": "execute_result"
    }
   ],
   "source": [
    "prs_exp_variance"
   ]
  },
  {
   "cell_type": "code",
   "execution_count": 11,
   "metadata": {},
   "outputs": [],
   "source": [
    "genotype_file = \"/data6/deepro/ukb_bmi/0_data_preparation_and_download/genotype/data/processed_burden/all_gene_burden.csv.gz\""
   ]
  },
  {
   "cell_type": "code",
   "execution_count": 12,
   "metadata": {},
   "outputs": [],
   "source": [
    "def prepare_genotypes(genotype_df, gene_list):\n",
    "    genotype_df = genotype_df.loc[genotype_df.gene.isin(gene_list)]\n",
    "    genotype_df.loc[:, \"samples\"] = genotype_df.samples.str.split(\",\")\n",
    "    genotype_df = genotype_df.explode(\"samples\")\n",
    "    genotype_df = pd.crosstab(genotype_df.samples, genotype_df.gene)\n",
    "    return genotype_df"
   ]
  },
  {
   "cell_type": "code",
   "execution_count": 13,
   "metadata": {},
   "outputs": [],
   "source": [
    "genotype_df = pd.read_csv(genotype_file)"
   ]
  },
  {
   "cell_type": "code",
   "execution_count": 14,
   "metadata": {},
   "outputs": [],
   "source": [
    "def read_gene_files(gene_file):\n",
    "    with open(gene_file, \"r\") as f:\n",
    "        genes = [g.strip() for g in f.readlines()]\n",
    "    return genes"
   ]
  },
  {
   "cell_type": "code",
   "execution_count": 15,
   "metadata": {},
   "outputs": [],
   "source": [
    "other_study_files = [\n",
    "    \"/data6/deepro/ukb_bmi/0_data_preparation_and_download/bmi_genes/akbari_2021/data/akbari_genes.list\",\n",
    "    \"/data6/deepro/ukb_bmi/0_data_preparation_and_download/bmi_genes/turcot_2018/data/turcot_genes.list\"\n",
    "]"
   ]
  },
  {
   "cell_type": "code",
   "execution_count": 16,
   "metadata": {},
   "outputs": [],
   "source": [
    "other_study_genes = set(sum([read_gene_files(osf) for osf in other_study_files], []))"
   ]
  },
  {
   "cell_type": "code",
   "execution_count": 17,
   "metadata": {},
   "outputs": [],
   "source": [
    "gdf = prepare_genotypes(genotype_df, other_study_genes)"
   ]
  },
  {
   "cell_type": "code",
   "execution_count": 18,
   "metadata": {},
   "outputs": [],
   "source": [
    "geno_pheno_df = phenotype_df.merge(gdf, left_index=True, right_index=True, how=\"left\").fillna(0.)"
   ]
  },
  {
   "cell_type": "code",
   "execution_count": 19,
   "metadata": {},
   "outputs": [
    {
     "data": {
      "text/plain": [
       "Index(['ACHE', 'ALDH3A1', 'ANGPTL7', 'ANKRD27', 'ANO4', 'CALCR', 'DPP9',\n",
       "       'ENTPD6', 'GIPR', 'GPR151', 'GPR75', 'HIP1R', 'KIAA0586', 'KSR2',\n",
       "       'MAP1A', 'MC4R', 'PCSK1', 'PDE3B', 'PRKAG1', 'RAB21', 'RAPGEF3',\n",
       "       'ROBO1', 'SLC6A17', 'SPARC', 'UBR2', 'UHMK1', 'ZBTB7B', 'ZFHX3', 'ZFR2',\n",
       "       'ZNF169'],\n",
       "      dtype='object', name='gene')"
      ]
     },
     "execution_count": 19,
     "metadata": {},
     "output_type": "execute_result"
    }
   ],
   "source": [
    "gdf.columns"
   ]
  },
  {
   "cell_type": "code",
   "execution_count": 20,
   "metadata": {},
   "outputs": [],
   "source": [
    "y, y_pred = train_model(geno_pheno_df, categorical_cols, numerical_cols, scaled_numerical_cols + list(gdf.columns))"
   ]
  },
  {
   "cell_type": "code",
   "execution_count": 21,
   "metadata": {},
   "outputs": [],
   "source": [
    "prs_rare_exp_variance = explained_variance_score(y, y_pred)"
   ]
  },
  {
   "cell_type": "code",
   "execution_count": 22,
   "metadata": {},
   "outputs": [
    {
     "data": {
      "text/plain": [
       "0.0855626724771763"
      ]
     },
     "execution_count": 22,
     "metadata": {},
     "output_type": "execute_result"
    }
   ],
   "source": [
    "prs_rare_exp_variance"
   ]
  },
  {
   "cell_type": "code",
   "execution_count": null,
   "metadata": {},
   "outputs": [],
   "source": []
  },
  {
   "cell_type": "code",
   "execution_count": 23,
   "metadata": {},
   "outputs": [],
   "source": [
    "def get_combo_samples(combos, genotype_df):\n",
    "    samples_per_gene = genotype_df.loc[genotype_df.gene.isin(combos)].samples.str.split(\",\").values\n",
    "    samples_per_combo = reduce(lambda a,b: set(a).intersection(set(b)), samples_per_gene)\n",
    "    return \"|\".join(sorted(samples_per_combo))\n",
    "\n",
    "\n",
    "def prepare_genotypes(genotype_df, gene_list, combo_df):\n",
    "    other_study_geno = genotype_df.loc[genotype_df.gene.isin(gene_list)]\n",
    "    other_study_geno.loc[:, \"samples\"] = other_study_geno.samples.str.split(\",\")\n",
    "    other_study_geno = other_study_geno.explode(\"samples\")\n",
    "    other_study_geno = pd.crosstab(other_study_geno.samples, other_study_geno.gene)\n",
    "\n",
    "    combo_df[\"uniq_items\"] = combo_df.uniq_items.apply(lambda x: x.replace(\"Input_\", \"\"))\n",
    "    combo_df[\"combos\"] = combo_df.uniq_items.str.split(\"|\")\n",
    "    combo_df[\"combo_samples\"] = combo_df.combos.apply(get_combo_samples, args=(genotype_df, ))\n",
    "    combo_genes = set(\"|\".join(combo_df.uniq_items.values).split(\"|\"))\n",
    "    combo_geno = genotype_df.loc[genotype_df.gene.isin(combo_genes)]\n",
    "    all_combo_samples = \"|\".join(combo_df.combo_samples).split(\"|\")\n",
    "    combo_geno.loc[:, \"samples\"] = combo_geno.samples.str.split(\",\")\n",
    "    combo_geno = combo_geno.explode(\"samples\")\n",
    "    combo_geno = combo_geno.loc[combo_geno.samples.isin(all_combo_samples)]\n",
    "    combo_geno = pd.crosstab(combo_geno.samples, combo_geno.gene)\n",
    "\n",
    "    genotype_df = combo_geno.merge(other_study_geno, how=\"outer\", left_index=True, right_index=True).fillna(0.)\n",
    "    return genotype_df"
   ]
  },
  {
   "cell_type": "code",
   "execution_count": 24,
   "metadata": {},
   "outputs": [],
   "source": [
    "combo_files = [\n",
    "    \"/data6/deepro/ukb_bmi/2_rarecomb/data/british/combo2.csv\",\n",
    "    \"/data6/deepro/ukb_bmi/2_rarecomb/data/british/combo3.csv\"\n",
    "    ]\n",
    "\n",
    "combo_df = pd.concat([pd.read_csv(cf, usecols=[\"uniq_items\"]) for cf in combo_files]) # pd.read_csv(combo_files[0], usecols=[\"uniq_items\"]) # "
   ]
  },
  {
   "cell_type": "code",
   "execution_count": 25,
   "metadata": {},
   "outputs": [],
   "source": [
    "gdf = prepare_genotypes(genotype_df, other_study_genes, combo_df)"
   ]
  },
  {
   "cell_type": "code",
   "execution_count": 26,
   "metadata": {},
   "outputs": [
    {
     "data": {
      "text/plain": [
       "Index(['AACS', 'AADACL3', 'AATF', 'ABCA1', 'ABCA12', 'ABCA13', 'ABCA3',\n",
       "       'ABCA4', 'ABCA5', 'ABCA7',\n",
       "       ...\n",
       "       'RAPGEF3', 'ROBO1', 'SLC6A17', 'SPARC_y', 'UBR2_y', 'UHMK1', 'ZBTB7B',\n",
       "       'ZFHX3', 'ZFR2', 'ZNF169'],\n",
       "      dtype='object', name='gene', length=1564)"
      ]
     },
     "execution_count": 26,
     "metadata": {},
     "output_type": "execute_result"
    }
   ],
   "source": [
    "gdf.columns"
   ]
  },
  {
   "cell_type": "code",
   "execution_count": 27,
   "metadata": {},
   "outputs": [],
   "source": [
    "geno_pheno_df = phenotype_df.merge(gdf, left_index=True, right_index=True, how=\"left\").fillna(0.)"
   ]
  },
  {
   "cell_type": "code",
   "execution_count": 28,
   "metadata": {},
   "outputs": [],
   "source": [
    "y, y_pred = train_model(geno_pheno_df, categorical_cols, numerical_cols, scaled_numerical_cols + list(gdf.columns))"
   ]
  },
  {
   "cell_type": "code",
   "execution_count": 29,
   "metadata": {},
   "outputs": [],
   "source": [
    "prs_rare_combo_exp_variance = explained_variance_score(y, y_pred)"
   ]
  },
  {
   "cell_type": "code",
   "execution_count": 30,
   "metadata": {},
   "outputs": [
    {
     "data": {
      "text/plain": [
       "0.10557268521571173"
      ]
     },
     "execution_count": 30,
     "metadata": {},
     "output_type": "execute_result"
    }
   ],
   "source": [
    "prs_rare_combo_exp_variance"
   ]
  },
  {
   "cell_type": "code",
   "execution_count": 35,
   "metadata": {},
   "outputs": [
    {
     "data": {
      "text/plain": [
       "0.0855626724771763"
      ]
     },
     "execution_count": 35,
     "metadata": {},
     "output_type": "execute_result"
    }
   ],
   "source": [
    "prs_rare_exp_variance"
   ]
  },
  {
   "cell_type": "code",
   "execution_count": 31,
   "metadata": {},
   "outputs": [],
   "source": [
    "plot_df = pd.DataFrame({\n",
    "    \"Model Variates\": [\"PRS\", \"PRS + Rare\", \"PRS + Rare + Combos\"], \n",
    "    \"Variance explained\": [prs_exp_variance*100, prs_rare_exp_variance*100, prs_rare_combo_exp_variance*100]})"
   ]
  },
  {
   "cell_type": "code",
   "execution_count": 33,
   "metadata": {},
   "outputs": [
    {
     "data": {
      "image/png": "[encoded data removed]",
      "text/plain": [
       "<Figure size 600x200 with 1 Axes>"
      ]
     },
     "metadata": {},
     "output_type": "display_data"
    }
   ],
   "source": [
    "fig, axes = plt.subplots(1, 1, figsize=(6, 2))\n",
    "axes.barh(\n",
    "    plot_df[\"Model Variates\"],\n",
    "    plot_df[\"Variance explained\"],\n",
    "    height=0.5,\n",
    "    edgecolor=\"k\", linewidth=2,\n",
    "    color=\"white\"\n",
    "    )\n",
    "axes.set_xlim(0, 100)\n",
    "axes.set_ylim(-0.5, 2.5)\n",
    "axes.set_xlabel(\"BMI Variance Explained (%)\")\n",
    "axes.set_ylabel(\"\")\n",
    "axes.spines[['top', 'right']].set_visible(False)\n",
    "\n",
    "rects =axes.patches\n",
    "# Make some labels.\n",
    "for rect in rects:\n",
    "    width = rect.get_width()\n",
    "    axes.text(\n",
    "        width + 1, rect.get_y() + rect.get_height() / 2,  f\"{round(width, 3)}%\", ha=\"left\", va=\"center\"\n",
    "    )"
   ]
  },
  {
   "cell_type": "code",
   "execution_count": 26,
   "metadata": {},
   "outputs": [],
   "source": [
    "save_file = \"/data6/deepro/ukb_bmi/0_data_preparation_and_download/phenotype/data/figures/explained_variance.pdf\""
   ]
  },
  {
   "cell_type": "code",
   "execution_count": 27,
   "metadata": {},
   "outputs": [],
   "source": [
    "save_pdf(save_file, fig)"
   ]
  },
  {
   "cell_type": "code",
   "execution_count": null,
   "metadata": {},
   "outputs": [],
   "source": []
  }
 ],
 "metadata": {
  "kernelspec": {
   "display_name": "Python 3",
   "language": "python",
   "name": "python3"
  },
  "language_info": {
   "codemirror_mode": {
    "name": "ipython",
    "version": 3
   },
   "file_extension": ".py",
   "mimetype": "text/x-python",
   "name": "python",
   "nbconvert_exporter": "python",
   "pygments_lexer": "ipython3",
   "version": "3.11.4"
  }
 },
 "nbformat": 4,
 "nbformat_minor": 2
}
