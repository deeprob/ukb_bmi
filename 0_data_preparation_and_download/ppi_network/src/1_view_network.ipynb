{
 "cells": [
  {
   "cell_type": "code",
   "execution_count": 1,
   "metadata": {},
   "outputs": [],
   "source": [
    "import pandas as pd"
   ]
  },
  {
   "cell_type": "code",
   "execution_count": 2,
   "metadata": {},
   "outputs": [],
   "source": [
    "df = pd.read_csv(\"/data6/deepro/ukb_bmi/0_data_preparation_and_download/ppi_network/data/9606.protein.links.v12.0.txt.gz\")"
   ]
  },
  {
   "cell_type": "code",
   "execution_count": 3,
   "metadata": {},
   "outputs": [
    {
     "data": {
      "text/html": [
       "<div>\n",
       "<style scoped>\n",
       "    .dataframe tbody tr th:only-of-type {\n",
       "        vertical-align: middle;\n",
       "    }\n",
       "\n",
       "    .dataframe tbody tr th {\n",
       "        vertical-align: top;\n",
       "    }\n",
       "\n",
       "    .dataframe thead th {\n",
       "        text-align: right;\n",
       "    }\n",
       "</style>\n",
       "<table border=\"1\" class=\"dataframe\">\n",
       "  <thead>\n",
       "    <tr style=\"text-align: right;\">\n",
       "      <th></th>\n",
       "      <th>protein1 protein2 combined_score</th>\n",
       "    </tr>\n",
       "  </thead>\n",
       "  <tbody>\n",
       "    <tr>\n",
       "      <th>0</th>\n",
       "      <td>9606.ENSP00000000233 9606.ENSP00000356607 173</td>\n",
       "    </tr>\n",
       "    <tr>\n",
       "      <th>1</th>\n",
       "      <td>9606.ENSP00000000233 9606.ENSP00000427567 154</td>\n",
       "    </tr>\n",
       "    <tr>\n",
       "      <th>2</th>\n",
       "      <td>9606.ENSP00000000233 9606.ENSP00000253413 151</td>\n",
       "    </tr>\n",
       "    <tr>\n",
       "      <th>3</th>\n",
       "      <td>9606.ENSP00000000233 9606.ENSP00000493357 471</td>\n",
       "    </tr>\n",
       "    <tr>\n",
       "      <th>4</th>\n",
       "      <td>9606.ENSP00000000233 9606.ENSP00000324127 201</td>\n",
       "    </tr>\n",
       "    <tr>\n",
       "      <th>...</th>\n",
       "      <td>...</td>\n",
       "    </tr>\n",
       "    <tr>\n",
       "      <th>13715399</th>\n",
       "      <td>9606.ENSP00000501317 9606.ENSP00000475489 195</td>\n",
       "    </tr>\n",
       "    <tr>\n",
       "      <th>13715400</th>\n",
       "      <td>9606.ENSP00000501317 9606.ENSP00000370447 158</td>\n",
       "    </tr>\n",
       "    <tr>\n",
       "      <th>13715401</th>\n",
       "      <td>9606.ENSP00000501317 9606.ENSP00000312272 226</td>\n",
       "    </tr>\n",
       "    <tr>\n",
       "      <th>13715402</th>\n",
       "      <td>9606.ENSP00000501317 9606.ENSP00000402092 169</td>\n",
       "    </tr>\n",
       "    <tr>\n",
       "      <th>13715403</th>\n",
       "      <td>9606.ENSP00000501317 9606.ENSP00000404074 251</td>\n",
       "    </tr>\n",
       "  </tbody>\n",
       "</table>\n",
       "<p>13715404 rows × 1 columns</p>\n",
       "</div>"
      ],
      "text/plain": [
       "                       protein1 protein2 combined_score\n",
       "0         9606.ENSP00000000233 9606.ENSP00000356607 173\n",
       "1         9606.ENSP00000000233 9606.ENSP00000427567 154\n",
       "2         9606.ENSP00000000233 9606.ENSP00000253413 151\n",
       "3         9606.ENSP00000000233 9606.ENSP00000493357 471\n",
       "4         9606.ENSP00000000233 9606.ENSP00000324127 201\n",
       "...                                                 ...\n",
       "13715399  9606.ENSP00000501317 9606.ENSP00000475489 195\n",
       "13715400  9606.ENSP00000501317 9606.ENSP00000370447 158\n",
       "13715401  9606.ENSP00000501317 9606.ENSP00000312272 226\n",
       "13715402  9606.ENSP00000501317 9606.ENSP00000402092 169\n",
       "13715403  9606.ENSP00000501317 9606.ENSP00000404074 251\n",
       "\n",
       "[13715404 rows x 1 columns]"
      ]
     },
     "execution_count": 3,
     "metadata": {},
     "output_type": "execute_result"
    }
   ],
   "source": [
    "df"
   ]
  },
  {
   "cell_type": "code",
   "execution_count": null,
   "metadata": {},
   "outputs": [],
   "source": []
  }
 ],
 "metadata": {
  "kernelspec": {
   "display_name": "Python 3",
   "language": "python",
   "name": "python3"
  },
  "language_info": {
   "codemirror_mode": {
    "name": "ipython",
    "version": 3
   },
   "file_extension": ".py",
   "mimetype": "text/x-python",
   "name": "python",
   "nbconvert_exporter": "python",
   "pygments_lexer": "ipython3",
   "version": "3.11.4"
  }
 },
 "nbformat": 4,
 "nbformat_minor": 2
}
