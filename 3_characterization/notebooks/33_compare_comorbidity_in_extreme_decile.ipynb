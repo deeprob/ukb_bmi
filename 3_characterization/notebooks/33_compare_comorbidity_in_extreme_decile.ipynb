{
 "cells": [
  {
   "cell_type": "code",
   "execution_count": 1,
   "metadata": {},
   "outputs": [],
   "source": [
    "import os\n",
    "import argparse\n",
    "import numpy as np\n",
    "import pandas as pd\n",
    "from scipy.stats import fisher_exact, chi2_contingency\n",
    "from scipy.stats.contingency import odds_ratio\n",
    "from scipy import stats\n",
    "from functools import reduce\n",
    "\n",
    "from sklearn.preprocessing import LabelEncoder\n",
    "from sklearn.preprocessing import StandardScaler\n",
    "from sklearn.linear_model import LinearRegression\n",
    "from sklearn.cluster import KMeans\n",
    "\n",
    "import sys\n",
    "sys.path.append(\"../src\")\n",
    "import utils.parsing as utpa\n",
    "import utils.plotting as utpl\n",
    "\n",
    "def get_scaled_bmi(df, categorical_cols, numerical_cols, scaled_numerical_cols):\n",
    "    # define encoders\n",
    "    en = LabelEncoder()\n",
    "    scaler = StandardScaler()\n",
    "    # select the categorical and numerical columns\n",
    "    # transform the categorical columns to integer values\n",
    "    for cat_col in categorical_cols:\n",
    "        df[cat_col] = en.fit_transform(df[cat_col])\n",
    "    # scale the numerical columns\n",
    "    df[numerical_cols] = scaler.fit_transform(df.loc[:, numerical_cols])\n",
    "    # scale bmi separately\n",
    "    df[\"bmi_scaled\"] = scaler.fit_transform(df.loc[:, [\"bmi\"]])\n",
    "    # Create the target variable (bmi_residuals) using linear regression\n",
    "    X = df.loc[:, categorical_cols + numerical_cols + scaled_numerical_cols]\n",
    "    y = df.loc[:, 'bmi_scaled']\n",
    "    model = LinearRegression()\n",
    "    model.fit(X, y)\n",
    "    # save the residuals for bmi\n",
    "    df['bmi_residuals'] = y - model.predict(X)\n",
    "    return df\n",
    "\n",
    "def create_bmi_res_prs_decile_data(phenotype_df, all_combo_samples):\n",
    "    categorical_cols = [\"genetic_sex\"]\n",
    "    numerical_cols = [\"age\"] + [f\"genetic_pca{i}\" for i in range(1, 40)]\n",
    "    scaled_numerical_cols = []#[\"bmi_prs\"]\n",
    "\n",
    "    phenotype_df = get_scaled_bmi(phenotype_df, categorical_cols, numerical_cols, scaled_numerical_cols)\n",
    "    phenotype_df[\"bmi_res_decile\"] = pd.qcut(phenotype_df.bmi_residuals, q=10)\n",
    "    phenotype_df[\"bmi_res_decile_num\"] = pd.qcut(phenotype_df.bmi_residuals, q=10, labels=False)\n",
    "    phenotype_df[\"bmi_prs_decile\"] = pd.qcut(phenotype_df.bmi_prs, q=10)\n",
    "    phenotype_df[\"bmi_prs_decile_num\"] = pd.qcut(phenotype_df.bmi_prs, q=10, labels=False)\n",
    "    phenotype_combo_samples_df = phenotype_df.loc[phenotype_df.sample_names.astype(str).isin(list(map(str, all_combo_samples)))]\n",
    "    phenotype_other_samples_df = phenotype_df.loc[~phenotype_df.sample_names.astype(str).isin(list(map(str, all_combo_samples)))]\n",
    "\n",
    "    phenotype_other_samples_df[\"description\"] = \"Non Combo\"\n",
    "    phenotype_combo_samples_df[\"description\"] = \"Combo\"\n",
    "    phenotype_samples_df = pd.concat((phenotype_combo_samples_df, phenotype_other_samples_df))\n",
    "    return phenotype_samples_df"
   ]
  },
  {
   "cell_type": "code",
   "execution_count": 2,
   "metadata": {},
   "outputs": [],
   "source": [
    "cohort_file = \"/data6/deepro/ukb_bmi/0_data_preparation_and_download/phenotype/data/bmi_processed/british/train_cohort_bmi.csv.gz\"\n",
    "combo_files = [\n",
    "    \"/data6/deepro/ukb_bmi/3_characterization/data/combo_info/british/discovery_combo2.csv\",\n",
    "    \"/data6/deepro/ukb_bmi/3_characterization/data/combo_info/british/discovery_combo3.csv\"\n",
    "]\n"
   ]
  },
  {
   "cell_type": "code",
   "execution_count": 3,
   "metadata": {},
   "outputs": [],
   "source": [
    "cohort_df = pd.read_csv(\n",
    "    cohort_file, \n",
    "    usecols=[\"sample_names\", \"genetic_sex\", \"age\"] + [f\"genetic_pca{i}\" for i in range(1, 40)] + [\"bmi_prs\", \"bmi\"])\n",
    "cohort_df[\"sample_names\"] = cohort_df.sample_names.astype(str)\n",
    "combo_genes, combo_samples = utpa.get_combo_info_from_files(combo_files)\n",
    "\n",
    "phenotype_samples_df = create_bmi_res_prs_decile_data(cohort_df, combo_samples)"
   ]
  },
  {
   "cell_type": "code",
   "execution_count": 4,
   "metadata": {},
   "outputs": [],
   "source": [
    "icd_raw_dir = \"/data6/deepro/ukb_bmi/0_data_preparation_and_download/icd_codes/data/icd_raw\"\n",
    "icd_codes_file = \"/data6/deepro/ukb_bmi/0_data_preparation_and_download/icd_codes/data/icd_tree/coding19.tsv\"\n",
    "hes_info_file = \"/data6/deepro/ukb_bmi/0_data_preparation_and_download/icd_codes/data/hes_info/hes_info.csv.gz\""
   ]
  },
  {
   "cell_type": "code",
   "execution_count": 5,
   "metadata": {},
   "outputs": [
    {
     "name": "stdout",
     "output_type": "stream",
     "text": [
      "Samples in cohort 427639\n",
      "Samples with icd 383253\n",
      "Samples with combo 10193\n",
      "Samples with combo and icd 9269\n"
     ]
    }
   ],
   "source": [
    "icd_samples_df = utpa.create_icd_samples_file(icd_raw_dir)\n",
    "icd_codes_df = pd.read_csv(icd_codes_file, usecols=[\"coding\", \"meaning\", \"node_id\", \"parent_id\"], sep=\"\\t\")\n",
    "icd_codes_df[\"coding\"] = icd_codes_df.coding.str.replace(\" \", \"\")\n",
    "pheno_tree, root_pheno, c2nodeid_dict = utpa.create_tree(icd_codes_df, icd_samples_df)\n",
    "hes_info_df = pd.read_csv(hes_info_file, dtype={\"sample_names\": str, \"hes_info\": float})\n",
    "all_icd_samples = set(hes_info_df.loc[hes_info_df.hes_info>0, \"sample_names\"].values)\n",
    "print(f\"Samples in cohort {len(phenotype_samples_df)}\")\n",
    "phenotype_samples_df = phenotype_samples_df.loc[phenotype_samples_df.sample_names.isin(all_icd_samples)]\n",
    "print(f\"Samples with icd {len(phenotype_samples_df)}\")\n",
    "print(f\"Samples with combo {len(combo_samples)}\")\n",
    "combo_samples = combo_samples.intersection(all_icd_samples)\n",
    "print(f\"Samples with combo and icd {len(combo_samples)}\")\n"
   ]
  },
  {
   "cell_type": "code",
   "execution_count": 10,
   "metadata": {},
   "outputs": [],
   "source": [
    "def get_table_icd(combo_samples, noncombo_samples, comorbid_samples, field):\n",
    "    table = [\n",
    "        [len(combo_samples.intersection(comorbid_samples)), len(combo_samples.difference(comorbid_samples))],\n",
    "        [len(noncombo_samples.intersection(comorbid_samples)), len(noncombo_samples.difference(comorbid_samples))]\n",
    "    ]\n",
    "    df = pd.DataFrame(table, columns=[f\"{field}\", f\"No {field}\"], index=[\"Combo\", \"Non Combo\"])\n",
    "    return df\n",
    "\n",
    "def get_icd_enrich(phenotype_samples_df, pheno_tree, icd_codes_df, c2nodeid_dict):\n",
    "    combo_samples = set(phenotype_samples_df.loc[phenotype_samples_df.description==\"Combo\", \"sample_names\"].astype(str).values)\n",
    "    noncombo_samples = set(phenotype_samples_df.loc[phenotype_samples_df.description==\"Non Combo\", \"sample_names\"].astype(str).values)\n",
    "    all_cohort_samples = set(phenotype_samples_df.sample_names)\n",
    "    icd_data = []\n",
    "\n",
    "    for icdc in icd_codes_df.coding.values:\n",
    "        icdc_node = pheno_tree.node_dict[c2nodeid_dict[icdc]]\n",
    "        comorbid_samples = icdc_node.get_samples()\n",
    "        comorbid_samples = all_cohort_samples.intersection(comorbid_samples)\n",
    "        df = get_table_icd(combo_samples, noncombo_samples, comorbid_samples, icdc_node.meaning)\n",
    "        res = fisher_exact(df)\n",
    "        or_study = odds_ratio(df)\n",
    "        cil, cih = or_study.confidence_interval(confidence_level=0.95)\n",
    "        icdc_node_data = (icdc, icdc_node.meaning, df.iloc[0,0], df.iloc[0,1], df.iloc[1,0], df.iloc[1,1], or_study.statistic, res.pvalue, cil, cih)\n",
    "        icd_data.append(icdc_node_data)\n",
    "    \n",
    "    icd_df = pd.DataFrame(icd_data, columns=[\"icd_code\", \"icd_meaning\", \"combo_comorbid\", \"combo_noncomorbid\", \"noncombo_comorbid\", \"noncombo_noncomorbid\", \"odds_ratio\", \"p_value\", \"ci_low\", \"ci_high\"])\n",
    "    icd_df[\"FDR\"] = stats.false_discovery_control(icd_df.p_value)\n",
    "    return icd_df"
   ]
  },
  {
   "cell_type": "code",
   "execution_count": 11,
   "metadata": {},
   "outputs": [],
   "source": [
    "icd_codes_of_interest_file = \"/data6/deepro/ukb_bmi/3_characterization/data/enrichment/british/discovery/icd_enrichment_filtered.csv\"\n",
    "icd_codes_of_interest_df = pd.read_csv(icd_codes_of_interest_file)\n",
    "icd_codes_of_interest_df = icd_codes_of_interest_df.loc[icd_codes_of_interest_df.level==2]\n",
    "phenotype_samples_of_interest_df = phenotype_samples_df.loc[phenotype_samples_df.bmi_res_decile_num==9]"
   ]
  },
  {
   "cell_type": "code",
   "execution_count": 12,
   "metadata": {},
   "outputs": [],
   "source": [
    "icd_enrich_extreme_df = get_icd_enrich(phenotype_samples_of_interest_df, pheno_tree, icd_codes_of_interest_df, c2nodeid_dict)"
   ]
  },
  {
   "cell_type": "code",
   "execution_count": 14,
   "metadata": {},
   "outputs": [
    {
     "data": {
      "text/plain": [
       "38"
      ]
     },
     "execution_count": 14,
     "metadata": {},
     "output_type": "execute_result"
    }
   ],
   "source": [
    "len(icd_enrich_extreme_df)"
   ]
  },
  {
   "cell_type": "code",
   "execution_count": 16,
   "metadata": {},
   "outputs": [],
   "source": [
    "icd_enrich_extreme_df.to_csv(\"/data6/deepro/ukb_bmi/3_characterization/data/pilot/extreme_decile_icd_enrich.csv\")"
   ]
  },
  {
   "cell_type": "code",
   "execution_count": null,
   "metadata": {},
   "outputs": [],
   "source": []
  }
 ],
 "metadata": {
  "kernelspec": {
   "display_name": "Python 3",
   "language": "python",
   "name": "python3"
  },
  "language_info": {
   "codemirror_mode": {
    "name": "ipython",
    "version": 3
   },
   "file_extension": ".py",
   "mimetype": "text/x-python",
   "name": "python",
   "nbconvert_exporter": "python",
   "pygments_lexer": "ipython3",
   "version": "3.11.4"
  }
 },
 "nbformat": 4,
 "nbformat_minor": 2
}
