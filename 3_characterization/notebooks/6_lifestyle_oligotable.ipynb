{
 "cells": [
  {
   "cell_type": "code",
   "execution_count": 1,
   "metadata": {},
   "outputs": [],
   "source": [
    "import pandas as pd\n",
    "import numpy as np\n",
    "\n",
    "# plotting modules\n",
    "import seaborn as sns\n",
    "from matplotlib.ticker import MultipleLocator\n",
    "import matplotlib\n",
    "import matplotlib.pyplot as plt\n",
    "matplotlib.rcParams['pdf.fonttype'] = 42\n",
    "matplotlib.rcParams['ps.fonttype'] = 42\n",
    "matplotlib.rcParams['font.sans-serif'] = \"Arial\" # missing fonts:: https://alexanderlabwhoi.github.io/post/2021-03-missingfont/\n",
    "# Then, \"ALWAYS use sans-serif fonts\"\n",
    "matplotlib.rcParams['font.family'] = \"sans-serif\"\n",
    "matplotlib.rcParams.update({'font.size': 14, 'axes.linewidth': 2, 'xtick.major.width': 1.5, 'xtick.major.size': 5, 'ytick.major.width': 1.5, 'ytick.major.size': 4})\n",
    "from matplotlib.backends.backend_pdf import PdfPages"
   ]
  },
  {
   "cell_type": "code",
   "execution_count": 2,
   "metadata": {},
   "outputs": [],
   "source": [
    "def save_pdf(save_file, fig):\n",
    "    pdf = PdfPages(save_file)\n",
    "    pdf.savefig(fig, bbox_inches='tight', dpi=300)\n",
    "    pdf.close()\n",
    "    return"
   ]
  },
  {
   "cell_type": "code",
   "execution_count": 3,
   "metadata": {},
   "outputs": [],
   "source": [
    "genotype_file = \"/data6/deepro/ukb_bmi/0_data_preparation_and_download/genotype/data/processed_burden/all_gene_burden.csv.gz\"\n",
    "phenotype_file = \"/data6/deepro/ukb_bmi/0_data_preparation_and_download/phenotype/data/bmi_processed/british/train_cohort_bmi.csv.gz\"\n",
    "combo_file = \"/data6/deepro/ukb_bmi/3_characterization/data/combos_in_cohort/lifestyle/train_cohort.csv\"\n",
    "lifestyle_file = \"/data6/deepro/ukb_bmi/0_data_preparation_and_download/lifestyle_factors/data/lifestyle_processed/filtered_lifestyle_binarized.csv.gz\""
   ]
  },
  {
   "cell_type": "code",
   "execution_count": 4,
   "metadata": {},
   "outputs": [],
   "source": [
    "genotype_df = pd.read_csv(genotype_file)\n",
    "phenotype_df = pd.read_csv(phenotype_file)\n",
    "combo_df = pd.read_csv(combo_file)"
   ]
  },
  {
   "cell_type": "code",
   "execution_count": 5,
   "metadata": {},
   "outputs": [],
   "source": [
    "phenotype_df[\"sample_names\"] = phenotype_df.sample_names.astype(str)"
   ]
  },
  {
   "cell_type": "code",
   "execution_count": 6,
   "metadata": {},
   "outputs": [],
   "source": [
    "lifestyle_df = pd.read_csv(lifestyle_file)"
   ]
  },
  {
   "cell_type": "code",
   "execution_count": 7,
   "metadata": {},
   "outputs": [],
   "source": [
    "all_items = \"|\".join(combo_df.uniq_items.values).split(\"|\")"
   ]
  },
  {
   "cell_type": "code",
   "execution_count": 8,
   "metadata": {},
   "outputs": [],
   "source": [
    "all_lifestyles = set(lifestyle_df.columns)\n",
    "all_lifestyles.remove(\"Sample_Name\")"
   ]
  },
  {
   "cell_type": "code",
   "execution_count": 9,
   "metadata": {},
   "outputs": [],
   "source": [
    "all_genes = set([i.replace(\"Input_\", \"\", 1) for i in all_items if i.replace(\"Input_\", \"\", 1) not in all_lifestyles])"
   ]
  },
  {
   "cell_type": "code",
   "execution_count": 10,
   "metadata": {},
   "outputs": [],
   "source": [
    "all_gene_samples = set(\",\".join(genotype_df.loc[genotype_df.gene.isin(all_genes)].samples.values).split(\",\"))"
   ]
  },
  {
   "cell_type": "code",
   "execution_count": 11,
   "metadata": {},
   "outputs": [],
   "source": [
    "lifestyle_df = lifestyle_df.melt(id_vars=\"Sample_Name\", value_vars=all_lifestyles, var_name=\"gene\")\n",
    "lifestyle_df = lifestyle_df.loc[lifestyle_df.value>0].drop(columns=\"value\")\n",
    "lifestyle_df = lifestyle_df.groupby(\"gene\").agg(lambda x: \",\".join(map(str, x))).reset_index().rename(columns={\"Sample_Name\": \"samples\"})"
   ]
  },
  {
   "cell_type": "code",
   "execution_count": 12,
   "metadata": {},
   "outputs": [],
   "source": [
    "all_lifestyle_samples = set(\",\".join(lifestyle_df.loc[lifestyle_df.gene.isin(all_lifestyles)].samples.values).split(\",\"))"
   ]
  },
  {
   "cell_type": "code",
   "execution_count": 13,
   "metadata": {},
   "outputs": [],
   "source": [
    "combo_samples = set(\"|\".join(combo_df.combo_samples.values).split(\"|\"))"
   ]
  },
  {
   "cell_type": "code",
   "execution_count": 14,
   "metadata": {},
   "outputs": [],
   "source": [
    "all_samples = set(phenotype_df.sample_names.astype(str).values)"
   ]
  },
  {
   "cell_type": "code",
   "execution_count": 15,
   "metadata": {},
   "outputs": [],
   "source": [
    "gene_only_samples = all_gene_samples.difference(combo_samples).difference(all_lifestyle_samples)\n",
    "lifestyle_only_samples = all_lifestyle_samples.difference(combo_samples).difference(all_gene_samples)\n",
    "all_other_samples = all_samples.difference(all_gene_samples).difference(all_lifestyle_samples)"
   ]
  },
  {
   "cell_type": "code",
   "execution_count": 16,
   "metadata": {},
   "outputs": [
    {
     "data": {
      "text/plain": [
       "[8503, 243685, 15132, 26090]"
      ]
     },
     "execution_count": 16,
     "metadata": {},
     "output_type": "execute_result"
    }
   ],
   "source": [
    "list(map(len, [all_other_samples, gene_only_samples, lifestyle_only_samples, combo_samples]))"
   ]
  },
  {
   "cell_type": "code",
   "execution_count": 17,
   "metadata": {},
   "outputs": [],
   "source": [
    "all_other_samples_bmi = phenotype_df.loc[phenotype_df.sample_names.isin(all_other_samples), \"bmi\"].values\n",
    "gene_only_samples_bmi = phenotype_df.loc[phenotype_df.sample_names.isin(gene_only_samples), \"bmi\"].values\n",
    "lifestyle_only_samples_bmi = phenotype_df.loc[phenotype_df.sample_names.isin(lifestyle_only_samples), \"bmi\"].values\n",
    "combo_samples_bmi = phenotype_df.loc[phenotype_df.sample_names.isin(combo_samples), \"bmi\"].values"
   ]
  },
  {
   "cell_type": "code",
   "execution_count": 18,
   "metadata": {},
   "outputs": [
    {
     "data": {
      "text/plain": [
       "[8503, 213736, 7546, 20920]"
      ]
     },
     "execution_count": 18,
     "metadata": {},
     "output_type": "execute_result"
    }
   ],
   "source": [
    "list(map(len, [all_other_samples_bmi, gene_only_samples_bmi, lifestyle_only_samples_bmi, combo_samples_bmi]))"
   ]
  },
  {
   "cell_type": "code",
   "execution_count": 19,
   "metadata": {},
   "outputs": [],
   "source": [
    "data_dict = {\n",
    "    \"bmi\": np.concatenate((all_other_samples_bmi, gene_only_samples_bmi, lifestyle_only_samples_bmi, combo_samples_bmi)),\n",
    "    \"category\": [\"Non carriers\" for i in range(len(all_other_samples_bmi))] + [\"Gene carriers\" for i in range(len(gene_only_samples_bmi))] + [\"Lifestyle carriers\" for i in range(len(lifestyle_only_samples_bmi))] +  [\"Combo carriers\" for i in range(len(combo_samples_bmi))]\n",
    "}\n",
    "\n",
    "plot_df = pd.DataFrame(data_dict)"
   ]
  },
  {
   "cell_type": "code",
   "execution_count": 20,
   "metadata": {},
   "outputs": [
    {
     "data": {
      "text/html": [
       "<div>\n",
       "<style scoped>\n",
       "    .dataframe tbody tr th:only-of-type {\n",
       "        vertical-align: middle;\n",
       "    }\n",
       "\n",
       "    .dataframe tbody tr th {\n",
       "        vertical-align: top;\n",
       "    }\n",
       "\n",
       "    .dataframe thead th {\n",
       "        text-align: right;\n",
       "    }\n",
       "</style>\n",
       "<table border=\"1\" class=\"dataframe\">\n",
       "  <thead>\n",
       "    <tr style=\"text-align: right;\">\n",
       "      <th></th>\n",
       "      <th>bmi</th>\n",
       "      <th>category</th>\n",
       "    </tr>\n",
       "  </thead>\n",
       "  <tbody>\n",
       "    <tr>\n",
       "      <th>0</th>\n",
       "      <td>23.7109</td>\n",
       "      <td>Non carriers</td>\n",
       "    </tr>\n",
       "    <tr>\n",
       "      <th>1</th>\n",
       "      <td>29.7070</td>\n",
       "      <td>Non carriers</td>\n",
       "    </tr>\n",
       "    <tr>\n",
       "      <th>2</th>\n",
       "      <td>25.5077</td>\n",
       "      <td>Non carriers</td>\n",
       "    </tr>\n",
       "    <tr>\n",
       "      <th>3</th>\n",
       "      <td>21.8356</td>\n",
       "      <td>Non carriers</td>\n",
       "    </tr>\n",
       "    <tr>\n",
       "      <th>4</th>\n",
       "      <td>29.1644</td>\n",
       "      <td>Non carriers</td>\n",
       "    </tr>\n",
       "    <tr>\n",
       "      <th>...</th>\n",
       "      <td>...</td>\n",
       "      <td>...</td>\n",
       "    </tr>\n",
       "    <tr>\n",
       "      <th>250700</th>\n",
       "      <td>33.3984</td>\n",
       "      <td>Combo carriers</td>\n",
       "    </tr>\n",
       "    <tr>\n",
       "      <th>250701</th>\n",
       "      <td>30.8112</td>\n",
       "      <td>Combo carriers</td>\n",
       "    </tr>\n",
       "    <tr>\n",
       "      <th>250702</th>\n",
       "      <td>37.3932</td>\n",
       "      <td>Combo carriers</td>\n",
       "    </tr>\n",
       "    <tr>\n",
       "      <th>250703</th>\n",
       "      <td>28.0521</td>\n",
       "      <td>Combo carriers</td>\n",
       "    </tr>\n",
       "    <tr>\n",
       "      <th>250704</th>\n",
       "      <td>32.4447</td>\n",
       "      <td>Combo carriers</td>\n",
       "    </tr>\n",
       "  </tbody>\n",
       "</table>\n",
       "<p>250705 rows × 2 columns</p>\n",
       "</div>"
      ],
      "text/plain": [
       "            bmi        category\n",
       "0       23.7109    Non carriers\n",
       "1       29.7070    Non carriers\n",
       "2       25.5077    Non carriers\n",
       "3       21.8356    Non carriers\n",
       "4       29.1644    Non carriers\n",
       "...         ...             ...\n",
       "250700  33.3984  Combo carriers\n",
       "250701  30.8112  Combo carriers\n",
       "250702  37.3932  Combo carriers\n",
       "250703  28.0521  Combo carriers\n",
       "250704  32.4447  Combo carriers\n",
       "\n",
       "[250705 rows x 2 columns]"
      ]
     },
     "execution_count": 20,
     "metadata": {},
     "output_type": "execute_result"
    }
   ],
   "source": [
    "plot_df"
   ]
  },
  {
   "cell_type": "code",
   "execution_count": 27,
   "metadata": {},
   "outputs": [
    {
     "name": "stderr",
     "output_type": "stream",
     "text": [
      "/tmp/ipykernel_95910/3323008305.py:15: UserWarning: FixedFormatter should only be used together with FixedLocator\n",
      "  ax.set_xticklabels([\"Non carriers\",\"Gene carriers\", \"Lifestyle carriers\", \"Combo carriers\"], rotation=45, fontsize=18)\n",
      "/tmp/ipykernel_95910/3323008305.py:16: UserWarning: FixedFormatter should only be used together with FixedLocator\n",
      "  ax.set_yticklabels(ax.get_yticklabels(), fontsize=18)\n"
     ]
    },
    {
     "data": {
      "text/plain": [
       "<matplotlib.lines.Line2D at 0x7f2b98511c10>"
      ]
     },
     "execution_count": 27,
     "metadata": {},
     "output_type": "execute_result"
    },
    {
     "data": {
      "image/png": "[encoded data removed]",
      "text/plain": [
       "<Figure size 432x576 with 1 Axes>"
      ]
     },
     "metadata": {
      "needs_background": "light"
     },
     "output_type": "display_data"
    }
   ],
   "source": [
    "fig,ax = plt.subplots(figsize=(6, 8))\n",
    "\n",
    "sns_box = sns.boxplot(\n",
    "    data=plot_df, y=\"bmi\", \n",
    "    x=\"category\", order =[ \"Non carriers\",\"Gene carriers\", \"Lifestyle carriers\", \"Combo carriers\",],\n",
    "    hue=\"category\", hue_order=[ \"Non carriers\",\"Gene carriers\", \"Lifestyle carriers\", \"Combo carriers\",],\n",
    "    palette=[\"#008176\", \"#00ADEE\", \"#ff7f0e\", \"#FF3688\", ],  # '#D1245D', '#00ADEE', '#D1245D', '#00ADEE' \"#0000a7\" \"#eecc16\"\n",
    "    dodge=False, width=0.35, linewidth=2.25, fliersize=0, capprops={'color':'none'}, boxprops={'facecolor':'none', 'edgecolor':'k'}) # \n",
    "\n",
    "\n",
    "# Adjust Axis\n",
    "# ax.set_yticks([-0.02, 0, 0.02, 0.04])\n",
    "ax.set_ylim((10, 50))\n",
    "# ax.set_ylabel('Percentage')\n",
    "ax.set_xticklabels([\"Non carriers\",\"Gene carriers\", \"Lifestyle carriers\", \"Combo carriers\"], rotation=45, fontsize=18)\n",
    "ax.set_yticklabels(ax.get_yticklabels(), fontsize=18)\n",
    "ax.set_xlabel(\"\")\n",
    "ax.set_ylabel(\"BMI\", fontsize=20)\n",
    "\n",
    "# Remove Spines\n",
    "ax.spines['right'].set_visible(False)\n",
    "ax.spines['top'].set_visible(False);\n",
    "\n",
    "# ax.axes.legend_.remove()\n",
    "# sns_ax = sns.violinplot(\n",
    "#     data=plot_df, y=\"bmi\", \n",
    "#     x=\"category\", order =[ \"no gene or lifestyle\", \"genes only\", \"lifestyles only\", \"combos\",],\n",
    "#     hue=\"category\", hue_order=[ \"no gene or lifestyle\", \"genes only\", \"lifestyles only\", \"combos\",],\n",
    "#     palette=[\"#008176\", \"#08509b\", \"#ff7f0e\", \"#a30f15\", ],\n",
    "#     scale=\"area\",\n",
    "#     linewidth=2.5,\n",
    "#     width=0.5,\n",
    "#     dodge=False,\n",
    "#     bw=0.75,\n",
    "#     cut=2,\n",
    "#     ax=ax\n",
    "#     )\n",
    "# # sns.stripplot(data=plot_df, y=\"bmi\", x=\"category\", color=\"k\", ax=ax, s=2, alpha=0.1)\n",
    "ax.axhline(y=25, linewidth=2, color='grey', linestyle='--')\n",
    "# ax.set_xlabel(\"\")\n",
    "# ax.set_ylabel(\"BMI\")\n",
    "# # legend below as multiple columns\n",
    "# h,l = sns_ax.axes.get_legend_handles_labels()\n",
    "# sns_ax.axes.legend_.remove()\n",
    "# sns_ax.legend(h,l, loc=\"upper center\", ncol=4, bbox_to_anchor=(0.5, -0.1))\n"
   ]
  },
  {
   "cell_type": "code",
   "execution_count": 28,
   "metadata": {},
   "outputs": [],
   "source": [
    "save_pdf(\"/data6/deepro/ukb_bmi/3_characterization/data/combos_in_cohort/lifestyle/figures/lifestyle_oligo.pdf\", fig)"
   ]
  },
  {
   "cell_type": "code",
   "execution_count": null,
   "metadata": {},
   "outputs": [],
   "source": []
  }
 ],
 "metadata": {
  "kernelspec": {
   "display_name": "Python 3",
   "language": "python",
   "name": "python3"
  },
  "language_info": {
   "codemirror_mode": {
    "name": "ipython",
    "version": 3
   },
   "file_extension": ".py",
   "mimetype": "text/x-python",
   "name": "python",
   "nbconvert_exporter": "python",
   "pygments_lexer": "ipython3",
   "version": "3.11.4"
  }
 },
 "nbformat": 4,
 "nbformat_minor": 2
}
