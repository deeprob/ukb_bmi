{
 "cells": [
  {
   "cell_type": "code",
   "execution_count": 1,
   "metadata": {},
   "outputs": [],
   "source": [
    "import os\n",
    "import pandas as pd\n",
    "import upsetplot\n",
    "from functools import reduce\n",
    "from itertools import combinations\n",
    "\n",
    "# plotting modules\n",
    "import seaborn as sns\n",
    "from matplotlib.ticker import MultipleLocator\n",
    "import matplotlib\n",
    "import matplotlib.pyplot as plt\n",
    "matplotlib.rcParams['pdf.fonttype'] = 42\n",
    "matplotlib.rcParams['ps.fonttype'] = 42\n",
    "matplotlib.rcParams['font.sans-serif'] = \"Arial\" # missing fonts:: https://alexanderlabwhoi.github.io/post/2021-03-missingfont/\n",
    "# Then, \"ALWAYS use sans-serif fonts\"\n",
    "matplotlib.rcParams['font.family'] = \"sans-serif\"\n",
    "matplotlib.rcParams.update({'font.size': 14, 'axes.linewidth': 2, 'xtick.major.width': 1.5, 'xtick.major.size': 5, 'ytick.major.width': 1.5, 'ytick.major.size': 4})\n",
    "from matplotlib.backends.backend_pdf import PdfPages"
   ]
  },
  {
   "cell_type": "code",
   "execution_count": 2,
   "metadata": {},
   "outputs": [],
   "source": [
    "groups = [\"british_male\", \"british_female\", \"pre_menopause\", \"post_menopause\"]\n",
    "\n",
    "gene_files = [\n",
    "    \"/data6/deepro/ukb_bmi/3_characterization/data/enrichment/british_male/genes.list\",\n",
    "    \"/data6/deepro/ukb_bmi/3_characterization/data/enrichment/british_female/genes.list\",\n",
    "    \"/data6/deepro/ukb_bmi/3_characterization/data/enrichment/pre_menopause/genes.list\",\n",
    "    \"/data6/deepro/ukb_bmi/3_characterization/data/enrichment/post_menopause/genes.list\",\n",
    "    ]\n",
    "\n",
    "go_enrich_files = [\n",
    "    \"/data6/deepro/ukb_bmi/3_characterization/data/enrichment/british_male/GO_Biological_Process_2023_enrich.csv\",\n",
    "    \"/data6/deepro/ukb_bmi/3_characterization/data/enrichment/british_female/GO_Biological_Process_2023_enrich.csv\",\n",
    "    \"/data6/deepro/ukb_bmi/3_characterization/data/enrichment/pre_menopause/GO_Biological_Process_2023_enrich.csv\",\n",
    "    \"/data6/deepro/ukb_bmi/3_characterization/data/enrichment/post_menopause/GO_Biological_Process_2023_enrich.csv\"\n",
    "]\n",
    "\n",
    "kegg_enrich_files = [\n",
    "    \"/data6/deepro/ukb_bmi/3_characterization/data/enrichment/british_male/KEGG_2021_Human_enrich.csv\",\n",
    "    \"/data6/deepro/ukb_bmi/3_characterization/data/enrichment/british_female/KEGG_2021_Human_enrich.csv\",\n",
    "    \"/data6/deepro/ukb_bmi/3_characterization/data/enrichment/pre_menopause/KEGG_2021_Human_enrich.csv\",\n",
    "    \"/data6/deepro/ukb_bmi/3_characterization/data/enrichment/post_menopause/KEGG_2021_Human_enrich.csv\"\n",
    "]"
   ]
  },
  {
   "cell_type": "code",
   "execution_count": 3,
   "metadata": {},
   "outputs": [],
   "source": [
    "def read_genes(gene_file):\n",
    "    with open(gene_file, \"r\") as f:\n",
    "        genes = set([g.strip() for g in f.readlines()])\n",
    "    return genes\n",
    "\n",
    "def set_add(a, b):\n",
    "    return a.intersection(b)\n",
    "\n",
    "def set_subtract(a,b):\n",
    "    return a.difference(b)\n",
    "\n",
    "def get_intersects(include_sets, exclude_sets):\n",
    "    intersect_sets = reduce(set_add, include_sets)\n",
    "    if len(exclude_sets)>0:\n",
    "        exclude_sets = [intersect_sets] + exclude_sets\n",
    "        intersect_sets = reduce(set_subtract, exclude_sets)\n",
    "    return intersect_sets\n",
    "\n",
    "def get_upset_df(group_sets, groups):\n",
    "    # get the set of items for each group\n",
    "    item_dict = {g: s for g,s in zip(groups, group_sets)}\n",
    "    item_boolean_dict = {g:[] for g in groups}\n",
    "    counts = []\n",
    "    unique_intersect_sets = dict()\n",
    "    for i in range(1, len(groups) + 1):\n",
    "        # get combinations of length i\n",
    "        all_items = list(combinations(groups, i))\n",
    "        for items in all_items:\n",
    "            # get counts of elements that are unique to the group\n",
    "            include_items = items\n",
    "            exclude_items = tuple(g for g in groups if g not in include_items)\n",
    "            include_sets = [item_dict[c] for c in include_items]\n",
    "            exclude_sets = [item_dict[c] for c in exclude_items]\n",
    "            unique_intersects = get_intersects(include_sets, exclude_sets)\n",
    "            counts.append(len(unique_intersects))\n",
    "            unique_intersect_sets[(include_items, exclude_items)] = unique_intersects\n",
    "            for c in include_items:\n",
    "                item_boolean_dict[c].append(True)\n",
    "            for c in exclude_items:\n",
    "                item_boolean_dict[c].append(False)\n",
    "    item_boolean_dict[\"counts\"] = counts\n",
    "    df = pd.DataFrame(item_boolean_dict)\n",
    "    return df.set_index(groups), unique_intersect_sets"
   ]
  },
  {
   "cell_type": "markdown",
   "metadata": {},
   "source": [
    "# Genes"
   ]
  },
  {
   "cell_type": "code",
   "execution_count": 4,
   "metadata": {},
   "outputs": [],
   "source": [
    "group_genes = list(map(read_genes, gene_files))"
   ]
  },
  {
   "cell_type": "code",
   "execution_count": 5,
   "metadata": {},
   "outputs": [],
   "source": [
    "gene_upset_df, gene_unique_intersects = get_upset_df(group_genes, groups)"
   ]
  },
  {
   "cell_type": "code",
   "execution_count": 6,
   "metadata": {},
   "outputs": [
    {
     "name": "stderr",
     "output_type": "stream",
     "text": [
      "/data6/deepro/miniconda3/envs/dnanexus/lib/python3.11/site-packages/upsetplot/plotting.py:662: FutureWarning: Setting an item of incompatible dtype is deprecated and will raise in a future error of pandas. Value '['black' '#0000002e' '#0000002e' '#0000002e' '#0000002e' 'black'\n",
      " '#0000002e' '#0000002e' '#0000002e' '#0000002e' 'black' '#0000002e'\n",
      " '#0000002e' '#0000002e' '#0000002e' 'black' 'black' 'black' '#0000002e'\n",
      " '#0000002e' 'black' '#0000002e' 'black' '#0000002e' '#0000002e' 'black'\n",
      " 'black' '#0000002e' 'black' '#0000002e' '#0000002e' 'black' '#0000002e'\n",
      " 'black' '#0000002e' 'black' '#0000002e' '#0000002e' 'black' 'black'\n",
      " 'black' 'black' 'black' '#0000002e' 'black' 'black' '#0000002e' 'black'\n",
      " 'black' '#0000002e' 'black' 'black' '#0000002e' 'black' 'black' 'black'\n",
      " 'black' 'black' 'black' 'black']' has dtype incompatible with float64, please explicitly cast to a compatible dtype first.\n",
      "  styles[\"edgecolor\"].fillna(styles[\"facecolor\"], inplace=True)\n",
      "/data6/deepro/miniconda3/envs/dnanexus/lib/python3.11/site-packages/upsetplot/plotting.py:663: FutureWarning: Setting an item of incompatible dtype is deprecated and will raise in a future error of pandas. Value 'solid' has dtype incompatible with float64, please explicitly cast to a compatible dtype first.\n",
      "  styles[\"linestyle\"].fillna(\"solid\", inplace=True)\n"
     ]
    },
    {
     "data": {
      "text/plain": [
       "(0.0, 1.0, 0.0, 1.0)"
      ]
     },
     "execution_count": 6,
     "metadata": {},
     "output_type": "execute_result"
    },
    {
     "data": {
      "image/png": "[encoded data removed]",
      "text/plain": [
       "<Figure size 1080x432 with 5 Axes>"
      ]
     },
     "metadata": {
      "needs_background": "light"
     },
     "output_type": "display_data"
    }
   ],
   "source": [
    "parsed_gene_upset_df = gene_upset_df.loc[gene_upset_df.counts>0]\n",
    "fig,ax = plt.subplots(1,1, figsize=(15, 6))\n",
    "upsetplot.plot(parsed_gene_upset_df.counts, show_counts=True, fig=fig, element_size=None)\n",
    "ax.axis(\"off\")"
   ]
  },
  {
   "cell_type": "code",
   "execution_count": null,
   "metadata": {},
   "outputs": [],
   "source": []
  },
  {
   "cell_type": "markdown",
   "metadata": {},
   "source": [
    "# GO terms"
   ]
  },
  {
   "cell_type": "code",
   "execution_count": 7,
   "metadata": {},
   "outputs": [],
   "source": [
    "def read_enrich_files(filename):\n",
    "    df = pd.read_csv(filename)\n",
    "    df = df.loc[df.adj_pval<0.05]\n",
    "    return set(df[\"Term\"])"
   ]
  },
  {
   "cell_type": "code",
   "execution_count": 8,
   "metadata": {},
   "outputs": [],
   "source": [
    "group_gos = list(map(read_enrich_files, go_enrich_files))"
   ]
  },
  {
   "cell_type": "code",
   "execution_count": 9,
   "metadata": {},
   "outputs": [
    {
     "name": "stderr",
     "output_type": "stream",
     "text": [
      "/data6/deepro/miniconda3/envs/dnanexus/lib/python3.11/site-packages/upsetplot/plotting.py:662: FutureWarning: Setting an item of incompatible dtype is deprecated and will raise in a future error of pandas. Value '['black' '#0000002e' '#0000002e' '#0000002e' '#0000002e' 'black'\n",
      " '#0000002e' '#0000002e' '#0000002e' '#0000002e' 'black' '#0000002e'\n",
      " '#0000002e' '#0000002e' '#0000002e' 'black' 'black' 'black' '#0000002e'\n",
      " '#0000002e' 'black' '#0000002e' 'black' '#0000002e' '#0000002e' 'black'\n",
      " 'black' '#0000002e' 'black' '#0000002e' '#0000002e' 'black' '#0000002e'\n",
      " 'black' '#0000002e' 'black' '#0000002e' '#0000002e' 'black' 'black'\n",
      " 'black' 'black' 'black' '#0000002e' 'black' 'black' '#0000002e' 'black'\n",
      " 'black' '#0000002e' 'black' 'black' 'black' 'black' 'black' 'black']' has dtype incompatible with float64, please explicitly cast to a compatible dtype first.\n",
      "  styles[\"edgecolor\"].fillna(styles[\"facecolor\"], inplace=True)\n",
      "/data6/deepro/miniconda3/envs/dnanexus/lib/python3.11/site-packages/upsetplot/plotting.py:663: FutureWarning: Setting an item of incompatible dtype is deprecated and will raise in a future error of pandas. Value 'solid' has dtype incompatible with float64, please explicitly cast to a compatible dtype first.\n",
      "  styles[\"linestyle\"].fillna(\"solid\", inplace=True)\n"
     ]
    },
    {
     "data": {
      "text/plain": [
       "(0.0, 1.0, 0.0, 1.0)"
      ]
     },
     "execution_count": 9,
     "metadata": {},
     "output_type": "execute_result"
    },
    {
     "data": {
      "image/png": "[encoded data removed]",
      "text/plain": [
       "<Figure size 1080x432 with 5 Axes>"
      ]
     },
     "metadata": {
      "needs_background": "light"
     },
     "output_type": "display_data"
    }
   ],
   "source": [
    "go_upset_df, go_unique_intersects = get_upset_df(group_gos, groups)\n",
    "parsed_go_upset_df = go_upset_df.loc[go_upset_df.counts>0]\n",
    "fig,ax = plt.subplots(1,1, figsize=(15, 6))\n",
    "upsetplot.plot(parsed_go_upset_df.counts, show_counts=True, fig=fig, element_size=None)\n",
    "ax.axis(\"off\")"
   ]
  },
  {
   "cell_type": "code",
   "execution_count": 10,
   "metadata": {},
   "outputs": [
    {
     "data": {
      "text/plain": [
       "{'Actin Filament-Based Transport (GO:0099515)',\n",
       " 'Actomyosin Structure Organization (GO:0031032)',\n",
       " 'Calcium Ion Import Across Plasma Membrane (GO:0098703)',\n",
       " 'Calcium Ion Transmembrane Import Into Cytosol (GO:0097553)',\n",
       " 'External Encapsulating Structure Organization (GO:0045229)',\n",
       " 'Extracellular Matrix Organization (GO:0030198)',\n",
       " 'Extracellular Structure Organization (GO:0043062)',\n",
       " 'Inorganic Cation Import Across Plasma Membrane (GO:0098659)',\n",
       " 'Inorganic Cation Transmembrane Transport (GO:0098662)',\n",
       " 'Monoatomic Cation Transmembrane Transport (GO:0098655)',\n",
       " 'Muscle Contraction (GO:0006936)',\n",
       " 'Organic Substance Transport (GO:0071702)',\n",
       " 'Sensory Perception Of Mechanical Stimulus (GO:0050954)',\n",
       " 'Sensory Perception Of Sound (GO:0007605)',\n",
       " 'Sodium Ion Transmembrane Transport (GO:0035725)',\n",
       " 'Sodium Ion Transport (GO:0006814)',\n",
       " 'Striated Muscle Contraction (GO:0006941)',\n",
       " 'Supramolecular Fiber Organization (GO:0097435)',\n",
       " 'Transport Across Blood-Brain Barrier (GO:0150104)',\n",
       " 'Vascular Transport (GO:0010232)',\n",
       " 'Vesicle Transport Along Actin Filament (GO:0030050)'}"
      ]
     },
     "execution_count": 10,
     "metadata": {},
     "output_type": "execute_result"
    }
   ],
   "source": [
    "go_unique_intersects[(('british_male', 'british_female',\n",
    "   'pre_menopause',\n",
    "   'post_menopause'), ())]"
   ]
  },
  {
   "cell_type": "markdown",
   "metadata": {},
   "source": [
    "# KEGG terms"
   ]
  },
  {
   "cell_type": "code",
   "execution_count": 11,
   "metadata": {},
   "outputs": [],
   "source": [
    "group_keggs = list(map(read_enrich_files, kegg_enrich_files))"
   ]
  },
  {
   "cell_type": "code",
   "execution_count": 12,
   "metadata": {},
   "outputs": [
    {
     "name": "stderr",
     "output_type": "stream",
     "text": [
      "/data6/deepro/miniconda3/envs/dnanexus/lib/python3.11/site-packages/upsetplot/plotting.py:662: FutureWarning: Setting an item of incompatible dtype is deprecated and will raise in a future error of pandas. Value '['black' '#0000002e' '#0000002e' '#0000002e' '#0000002e' 'black'\n",
      " '#0000002e' '#0000002e' '#0000002e' '#0000002e' 'black' '#0000002e'\n",
      " '#0000002e' '#0000002e' '#0000002e' 'black' 'black' 'black' '#0000002e'\n",
      " '#0000002e' 'black' '#0000002e' 'black' '#0000002e' '#0000002e' 'black'\n",
      " 'black' '#0000002e' 'black' '#0000002e' '#0000002e' 'black' 'black'\n",
      " 'black' 'black' '#0000002e' 'black' 'black' '#0000002e' 'black' 'black'\n",
      " '#0000002e' 'black' 'black' 'black' 'black' 'black' 'black']' has dtype incompatible with float64, please explicitly cast to a compatible dtype first.\n",
      "  styles[\"edgecolor\"].fillna(styles[\"facecolor\"], inplace=True)\n",
      "/data6/deepro/miniconda3/envs/dnanexus/lib/python3.11/site-packages/upsetplot/plotting.py:663: FutureWarning: Setting an item of incompatible dtype is deprecated and will raise in a future error of pandas. Value 'solid' has dtype incompatible with float64, please explicitly cast to a compatible dtype first.\n",
      "  styles[\"linestyle\"].fillna(\"solid\", inplace=True)\n"
     ]
    },
    {
     "data": {
      "text/plain": [
       "(0.0, 1.0, 0.0, 1.0)"
      ]
     },
     "execution_count": 12,
     "metadata": {},
     "output_type": "execute_result"
    },
    {
     "data": {
      "image/png": "[encoded data removed]",
      "text/plain": [
       "<Figure size 1080x432 with 5 Axes>"
      ]
     },
     "metadata": {
      "needs_background": "light"
     },
     "output_type": "display_data"
    }
   ],
   "source": [
    "kegg_upset_df, kegg_unique_intersects = get_upset_df(group_keggs, groups)\n",
    "parsed_kegg_upset_df = kegg_upset_df.loc[kegg_upset_df.counts>0]\n",
    "fig,ax = plt.subplots(1,1, figsize=(15, 6))\n",
    "upsetplot.plot(parsed_kegg_upset_df.counts, show_counts=True, fig=fig, element_size=None)\n",
    "ax.axis(\"off\")"
   ]
  },
  {
   "cell_type": "code",
   "execution_count": 13,
   "metadata": {},
   "outputs": [
    {
     "data": {
      "text/plain": [
       "{'ABC transporters',\n",
       " 'Aldosterone synthesis and secretion',\n",
       " 'Arrhythmogenic right ventricular cardiomyopathy',\n",
       " 'Ascorbate and aldarate metabolism',\n",
       " 'Bile secretion',\n",
       " 'Carbohydrate digestion and absorption',\n",
       " 'Dilated cardiomyopathy',\n",
       " 'Fructose and mannose metabolism',\n",
       " 'Hypertrophic cardiomyopathy',\n",
       " 'Pancreatic secretion',\n",
       " 'Pentose and glucuronate interconversions',\n",
       " 'Porphyrin and chlorophyll metabolism',\n",
       " 'Protein digestion and absorption',\n",
       " 'Starch and sucrose metabolism',\n",
       " 'Thyroid hormone synthesis'}"
      ]
     },
     "execution_count": 13,
     "metadata": {},
     "output_type": "execute_result"
    }
   ],
   "source": [
    "kegg_unique_intersects[(('british_male', 'british_female',\n",
    "   'pre_menopause',\n",
    "   'post_menopause'), ())]"
   ]
  },
  {
   "cell_type": "code",
   "execution_count": 14,
   "metadata": {},
   "outputs": [
    {
     "data": {
      "text/plain": [
       "dict_keys([(('british_male',), ('british_female', 'pre_menopause', 'post_menopause')), (('british_female',), ('british_male', 'pre_menopause', 'post_menopause')), (('pre_menopause',), ('british_male', 'british_female', 'post_menopause')), (('post_menopause',), ('british_male', 'british_female', 'pre_menopause')), (('british_male', 'british_female'), ('pre_menopause', 'post_menopause')), (('british_male', 'pre_menopause'), ('british_female', 'post_menopause')), (('british_male', 'post_menopause'), ('british_female', 'pre_menopause')), (('british_female', 'pre_menopause'), ('british_male', 'post_menopause')), (('british_female', 'post_menopause'), ('british_male', 'pre_menopause')), (('pre_menopause', 'post_menopause'), ('british_male', 'british_female')), (('british_male', 'british_female', 'pre_menopause'), ('post_menopause',)), (('british_male', 'british_female', 'post_menopause'), ('pre_menopause',)), (('british_male', 'pre_menopause', 'post_menopause'), ('british_female',)), (('british_female', 'pre_menopause', 'post_menopause'), ('british_male',)), (('british_male', 'british_female', 'pre_menopause', 'post_menopause'), ())])"
      ]
     },
     "execution_count": 14,
     "metadata": {},
     "output_type": "execute_result"
    }
   ],
   "source": [
    "kegg_unique_intersects.keys()"
   ]
  },
  {
   "cell_type": "code",
   "execution_count": 15,
   "metadata": {},
   "outputs": [
    {
     "data": {
      "text/plain": [
       "{'Cardiac muscle contraction',\n",
       " 'TGF-beta signaling pathway',\n",
       " 'Tryptophan metabolism'}"
      ]
     },
     "execution_count": 15,
     "metadata": {},
     "output_type": "execute_result"
    }
   ],
   "source": [
    "kegg_unique_intersects[(('british_female',), ('british_male','pre_menopause', 'post_menopause'))]"
   ]
  },
  {
   "cell_type": "code",
   "execution_count": 16,
   "metadata": {},
   "outputs": [
    {
     "data": {
      "text/plain": [
       "{'Arginine and proline metabolism',\n",
       " 'Cellular senescence',\n",
       " 'Glycine serine and threonine metabolism',\n",
       " 'Histidine metabolism',\n",
       " 'Pantothenate and CoA biosynthesis',\n",
       " 'Selenocompound metabolism',\n",
       " 'Staphylococcus aureus infection',\n",
       " 'Synaptic vesicle cycle'}"
      ]
     },
     "execution_count": 16,
     "metadata": {},
     "output_type": "execute_result"
    }
   ],
   "source": [
    "kegg_unique_intersects[(('british_male',), ('british_female', 'pre_menopause', 'post_menopause'))]"
   ]
  },
  {
   "cell_type": "code",
   "execution_count": 17,
   "metadata": {},
   "outputs": [
    {
     "data": {
      "text/plain": [
       "{'AGE-RAGE signaling pathway in diabetic complications',\n",
       " 'Endocrine and other factor-regulated calcium reabsorption',\n",
       " 'Mismatch repair',\n",
       " 'Pathways in cancer',\n",
       " 'Phagosome',\n",
       " 'Small cell lung cancer',\n",
       " 'Taste transduction',\n",
       " 'Vitamin digestion and absorption'}"
      ]
     },
     "execution_count": 17,
     "metadata": {},
     "output_type": "execute_result"
    }
   ],
   "source": [
    "kegg_unique_intersects[(('pre_menopause',), ('british_male', 'british_female', 'post_menopause'))]"
   ]
  },
  {
   "cell_type": "code",
   "execution_count": 18,
   "metadata": {},
   "outputs": [
    {
     "data": {
      "text/plain": [
       "{'AMPK signaling pathway',\n",
       " 'Citrate cycle (TCA cycle)',\n",
       " 'Growth hormone synthesis secretion and action',\n",
       " 'Inositol phosphate metabolism',\n",
       " 'Insulin resistance',\n",
       " 'Insulin signaling pathway',\n",
       " 'Malaria',\n",
       " 'Melanogenesis',\n",
       " 'MicroRNAs in cancer',\n",
       " 'Pathogenic Escherichia coli infection',\n",
       " 'Pentose phosphate pathway',\n",
       " 'Phenylalanine metabolism',\n",
       " 'Platelet activation',\n",
       " 'Proteoglycans in cancer',\n",
       " 'Regulation of actin cytoskeleton',\n",
       " 'Tyrosine metabolism',\n",
       " 'Vascular smooth muscle contraction'}"
      ]
     },
     "execution_count": 18,
     "metadata": {},
     "output_type": "execute_result"
    }
   ],
   "source": [
    "kegg_unique_intersects[(('post_menopause',), ('british_male', 'british_female', 'pre_menopause'))]"
   ]
  },
  {
   "cell_type": "markdown",
   "metadata": {},
   "source": [
    "# KEGG unique intersect genes"
   ]
  },
  {
   "cell_type": "markdown",
   "metadata": {},
   "source": [
    "## Female"
   ]
  },
  {
   "cell_type": "code",
   "execution_count": 19,
   "metadata": {},
   "outputs": [],
   "source": [
    "kegg_female_df = pd.read_csv(kegg_enrich_files[1])"
   ]
  },
  {
   "cell_type": "code",
   "execution_count": 20,
   "metadata": {},
   "outputs": [],
   "source": [
    "def get_unique_genes_from_terms(enrich_df, term_unique_intersects, gene_unique_intersects, ut_key):\n",
    "    unique_terms = term_unique_intersects[ut_key]\n",
    "    enrich_df = enrich_df.loc[enrich_df.Term.isin(unique_terms)]\n",
    "    unique_genes = gene_unique_intersects[ut_key]\n",
    "    enrich_df[\"genes\"] = enrich_df.genes.apply(lambda x: \"|\".join(set(x.split(\"|\")).intersection(unique_genes)))\n",
    "    return enrich_df\n",
    "    "
   ]
  },
  {
   "cell_type": "code",
   "execution_count": 21,
   "metadata": {},
   "outputs": [
    {
     "name": "stderr",
     "output_type": "stream",
     "text": [
      "/tmp/ipykernel_8774/3387058214.py:5: SettingWithCopyWarning: \n",
      "A value is trying to be set on a copy of a slice from a DataFrame.\n",
      "Try using .loc[row_indexer,col_indexer] = value instead\n",
      "\n",
      "See the caveats in the documentation: https://pandas.pydata.org/pandas-docs/stable/user_guide/indexing.html#returning-a-view-versus-a-copy\n",
      "  enrich_df[\"genes\"] = enrich_df.genes.apply(lambda x: \"|\".join(set(x.split(\"|\")).intersection(unique_genes)))\n"
     ]
    },
    {
     "data": {
      "text/html": [
       "<div>\n",
       "<style scoped>\n",
       "    .dataframe tbody tr th:only-of-type {\n",
       "        vertical-align: middle;\n",
       "    }\n",
       "\n",
       "    .dataframe tbody tr th {\n",
       "        vertical-align: top;\n",
       "    }\n",
       "\n",
       "    .dataframe thead th {\n",
       "        text-align: right;\n",
       "    }\n",
       "</style>\n",
       "<table border=\"1\" class=\"dataframe\">\n",
       "  <thead>\n",
       "    <tr style=\"text-align: right;\">\n",
       "      <th></th>\n",
       "      <th>Term</th>\n",
       "      <th>p_val</th>\n",
       "      <th>adj_pval</th>\n",
       "      <th>odds_ratio</th>\n",
       "      <th>combined_score</th>\n",
       "      <th>genes</th>\n",
       "    </tr>\n",
       "  </thead>\n",
       "  <tbody>\n",
       "    <tr>\n",
       "      <th>19</th>\n",
       "      <td>Cardiac muscle contraction</td>\n",
       "      <td>0.001317</td>\n",
       "      <td>0.019750</td>\n",
       "      <td>2.921390</td>\n",
       "      <td>19.376506</td>\n",
       "      <td>CASQ2|ATP1A3|ATP2A2|ATP1A2</td>\n",
       "    </tr>\n",
       "    <tr>\n",
       "      <th>26</th>\n",
       "      <td>Tryptophan metabolism</td>\n",
       "      <td>0.003178</td>\n",
       "      <td>0.035311</td>\n",
       "      <td>3.692275</td>\n",
       "      <td>21.236170</td>\n",
       "      <td>ALDH3A2|TPH1|TDO2|MAOB</td>\n",
       "    </tr>\n",
       "    <tr>\n",
       "      <th>27</th>\n",
       "      <td>TGF-beta signaling pathway</td>\n",
       "      <td>0.003714</td>\n",
       "      <td>0.038171</td>\n",
       "      <td>2.554747</td>\n",
       "      <td>14.295459</td>\n",
       "      <td>CHRD|AMHR2|BMPR1B|TGFBR1|FBN1|GDF6|INHBC</td>\n",
       "    </tr>\n",
       "  </tbody>\n",
       "</table>\n",
       "</div>"
      ],
      "text/plain": [
       "                          Term     p_val  adj_pval  odds_ratio  \\\n",
       "19  Cardiac muscle contraction  0.001317  0.019750    2.921390   \n",
       "26       Tryptophan metabolism  0.003178  0.035311    3.692275   \n",
       "27  TGF-beta signaling pathway  0.003714  0.038171    2.554747   \n",
       "\n",
       "    combined_score                                     genes  \n",
       "19       19.376506                CASQ2|ATP1A3|ATP2A2|ATP1A2  \n",
       "26       21.236170                    ALDH3A2|TPH1|TDO2|MAOB  \n",
       "27       14.295459  CHRD|AMHR2|BMPR1B|TGFBR1|FBN1|GDF6|INHBC  "
      ]
     },
     "execution_count": 21,
     "metadata": {},
     "output_type": "execute_result"
    }
   ],
   "source": [
    "get_unique_genes_from_terms(kegg_female_df, kegg_unique_intersects, gene_unique_intersects, (('british_female',), ('british_male','pre_menopause', 'post_menopause')))"
   ]
  },
  {
   "cell_type": "markdown",
   "metadata": {},
   "source": [
    "## Male"
   ]
  },
  {
   "cell_type": "code",
   "execution_count": 22,
   "metadata": {},
   "outputs": [
    {
     "name": "stderr",
     "output_type": "stream",
     "text": [
      "/tmp/ipykernel_8774/3387058214.py:5: SettingWithCopyWarning: \n",
      "A value is trying to be set on a copy of a slice from a DataFrame.\n",
      "Try using .loc[row_indexer,col_indexer] = value instead\n",
      "\n",
      "See the caveats in the documentation: https://pandas.pydata.org/pandas-docs/stable/user_guide/indexing.html#returning-a-view-versus-a-copy\n",
      "  enrich_df[\"genes\"] = enrich_df.genes.apply(lambda x: \"|\".join(set(x.split(\"|\")).intersection(unique_genes)))\n"
     ]
    }
   ],
   "source": [
    "kegg_male_df = pd.read_csv(kegg_enrich_files[0])\n",
    "kegg_male_df = get_unique_genes_from_terms(kegg_male_df, kegg_unique_intersects, gene_unique_intersects, (('british_male',), ('british_female','pre_menopause', 'post_menopause')))"
   ]
  },
  {
   "cell_type": "code",
   "execution_count": 23,
   "metadata": {},
   "outputs": [
    {
     "data": {
      "text/html": [
       "<div>\n",
       "<style scoped>\n",
       "    .dataframe tbody tr th:only-of-type {\n",
       "        vertical-align: middle;\n",
       "    }\n",
       "\n",
       "    .dataframe tbody tr th {\n",
       "        vertical-align: top;\n",
       "    }\n",
       "\n",
       "    .dataframe thead th {\n",
       "        text-align: right;\n",
       "    }\n",
       "</style>\n",
       "<table border=\"1\" class=\"dataframe\">\n",
       "  <thead>\n",
       "    <tr style=\"text-align: right;\">\n",
       "      <th></th>\n",
       "      <th>Term</th>\n",
       "      <th>p_val</th>\n",
       "      <th>adj_pval</th>\n",
       "      <th>odds_ratio</th>\n",
       "      <th>combined_score</th>\n",
       "      <th>genes</th>\n",
       "    </tr>\n",
       "  </thead>\n",
       "  <tbody>\n",
       "    <tr>\n",
       "      <th>15</th>\n",
       "      <td>Staphylococcus aureus infection</td>\n",
       "      <td>0.000113</td>\n",
       "      <td>0.002217</td>\n",
       "      <td>3.008924</td>\n",
       "      <td>27.337308</td>\n",
       "      <td>MASP2|C2|KRT24|KRT14|C1QC|KRT32|KRT25|SELP|KRT...</td>\n",
       "    </tr>\n",
       "    <tr>\n",
       "      <th>22</th>\n",
       "      <td>Pantothenate and CoA biosynthesis</td>\n",
       "      <td>0.000876</td>\n",
       "      <td>0.010715</td>\n",
       "      <td>5.857965</td>\n",
       "      <td>41.238463</td>\n",
       "      <td>PANK1|BCAT2|DPYS|GADL1|ENPP3</td>\n",
       "    </tr>\n",
       "    <tr>\n",
       "      <th>35</th>\n",
       "      <td>Selenocompound metabolism</td>\n",
       "      <td>0.001969</td>\n",
       "      <td>0.017000</td>\n",
       "      <td>5.930946</td>\n",
       "      <td>36.951334</td>\n",
       "      <td>TXNRD1|TXNRD3|MARS1|PAPSS1</td>\n",
       "    </tr>\n",
       "    <tr>\n",
       "      <th>36</th>\n",
       "      <td>Synaptic vesicle cycle</td>\n",
       "      <td>0.002010</td>\n",
       "      <td>0.017000</td>\n",
       "      <td>2.595927</td>\n",
       "      <td>16.120227</td>\n",
       "      <td>DNM1|ATP6V0A2|ATP6V1C2|SLC6A9|SLC6A5|SLC6A7|AT...</td>\n",
       "    </tr>\n",
       "    <tr>\n",
       "      <th>37</th>\n",
       "      <td>Cellular senescence</td>\n",
       "      <td>0.002281</td>\n",
       "      <td>0.018788</td>\n",
       "      <td>2.032311</td>\n",
       "      <td>12.362850</td>\n",
       "      <td>TSC1|HLA-C|MAP2K2|TGFB1|RAD50|NFATC1|RAD1|TP53...</td>\n",
       "    </tr>\n",
       "    <tr>\n",
       "      <th>45</th>\n",
       "      <td>Glycine serine and threonine metabolism</td>\n",
       "      <td>0.004429</td>\n",
       "      <td>0.030139</td>\n",
       "      <td>3.264638</td>\n",
       "      <td>17.692690</td>\n",
       "      <td>DAO|CHDH|PGAM2|AOC2</td>\n",
       "    </tr>\n",
       "    <tr>\n",
       "      <th>54</th>\n",
       "      <td>Arginine and proline metabolism</td>\n",
       "      <td>0.008105</td>\n",
       "      <td>0.045218</td>\n",
       "      <td>2.720673</td>\n",
       "      <td>13.100905</td>\n",
       "      <td>P4HA1|AGMAT|CNDP1|NOS1|ALDH4A1|DAO|P4HA2</td>\n",
       "    </tr>\n",
       "    <tr>\n",
       "      <th>56</th>\n",
       "      <td>Histidine metabolism</td>\n",
       "      <td>0.008235</td>\n",
       "      <td>0.045218</td>\n",
       "      <td>4.076327</td>\n",
       "      <td>19.563965</td>\n",
       "      <td>CNDP1|ASPA</td>\n",
       "    </tr>\n",
       "  </tbody>\n",
       "</table>\n",
       "</div>"
      ],
      "text/plain": [
       "                                       Term     p_val  adj_pval  odds_ratio  \\\n",
       "15          Staphylococcus aureus infection  0.000113  0.002217    3.008924   \n",
       "22        Pantothenate and CoA biosynthesis  0.000876  0.010715    5.857965   \n",
       "35                Selenocompound metabolism  0.001969  0.017000    5.930946   \n",
       "36                   Synaptic vesicle cycle  0.002010  0.017000    2.595927   \n",
       "37                      Cellular senescence  0.002281  0.018788    2.032311   \n",
       "45  Glycine serine and threonine metabolism  0.004429  0.030139    3.264638   \n",
       "54          Arginine and proline metabolism  0.008105  0.045218    2.720673   \n",
       "56                     Histidine metabolism  0.008235  0.045218    4.076327   \n",
       "\n",
       "    combined_score                                              genes  \n",
       "15       27.337308  MASP2|C2|KRT24|KRT14|C1QC|KRT32|KRT25|SELP|KRT...  \n",
       "22       41.238463                       PANK1|BCAT2|DPYS|GADL1|ENPP3  \n",
       "35       36.951334                         TXNRD1|TXNRD3|MARS1|PAPSS1  \n",
       "36       16.120227  DNM1|ATP6V0A2|ATP6V1C2|SLC6A9|SLC6A5|SLC6A7|AT...  \n",
       "37       12.362850  TSC1|HLA-C|MAP2K2|TGFB1|RAD50|NFATC1|RAD1|TP53...  \n",
       "45       17.692690                                DAO|CHDH|PGAM2|AOC2  \n",
       "54       13.100905           P4HA1|AGMAT|CNDP1|NOS1|ALDH4A1|DAO|P4HA2  \n",
       "56       19.563965                                         CNDP1|ASPA  "
      ]
     },
     "execution_count": 23,
     "metadata": {},
     "output_type": "execute_result"
    }
   ],
   "source": [
    "kegg_male_df"
   ]
  },
  {
   "cell_type": "code",
   "execution_count": 24,
   "metadata": {},
   "outputs": [
    {
     "data": {
      "text/plain": [
       "'DNM1|ATP6V0A2|ATP6V1C2|SLC6A9|SLC6A5|SLC6A7|ATP6V1H|RIMS1|ATP6V1A|SLC17A8'"
      ]
     },
     "execution_count": 24,
     "metadata": {},
     "output_type": "execute_result"
    }
   ],
   "source": [
    "kegg_male_df.iloc[3].genes"
   ]
  },
  {
   "cell_type": "markdown",
   "metadata": {},
   "source": [
    "## Pre-menopausal"
   ]
  },
  {
   "cell_type": "code",
   "execution_count": 25,
   "metadata": {},
   "outputs": [
    {
     "name": "stderr",
     "output_type": "stream",
     "text": [
      "/tmp/ipykernel_8774/3387058214.py:5: SettingWithCopyWarning: \n",
      "A value is trying to be set on a copy of a slice from a DataFrame.\n",
      "Try using .loc[row_indexer,col_indexer] = value instead\n",
      "\n",
      "See the caveats in the documentation: https://pandas.pydata.org/pandas-docs/stable/user_guide/indexing.html#returning-a-view-versus-a-copy\n",
      "  enrich_df[\"genes\"] = enrich_df.genes.apply(lambda x: \"|\".join(set(x.split(\"|\")).intersection(unique_genes)))\n"
     ]
    },
    {
     "data": {
      "text/html": [
       "<div>\n",
       "<style scoped>\n",
       "    .dataframe tbody tr th:only-of-type {\n",
       "        vertical-align: middle;\n",
       "    }\n",
       "\n",
       "    .dataframe tbody tr th {\n",
       "        vertical-align: top;\n",
       "    }\n",
       "\n",
       "    .dataframe thead th {\n",
       "        text-align: right;\n",
       "    }\n",
       "</style>\n",
       "<table border=\"1\" class=\"dataframe\">\n",
       "  <thead>\n",
       "    <tr style=\"text-align: right;\">\n",
       "      <th></th>\n",
       "      <th>Term</th>\n",
       "      <th>p_val</th>\n",
       "      <th>adj_pval</th>\n",
       "      <th>odds_ratio</th>\n",
       "      <th>combined_score</th>\n",
       "      <th>genes</th>\n",
       "    </tr>\n",
       "  </thead>\n",
       "  <tbody>\n",
       "    <tr>\n",
       "      <th>19</th>\n",
       "      <td>Pathways in cancer</td>\n",
       "      <td>0.000421</td>\n",
       "      <td>0.004844</td>\n",
       "      <td>2.421545</td>\n",
       "      <td>18.821218</td>\n",
       "      <td>AXIN1|FZD10|PLD2|PLCB2</td>\n",
       "    </tr>\n",
       "    <tr>\n",
       "      <th>20</th>\n",
       "      <td>Taste transduction</td>\n",
       "      <td>0.000774</td>\n",
       "      <td>0.008473</td>\n",
       "      <td>5.066890</td>\n",
       "      <td>36.301137</td>\n",
       "      <td>PLCB2</td>\n",
       "    </tr>\n",
       "    <tr>\n",
       "      <th>30</th>\n",
       "      <td>Endocrine and other factor-regulated calcium r...</td>\n",
       "      <td>0.002413</td>\n",
       "      <td>0.017899</td>\n",
       "      <td>5.854552</td>\n",
       "      <td>35.285844</td>\n",
       "      <td>PLCB2</td>\n",
       "    </tr>\n",
       "    <tr>\n",
       "      <th>37</th>\n",
       "      <td>Phagosome</td>\n",
       "      <td>0.004522</td>\n",
       "      <td>0.027372</td>\n",
       "      <td>3.272383</td>\n",
       "      <td>17.666748</td>\n",
       "      <td></td>\n",
       "    </tr>\n",
       "    <tr>\n",
       "      <th>40</th>\n",
       "      <td>Small cell lung cancer</td>\n",
       "      <td>0.005860</td>\n",
       "      <td>0.032874</td>\n",
       "      <td>3.925121</td>\n",
       "      <td>20.173480</td>\n",
       "      <td></td>\n",
       "    </tr>\n",
       "    <tr>\n",
       "      <th>41</th>\n",
       "      <td>Mismatch repair</td>\n",
       "      <td>0.007485</td>\n",
       "      <td>0.040989</td>\n",
       "      <td>8.391718</td>\n",
       "      <td>41.076320</td>\n",
       "      <td></td>\n",
       "    </tr>\n",
       "    <tr>\n",
       "      <th>42</th>\n",
       "      <td>Vitamin digestion and absorption</td>\n",
       "      <td>0.008444</td>\n",
       "      <td>0.045164</td>\n",
       "      <td>7.991674</td>\n",
       "      <td>38.154997</td>\n",
       "      <td></td>\n",
       "    </tr>\n",
       "    <tr>\n",
       "      <th>43</th>\n",
       "      <td>AGE-RAGE signaling pathway in diabetic complic...</td>\n",
       "      <td>0.008718</td>\n",
       "      <td>0.045569</td>\n",
       "      <td>3.589487</td>\n",
       "      <td>17.022861</td>\n",
       "      <td>PLCB2</td>\n",
       "    </tr>\n",
       "  </tbody>\n",
       "</table>\n",
       "</div>"
      ],
      "text/plain": [
       "                                                 Term     p_val  adj_pval  \\\n",
       "19                                 Pathways in cancer  0.000421  0.004844   \n",
       "20                                 Taste transduction  0.000774  0.008473   \n",
       "30  Endocrine and other factor-regulated calcium r...  0.002413  0.017899   \n",
       "37                                          Phagosome  0.004522  0.027372   \n",
       "40                             Small cell lung cancer  0.005860  0.032874   \n",
       "41                                    Mismatch repair  0.007485  0.040989   \n",
       "42                   Vitamin digestion and absorption  0.008444  0.045164   \n",
       "43  AGE-RAGE signaling pathway in diabetic complic...  0.008718  0.045569   \n",
       "\n",
       "    odds_ratio  combined_score                   genes  \n",
       "19    2.421545       18.821218  AXIN1|FZD10|PLD2|PLCB2  \n",
       "20    5.066890       36.301137                   PLCB2  \n",
       "30    5.854552       35.285844                   PLCB2  \n",
       "37    3.272383       17.666748                          \n",
       "40    3.925121       20.173480                          \n",
       "41    8.391718       41.076320                          \n",
       "42    7.991674       38.154997                          \n",
       "43    3.589487       17.022861                   PLCB2  "
      ]
     },
     "execution_count": 25,
     "metadata": {},
     "output_type": "execute_result"
    }
   ],
   "source": [
    "kegg_prem_df = pd.read_csv(kegg_enrich_files[2])\n",
    "get_unique_genes_from_terms(kegg_prem_df, kegg_unique_intersects, gene_unique_intersects, (('pre_menopause',), ('british_male', 'british_female', 'post_menopause')))"
   ]
  },
  {
   "cell_type": "markdown",
   "metadata": {},
   "source": [
    "# Post menopausal"
   ]
  },
  {
   "cell_type": "code",
   "execution_count": 26,
   "metadata": {},
   "outputs": [
    {
     "name": "stderr",
     "output_type": "stream",
     "text": [
      "/tmp/ipykernel_8774/3387058214.py:5: SettingWithCopyWarning: \n",
      "A value is trying to be set on a copy of a slice from a DataFrame.\n",
      "Try using .loc[row_indexer,col_indexer] = value instead\n",
      "\n",
      "See the caveats in the documentation: https://pandas.pydata.org/pandas-docs/stable/user_guide/indexing.html#returning-a-view-versus-a-copy\n",
      "  enrich_df[\"genes\"] = enrich_df.genes.apply(lambda x: \"|\".join(set(x.split(\"|\")).intersection(unique_genes)))\n"
     ]
    }
   ],
   "source": [
    "kegg_post_df = pd.read_csv(kegg_enrich_files[3])\n",
    "pm_df = get_unique_genes_from_terms(kegg_post_df, kegg_unique_intersects, gene_unique_intersects, (('post_menopause',), ('british_male', 'british_female', 'pre_menopause')))"
   ]
  },
  {
   "cell_type": "code",
   "execution_count": 27,
   "metadata": {},
   "outputs": [
    {
     "data": {
      "text/html": [
       "<div>\n",
       "<style scoped>\n",
       "    .dataframe tbody tr th:only-of-type {\n",
       "        vertical-align: middle;\n",
       "    }\n",
       "\n",
       "    .dataframe tbody tr th {\n",
       "        vertical-align: top;\n",
       "    }\n",
       "\n",
       "    .dataframe thead th {\n",
       "        text-align: right;\n",
       "    }\n",
       "</style>\n",
       "<table border=\"1\" class=\"dataframe\">\n",
       "  <thead>\n",
       "    <tr style=\"text-align: right;\">\n",
       "      <th></th>\n",
       "      <th>Term</th>\n",
       "      <th>p_val</th>\n",
       "      <th>adj_pval</th>\n",
       "      <th>odds_ratio</th>\n",
       "      <th>combined_score</th>\n",
       "      <th>genes</th>\n",
       "    </tr>\n",
       "  </thead>\n",
       "  <tbody>\n",
       "    <tr>\n",
       "      <th>20</th>\n",
       "      <td>Pentose phosphate pathway</td>\n",
       "      <td>0.000058</td>\n",
       "      <td>0.000857</td>\n",
       "      <td>5.930007</td>\n",
       "      <td>57.843527</td>\n",
       "      <td>GPI|FBP2|PGM1|PFKL|PFKP</td>\n",
       "    </tr>\n",
       "    <tr>\n",
       "      <th>23</th>\n",
       "      <td>Regulation of actin cytoskeleton</td>\n",
       "      <td>0.000143</td>\n",
       "      <td>0.001845</td>\n",
       "      <td>2.164588</td>\n",
       "      <td>19.162362</td>\n",
       "      <td>PAK6|PDGFRA|GNA13|PPP1CC|EZR|ACTN4|PAK4|APC2|I...</td>\n",
       "    </tr>\n",
       "    <tr>\n",
       "      <th>24</th>\n",
       "      <td>Insulin signaling pathway</td>\n",
       "      <td>0.000149</td>\n",
       "      <td>0.001845</td>\n",
       "      <td>2.529797</td>\n",
       "      <td>22.295616</td>\n",
       "      <td>PRKAR1B|HKDC1|GYS2|FBP2|PYGL|PHKG1|PDE3B|PPP1C...</td>\n",
       "    </tr>\n",
       "    <tr>\n",
       "      <th>33</th>\n",
       "      <td>AMPK signaling pathway</td>\n",
       "      <td>0.000381</td>\n",
       "      <td>0.003477</td>\n",
       "      <td>2.523383</td>\n",
       "      <td>19.863784</td>\n",
       "      <td>CREB3L3|CD36|GYS2|FBP2|MTOR|INSR|PFKL|IGF1R|ML...</td>\n",
       "    </tr>\n",
       "    <tr>\n",
       "      <th>38</th>\n",
       "      <td>MicroRNAs in cancer</td>\n",
       "      <td>0.000667</td>\n",
       "      <td>0.005299</td>\n",
       "      <td>2.204456</td>\n",
       "      <td>16.121561</td>\n",
       "      <td>SERPINB5|PDGFRA|DNMT1|CYP1B1|EZR|MTOR|PAK4|APC...</td>\n",
       "    </tr>\n",
       "    <tr>\n",
       "      <th>42</th>\n",
       "      <td>Inositol phosphate metabolism</td>\n",
       "      <td>0.001391</td>\n",
       "      <td>0.009822</td>\n",
       "      <td>2.815632</td>\n",
       "      <td>18.520171</td>\n",
       "      <td>PI4K2B|INPP5J|SYNJ1|INPP5K|MTMR8</td>\n",
       "    </tr>\n",
       "    <tr>\n",
       "      <th>46</th>\n",
       "      <td>Insulin resistance</td>\n",
       "      <td>0.001722</td>\n",
       "      <td>0.011358</td>\n",
       "      <td>2.375470</td>\n",
       "      <td>15.118200</td>\n",
       "      <td>CREB3L3|GYS2|CD36|PYGL|PPP1CC|MTOR|INSR|NOS3</td>\n",
       "    </tr>\n",
       "    <tr>\n",
       "      <th>48</th>\n",
       "      <td>Proteoglycans in cancer</td>\n",
       "      <td>0.002020</td>\n",
       "      <td>0.012693</td>\n",
       "      <td>1.926409</td>\n",
       "      <td>11.952235</td>\n",
       "      <td>WNT16|WNT2|FZD2|WNT10A|ITPR3|MTOR|PPP1CC|EZR|R...</td>\n",
       "    </tr>\n",
       "    <tr>\n",
       "      <th>49</th>\n",
       "      <td>Melanogenesis</td>\n",
       "      <td>0.002047</td>\n",
       "      <td>0.012693</td>\n",
       "      <td>2.402921</td>\n",
       "      <td>14.877008</td>\n",
       "      <td>ADCY8|WNT16|WNT2|CREB3L3|FZD2|WNT10A|LEF1|TYRP...</td>\n",
       "    </tr>\n",
       "    <tr>\n",
       "      <th>50</th>\n",
       "      <td>Growth hormone synthesis secretion and action</td>\n",
       "      <td>0.002176</td>\n",
       "      <td>0.013226</td>\n",
       "      <td>2.256946</td>\n",
       "      <td>13.835870</td>\n",
       "      <td>GHSR|CREB3L3|ADCY8|GHR|ITPR3|MTOR|ITPR1|ADCY1</td>\n",
       "    </tr>\n",
       "    <tr>\n",
       "      <th>52</th>\n",
       "      <td>Vascular smooth muscle contraction</td>\n",
       "      <td>0.002905</td>\n",
       "      <td>0.016991</td>\n",
       "      <td>2.140410</td>\n",
       "      <td>12.502897</td>\n",
       "      <td>ACTG2|ADCY8|GNA13|PLA2G4D|ITPR3|PPP1CC|ITPR1|A...</td>\n",
       "    </tr>\n",
       "    <tr>\n",
       "      <th>57</th>\n",
       "      <td>Tyrosine metabolism</td>\n",
       "      <td>0.004781</td>\n",
       "      <td>0.025552</td>\n",
       "      <td>3.507779</td>\n",
       "      <td>18.742705</td>\n",
       "      <td>GOT1L1|AOC3|TYRP1|ALDH3A1</td>\n",
       "    </tr>\n",
       "    <tr>\n",
       "      <th>68</th>\n",
       "      <td>Platelet activation</td>\n",
       "      <td>0.007159</td>\n",
       "      <td>0.032057</td>\n",
       "      <td>2.034326</td>\n",
       "      <td>10.048265</td>\n",
       "      <td>ADCY8|PTGS1|FGA|GNA13|PLA2G4D|ITPR3|PPP1CC|ITP...</td>\n",
       "    </tr>\n",
       "    <tr>\n",
       "      <th>69</th>\n",
       "      <td>Citrate cycle (TCA cycle)</td>\n",
       "      <td>0.007239</td>\n",
       "      <td>0.032057</td>\n",
       "      <td>3.601449</td>\n",
       "      <td>17.749138</td>\n",
       "      <td>IDH2|SUCLG2</td>\n",
       "    </tr>\n",
       "    <tr>\n",
       "      <th>70</th>\n",
       "      <td>Phenylalanine metabolism</td>\n",
       "      <td>0.008095</td>\n",
       "      <td>0.035343</td>\n",
       "      <td>4.926911</td>\n",
       "      <td>23.730703</td>\n",
       "      <td>GOT1L1|AOC3|ALDH3A1</td>\n",
       "    </tr>\n",
       "    <tr>\n",
       "      <th>72</th>\n",
       "      <td>Pathogenic Escherichia coli infection</td>\n",
       "      <td>0.009824</td>\n",
       "      <td>0.041510</td>\n",
       "      <td>1.746993</td>\n",
       "      <td>8.076160</td>\n",
       "      <td>MYO1B|TNFRSF10A|MYO1G|CLDN14|WIPF1|GNA13|EZR|M...</td>\n",
       "    </tr>\n",
       "    <tr>\n",
       "      <th>77</th>\n",
       "      <td>Malaria</td>\n",
       "      <td>0.011063</td>\n",
       "      <td>0.043969</td>\n",
       "      <td>2.731994</td>\n",
       "      <td>12.305263</td>\n",
       "      <td>CD36|CR1|HGF</td>\n",
       "    </tr>\n",
       "  </tbody>\n",
       "</table>\n",
       "</div>"
      ],
      "text/plain": [
       "                                             Term     p_val  adj_pval  \\\n",
       "20                      Pentose phosphate pathway  0.000058  0.000857   \n",
       "23               Regulation of actin cytoskeleton  0.000143  0.001845   \n",
       "24                      Insulin signaling pathway  0.000149  0.001845   \n",
       "33                         AMPK signaling pathway  0.000381  0.003477   \n",
       "38                            MicroRNAs in cancer  0.000667  0.005299   \n",
       "42                  Inositol phosphate metabolism  0.001391  0.009822   \n",
       "46                             Insulin resistance  0.001722  0.011358   \n",
       "48                        Proteoglycans in cancer  0.002020  0.012693   \n",
       "49                                  Melanogenesis  0.002047  0.012693   \n",
       "50  Growth hormone synthesis secretion and action  0.002176  0.013226   \n",
       "52             Vascular smooth muscle contraction  0.002905  0.016991   \n",
       "57                            Tyrosine metabolism  0.004781  0.025552   \n",
       "68                            Platelet activation  0.007159  0.032057   \n",
       "69                      Citrate cycle (TCA cycle)  0.007239  0.032057   \n",
       "70                       Phenylalanine metabolism  0.008095  0.035343   \n",
       "72          Pathogenic Escherichia coli infection  0.009824  0.041510   \n",
       "77                                        Malaria  0.011063  0.043969   \n",
       "\n",
       "    odds_ratio  combined_score  \\\n",
       "20    5.930007       57.843527   \n",
       "23    2.164588       19.162362   \n",
       "24    2.529797       22.295616   \n",
       "33    2.523383       19.863784   \n",
       "38    2.204456       16.121561   \n",
       "42    2.815632       18.520171   \n",
       "46    2.375470       15.118200   \n",
       "48    1.926409       11.952235   \n",
       "49    2.402921       14.877008   \n",
       "50    2.256946       13.835870   \n",
       "52    2.140410       12.502897   \n",
       "57    3.507779       18.742705   \n",
       "68    2.034326       10.048265   \n",
       "69    3.601449       17.749138   \n",
       "70    4.926911       23.730703   \n",
       "72    1.746993        8.076160   \n",
       "77    2.731994       12.305263   \n",
       "\n",
       "                                                genes  \n",
       "20                            GPI|FBP2|PGM1|PFKL|PFKP  \n",
       "23  PAK6|PDGFRA|GNA13|PPP1CC|EZR|ACTN4|PAK4|APC2|I...  \n",
       "24  PRKAR1B|HKDC1|GYS2|FBP2|PYGL|PHKG1|PDE3B|PPP1C...  \n",
       "33  CREB3L3|CD36|GYS2|FBP2|MTOR|INSR|PFKL|IGF1R|ML...  \n",
       "38  SERPINB5|PDGFRA|DNMT1|CYP1B1|EZR|MTOR|PAK4|APC...  \n",
       "42                   PI4K2B|INPP5J|SYNJ1|INPP5K|MTMR8  \n",
       "46       CREB3L3|GYS2|CD36|PYGL|PPP1CC|MTOR|INSR|NOS3  \n",
       "48  WNT16|WNT2|FZD2|WNT10A|ITPR3|MTOR|PPP1CC|EZR|R...  \n",
       "49  ADCY8|WNT16|WNT2|CREB3L3|FZD2|WNT10A|LEF1|TYRP...  \n",
       "50      GHSR|CREB3L3|ADCY8|GHR|ITPR3|MTOR|ITPR1|ADCY1  \n",
       "52  ACTG2|ADCY8|GNA13|PLA2G4D|ITPR3|PPP1CC|ITPR1|A...  \n",
       "57                          GOT1L1|AOC3|TYRP1|ALDH3A1  \n",
       "68  ADCY8|PTGS1|FGA|GNA13|PLA2G4D|ITPR3|PPP1CC|ITP...  \n",
       "69                                        IDH2|SUCLG2  \n",
       "70                                GOT1L1|AOC3|ALDH3A1  \n",
       "72  MYO1B|TNFRSF10A|MYO1G|CLDN14|WIPF1|GNA13|EZR|M...  \n",
       "77                                       CD36|CR1|HGF  "
      ]
     },
     "execution_count": 27,
     "metadata": {},
     "output_type": "execute_result"
    }
   ],
   "source": [
    "pm_df"
   ]
  },
  {
   "cell_type": "code",
   "execution_count": 28,
   "metadata": {},
   "outputs": [
    {
     "data": {
      "text/plain": [
       "'CREB3L3|CD36|GYS2|FBP2|MTOR|INSR|PFKL|IGF1R|MLYCD|PFKP'"
      ]
     },
     "execution_count": 28,
     "metadata": {},
     "output_type": "execute_result"
    }
   ],
   "source": [
    "pm_df.iloc[3].genes"
   ]
  },
  {
   "cell_type": "markdown",
   "metadata": {},
   "source": []
  }
 ],
 "metadata": {
  "kernelspec": {
   "display_name": "Python 3",
   "language": "python",
   "name": "python3"
  },
  "language_info": {
   "codemirror_mode": {
    "name": "ipython",
    "version": 3
   },
   "file_extension": ".py",
   "mimetype": "text/x-python",
   "name": "python",
   "nbconvert_exporter": "python",
   "pygments_lexer": "ipython3",
   "version": "3.11.4"
  }
 },
 "nbformat": 4,
 "nbformat_minor": 2
}
