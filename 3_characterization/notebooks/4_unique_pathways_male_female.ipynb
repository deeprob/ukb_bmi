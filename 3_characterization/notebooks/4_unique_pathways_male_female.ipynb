{
 "cells": [
  {
   "cell_type": "code",
   "execution_count": 1,
   "metadata": {},
   "outputs": [],
   "source": [
    "import pandas as pd"
   ]
  },
  {
   "cell_type": "code",
   "execution_count": 9,
   "metadata": {},
   "outputs": [],
   "source": [
    "male_file = \"/data6/deepro/ukb_bmi/3_characterization/data/enrichment/british_male/GO_Biological_Process_2023_enrich.csv\"\n",
    "female_file = \"/data6/deepro/ukb_bmi/3_characterization/data/enrichment/british_female/GO_Biological_Process_2023_enrich.csv\""
   ]
  },
  {
   "cell_type": "code",
   "execution_count": 10,
   "metadata": {},
   "outputs": [],
   "source": [
    "male_df = pd.read_csv(male_file)\n",
    "female_df = pd.read_csv(female_file)"
   ]
  },
  {
   "cell_type": "code",
   "execution_count": 11,
   "metadata": {},
   "outputs": [],
   "source": [
    "male_df = male_df.loc[male_df.adj_pval<0.05]\n",
    "female_df = female_df.loc[female_df.adj_pval<0.05]"
   ]
  },
  {
   "cell_type": "code",
   "execution_count": 12,
   "metadata": {},
   "outputs": [],
   "source": [
    "male_terms = set(male_df.Term.values)"
   ]
  },
  {
   "cell_type": "code",
   "execution_count": 13,
   "metadata": {},
   "outputs": [],
   "source": [
    "female_terms = set(female_df.Term.values)"
   ]
  },
  {
   "cell_type": "code",
   "execution_count": 14,
   "metadata": {},
   "outputs": [
    {
     "data": {
      "text/plain": [
       "{'Actin Filament Organization (GO:0007015)',\n",
       " 'Adult Heart Development (GO:0007512)',\n",
       " 'Branching Involved In Blood Vessel Morphogenesis (GO:0001569)',\n",
       " 'Cardiac Cell Development (GO:0055006)',\n",
       " 'Cardiac Muscle Cell Development (GO:0055013)',\n",
       " 'Cardiac Muscle Cell Differentiation (GO:0055007)',\n",
       " 'Cardiac Muscle Contraction (GO:0060048)',\n",
       " 'Cardiac Muscle Tissue Development (GO:0048738)',\n",
       " 'Cardiac Muscle Tissue Morphogenesis (GO:0055008)',\n",
       " 'Cell Communication By Electrical Coupling Involved In Cardiac Conduction (GO:0086064)',\n",
       " 'Cellular Glucuronidation (GO:0052695)',\n",
       " 'Cellular Response To Caffeine (GO:0071313)',\n",
       " 'Cilium Movement (GO:0003341)',\n",
       " 'Collagen Fibril Organization (GO:0030199)',\n",
       " 'Detection Of Light Stimulus Involved In Sensory Perception (GO:0050962)',\n",
       " 'Detection Of Light Stimulus Involved In Visual Perception (GO:0050908)',\n",
       " 'Detection Of Visible Light (GO:0009584)',\n",
       " 'Determination Of Heart Left/Right Asymmetry (GO:0061371)',\n",
       " 'Embryonic Heart Tube Morphogenesis (GO:0003143)',\n",
       " 'Eye Photoreceptor Cell Differentiation (GO:0001754)',\n",
       " 'Fatty Acid Metabolic Process (GO:0006631)',\n",
       " 'Glucuronate Metabolic Process (GO:0019585)',\n",
       " 'Heart Contraction (GO:0060047)',\n",
       " 'Heart Development (GO:0007507)',\n",
       " 'Heart Looping (GO:0001947)',\n",
       " 'Heart Morphogenesis (GO:0003007)',\n",
       " 'Integrin-Mediated Signaling Pathway (GO:0007229)',\n",
       " 'Monocarboxylic Acid Metabolic Process (GO:0032787)',\n",
       " 'Myofibril Assembly (GO:0030239)',\n",
       " 'Neuronal Ion Channel Clustering (GO:0045161)',\n",
       " 'Notch Signaling Pathway (GO:0007219)',\n",
       " 'Positive Regulation Of Potassium Ion Transport (GO:0043268)',\n",
       " 'Potassium Ion Import Across Plasma Membrane (GO:1990573)',\n",
       " 'Potassium Ion Transmembrane Transport (GO:0071805)',\n",
       " 'Potassium Ion Transport (GO:0006813)',\n",
       " 'Proteolysis (GO:0006508)',\n",
       " 'Regulation Of Heart Contraction (GO:0008016)',\n",
       " 'Response To Caffeine (GO:0031000)',\n",
       " 'Sarcomere Organization (GO:0045214)',\n",
       " 'Sodium Ion Homeostasis (GO:0055078)',\n",
       " 'Somatic Hypermutation Of Immunoglobulin Genes (GO:0016446)',\n",
       " 'Striated Muscle Hypertrophy (GO:0014897)',\n",
       " 'Tyrosine Metabolic Process (GO:0006570)',\n",
       " 'Ventricular Cardiac Muscle Tissue Morphogenesis (GO:0055010)',\n",
       " 'Visual Perception (GO:0007601)',\n",
       " 'Xenobiotic Glucuronidation (GO:0052697)'}"
      ]
     },
     "execution_count": 14,
     "metadata": {},
     "output_type": "execute_result"
    }
   ],
   "source": [
    "female_terms.difference(male_terms)"
   ]
  },
  {
   "cell_type": "code",
   "execution_count": 15,
   "metadata": {},
   "outputs": [
    {
     "data": {
      "text/plain": [
       "{'Amino Acid Catabolic Process (GO:0009063)',\n",
       " 'Aortic Valve Development (GO:0003176)',\n",
       " 'Aortic Valve Morphogenesis (GO:0003180)',\n",
       " 'Calcium Ion Transmembrane Transport (GO:0070588)',\n",
       " 'Calcium Ion Transport (GO:0006816)',\n",
       " 'Carnitine Metabolic Process (GO:0009437)',\n",
       " 'Chemical Synaptic Transmission (GO:0007268)',\n",
       " 'Chloride Transmembrane Transport (GO:1902476)',\n",
       " 'Chloride Transport (GO:0006821)',\n",
       " 'DNA Metabolic Process (GO:0006259)',\n",
       " 'DNA Repair (GO:0006281)',\n",
       " 'Detection Of Mechanical Stimulus (GO:0050982)',\n",
       " 'Epithelial Cell Differentiation (GO:0030855)',\n",
       " 'Fatty Acid Beta-Oxidation (GO:0006635)',\n",
       " 'Glucan Catabolic Process (GO:0009251)',\n",
       " 'Homocysteine Metabolic Process (GO:0050667)',\n",
       " 'Icosanoid Transport (GO:0071715)',\n",
       " 'Inorganic Anion Transmembrane Transport (GO:0098661)',\n",
       " 'Intermediate Filament Organization (GO:0045109)',\n",
       " 'Leukotriene Transport (GO:0071716)',\n",
       " 'Lipid Transport (GO:0006869)',\n",
       " 'Maintenance Of DNA Repeat Elements (GO:0043570)',\n",
       " 'Metal Ion Transport (GO:0030001)',\n",
       " 'Mismatch Repair (GO:0006298)',\n",
       " 'Modulation Of Chemical Synaptic Transmission (GO:0050804)',\n",
       " 'Monoatomic Anion Transmembrane Transport (GO:0098656)',\n",
       " 'Monoatomic Anion Transport (GO:0006820)',\n",
       " 'Monoatomic Cation Transport (GO:0006812)',\n",
       " 'Monoatomic Ion Transport (GO:0006811)',\n",
       " 'Muscle Organ Development (GO:0007517)',\n",
       " 'Neuron Projection Guidance (GO:0097485)',\n",
       " 'Nitrogen Compound Transport (GO:0071705)',\n",
       " 'Organic Anion Transport (GO:0015711)',\n",
       " 'Pulmonary Valve Development (GO:0003177)',\n",
       " 'Pulmonary Valve Morphogenesis (GO:0003184)',\n",
       " 'Purine Ribonucleoside Triphosphate Metabolic Process (GO:0009205)',\n",
       " 'Pyruvate Metabolic Process (GO:0006090)',\n",
       " 'Receptor Recycling (GO:0001881)',\n",
       " 'Release Of Sequestered Calcium Ion Into Cytosol By Sarcoplasmic Reticulum (GO:0014808)',\n",
       " 'Response To Lipid (GO:0033993)',\n",
       " 'Sensory Perception (GO:0007600)',\n",
       " 'Sulfur Compound Transport (GO:0072348)',\n",
       " 'Xenobiotic Transport (GO:0042908)',\n",
       " 'Xenobiotic Transport Across Blood-Brain Barrier (GO:1990962)',\n",
       " 'tRNA Aminoacylation (GO:0043039)',\n",
       " 'tRNA Aminoacylation For Protein Translation (GO:0006418)'}"
      ]
     },
     "execution_count": 15,
     "metadata": {},
     "output_type": "execute_result"
    }
   ],
   "source": [
    "male_terms.difference(female_terms)"
   ]
  },
  {
   "cell_type": "code",
   "execution_count": null,
   "metadata": {},
   "outputs": [],
   "source": []
  }
 ],
 "metadata": {
  "kernelspec": {
   "display_name": "Python 3",
   "language": "python",
   "name": "python3"
  },
  "language_info": {
   "codemirror_mode": {
    "name": "ipython",
    "version": 3
   },
   "file_extension": ".py",
   "mimetype": "text/x-python",
   "name": "python",
   "nbconvert_exporter": "python",
   "pygments_lexer": "ipython3",
   "version": "3.11.4"
  }
 },
 "nbformat": 4,
 "nbformat_minor": 2
}
