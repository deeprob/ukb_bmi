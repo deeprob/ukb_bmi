{
 "cells": [
  {
   "cell_type": "code",
   "execution_count": 1,
   "metadata": {},
   "outputs": [],
   "source": [
    "import pandas as pd\n",
    "import numpy as np\n",
    "from scipy.stats import kstest,ttest_ind, ks_2samp\n",
    "import seaborn as sns\n",
    "from matplotlib.ticker import MultipleLocator\n",
    "import matplotlib\n",
    "import matplotlib.pyplot as plt\n",
    "matplotlib.rcParams['pdf.fonttype'] = 42\n",
    "matplotlib.rcParams['ps.fonttype'] = 42\n",
    "matplotlib.rcParams.update({'font.size': 14, 'axes.linewidth': 2, 'xtick.major.width': 1.5, 'xtick.major.size': 7, 'ytick.major.width': 1.5, 'ytick.major.size': 7})\n",
    "from matplotlib.backends.backend_pdf import PdfPages"
   ]
  },
  {
   "cell_type": "code",
   "execution_count": 2,
   "metadata": {},
   "outputs": [],
   "source": [
    "def save_pdf(save_file, fig):\n",
    "    pdf = PdfPages(save_file)\n",
    "    pdf.savefig(fig, bbox_inches='tight')\n",
    "    pdf.close()\n",
    "    return"
   ]
  },
  {
   "cell_type": "code",
   "execution_count": 3,
   "metadata": {},
   "outputs": [],
   "source": [
    "cohort_file = \"/data6/deepro/ukb_bmi/0_data_preparation_and_download/phenotype/data/bmi_processed/british/test_cohort_bmi.csv.gz\"\n",
    "combo_samples_file = \"/data6/deepro/ukb_bmi/3_characterization/data/combos_in_cohort/british/BH_001/test_cohort.csv\""
   ]
  },
  {
   "cell_type": "code",
   "execution_count": 4,
   "metadata": {},
   "outputs": [],
   "source": [
    "cohort_df = pd.read_csv(cohort_file, usecols=[\"sample_names\", \"bmi\", \"bmi_prs\"])"
   ]
  },
  {
   "cell_type": "code",
   "execution_count": null,
   "metadata": {},
   "outputs": [],
   "source": []
  },
  {
   "cell_type": "code",
   "execution_count": 5,
   "metadata": {},
   "outputs": [],
   "source": [
    "combo_samples_df = pd.read_csv(combo_samples_file)"
   ]
  },
  {
   "cell_type": "code",
   "execution_count": 6,
   "metadata": {},
   "outputs": [],
   "source": [
    "all_combo_samples = set(\"|\".join(combo_samples_df.combo_samples.values).split(\"|\"))"
   ]
  },
  {
   "cell_type": "code",
   "execution_count": 7,
   "metadata": {},
   "outputs": [],
   "source": [
    "cohort_df[\"combo_carriers\"] = cohort_df.sample_names.astype(str).isin(all_combo_samples)"
   ]
  },
  {
   "cell_type": "code",
   "execution_count": null,
   "metadata": {},
   "outputs": [],
   "source": []
  },
  {
   "attachments": {},
   "cell_type": "markdown",
   "metadata": {},
   "source": [
    "# BMI comparison between individuals with and without the combinations in a non-white british cohort"
   ]
  },
  {
   "cell_type": "code",
   "execution_count": 8,
   "metadata": {},
   "outputs": [
    {
     "data": {
      "text/plain": [
       "(TtestResult(statistic=-11.700860883292856, pvalue=6.836732438573906e-32, df=59016.0),\n",
       " KstestResult(statistic=0.07680977722230231, pvalue=9.81347100791064e-20, statistic_location=26.8738, statistic_sign=-1))"
      ]
     },
     "execution_count": 8,
     "metadata": {},
     "output_type": "execute_result"
    }
   ],
   "source": [
    "combo_hit_pheno = cohort_df.loc[cohort_df.combo_carriers==True]\n",
    "non_combo_hit_pheno = cohort_df.loc[cohort_df.combo_carriers==False]\n",
    "\n",
    "ttest_ind(non_combo_hit_pheno.bmi, combo_hit_pheno.bmi, alternative=\"less\"), ks_2samp(combo_hit_pheno.bmi, non_combo_hit_pheno.bmi, alternative=\"less\")"
   ]
  },
  {
   "cell_type": "code",
   "execution_count": 9,
   "metadata": {},
   "outputs": [],
   "source": [
    "ttest_pval = ttest_ind(non_combo_hit_pheno.bmi, combo_hit_pheno.bmi, alternative=\"less\").pvalue"
   ]
  },
  {
   "cell_type": "code",
   "execution_count": null,
   "metadata": {},
   "outputs": [],
   "source": []
  },
  {
   "cell_type": "code",
   "execution_count": 10,
   "metadata": {},
   "outputs": [
    {
     "data": {
      "text/plain": [
       "count    3972.000000\n",
       "mean       28.412557\n",
       "std         5.348140\n",
       "min        16.080400\n",
       "25%        24.802700\n",
       "50%        27.611400\n",
       "75%        31.078350\n",
       "max        68.129900\n",
       "Name: bmi, dtype: float64"
      ]
     },
     "execution_count": 10,
     "metadata": {},
     "output_type": "execute_result"
    }
   ],
   "source": [
    "combo_hit_pheno.bmi.describe()"
   ]
  },
  {
   "cell_type": "code",
   "execution_count": 11,
   "metadata": {},
   "outputs": [
    {
     "data": {
      "text/plain": [
       "count    55046.000000\n",
       "mean        27.454781\n",
       "std          4.954762\n",
       "min         13.912300\n",
       "25%         24.050900\n",
       "50%         26.759150\n",
       "75%         30.023800\n",
       "max         68.319400\n",
       "Name: bmi, dtype: float64"
      ]
     },
     "execution_count": 11,
     "metadata": {},
     "output_type": "execute_result"
    }
   ],
   "source": [
    "non_combo_hit_pheno.bmi.describe()"
   ]
  },
  {
   "cell_type": "code",
   "execution_count": 12,
   "metadata": {},
   "outputs": [
    {
     "data": {
      "text/plain": [
       "count    52673.000000\n",
       "mean        -0.084470\n",
       "std          0.994415\n",
       "min         -4.603130\n",
       "25%         -0.758060\n",
       "50%         -0.086184\n",
       "75%          0.584465\n",
       "max          4.331770\n",
       "Name: bmi_prs, dtype: float64"
      ]
     },
     "execution_count": 12,
     "metadata": {},
     "output_type": "execute_result"
    }
   ],
   "source": [
    "non_combo_hit_pheno.bmi_prs.describe()"
   ]
  },
  {
   "cell_type": "code",
   "execution_count": 13,
   "metadata": {},
   "outputs": [
    {
     "data": {
      "text/plain": [
       "count    3957.000000\n",
       "mean       -0.040431\n",
       "std         0.998207\n",
       "min        -3.685680\n",
       "25%        -0.706591\n",
       "50%        -0.031089\n",
       "75%         0.634259\n",
       "max         3.271170\n",
       "Name: bmi_prs, dtype: float64"
      ]
     },
     "execution_count": 13,
     "metadata": {},
     "output_type": "execute_result"
    }
   ],
   "source": [
    "combo_hit_pheno.bmi_prs.describe()"
   ]
  },
  {
   "cell_type": "code",
   "execution_count": 14,
   "metadata": {},
   "outputs": [
    {
     "name": "stderr",
     "output_type": "stream",
     "text": [
      "/tmp/ipykernel_99282/1508290031.py:34: UserWarning: FixedFormatter should only be used together with FixedLocator\n",
      "  ax.set_xticklabels([\"Non\\ncarrier\", \"Carrier\"], rotation=45, ha=\"center\", fontsize=14)\n"
     ]
    },
    {
     "data": {
      "image/png": "[encoded data removed]",
      "text/plain": [
       "<Figure size 200x600 with 1 Axes>"
      ]
     },
     "metadata": {},
     "output_type": "display_data"
    }
   ],
   "source": [
    "boxdf = cohort_df\n",
    "\n",
    "# Define Canvas\n",
    "fig,ax = plt.subplots(1, 1, figsize=(2, 6))\n",
    "\n",
    "# Box Plot\n",
    "# sns_strip = sns.stripplot(\n",
    "#     data=boxdf,\n",
    "#     palette=[\"#00ADEE\", \"#c1272d\", ],  # '#D1245D', '#00ADEE', '#D1245D', '#00ADEE' \"#0000a7\"\n",
    "#     x=\"vtype\",\n",
    "#     y=\"bmi\",\n",
    "#     order=[\"No combinations\", \"Combinations\"],\n",
    "#     hue_order=[\"No combinations\", \"Combinations\"],\n",
    "#     orient=\"v\",\n",
    "#     s=1,\n",
    "#     marker=\"o\",\n",
    "#     # fillstyle=\"none\",\n",
    "#     alpha=0.5, ec='black', linewidth=0, facecolor=(0,0,0,0), dodge=False, ax=ax,  jitter=0.25, \n",
    "#     )\n",
    "\n",
    "sns_box = sns.boxplot(\n",
    "    data=boxdf,\n",
    "    x=\"combo_carriers\",\n",
    "    y=\"bmi\",\n",
    "    order=[False, True],\n",
    "    hue_order=[False,True],\n",
    "    dodge=False, width=0.5, linewidth=2.25, fliersize=0, capprops={'color':'none'}, boxprops={'facecolor':'none', 'edgecolor':'k'}, whiskerprops={'color':'k'}, medianprops={'color':'k'}) # \n",
    "\n",
    "\n",
    "# Adjust Axis\n",
    "# ax.set_yticks([-0.02, 0, 0.02, 0.04])\n",
    "ax.set_ylim((10, 45))\n",
    "# ax.set_ylabel('Percentage')\n",
    "ax.set_xticklabels([\"Non\\ncarrier\", \"Carrier\"], rotation=45, ha=\"center\", fontsize=14)\n",
    "ax.set_xlabel(\"\")\n",
    "ax.hlines(42, 0, 1, color=\"k\")\n",
    "ax.text(0.5, 43, f\"P = {ttest_pval:.2E}\", ha=\"center\", va=\"bottom\", fontsize=14)\n",
    "\n",
    "# Remove Spines\n",
    "ax.spines['right'].set_visible(False)\n",
    "ax.spines['top'].set_visible(False);"
   ]
  },
  {
   "cell_type": "code",
   "execution_count": null,
   "metadata": {},
   "outputs": [],
   "source": []
  },
  {
   "cell_type": "code",
   "execution_count": null,
   "metadata": {},
   "outputs": [],
   "source": []
  },
  {
   "cell_type": "code",
   "execution_count": 13,
   "metadata": {},
   "outputs": [],
   "source": [
    "# save_file = \"/data6/deepro/ukb_bmi/3_characterization/data/british/nonbritish_comparison.pdf\"\n",
    "# save_pdf(save_file, fig)"
   ]
  },
  {
   "cell_type": "code",
   "execution_count": 14,
   "metadata": {},
   "outputs": [
    {
     "name": "stderr",
     "output_type": "stream",
     "text": [
      "/tmp/ipykernel_63618/2979089414.py:34: UserWarning: set_ticklabels() should only be used with a fixed number of ticks, i.e. after set_ticks() or using a FixedLocator.\n",
      "  ax.set_xticklabels([\"Non\\ncarrier\", \"Carrier\"], rotation=45, ha=\"center\", fontsize=14)\n"
     ]
    },
    {
     "data": {
      "image/png": "[encoded data removed]",
      "text/plain": [
       "<Figure size 200x600 with 1 Axes>"
      ]
     },
     "metadata": {},
     "output_type": "display_data"
    }
   ],
   "source": [
    "boxdf = cohort_df\n",
    "\n",
    "# Define Canvas\n",
    "fig,ax = plt.subplots(1, 1, figsize=(2, 6))\n",
    "\n",
    "# Box Plot\n",
    "# sns_strip = sns.stripplot(\n",
    "#     data=boxdf,\n",
    "#     palette=[\"#00ADEE\", \"#c1272d\", ],  # '#D1245D', '#00ADEE', '#D1245D', '#00ADEE' \"#0000a7\"\n",
    "#     x=\"vtype\",\n",
    "#     y=\"bmi\",\n",
    "#     order=[\"No combinations\", \"Combinations\"],\n",
    "#     hue_order=[\"No combinations\", \"Combinations\"],\n",
    "#     orient=\"v\",\n",
    "#     s=1,\n",
    "#     marker=\"o\",\n",
    "#     # fillstyle=\"none\",\n",
    "#     alpha=0.5, ec='black', linewidth=0, facecolor=(0,0,0,0), dodge=False, ax=ax,  jitter=0.25, \n",
    "#     )\n",
    "\n",
    "sns_box = sns.boxplot(\n",
    "    data=boxdf,\n",
    "    x=\"combo_carriers\",\n",
    "    y=\"bmi_prs\",\n",
    "    order=[False, True],\n",
    "    hue_order=[False,True],\n",
    "    dodge=False, width=0.5, linewidth=2.25, fliersize=0, capprops={'color':'none'}, boxprops={'facecolor':'none', 'edgecolor':'k'}, whiskerprops={'color':'k'}, medianprops={'color':'k'}) # \n",
    "\n",
    "\n",
    "# Adjust Axis\n",
    "# ax.set_yticks([-0.02, 0, 0.02, 0.04])\n",
    "# ax.set_ylim((10, 45))\n",
    "# ax.set_ylabel('Percentage')\n",
    "ax.set_xticklabels([\"Non\\ncarrier\", \"Carrier\"], rotation=45, ha=\"center\", fontsize=14)\n",
    "ax.set_xlabel(\"\")\n",
    "# ax.hlines(42, 0, 1, color=\"k\")\n",
    "# ax.text(0.5, 43, f\"P = {ttest_pval:.2E}\", ha=\"center\", va=\"bottom\", fontsize=14)\n",
    "\n",
    "# Remove Spines\n",
    "ax.spines['right'].set_visible(False)\n",
    "ax.spines['top'].set_visible(False);"
   ]
  },
  {
   "cell_type": "code",
   "execution_count": 15,
   "metadata": {},
   "outputs": [
    {
     "data": {
      "text/plain": [
       "0        0.463350\n",
       "1        0.023724\n",
       "2       -2.497630\n",
       "3        1.335380\n",
       "4        0.563443\n",
       "           ...   \n",
       "59013    0.194420\n",
       "59014   -0.639919\n",
       "59015   -0.231208\n",
       "59016    0.168653\n",
       "59017   -1.798690\n",
       "Name: bmi_prs, Length: 56293, dtype: float64"
      ]
     },
     "execution_count": 15,
     "metadata": {},
     "output_type": "execute_result"
    }
   ],
   "source": [
    "non_combo_hit_pheno.bmi_prs.dropna()"
   ]
  },
  {
   "cell_type": "code",
   "execution_count": 16,
   "metadata": {},
   "outputs": [
    {
     "data": {
      "text/plain": [
       "(TtestResult(statistic=-1.5295728034153797, pvalue=0.06306404561879521, df=56628.0),\n",
       " KstestResult(statistic=0.01991988610249862, pvalue=0.7563796327029729, statistic_location=0.111794, statistic_sign=-1))"
      ]
     },
     "execution_count": 16,
     "metadata": {},
     "output_type": "execute_result"
    }
   ],
   "source": [
    "ttest_ind(non_combo_hit_pheno.bmi_prs.dropna(), combo_hit_pheno.bmi_prs.dropna(), alternative=\"less\"), kstest(non_combo_hit_pheno.bmi_prs.dropna(), combo_hit_pheno.bmi_prs.dropna(), alternative=\"less\")"
   ]
  },
  {
   "cell_type": "code",
   "execution_count": null,
   "metadata": {},
   "outputs": [],
   "source": []
  },
  {
   "cell_type": "code",
   "execution_count": null,
   "metadata": {},
   "outputs": [],
   "source": []
  }
 ],
 "metadata": {
  "kernelspec": {
   "display_name": "starrseq",
   "language": "python",
   "name": "python3"
  },
  "language_info": {
   "codemirror_mode": {
    "name": "ipython",
    "version": 3
   },
   "file_extension": ".py",
   "mimetype": "text/x-python",
   "name": "python",
   "nbconvert_exporter": "python",
   "pygments_lexer": "ipython3",
   "version": "3.11.4"
  },
  "orig_nbformat": 4,
  "vscode": {
   "interpreter": {
    "hash": "06856c2527dea3cf472b3c4994ec564df76496982852535c5a9520cd26601212"
   }
  }
 },
 "nbformat": 4,
 "nbformat_minor": 2
}
