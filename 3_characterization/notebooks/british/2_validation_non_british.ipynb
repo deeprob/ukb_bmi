{
 "cells": [
  {
   "cell_type": "code",
   "execution_count": 1,
   "metadata": {},
   "outputs": [],
   "source": [
    "import pandas as pd\n",
    "import numpy as np\n",
    "from scipy.stats import kstest,ttest_ind, ks_2samp\n",
    "import seaborn as sns\n",
    "from matplotlib.ticker import MultipleLocator\n",
    "import matplotlib\n",
    "import matplotlib.pyplot as plt\n",
    "matplotlib.rcParams['pdf.fonttype'] = 42\n",
    "matplotlib.rcParams['ps.fonttype'] = 42\n",
    "matplotlib.rcParams.update({'font.size': 14, 'axes.linewidth': 2, 'xtick.major.width': 1.5, 'xtick.major.size': 7, 'ytick.major.width': 1.5, 'ytick.major.size': 7})\n",
    "from matplotlib.backends.backend_pdf import PdfPages"
   ]
  },
  {
   "cell_type": "code",
   "execution_count": 2,
   "metadata": {},
   "outputs": [],
   "source": [
    "def save_pdf(save_file, fig):\n",
    "    pdf = PdfPages(save_file)\n",
    "    pdf.savefig(fig, bbox_inches='tight')\n",
    "    pdf.close()\n",
    "    return"
   ]
  },
  {
   "cell_type": "code",
   "execution_count": 3,
   "metadata": {},
   "outputs": [],
   "source": [
    "cohort_file = \"/data6/deepro/ukb_bmi/0_data_preparation_and_download/phenotype/data/bmi_processed/british/test_cohort_bmi.csv.gz\"\n",
    "combo_samples_file = \"/data6/deepro/ukb_bmi/3_characterization/data/combos_in_cohort/british/BH_001/test_cohort.csv\""
   ]
  },
  {
   "cell_type": "code",
   "execution_count": 4,
   "metadata": {},
   "outputs": [],
   "source": [
    "cohort_df = pd.read_csv(cohort_file, usecols=[\"sample_names\", \"bmi\", \"bmi_prs\"])\n",
    "combo_samples_df = pd.read_csv(combo_samples_file)\n",
    "\n",
    "all_combo_samples = set(\"|\".join(combo_samples_df.combo_samples.values).split(\"|\"))\n",
    "cohort_df[\"combo_carriers\"] = cohort_df.sample_names.astype(str).isin(all_combo_samples)\n",
    "combo_hit_pheno = cohort_df.loc[cohort_df.combo_carriers==True]\n",
    "non_combo_hit_pheno = cohort_df.loc[cohort_df.combo_carriers==False]\n",
    "\n",
    "\n"
   ]
  },
  {
   "attachments": {},
   "cell_type": "markdown",
   "metadata": {},
   "source": [
    "# BMI comparison between individuals with and without the combinations in a non-white british cohort"
   ]
  },
  {
   "cell_type": "code",
   "execution_count": 20,
   "metadata": {},
   "outputs": [
    {
     "name": "stderr",
     "output_type": "stream",
     "text": [
      "/tmp/ipykernel_8940/4089866208.py:7: FutureWarning: \n",
      "\n",
      "Passing `palette` without assigning `hue` is deprecated and will be removed in v0.14.0. Assign the `x` variable to `hue` and set `legend=False` for the same effect.\n",
      "\n",
      "  sns_box = sns.boxplot(\n",
      "/tmp/ipykernel_8940/4089866208.py:25: UserWarning: FixedFormatter should only be used together with FixedLocator\n",
      "  ax.set_xticklabels([\"Non\\ncarrier\", \"Carrier\"], rotation=45, ha=\"center\", fontsize=14)\n"
     ]
    },
    {
     "data": {
      "image/png": "[encoded data removed]",
      "text/plain": [
       "<Figure size 400x600 with 1 Axes>"
      ]
     },
     "metadata": {},
     "output_type": "display_data"
    }
   ],
   "source": [
    "boxdf = cohort_df\n",
    "\n",
    "# Define Canvas\n",
    "fig,ax = plt.subplots(1, 1, figsize=(4, 6))\n",
    "\n",
    "# Box Plot\n",
    "sns_box = sns.boxplot(\n",
    "    data=boxdf,\n",
    "    x=\"combo_carriers\",\n",
    "    y=\"bmi\",\n",
    "    order=[False, True],\n",
    "    hue_order=[False,True],\n",
    "    gap=0.5,\n",
    "    palette= [\"whitesmoke\", sns.color_palette(\"Reds\", 15).as_hex()[7]],\n",
    "    dodge=False, width=0.75, linewidth=2.25, fliersize=0, capprops={'color':'none'}, \n",
    "    boxprops={ 'edgecolor':'k'},  # 'facecolor':'none',\n",
    "    whiskerprops={'color':'k'}, medianprops={'color':'k'}) # \n",
    "\n",
    "\n",
    "# Adjust Axis\n",
    "# ax.set_yticks([-0.02, 0, 0.02, 0.04])\n",
    "ax.set_xlim((-1, 2))\n",
    "ax.set_ylim((12, 41.5))\n",
    "# ax.set_ylabel('Percentage')\n",
    "ax.set_xticklabels([\"Non\\ncarrier\", \"Carrier\"], rotation=45, ha=\"center\", fontsize=14)\n",
    "ax.set_xlabel(\"\")\n",
    "ax.set_ylabel(\"BMI\")\n",
    "ax.hlines(41, 0, 1, color=\"k\")\n",
    "ttest_pval = ttest_ind(non_combo_hit_pheno.bmi, combo_hit_pheno.bmi, alternative=\"less\").pvalue\n",
    "ax.text(0.5, 42, f\"P = {ttest_pval:.2E}\", ha=\"center\", va=\"bottom\", fontsize=14)\n",
    "\n",
    "# Remove Spines\n",
    "ax.spines['right'].set_visible(False)\n",
    "ax.spines['top'].set_visible(False);"
   ]
  },
  {
   "cell_type": "code",
   "execution_count": null,
   "metadata": {},
   "outputs": [],
   "source": []
  },
  {
   "cell_type": "code",
   "execution_count": null,
   "metadata": {},
   "outputs": [],
   "source": []
  },
  {
   "cell_type": "code",
   "execution_count": 13,
   "metadata": {},
   "outputs": [],
   "source": [
    "# save_file = \"/data6/deepro/ukb_bmi/3_characterization/data/british/nonbritish_comparison.pdf\"\n",
    "# save_pdf(save_file, fig)"
   ]
  },
  {
   "cell_type": "code",
   "execution_count": null,
   "metadata": {},
   "outputs": [],
   "source": []
  },
  {
   "cell_type": "code",
   "execution_count": null,
   "metadata": {},
   "outputs": [],
   "source": []
  }
 ],
 "metadata": {
  "kernelspec": {
   "display_name": "starrseq",
   "language": "python",
   "name": "python3"
  },
  "language_info": {
   "codemirror_mode": {
    "name": "ipython",
    "version": 3
   },
   "file_extension": ".py",
   "mimetype": "text/x-python",
   "name": "python",
   "nbconvert_exporter": "python",
   "pygments_lexer": "ipython3",
   "version": "3.11.4"
  },
  "orig_nbformat": 4,
  "vscode": {
   "interpreter": {
    "hash": "06856c2527dea3cf472b3c4994ec564df76496982852535c5a9520cd26601212"
   }
  }
 },
 "nbformat": 4,
 "nbformat_minor": 2
}
