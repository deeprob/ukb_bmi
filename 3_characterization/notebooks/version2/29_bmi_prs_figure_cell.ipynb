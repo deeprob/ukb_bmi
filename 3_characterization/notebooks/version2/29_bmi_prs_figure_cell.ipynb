{
 "cells": [
  {
   "cell_type": "code",
   "execution_count": 1,
   "metadata": {},
   "outputs": [],
   "source": [
    "import numpy as np\n",
    "import pandas as pd\n",
    "import os\n",
    "import tqdm\n",
    "from scipy.stats import kstest,ttest_ind,fisher_exact\n",
    "from scipy.stats.contingency import odds_ratio\n",
    "import itertools as it\n",
    "from collections import Counter\n",
    "import seaborn as sns\n",
    "from matplotlib.ticker import MultipleLocator\n",
    "import matplotlib\n",
    "import matplotlib.pyplot as plt\n",
    "matplotlib.rcParams['pdf.fonttype'] = 42\n",
    "matplotlib.rcParams['ps.fonttype'] = 42\n",
    "matplotlib.rcParams.update({'font.size': 14, 'axes.linewidth': 2, 'xtick.major.width': 1.5, 'xtick.major.size': 7, 'ytick.major.width': 1.5, 'ytick.major.size': 7})\n",
    "from matplotlib.backends.backend_pdf import PdfPages\n",
    "from functools import reduce\n",
    "from scipy.stats import kstest,ttest_ind\n",
    "\n",
    "from sklearn.preprocessing import LabelEncoder\n",
    "from sklearn.preprocessing import StandardScaler\n",
    "from sklearn.linear_model import LinearRegression"
   ]
  },
  {
   "cell_type": "code",
   "execution_count": 2,
   "metadata": {},
   "outputs": [],
   "source": [
    "phenotype_file = \"/data6/deepro/ukb_bmi/0_data_preparation_and_download/phenotype/data/bmi_processed/british/train_cohort_bmi.csv.gz\"\n",
    "cohort_files = [\n",
    "    \"/data6/deepro/ukb_bmi/3_characterization/data/combo_info/british/discovery_combo2.csv\",\n",
    "    \"/data6/deepro/ukb_bmi/3_characterization/data/combo_info/british/discovery_combo3.csv\"\n",
    "]\n",
    "\n",
    "phenotype_df = pd.read_csv(phenotype_file)\n",
    "\n",
    "\n",
    "cohort_df = pd.concat([pd.read_csv(cf) for cf in cohort_files])\n",
    "all_combo_samples = set(\"|\".join(cohort_df.combo_samples.values).split(\"|\"))"
   ]
  },
  {
   "cell_type": "code",
   "execution_count": 6,
   "metadata": {},
   "outputs": [],
   "source": [
    "def get_bmi_cat(bmi):\n",
    "    \"\"\"\n",
    "    underweight refers to a BMI of less than 18.5 kg/m2, \n",
    "    normal as 18.5 to 24.9 kg/m2, \n",
    "    overweight as 25.0 to 29.9 kg/m2, \n",
    "    obesity as 30.0 to 39.9 kg/m2, \n",
    "    and severe obesity as 40 kg/m2 or more\n",
    "    \"\"\"\n",
    "    bmi_cat = \"\"\n",
    "    if bmi<18.5:\n",
    "        bmi_cat = \"underweight\"\n",
    "    elif bmi<24.9:\n",
    "        bmi_cat = \"normal\"\n",
    "    elif bmi<29.9:\n",
    "        bmi_cat = \"overweight\"\n",
    "    elif bmi<39.9:\n",
    "        bmi_cat = \"obese\"\n",
    "    else:\n",
    "        bmi_cat = \"severe obesity\"\n",
    "\n",
    "    return bmi_cat"
   ]
  },
  {
   "cell_type": "code",
   "execution_count": 7,
   "metadata": {},
   "outputs": [
    {
     "name": "stderr",
     "output_type": "stream",
     "text": [
      "/tmp/ipykernel_86284/2259667620.py:13: SettingWithCopyWarning: \n",
      "A value is trying to be set on a copy of a slice from a DataFrame.\n",
      "Try using .loc[row_indexer,col_indexer] = value instead\n",
      "\n",
      "See the caveats in the documentation: https://pandas.pydata.org/pandas-docs/stable/user_guide/indexing.html#returning-a-view-versus-a-copy\n",
      "  phenotype_other_samples_df[\"description\"] = \"Non Combo\"\n",
      "/tmp/ipykernel_86284/2259667620.py:14: SettingWithCopyWarning: \n",
      "A value is trying to be set on a copy of a slice from a DataFrame.\n",
      "Try using .loc[row_indexer,col_indexer] = value instead\n",
      "\n",
      "See the caveats in the documentation: https://pandas.pydata.org/pandas-docs/stable/user_guide/indexing.html#returning-a-view-versus-a-copy\n",
      "  phenotype_combo_samples_df[\"description\"] = \"Combo\"\n"
     ]
    }
   ],
   "source": [
    "phenotype_df[\"bmi_prs_decile\"] = pd.qcut(phenotype_df.bmi_prs, q=10)\n",
    "phenotype_df[\"bmi_prs_decile_num\"] = pd.qcut(phenotype_df.bmi_prs, q=10, labels=False)\n",
    "phenotype_df[\"bmi_categories\"] = phenotype_df.bmi.apply(get_bmi_cat)\n",
    "phenotype_df[\"bmi_prs_categories\"] = phenotype_df.bmi_prs_decile_num.map({\n",
    "    0: \"lowest\", \n",
    "    1:\"middle\", 2:\"middle\", \n",
    "    3:\"middle\", 4:\"middle\", 5:\"middle\", 6:\"middle\", 7:\"middle\",\n",
    "    8:\"middle\", 9:\"highest\"\n",
    "    })\n",
    "phenotype_combo_samples_df = phenotype_df.loc[phenotype_df.sample_names.astype(str).isin(list(map(str, all_combo_samples)))]\n",
    "phenotype_other_samples_df = phenotype_df.loc[~phenotype_df.sample_names.astype(str).isin(list(map(str, all_combo_samples)))]\n",
    "\n",
    "phenotype_other_samples_df[\"description\"] = \"Non Combo\"\n",
    "phenotype_combo_samples_df[\"description\"] = \"Combo\"\n",
    "phenotype_samples_df = pd.concat((phenotype_combo_samples_df, phenotype_other_samples_df))"
   ]
  },
  {
   "cell_type": "code",
   "execution_count": 11,
   "metadata": {},
   "outputs": [],
   "source": [
    "def get_prs_percent(df):\n",
    "    df1 = df.groupby(\"bmi_categories\")[\"bmi_prs_categories\"].value_counts(normalize=True)\n",
    "    df1 = df1.mul(100)\n",
    "    df1 = df1.rename('percent').reset_index()\n",
    "    max_bmi_dict = df.groupby(\"bmi_categories\")[\"bmi\"].max().to_dict()\n",
    "    return df1, max_bmi_dict"
   ]
  },
  {
   "cell_type": "code",
   "execution_count": 12,
   "metadata": {},
   "outputs": [],
   "source": [
    "phenotype_combo_samples_plot_df, cbmi_dict = get_prs_percent(phenotype_combo_samples_df)\n",
    "phenotype_other_samples_plot_df, ncbmi_dict = get_prs_percent(phenotype_other_samples_df)\n"
   ]
  },
  {
   "cell_type": "code",
   "execution_count": 13,
   "metadata": {},
   "outputs": [
    {
     "name": "stderr",
     "output_type": "stream",
     "text": [
      "/tmp/ipykernel_86284/475937989.py:13: UserWarning: FixedFormatter should only be used together with FixedLocator\n",
      "  g.ax.set_xticklabels([f\"{l.get_text()}\\n{round(cbmi_dict[l.get_text()], 2)}\" for l in g.ax.get_xticklabels()])\n"
     ]
    },
    {
     "data": {
      "image/png": "[encoded data removed]",
      "text/plain": [
       "<Figure size 680.75x288 with 1 Axes>"
      ]
     },
     "metadata": {
      "needs_background": "light"
     },
     "output_type": "display_data"
    }
   ],
   "source": [
    "g = sns.catplot(data=phenotype_combo_samples_plot_df, \n",
    "    x=\"bmi_categories\",\n",
    "    y=\"percent\",\n",
    "    hue=\"bmi_prs_categories\", \n",
    "    kind=\"bar\",\n",
    "    height=4, aspect=2,\n",
    "    order=[\"underweight\", \"normal\", \"overweight\", \"obese\", \"severe obesity\"],\n",
    "    hue_order=[\"lowest\", \"middle\", \"highest\"],\n",
    "    palette=[\"silver\", \"gray\", \"black\"]\n",
    "    )\n",
    "\n",
    "g.ax.set_ylim(0,100)\n",
    "g.ax.set_xticklabels([f\"{l.get_text()}\\n{round(cbmi_dict[l.get_text()], 2)}\" for l in g.ax.get_xticklabels()])\n",
    "\n",
    "rects = g.ax.patches\n",
    "for rect in rects:\n",
    "    height = rect.get_height()\n",
    "    g.ax.text(\n",
    "        rect.get_x() + rect.get_width() / 2, height + 1, f\"{round(height, 2)}%\", ha=\"center\", va=\"bottom\"\n",
    "    )"
   ]
  },
  {
   "cell_type": "code",
   "execution_count": 14,
   "metadata": {},
   "outputs": [
    {
     "name": "stderr",
     "output_type": "stream",
     "text": [
      "/tmp/ipykernel_86284/1190682270.py:13: UserWarning: FixedFormatter should only be used together with FixedLocator\n",
      "  g.ax.set_xticklabels([f\"{l.get_text()}\\n{round(ncbmi_dict[l.get_text()], 2)}\" for l in g.ax.get_xticklabels()])\n"
     ]
    },
    {
     "data": {
      "image/png": "[encoded data removed]",
      "text/plain": [
       "<Figure size 680.75x288 with 1 Axes>"
      ]
     },
     "metadata": {
      "needs_background": "light"
     },
     "output_type": "display_data"
    }
   ],
   "source": [
    "g = sns.catplot(data=phenotype_other_samples_plot_df, \n",
    "    x=\"bmi_categories\",\n",
    "    y=\"percent\",\n",
    "    hue=\"bmi_prs_categories\", \n",
    "    kind=\"bar\",\n",
    "    height=4, aspect=2,\n",
    "    order=[\"underweight\", \"normal\", \"overweight\", \"obese\", \"severe obesity\"],\n",
    "    hue_order=[\"lowest\", \"middle\", \"highest\"],\n",
    "    palette=[\"silver\", \"gray\", \"black\"]\n",
    "    )\n",
    "\n",
    "g.ax.set_ylim(0,100)\n",
    "g.ax.set_xticklabels([f\"{l.get_text()}\\n{round(ncbmi_dict[l.get_text()], 2)}\" for l in g.ax.get_xticklabels()])\n",
    "\n",
    "rects = g.ax.patches\n",
    "for rect in rects:\n",
    "    height = rect.get_height()\n",
    "    g.ax.text(\n",
    "        rect.get_x() + rect.get_width() / 2, height + 1, f\"{round(height, 2)}%\", ha=\"center\", va=\"bottom\"\n",
    "    )\n"
   ]
  },
  {
   "cell_type": "code",
   "execution_count": null,
   "metadata": {},
   "outputs": [],
   "source": []
  },
  {
   "cell_type": "code",
   "execution_count": 15,
   "metadata": {},
   "outputs": [],
   "source": [
    "def get_prs_percent(df):\n",
    "    df1 = df.groupby(\"bmi_prs_categories\")[\"bmi_categories\"].value_counts(normalize=True)\n",
    "    df1 = df1.mul(100)\n",
    "    df1 = df1.rename('percent').reset_index()\n",
    "    max_bmi_dict = df.groupby(\"bmi_categories\")[\"bmi\"].max().to_dict()\n",
    "    return df1, max_bmi_dict"
   ]
  },
  {
   "cell_type": "code",
   "execution_count": 16,
   "metadata": {},
   "outputs": [],
   "source": [
    "phenotype_combo_samples_plot_df, cbmi_dict = get_prs_percent(phenotype_combo_samples_df)\n",
    "phenotype_other_samples_plot_df, ncbmi_dict = get_prs_percent(phenotype_other_samples_df)"
   ]
  },
  {
   "cell_type": "code",
   "execution_count": 17,
   "metadata": {},
   "outputs": [
    {
     "name": "stderr",
     "output_type": "stream",
     "text": [
      "/tmp/ipykernel_86284/475937989.py:13: UserWarning: FixedFormatter should only be used together with FixedLocator\n",
      "  g.ax.set_xticklabels([f\"{l.get_text()}\\n{round(cbmi_dict[l.get_text()], 2)}\" for l in g.ax.get_xticklabels()])\n"
     ]
    },
    {
     "data": {
      "image/png": "[encoded data removed]",
      "text/plain": [
       "<Figure size 680.75x288 with 1 Axes>"
      ]
     },
     "metadata": {
      "needs_background": "light"
     },
     "output_type": "display_data"
    }
   ],
   "source": [
    "g = sns.catplot(data=phenotype_combo_samples_plot_df, \n",
    "    x=\"bmi_categories\",\n",
    "    y=\"percent\",\n",
    "    hue=\"bmi_prs_categories\", \n",
    "    kind=\"bar\",\n",
    "    height=4, aspect=2,\n",
    "    order=[\"underweight\", \"normal\", \"overweight\", \"obese\", \"severe obesity\"],\n",
    "    hue_order=[\"lowest\", \"middle\", \"highest\"],\n",
    "    palette=[\"silver\", \"gray\", \"black\"]\n",
    "    )\n",
    "\n",
    "g.ax.set_ylim(0,100)\n",
    "g.ax.set_xticklabels([f\"{l.get_text()}\\n{round(cbmi_dict[l.get_text()], 2)}\" for l in g.ax.get_xticklabels()])\n",
    "\n",
    "rects = g.ax.patches\n",
    "for rect in rects:\n",
    "    height = rect.get_height()\n",
    "    g.ax.text(\n",
    "        rect.get_x() + rect.get_width() / 2, height + 1, f\"{round(height, 2)}%\", ha=\"center\", va=\"bottom\"\n",
    "    )"
   ]
  },
  {
   "cell_type": "code",
   "execution_count": 18,
   "metadata": {},
   "outputs": [
    {
     "name": "stderr",
     "output_type": "stream",
     "text": [
      "/tmp/ipykernel_86284/1190682270.py:13: UserWarning: FixedFormatter should only be used together with FixedLocator\n",
      "  g.ax.set_xticklabels([f\"{l.get_text()}\\n{round(ncbmi_dict[l.get_text()], 2)}\" for l in g.ax.get_xticklabels()])\n"
     ]
    },
    {
     "data": {
      "image/png": "[encoded data removed]",
      "text/plain": [
       "<Figure size 680.75x288 with 1 Axes>"
      ]
     },
     "metadata": {
      "needs_background": "light"
     },
     "output_type": "display_data"
    }
   ],
   "source": [
    "g = sns.catplot(data=phenotype_other_samples_plot_df, \n",
    "    x=\"bmi_categories\",\n",
    "    y=\"percent\",\n",
    "    hue=\"bmi_prs_categories\", \n",
    "    kind=\"bar\",\n",
    "    height=4, aspect=2,\n",
    "    order=[\"underweight\", \"normal\", \"overweight\", \"obese\", \"severe obesity\"],\n",
    "    hue_order=[\"lowest\", \"middle\", \"highest\"],\n",
    "    palette=[\"silver\", \"gray\", \"black\"]\n",
    "    )\n",
    "\n",
    "g.ax.set_ylim(0,100)\n",
    "g.ax.set_xticklabels([f\"{l.get_text()}\\n{round(ncbmi_dict[l.get_text()], 2)}\" for l in g.ax.get_xticklabels()])\n",
    "\n",
    "rects = g.ax.patches\n",
    "for rect in rects:\n",
    "    height = rect.get_height()\n",
    "    g.ax.text(\n",
    "        rect.get_x() + rect.get_width() / 2, height + 1, f\"{round(height, 2)}%\", ha=\"center\", va=\"bottom\"\n",
    "    )\n"
   ]
  },
  {
   "cell_type": "code",
   "execution_count": null,
   "metadata": {},
   "outputs": [],
   "source": []
  },
  {
   "cell_type": "code",
   "execution_count": null,
   "metadata": {},
   "outputs": [],
   "source": []
  },
  {
   "cell_type": "code",
   "execution_count": null,
   "metadata": {},
   "outputs": [],
   "source": []
  },
  {
   "cell_type": "code",
   "execution_count": null,
   "metadata": {},
   "outputs": [],
   "source": []
  },
  {
   "cell_type": "code",
   "execution_count": 14,
   "metadata": {},
   "outputs": [
    {
     "data": {
      "text/plain": [
       "<AxesSubplot: xlabel='bmi_res_categories', ylabel='percent'>"
      ]
     },
     "execution_count": 14,
     "metadata": {},
     "output_type": "execute_result"
    },
    {
     "data": {
      "image/png": "[encoded data removed]",
      "text/plain": [
       "<Figure size 432x288 with 1 Axes>"
      ]
     },
     "metadata": {
      "needs_background": "light"
     },
     "output_type": "display_data"
    }
   ],
   "source": [
    "sns.countplot(\n",
    "    data=phenotype_combo_samples_df, \n",
    "    x=\"bmi_res_categories\", \n",
    "    hue=\"bmi_prs_categories\", \n",
    "    stat=\"percent\",\n",
    "    order=[\"underweight\", \"normal\", \"overweight\", \"obese\", \"severe obesity\"],\n",
    "    hue_order=[\"lowest\", \"middle\", \"highest\"],\n",
    "    palette=[\"silver\", \"gray\", \"black\"])"
   ]
  },
  {
   "cell_type": "code",
   "execution_count": 15,
   "metadata": {},
   "outputs": [
    {
     "data": {
      "text/plain": [
       "<AxesSubplot: xlabel='bmi_res_categories', ylabel='percent'>"
      ]
     },
     "execution_count": 15,
     "metadata": {},
     "output_type": "execute_result"
    },
    {
     "data": {
      "image/png": "[encoded data removed]",
      "text/plain": [
       "<Figure size 432x288 with 1 Axes>"
      ]
     },
     "metadata": {
      "needs_background": "light"
     },
     "output_type": "display_data"
    }
   ],
   "source": [
    "sns.countplot(\n",
    "    data=phenotype_other_samples_df, \n",
    "    x=\"bmi_res_categories\", \n",
    "    hue=\"bmi_prs_categories\", \n",
    "    stat=\"percent\",\n",
    "    order=[\"underweight\", \"normal\", \"overweight\", \"obese\", \"severe obesity\"],\n",
    "    hue_order=[\"lowest\", \"middle\", \"highest\"],\n",
    "    palette=[\"silver\", \"gray\", \"black\"])"
   ]
  },
  {
   "cell_type": "code",
   "execution_count": 16,
   "metadata": {},
   "outputs": [
    {
     "data": {
      "text/html": [
       "<div>\n",
       "<style scoped>\n",
       "    .dataframe tbody tr th:only-of-type {\n",
       "        vertical-align: middle;\n",
       "    }\n",
       "\n",
       "    .dataframe tbody tr th {\n",
       "        vertical-align: top;\n",
       "    }\n",
       "\n",
       "    .dataframe thead th {\n",
       "        text-align: right;\n",
       "    }\n",
       "</style>\n",
       "<table border=\"1\" class=\"dataframe\">\n",
       "  <thead>\n",
       "    <tr style=\"text-align: right;\">\n",
       "      <th></th>\n",
       "      <th>sample_names</th>\n",
       "      <th>sex</th>\n",
       "      <th>genetic_kinship_to_other_participants</th>\n",
       "      <th>genetic_ethnic_grouping</th>\n",
       "      <th>genetic_sex</th>\n",
       "      <th>year_of_birth</th>\n",
       "      <th>bmi_prs</th>\n",
       "      <th>genetic_pca1</th>\n",
       "      <th>genetic_pca2</th>\n",
       "      <th>genetic_pca3</th>\n",
       "      <th>...</th>\n",
       "      <th>age</th>\n",
       "      <th>bmi_scaled</th>\n",
       "      <th>bmi_residuals</th>\n",
       "      <th>bmi_res_decile</th>\n",
       "      <th>bmi_res_decile_num</th>\n",
       "      <th>bmi_prs_decile</th>\n",
       "      <th>bmi_prs_decile_num</th>\n",
       "      <th>bmi_res_categories</th>\n",
       "      <th>bmi_prs_categories</th>\n",
       "      <th>description</th>\n",
       "    </tr>\n",
       "  </thead>\n",
       "  <tbody>\n",
       "    <tr>\n",
       "      <th>0</th>\n",
       "      <td>1000028</td>\n",
       "      <td>Male</td>\n",
       "      <td>No kinship found</td>\n",
       "      <td>Caucasian</td>\n",
       "      <td>1</td>\n",
       "      <td>1947.0</td>\n",
       "      <td>-0.652309</td>\n",
       "      <td>-1.049343</td>\n",
       "      <td>-0.035594</td>\n",
       "      <td>-0.318610</td>\n",
       "      <td>...</td>\n",
       "      <td>1.053334</td>\n",
       "      <td>-0.400313</td>\n",
       "      <td>-0.524182</td>\n",
       "      <td>(-0.571, -0.364]</td>\n",
       "      <td>3</td>\n",
       "      <td>(-0.722, -0.458]</td>\n",
       "      <td>3</td>\n",
       "      <td>overweight</td>\n",
       "      <td>middle</td>\n",
       "      <td>Non Combo</td>\n",
       "    </tr>\n",
       "    <tr>\n",
       "      <th>1</th>\n",
       "      <td>1000045</td>\n",
       "      <td>Female</td>\n",
       "      <td>At least one relative identified</td>\n",
       "      <td>Caucasian</td>\n",
       "      <td>0</td>\n",
       "      <td>1952.0</td>\n",
       "      <td>-1.084330</td>\n",
       "      <td>-0.375479</td>\n",
       "      <td>-0.102603</td>\n",
       "      <td>-0.511934</td>\n",
       "      <td>...</td>\n",
       "      <td>-0.190425</td>\n",
       "      <td>-0.777059</td>\n",
       "      <td>-0.693161</td>\n",
       "      <td>(-0.797, -0.571]</td>\n",
       "      <td>2</td>\n",
       "      <td>(-1.463, -1.034]</td>\n",
       "      <td>1</td>\n",
       "      <td>normal</td>\n",
       "      <td>middle</td>\n",
       "      <td>Non Combo</td>\n",
       "    </tr>\n",
       "    <tr>\n",
       "      <th>2</th>\n",
       "      <td>1000171</td>\n",
       "      <td>Female</td>\n",
       "      <td>No kinship found</td>\n",
       "      <td>Caucasian</td>\n",
       "      <td>0</td>\n",
       "      <td>1944.0</td>\n",
       "      <td>-0.980411</td>\n",
       "      <td>-0.382776</td>\n",
       "      <td>-0.734280</td>\n",
       "      <td>0.182330</td>\n",
       "      <td>...</td>\n",
       "      <td>1.426462</td>\n",
       "      <td>0.738413</td>\n",
       "      <td>0.792503</td>\n",
       "      <td>(0.693, 1.278]</td>\n",
       "      <td>8</td>\n",
       "      <td>(-1.034, -0.722]</td>\n",
       "      <td>2</td>\n",
       "      <td>obese</td>\n",
       "      <td>middle</td>\n",
       "      <td>Non Combo</td>\n",
       "    </tr>\n",
       "    <tr>\n",
       "      <th>3</th>\n",
       "      <td>1000196</td>\n",
       "      <td>Female</td>\n",
       "      <td>No kinship found</td>\n",
       "      <td>NaN</td>\n",
       "      <td>0</td>\n",
       "      <td>1959.0</td>\n",
       "      <td>0.032952</td>\n",
       "      <td>9.739123</td>\n",
       "      <td>-21.189125</td>\n",
       "      <td>-11.847223</td>\n",
       "      <td>...</td>\n",
       "      <td>-0.563553</td>\n",
       "      <td>-1.646162</td>\n",
       "      <td>-1.508422</td>\n",
       "      <td>(-3.191, -1.088]</td>\n",
       "      <td>0</td>\n",
       "      <td>(-0.21, 0.0383]</td>\n",
       "      <td>5</td>\n",
       "      <td>underweight</td>\n",
       "      <td>middle</td>\n",
       "      <td>Non Combo</td>\n",
       "    </tr>\n",
       "    <tr>\n",
       "      <th>4</th>\n",
       "      <td>1000222</td>\n",
       "      <td>Male</td>\n",
       "      <td>No kinship found</td>\n",
       "      <td>Caucasian</td>\n",
       "      <td>1</td>\n",
       "      <td>1940.0</td>\n",
       "      <td>0.092755</td>\n",
       "      <td>0.531430</td>\n",
       "      <td>0.476652</td>\n",
       "      <td>-0.542410</td>\n",
       "      <td>...</td>\n",
       "      <td>1.302086</td>\n",
       "      <td>0.545706</td>\n",
       "      <td>0.384838</td>\n",
       "      <td>(0.34, 0.693]</td>\n",
       "      <td>7</td>\n",
       "      <td>(0.0383, 0.302]</td>\n",
       "      <td>6</td>\n",
       "      <td>overweight</td>\n",
       "      <td>middle</td>\n",
       "      <td>Non Combo</td>\n",
       "    </tr>\n",
       "    <tr>\n",
       "      <th>...</th>\n",
       "      <td>...</td>\n",
       "      <td>...</td>\n",
       "      <td>...</td>\n",
       "      <td>...</td>\n",
       "      <td>...</td>\n",
       "      <td>...</td>\n",
       "      <td>...</td>\n",
       "      <td>...</td>\n",
       "      <td>...</td>\n",
       "      <td>...</td>\n",
       "      <td>...</td>\n",
       "      <td>...</td>\n",
       "      <td>...</td>\n",
       "      <td>...</td>\n",
       "      <td>...</td>\n",
       "      <td>...</td>\n",
       "      <td>...</td>\n",
       "      <td>...</td>\n",
       "      <td>...</td>\n",
       "      <td>...</td>\n",
       "      <td>...</td>\n",
       "    </tr>\n",
       "    <tr>\n",
       "      <th>427633</th>\n",
       "      <td>6024818</td>\n",
       "      <td>Male</td>\n",
       "      <td>No kinship found</td>\n",
       "      <td>Caucasian</td>\n",
       "      <td>1</td>\n",
       "      <td>1942.0</td>\n",
       "      <td>-0.416108</td>\n",
       "      <td>0.307354</td>\n",
       "      <td>0.304317</td>\n",
       "      <td>-0.321877</td>\n",
       "      <td>...</td>\n",
       "      <td>0.928958</td>\n",
       "      <td>0.042139</td>\n",
       "      <td>-0.102653</td>\n",
       "      <td>(-0.155, 0.0721]</td>\n",
       "      <td>5</td>\n",
       "      <td>(-0.458, -0.21]</td>\n",
       "      <td>4</td>\n",
       "      <td>overweight</td>\n",
       "      <td>middle</td>\n",
       "      <td>Non Combo</td>\n",
       "    </tr>\n",
       "    <tr>\n",
       "      <th>427634</th>\n",
       "      <td>6024948</td>\n",
       "      <td>Male</td>\n",
       "      <td>No kinship found</td>\n",
       "      <td>Caucasian</td>\n",
       "      <td>1</td>\n",
       "      <td>1953.0</td>\n",
       "      <td>0.321514</td>\n",
       "      <td>0.166423</td>\n",
       "      <td>0.526967</td>\n",
       "      <td>-0.109158</td>\n",
       "      <td>...</td>\n",
       "      <td>-0.314801</td>\n",
       "      <td>4.162986</td>\n",
       "      <td>4.109587</td>\n",
       "      <td>(1.278, 9.928]</td>\n",
       "      <td>9</td>\n",
       "      <td>(0.302, 0.612]</td>\n",
       "      <td>7</td>\n",
       "      <td>severe obesity</td>\n",
       "      <td>middle</td>\n",
       "      <td>Non Combo</td>\n",
       "    </tr>\n",
       "    <tr>\n",
       "      <th>427636</th>\n",
       "      <td>6025119</td>\n",
       "      <td>Male</td>\n",
       "      <td>At least one relative identified</td>\n",
       "      <td>Caucasian</td>\n",
       "      <td>1</td>\n",
       "      <td>1957.0</td>\n",
       "      <td>0.968325</td>\n",
       "      <td>0.028790</td>\n",
       "      <td>-0.315907</td>\n",
       "      <td>-0.332173</td>\n",
       "      <td>...</td>\n",
       "      <td>-0.252613</td>\n",
       "      <td>0.560394</td>\n",
       "      <td>0.447395</td>\n",
       "      <td>(0.34, 0.693]</td>\n",
       "      <td>7</td>\n",
       "      <td>(0.612, 1.041]</td>\n",
       "      <td>8</td>\n",
       "      <td>overweight</td>\n",
       "      <td>middle</td>\n",
       "      <td>Non Combo</td>\n",
       "    </tr>\n",
       "    <tr>\n",
       "      <th>427637</th>\n",
       "      <td>6025181</td>\n",
       "      <td>Male</td>\n",
       "      <td>No kinship found</td>\n",
       "      <td>Caucasian</td>\n",
       "      <td>1</td>\n",
       "      <td>1964.0</td>\n",
       "      <td>-0.119517</td>\n",
       "      <td>0.053980</td>\n",
       "      <td>-0.853161</td>\n",
       "      <td>-0.321771</td>\n",
       "      <td>...</td>\n",
       "      <td>-1.558560</td>\n",
       "      <td>-0.191185</td>\n",
       "      <td>-0.198597</td>\n",
       "      <td>(-0.364, -0.155]</td>\n",
       "      <td>4</td>\n",
       "      <td>(-0.21, 0.0383]</td>\n",
       "      <td>5</td>\n",
       "      <td>overweight</td>\n",
       "      <td>middle</td>\n",
       "      <td>Non Combo</td>\n",
       "    </tr>\n",
       "    <tr>\n",
       "      <th>427638</th>\n",
       "      <td>6025208</td>\n",
       "      <td>Female</td>\n",
       "      <td>At least one relative identified</td>\n",
       "      <td>Caucasian</td>\n",
       "      <td>0</td>\n",
       "      <td>1941.0</td>\n",
       "      <td>-0.435601</td>\n",
       "      <td>0.056533</td>\n",
       "      <td>-0.430585</td>\n",
       "      <td>-0.727058</td>\n",
       "      <td>...</td>\n",
       "      <td>1.177710</td>\n",
       "      <td>-0.716858</td>\n",
       "      <td>-0.683880</td>\n",
       "      <td>(-0.797, -0.571]</td>\n",
       "      <td>2</td>\n",
       "      <td>(-0.458, -0.21]</td>\n",
       "      <td>4</td>\n",
       "      <td>normal</td>\n",
       "      <td>middle</td>\n",
       "      <td>Non Combo</td>\n",
       "    </tr>\n",
       "  </tbody>\n",
       "</table>\n",
       "<p>417446 rows × 60 columns</p>\n",
       "</div>"
      ],
      "text/plain": [
       "        sample_names     sex genetic_kinship_to_other_participants  \\\n",
       "0            1000028    Male                      No kinship found   \n",
       "1            1000045  Female      At least one relative identified   \n",
       "2            1000171  Female                      No kinship found   \n",
       "3            1000196  Female                      No kinship found   \n",
       "4            1000222    Male                      No kinship found   \n",
       "...              ...     ...                                   ...   \n",
       "427633       6024818    Male                      No kinship found   \n",
       "427634       6024948    Male                      No kinship found   \n",
       "427636       6025119    Male      At least one relative identified   \n",
       "427637       6025181    Male                      No kinship found   \n",
       "427638       6025208  Female      At least one relative identified   \n",
       "\n",
       "       genetic_ethnic_grouping  genetic_sex  year_of_birth   bmi_prs  \\\n",
       "0                    Caucasian            1         1947.0 -0.652309   \n",
       "1                    Caucasian            0         1952.0 -1.084330   \n",
       "2                    Caucasian            0         1944.0 -0.980411   \n",
       "3                          NaN            0         1959.0  0.032952   \n",
       "4                    Caucasian            1         1940.0  0.092755   \n",
       "...                        ...          ...            ...       ...   \n",
       "427633               Caucasian            1         1942.0 -0.416108   \n",
       "427634               Caucasian            1         1953.0  0.321514   \n",
       "427636               Caucasian            1         1957.0  0.968325   \n",
       "427637               Caucasian            1         1964.0 -0.119517   \n",
       "427638               Caucasian            0         1941.0 -0.435601   \n",
       "\n",
       "        genetic_pca1  genetic_pca2  genetic_pca3  ...       age  bmi_scaled  \\\n",
       "0          -1.049343     -0.035594     -0.318610  ...  1.053334   -0.400313   \n",
       "1          -0.375479     -0.102603     -0.511934  ... -0.190425   -0.777059   \n",
       "2          -0.382776     -0.734280      0.182330  ...  1.426462    0.738413   \n",
       "3           9.739123    -21.189125    -11.847223  ... -0.563553   -1.646162   \n",
       "4           0.531430      0.476652     -0.542410  ...  1.302086    0.545706   \n",
       "...              ...           ...           ...  ...       ...         ...   \n",
       "427633      0.307354      0.304317     -0.321877  ...  0.928958    0.042139   \n",
       "427634      0.166423      0.526967     -0.109158  ... -0.314801    4.162986   \n",
       "427636      0.028790     -0.315907     -0.332173  ... -0.252613    0.560394   \n",
       "427637      0.053980     -0.853161     -0.321771  ... -1.558560   -0.191185   \n",
       "427638      0.056533     -0.430585     -0.727058  ...  1.177710   -0.716858   \n",
       "\n",
       "        bmi_residuals    bmi_res_decile  bmi_res_decile_num    bmi_prs_decile  \\\n",
       "0           -0.524182  (-0.571, -0.364]                   3  (-0.722, -0.458]   \n",
       "1           -0.693161  (-0.797, -0.571]                   2  (-1.463, -1.034]   \n",
       "2            0.792503    (0.693, 1.278]                   8  (-1.034, -0.722]   \n",
       "3           -1.508422  (-3.191, -1.088]                   0   (-0.21, 0.0383]   \n",
       "4            0.384838     (0.34, 0.693]                   7   (0.0383, 0.302]   \n",
       "...               ...               ...                 ...               ...   \n",
       "427633      -0.102653  (-0.155, 0.0721]                   5   (-0.458, -0.21]   \n",
       "427634       4.109587    (1.278, 9.928]                   9    (0.302, 0.612]   \n",
       "427636       0.447395     (0.34, 0.693]                   7    (0.612, 1.041]   \n",
       "427637      -0.198597  (-0.364, -0.155]                   4   (-0.21, 0.0383]   \n",
       "427638      -0.683880  (-0.797, -0.571]                   2   (-0.458, -0.21]   \n",
       "\n",
       "        bmi_prs_decile_num  bmi_res_categories  bmi_prs_categories  \\\n",
       "0                        3          overweight              middle   \n",
       "1                        1              normal              middle   \n",
       "2                        2               obese              middle   \n",
       "3                        5         underweight              middle   \n",
       "4                        6          overweight              middle   \n",
       "...                    ...                 ...                 ...   \n",
       "427633                   4          overweight              middle   \n",
       "427634                   7      severe obesity              middle   \n",
       "427636                   8          overweight              middle   \n",
       "427637                   5          overweight              middle   \n",
       "427638                   4              normal              middle   \n",
       "\n",
       "        description  \n",
       "0         Non Combo  \n",
       "1         Non Combo  \n",
       "2         Non Combo  \n",
       "3         Non Combo  \n",
       "4         Non Combo  \n",
       "...             ...  \n",
       "427633    Non Combo  \n",
       "427634    Non Combo  \n",
       "427636    Non Combo  \n",
       "427637    Non Combo  \n",
       "427638    Non Combo  \n",
       "\n",
       "[417446 rows x 60 columns]"
      ]
     },
     "execution_count": 16,
     "metadata": {},
     "output_type": "execute_result"
    }
   ],
   "source": [
    "phenotype_other_samples_df"
   ]
  },
  {
   "cell_type": "code",
   "execution_count": null,
   "metadata": {},
   "outputs": [],
   "source": []
  }
 ],
 "metadata": {
  "kernelspec": {
   "display_name": "Python 3",
   "language": "python",
   "name": "python3"
  },
  "language_info": {
   "codemirror_mode": {
    "name": "ipython",
    "version": 3
   },
   "file_extension": ".py",
   "mimetype": "text/x-python",
   "name": "python",
   "nbconvert_exporter": "python",
   "pygments_lexer": "ipython3",
   "version": "3.11.4"
  }
 },
 "nbformat": 4,
 "nbformat_minor": 2
}
