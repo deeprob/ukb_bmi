{
 "cells": [
  {
   "cell_type": "code",
   "execution_count": 1,
   "metadata": {},
   "outputs": [],
   "source": [
    "import pandas as pd\n",
    "\n",
    "# plotting modules\n",
    "import seaborn as sns\n",
    "from matplotlib.ticker import MultipleLocator\n",
    "import matplotlib\n",
    "import matplotlib.pyplot as plt\n",
    "matplotlib.rcParams['pdf.fonttype'] = 42\n",
    "matplotlib.rcParams['ps.fonttype'] = 42\n",
    "matplotlib.rcParams['font.sans-serif'] = \"Arial\" # missing fonts:: https://alexanderlabwhoi.github.io/post/2021-03-missingfont/\n",
    "# Then, \"ALWAYS use sans-serif fonts\"\n",
    "matplotlib.rcParams['font.family'] = \"sans-serif\"\n",
    "matplotlib.rcParams.update({'font.size': 20, 'axes.linewidth': 2, 'xtick.major.width': 1.5, 'xtick.major.size': 5, 'ytick.major.width': 1.5, 'ytick.major.size': 4})\n",
    "from matplotlib.backends.backend_pdf import PdfPages"
   ]
  },
  {
   "cell_type": "code",
   "execution_count": 2,
   "metadata": {},
   "outputs": [],
   "source": [
    "def save_pdf(save_file, fig):\n",
    "    pdf = PdfPages(save_file)\n",
    "    pdf.savefig(fig, bbox_inches='tight', dpi=300)\n",
    "    pdf.close()\n",
    "    return"
   ]
  },
  {
   "cell_type": "code",
   "execution_count": 3,
   "metadata": {},
   "outputs": [],
   "source": [
    "combo_cohort = pd.read_csv(\"/data6/deepro/ukb_bmi/3_characterization/data/combos_in_cohort/lifestyle/train_cohort.csv\")"
   ]
  },
  {
   "cell_type": "code",
   "execution_count": 4,
   "metadata": {},
   "outputs": [],
   "source": [
    "lifestyle_factors = list(pd.read_csv(\"/data6/deepro/ukb_bmi/0_data_preparation_and_download/lifestyle_factors/data/lifestyle_processed/filtered_lifestyle_binarized.csv.gz\", index_col=0).columns)"
   ]
  },
  {
   "cell_type": "code",
   "execution_count": 5,
   "metadata": {},
   "outputs": [],
   "source": [
    "combo_cohort[\"combos\"] = combo_cohort.uniq_items.str.replace(\"Input_\", \"\").str.split(\"|\")"
   ]
  },
  {
   "cell_type": "code",
   "execution_count": 6,
   "metadata": {},
   "outputs": [],
   "source": [
    "data_dict = {\n",
    "    \"lifestyle_factors\": lifestyle_factors,\n",
    "    \"combo_num\": []\n",
    "}\n",
    "\n",
    "for lf in lifestyle_factors:\n",
    "    combo_num = len(combo_cohort.loc[combo_cohort.combos.apply(lambda x: True if len(set(x).intersection(set([lf])))>0 else False)])\n",
    "    data_dict[\"combo_num\"].append(combo_num)\n"
   ]
  },
  {
   "cell_type": "code",
   "execution_count": 7,
   "metadata": {},
   "outputs": [],
   "source": [
    "df = pd.DataFrame(data_dict).sort_values(\"combo_num\", ascending=False)"
   ]
  },
  {
   "cell_type": "code",
   "execution_count": 8,
   "metadata": {},
   "outputs": [
    {
     "data": {
      "image/png": "[encoded data removed]",
      "text/plain": [
       "<Figure size 432x288 with 1 Axes>"
      ]
     },
     "metadata": {
      "needs_background": "light"
     },
     "output_type": "display_data"
    }
   ],
   "source": [
    "fig,ax = plt.subplots(1, 1, figsize=(6, 4))\n",
    "\n",
    "plot_df = df.head()\n",
    "\n",
    "## Combo per decile barplot\n",
    "ax.bar(plot_df.lifestyle_factors, plot_df.combo_num, width=0.5, color=sns.color_palette(\"Set3\"), edgecolor=\"k\")\n",
    "xticklabels = [\"MET Score\", \"Sedentary\", \"Alcohol\", \"Meat\", \"Sleep\"]\n",
    "ax.set_xticks(range(len(plot_df.lifestyle_factors)), xticklabels, rotation=45, ha=\"center\", fontsize=16)\n",
    "ax.set_xlabel(\"Obesogenic lifestyle factors\")\n",
    "ax.set_ylabel(\"Number of combinations\")\n",
    "# g.bar_label([g.containers[i] for i in range])\n",
    "rects = ax.patches\n",
    "# Make some labels.\n",
    "for rect in rects:\n",
    "    height = rect.get_height()\n",
    "    ax.text(\n",
    "        rect.get_x() + rect.get_width() / 2, height + 5, f\"{height}\", ha=\"center\", va=\"bottom\"\n",
    "    )\n",
    "ax.set_ylim(-100, 2000)\n",
    "ax.spines[['right', 'top']].set_visible(False)"
   ]
  },
  {
   "cell_type": "code",
   "execution_count": 9,
   "metadata": {},
   "outputs": [],
   "source": [
    "save_file = \"/data6/deepro/ukb_bmi/3_characterization/data/combos_in_cohort/lifestyle/figures/per_lf_combo.pdf\"\n",
    "save_pdf(save_file, fig)"
   ]
  }
 ],
 "metadata": {
  "kernelspec": {
   "display_name": "Python 3",
   "language": "python",
   "name": "python3"
  },
  "language_info": {
   "codemirror_mode": {
    "name": "ipython",
    "version": 3
   },
   "file_extension": ".py",
   "mimetype": "text/x-python",
   "name": "python",
   "nbconvert_exporter": "python",
   "pygments_lexer": "ipython3",
   "version": "3.11.4"
  }
 },
 "nbformat": 4,
 "nbformat_minor": 2
}
