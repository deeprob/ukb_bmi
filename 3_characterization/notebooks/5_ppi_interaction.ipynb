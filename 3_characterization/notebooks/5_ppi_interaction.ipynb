{
 "cells": [
  {
   "cell_type": "code",
   "execution_count": 1,
   "metadata": {},
   "outputs": [],
   "source": [
    "import requests\n",
    "import pandas as pd"
   ]
  },
  {
   "cell_type": "code",
   "execution_count": 11,
   "metadata": {},
   "outputs": [],
   "source": [
    "def get_ppi_score(genes):\n",
    "    request_url = \"https://string-db.org/api/tsv-no-header/ppi_enrichment?\"\n",
    "    params = {\n",
    "        \"identifiers\" : \"%0d\".join(genes), # your proteins\n",
    "        \"species\" : 9606, # species NCBI identifier \n",
    "        \"caller_identity\" : \"www.awesome_app.org\" # your app name\n",
    "    }\n",
    "    response = requests.post(request_url, data=params)\n",
    "    print(response.text)\n",
    "    header_names = [\"number_of_nodes\", \"number_of_edges\", \"average_node_degree\", \"local_clustering_coefficient\", \"expected_number_of_edges\", \"p_value\"]\n",
    "    df = pd.DataFrame([line.split(\"\\t\") for line in response.text.strip().split(\"\\n\")], columns=header_names)\n",
    "    df[\"combo\"] = \"|\".join(genes)\n",
    "    return df"
   ]
  },
  {
   "cell_type": "code",
   "execution_count": 22,
   "metadata": {},
   "outputs": [],
   "source": [
    "combo_file = \"/data6/deepro/ukb_bmi/2_rarecomb/data/british/combo3.csv\"\n",
    "combo_df = pd.read_csv(combo_file)"
   ]
  },
  {
   "cell_type": "code",
   "execution_count": 23,
   "metadata": {},
   "outputs": [],
   "source": [
    "all_combo_genes = set(\"|\".join(combo_df.uniq_items.str.replace(\"Input_\", \"\").values).split(\"|\"))"
   ]
  },
  {
   "cell_type": "code",
   "execution_count": 24,
   "metadata": {},
   "outputs": [
    {
     "data": {
      "text/plain": [
       "372"
      ]
     },
     "execution_count": 24,
     "metadata": {},
     "output_type": "execute_result"
    }
   ],
   "source": [
    "len(all_combo_genes)"
   ]
  },
  {
   "cell_type": "code",
   "execution_count": 25,
   "metadata": {},
   "outputs": [
    {
     "name": "stdout",
     "output_type": "stream",
     "text": [
      "372\t1322\t7.11\t0.456\t432\t0.0\n",
      "\n"
     ]
    },
    {
     "data": {
      "text/html": [
       "<div>\n",
       "<style scoped>\n",
       "    .dataframe tbody tr th:only-of-type {\n",
       "        vertical-align: middle;\n",
       "    }\n",
       "\n",
       "    .dataframe tbody tr th {\n",
       "        vertical-align: top;\n",
       "    }\n",
       "\n",
       "    .dataframe thead th {\n",
       "        text-align: right;\n",
       "    }\n",
       "</style>\n",
       "<table border=\"1\" class=\"dataframe\">\n",
       "  <thead>\n",
       "    <tr style=\"text-align: right;\">\n",
       "      <th></th>\n",
       "      <th>number_of_nodes</th>\n",
       "      <th>number_of_edges</th>\n",
       "      <th>average_node_degree</th>\n",
       "      <th>local_clustering_coefficient</th>\n",
       "      <th>expected_number_of_edges</th>\n",
       "      <th>p_value</th>\n",
       "      <th>combo</th>\n",
       "    </tr>\n",
       "  </thead>\n",
       "  <tbody>\n",
       "    <tr>\n",
       "      <th>0</th>\n",
       "      <td>372</td>\n",
       "      <td>1322</td>\n",
       "      <td>7.11</td>\n",
       "      <td>0.456</td>\n",
       "      <td>432</td>\n",
       "      <td>0.0</td>\n",
       "      <td>AP3M2|NOTCH4|TRPM1|ZRANB3|TRNT1|LDLR|CEP290|SP...</td>\n",
       "    </tr>\n",
       "  </tbody>\n",
       "</table>\n",
       "</div>"
      ],
      "text/plain": [
       "  number_of_nodes number_of_edges average_node_degree  \\\n",
       "0             372            1322                7.11   \n",
       "\n",
       "  local_clustering_coefficient expected_number_of_edges p_value  \\\n",
       "0                        0.456                      432     0.0   \n",
       "\n",
       "                                               combo  \n",
       "0  AP3M2|NOTCH4|TRPM1|ZRANB3|TRNT1|LDLR|CEP290|SP...  "
      ]
     },
     "execution_count": 25,
     "metadata": {},
     "output_type": "execute_result"
    }
   ],
   "source": [
    "get_ppi_score(all_combo_genes)"
   ]
  },
  {
   "cell_type": "code",
   "execution_count": 43,
   "metadata": {},
   "outputs": [],
   "source": [
    "ppi_df = pd.concat(list(map(get_ppi_score, combo_df.uniq_items.str.replace(\"Input_\", \"\").str.split(\"|\"))))"
   ]
  },
  {
   "cell_type": "code",
   "execution_count": 46,
   "metadata": {},
   "outputs": [],
   "source": [
    "ppi_df[\"p_value\"] = ppi_df.p_value.astype(float)"
   ]
  },
  {
   "cell_type": "code",
   "execution_count": 47,
   "metadata": {},
   "outputs": [
    {
     "data": {
      "text/html": [
       "<div>\n",
       "<style scoped>\n",
       "    .dataframe tbody tr th:only-of-type {\n",
       "        vertical-align: middle;\n",
       "    }\n",
       "\n",
       "    .dataframe tbody tr th {\n",
       "        vertical-align: top;\n",
       "    }\n",
       "\n",
       "    .dataframe thead th {\n",
       "        text-align: right;\n",
       "    }\n",
       "</style>\n",
       "<table border=\"1\" class=\"dataframe\">\n",
       "  <thead>\n",
       "    <tr style=\"text-align: right;\">\n",
       "      <th></th>\n",
       "      <th>number_of_nodes</th>\n",
       "      <th>number_of_edges</th>\n",
       "      <th>average_node_degree</th>\n",
       "      <th>local_clustering_coefficient</th>\n",
       "      <th>expected_number_of_edges</th>\n",
       "      <th>p_value</th>\n",
       "      <th>combo</th>\n",
       "    </tr>\n",
       "  </thead>\n",
       "  <tbody>\n",
       "    <tr>\n",
       "      <th>0</th>\n",
       "      <td>3</td>\n",
       "      <td>1</td>\n",
       "      <td>0.67</td>\n",
       "      <td>0.667</td>\n",
       "      <td>0</td>\n",
       "      <td>0.0498</td>\n",
       "      <td>DNAH5|DNAJC6|TTN</td>\n",
       "    </tr>\n",
       "    <tr>\n",
       "      <th>0</th>\n",
       "      <td>3</td>\n",
       "      <td>1</td>\n",
       "      <td>0.67</td>\n",
       "      <td>0.667</td>\n",
       "      <td>0</td>\n",
       "      <td>0.0105</td>\n",
       "      <td>MYH8|SCN11A|SPTB</td>\n",
       "    </tr>\n",
       "    <tr>\n",
       "      <th>0</th>\n",
       "      <td>3</td>\n",
       "      <td>1</td>\n",
       "      <td>0.67</td>\n",
       "      <td>0.667</td>\n",
       "      <td>0</td>\n",
       "      <td>0.0345</td>\n",
       "      <td>MYH13|SCN9A|TTN</td>\n",
       "    </tr>\n",
       "    <tr>\n",
       "      <th>0</th>\n",
       "      <td>3</td>\n",
       "      <td>1</td>\n",
       "      <td>0.67</td>\n",
       "      <td>0.667</td>\n",
       "      <td>0</td>\n",
       "      <td>0.0252</td>\n",
       "      <td>KIF26A|OBSCN|RYR1</td>\n",
       "    </tr>\n",
       "    <tr>\n",
       "      <th>0</th>\n",
       "      <td>3</td>\n",
       "      <td>2</td>\n",
       "      <td>1.33</td>\n",
       "      <td>0.667</td>\n",
       "      <td>0</td>\n",
       "      <td>0.0083</td>\n",
       "      <td>KCNQ1|RYR1|TTN</td>\n",
       "    </tr>\n",
       "    <tr>\n",
       "      <th>...</th>\n",
       "      <td>...</td>\n",
       "      <td>...</td>\n",
       "      <td>...</td>\n",
       "      <td>...</td>\n",
       "      <td>...</td>\n",
       "      <td>...</td>\n",
       "      <td>...</td>\n",
       "    </tr>\n",
       "    <tr>\n",
       "      <th>0</th>\n",
       "      <td>3</td>\n",
       "      <td>1</td>\n",
       "      <td>0.67</td>\n",
       "      <td>0.667</td>\n",
       "      <td>0</td>\n",
       "      <td>0.0342</td>\n",
       "      <td>HOXB1|UGT1A1|UGT1A10</td>\n",
       "    </tr>\n",
       "    <tr>\n",
       "      <th>0</th>\n",
       "      <td>3</td>\n",
       "      <td>1</td>\n",
       "      <td>0.67</td>\n",
       "      <td>0.667</td>\n",
       "      <td>0</td>\n",
       "      <td>0.0350</td>\n",
       "      <td>HOXB1|UGT1A10|UGT1A6</td>\n",
       "    </tr>\n",
       "    <tr>\n",
       "      <th>0</th>\n",
       "      <td>3</td>\n",
       "      <td>1</td>\n",
       "      <td>0.67</td>\n",
       "      <td>0.667</td>\n",
       "      <td>0</td>\n",
       "      <td>0.0335</td>\n",
       "      <td>HOXB1|UGT1A10|UGT1A8</td>\n",
       "    </tr>\n",
       "    <tr>\n",
       "      <th>0</th>\n",
       "      <td>3</td>\n",
       "      <td>1</td>\n",
       "      <td>0.67</td>\n",
       "      <td>0.667</td>\n",
       "      <td>0</td>\n",
       "      <td>0.0256</td>\n",
       "      <td>HOXB1|UGT1A10|UGT1A3</td>\n",
       "    </tr>\n",
       "    <tr>\n",
       "      <th>0</th>\n",
       "      <td>3</td>\n",
       "      <td>1</td>\n",
       "      <td>0.67</td>\n",
       "      <td>0.667</td>\n",
       "      <td>0</td>\n",
       "      <td>0.0330</td>\n",
       "      <td>HOXB1|UGT1A10|UGT1A7</td>\n",
       "    </tr>\n",
       "  </tbody>\n",
       "</table>\n",
       "<p>373 rows × 7 columns</p>\n",
       "</div>"
      ],
      "text/plain": [
       "   number_of_nodes number_of_edges average_node_degree  \\\n",
       "0                3               1                0.67   \n",
       "0                3               1                0.67   \n",
       "0                3               1                0.67   \n",
       "0                3               1                0.67   \n",
       "0                3               2                1.33   \n",
       "..             ...             ...                 ...   \n",
       "0                3               1                0.67   \n",
       "0                3               1                0.67   \n",
       "0                3               1                0.67   \n",
       "0                3               1                0.67   \n",
       "0                3               1                0.67   \n",
       "\n",
       "   local_clustering_coefficient expected_number_of_edges  p_value  \\\n",
       "0                         0.667                        0   0.0498   \n",
       "0                         0.667                        0   0.0105   \n",
       "0                         0.667                        0   0.0345   \n",
       "0                         0.667                        0   0.0252   \n",
       "0                         0.667                        0   0.0083   \n",
       "..                          ...                      ...      ...   \n",
       "0                         0.667                        0   0.0342   \n",
       "0                         0.667                        0   0.0350   \n",
       "0                         0.667                        0   0.0335   \n",
       "0                         0.667                        0   0.0256   \n",
       "0                         0.667                        0   0.0330   \n",
       "\n",
       "                   combo  \n",
       "0       DNAH5|DNAJC6|TTN  \n",
       "0       MYH8|SCN11A|SPTB  \n",
       "0        MYH13|SCN9A|TTN  \n",
       "0      KIF26A|OBSCN|RYR1  \n",
       "0         KCNQ1|RYR1|TTN  \n",
       "..                   ...  \n",
       "0   HOXB1|UGT1A1|UGT1A10  \n",
       "0   HOXB1|UGT1A10|UGT1A6  \n",
       "0   HOXB1|UGT1A10|UGT1A8  \n",
       "0   HOXB1|UGT1A10|UGT1A3  \n",
       "0   HOXB1|UGT1A10|UGT1A7  \n",
       "\n",
       "[373 rows x 7 columns]"
      ]
     },
     "execution_count": 47,
     "metadata": {},
     "output_type": "execute_result"
    }
   ],
   "source": [
    "ppi_df.loc[ppi_df.p_value<0.05]"
   ]
  },
  {
   "cell_type": "code",
   "execution_count": null,
   "metadata": {},
   "outputs": [],
   "source": []
  },
  {
   "cell_type": "markdown",
   "metadata": {},
   "source": []
  }
 ],
 "metadata": {
  "kernelspec": {
   "display_name": "Python 3",
   "language": "python",
   "name": "python3"
  },
  "language_info": {
   "codemirror_mode": {
    "name": "ipython",
    "version": 3
   },
   "file_extension": ".py",
   "mimetype": "text/x-python",
   "name": "python",
   "nbconvert_exporter": "python",
   "pygments_lexer": "ipython3",
   "version": "3.11.4"
  }
 },
 "nbformat": 4,
 "nbformat_minor": 2
}
