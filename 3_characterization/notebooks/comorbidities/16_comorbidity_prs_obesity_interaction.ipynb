{
 "cells": [
  {
   "cell_type": "code",
   "execution_count": 113,
   "metadata": {},
   "outputs": [],
   "source": [
    "import os\n",
    "from scipy.stats.contingency import odds_ratio\n",
    "from scipy import stats\n",
    "import forestplot as fp\n",
    "from scipy.stats import fisher_exact, ttest_ind\n",
    "import pandas as pd\n",
    "\n",
    "from sklearn.preprocessing import LabelEncoder\n",
    "from sklearn.preprocessing import StandardScaler\n",
    "from sklearn.linear_model import LinearRegression\n",
    "import seaborn as sns\n",
    "\n",
    "import sys\n",
    "\n",
    "sys.path.append(\"../src/utils\")\n",
    "\n",
    "import parsing as utpa\n",
    "\n",
    "import os\n",
    "import pandas as pd\n",
    "from functools import reduce\n",
    "from itertools import combinations\n",
    "\n",
    "import upsetplot\n",
    "import seaborn as sns\n",
    "from matplotlib.ticker import MultipleLocator\n",
    "import matplotlib\n",
    "import matplotlib.pyplot as plt\n",
    "matplotlib.rcParams['pdf.fonttype'] = 42\n",
    "matplotlib.rcParams['ps.fonttype'] = 42\n",
    "matplotlib.rcParams['font.sans-serif'] = \"Arial\" # missing fonts:: https://alexanderlabwhoi.github.io/post/2021-03-missingfont/\n",
    "# Then, \"ALWAYS use sans-serif fonts\"\n",
    "matplotlib.rcParams['font.family'] = \"sans-serif\"\n",
    "matplotlib.rcParams.update({'font.size': 14, 'axes.linewidth': 2, 'xtick.major.width': 1.5, 'xtick.major.size': 7, 'ytick.major.width': 1.5, 'ytick.major.size': 7})\n",
    "from matplotlib.backends.backend_pdf import PdfPages"
   ]
  },
  {
   "cell_type": "code",
   "execution_count": 114,
   "metadata": {},
   "outputs": [],
   "source": [
    "# combo information files\n",
    "obese_case_cont_file = \"/data6/deepro/ukb_bmi/1_data_processing/data/british/case_controls.csv\"\n",
    "combo_info_dir = \"/data6/deepro/ukb_bmi/3_characterization/data/combo_info/comorbidities\"\n",
    "comorbidities = [\"E03.9Hypothyroidism,unspecified\", \"E11Non-insulin-dependentdiabetesmellitus\", \"E78.0Purehypercholesterolaemia\", \"I10Essential(primary)hypertension\", \"I20-I25Ischaemicheartdiseases\", \"K80-K87Disordersofgallbladder,biliarytractandpancreas\", \"M15-M19Arthrosis\"]\n",
    "comorbidity_codes = [\"E039\", \"E11\", \"E780\", \"I10\", \"BlockI20-I25\", \"BlockK80-K87\", \"BlockM15-M19\"]\n",
    "combo_info_filename_start = \"discovery\"\n",
    "combo_dir = \"/data6/deepro/ukb_bmi/2_rarecomb/data\"\n",
    "group_names = [\"british\", \"comorbidities/E03.9Hypothyroidism,unspecified\", \"comorbidities/E11Non-insulin-dependentdiabetesmellitus\", \"comorbidities/E78.0Purehypercholesterolaemia\", \"comorbidities/I10Essential(primary)hypertension\", \"comorbidities/I20-I25Ischaemicheartdiseases\", \"comorbidities/K80-K87Disordersofgallbladder,biliarytractandpancreas\", \"comorbidities/M15-M19Arthrosis\"] # \"protective\"\n",
    "\n",
    "# phenotype information files\n",
    "phenotype_file = \"/data6/deepro/ukb_bmi/0_data_preparation_and_download/phenotype/data/bmi_processed/british/train_cohort_bmi.csv.gz\"\n",
    "prs_obesity_related_file = \"/data6/deepro/ukb_bmi/0_data_preparation_and_download/obesity_related_prs/data/prs_processed/obesity_related.csv.gz\"\n",
    "\n",
    "# icd information files\n",
    "icd_raw_dir = \"/data6/deepro/ukb_bmi/0_data_preparation_and_download/icd_codes/data/icd_raw\"\n",
    "icd_codes_file = \"/data6/deepro/ukb_bmi/0_data_preparation_and_download/icd_codes/data/icd_tree/coding19.tsv\"\n",
    "cohort_file = \"/data6/deepro/ukb_bmi/0_data_preparation_and_download/phenotype/data/bmi_processed/british/train_cohort_bmi.csv.gz\"\n",
    "hes_info_file = \"/data6/deepro/ukb_bmi/0_data_preparation_and_download/icd_codes/data/hes_info/hes_info.csv.gz\""
   ]
  },
  {
   "cell_type": "code",
   "execution_count": 115,
   "metadata": {},
   "outputs": [],
   "source": [
    "def get_combo_set(combo_dir, group):\n",
    "    combo2_file = os.path.join(combo_dir, group, \"combo2.csv\")\n",
    "    combo3_file = os.path.join(combo_dir, group, \"combo3.csv\")\n",
    "    try:\n",
    "        combo2_df = pd.read_csv(combo2_file, usecols=[\"uniq_items\"])\n",
    "        combo2_set = set(combo2_df.uniq_items.to_list())\n",
    "    except FileNotFoundError:\n",
    "        combo2_set = set()\n",
    "    try:\n",
    "        combo3_df = pd.read_csv(combo3_file, usecols=[\"uniq_items\"])\n",
    "        combo3_set = set(combo3_df.uniq_items.to_list())\n",
    "    except FileNotFoundError:\n",
    "        combo3_set =set()\n",
    "    combo_set = combo2_set.union(combo3_set)\n",
    "    return combo_set\n",
    "\n",
    "def set_add(a, b):\n",
    "    return a.intersection(b)\n",
    "\n",
    "def set_subtract(a,b):\n",
    "    return a.difference(b)\n",
    "\n",
    "def get_intersects(include_sets, exclude_sets):\n",
    "    intersect_sets = reduce(set_add, include_sets)\n",
    "    if len(exclude_sets)>0:\n",
    "        exclude_sets = [intersect_sets] + exclude_sets\n",
    "        intersect_sets = reduce(set_subtract, exclude_sets)\n",
    "    return intersect_sets\n",
    "\n",
    "def get_upset_df(combo_dir, groups):\n",
    "    # get the set of gene combinations for each group\n",
    "    combo_dict = {g: get_combo_set(combo_dir, g) for g in groups}\n",
    "    combo_boolean_dict = {g:[] for g in groups}\n",
    "    counts = []\n",
    "    unique_intersect_sets = dict()\n",
    "    for i in range(1, len(groups) + 1):\n",
    "        # get combinations of length i\n",
    "        all_combos = list(combinations(groups, i))\n",
    "        for combos in all_combos:\n",
    "            # get counts of elements that are unique to the combinations\n",
    "            include_combos = combos\n",
    "            exclude_combos = tuple(g for g in groups if g not in include_combos)\n",
    "            include_sets = [combo_dict[c] for c in include_combos]\n",
    "            exclude_sets = [combo_dict[c] for c in exclude_combos]\n",
    "            unique_intersects = get_intersects(include_sets, exclude_sets)\n",
    "            counts.append(len(unique_intersects))\n",
    "            unique_intersect_sets[(include_combos, exclude_combos)] = unique_intersects\n",
    "            for c in include_combos:\n",
    "                combo_boolean_dict[c].append(True)\n",
    "            for c in exclude_combos:\n",
    "                combo_boolean_dict[c].append(False)\n",
    "    combo_boolean_dict[\"counts\"] = counts\n",
    "    df = pd.DataFrame(combo_boolean_dict)\n",
    "    return df.set_index(groups), unique_intersect_sets"
   ]
  },
  {
   "cell_type": "code",
   "execution_count": 116,
   "metadata": {},
   "outputs": [],
   "source": [
    "upset_df, unique_intersects = get_upset_df(combo_dir, group_names)"
   ]
  },
  {
   "cell_type": "code",
   "execution_count": 117,
   "metadata": {},
   "outputs": [],
   "source": [
    "parsed_upset_df = upset_df.loc[upset_df.counts>0]"
   ]
  },
  {
   "cell_type": "markdown",
   "metadata": {},
   "source": [
    "# Annotate obese info"
   ]
  },
  {
   "cell_type": "code",
   "execution_count": 3,
   "metadata": {},
   "outputs": [],
   "source": [
    "def get_scaled_bmi(df, categorical_cols, numerical_cols, scaled_numerical_cols):\n",
    "    # define encoders\n",
    "    en = LabelEncoder()\n",
    "    scaler = StandardScaler()\n",
    "    # select the categorical and numerical columns\n",
    "    # transform the categorical columns to integer values\n",
    "    for cat_col in categorical_cols:\n",
    "        df[cat_col] = en.fit_transform(df[cat_col])\n",
    "    # scale the numerical columns\n",
    "    df[numerical_cols] = scaler.fit_transform(df.loc[:, numerical_cols])\n",
    "    # scale bmi separately\n",
    "    df[\"bmi_scaled\"] = scaler.fit_transform(df.loc[:, [\"bmi\"]])\n",
    "    # Create the target variable (bmi_residuals) using linear regression\n",
    "    X = df.loc[:, categorical_cols + numerical_cols + scaled_numerical_cols]\n",
    "    y = df.loc[:, 'bmi_scaled']\n",
    "    model = LinearRegression()\n",
    "    model.fit(X, y)\n",
    "    # save the residuals for bmi\n",
    "    df['bmi_residuals'] = y - model.predict(X)\n",
    "    return df\n",
    "\n",
    "def create_bmi_res_prs_decile_data(phenotype_df):\n",
    "    categorical_cols = [\"genetic_sex\"]\n",
    "    numerical_cols = [\"age\"] + [f\"genetic_pca{i}\" for i in range(1, 40)]\n",
    "    scaled_numerical_cols = []#[\"bmi_prs\"]\n",
    "\n",
    "    phenotype_df = get_scaled_bmi(phenotype_df, categorical_cols, numerical_cols, scaled_numerical_cols)\n",
    "    phenotype_df[\"bmi_res_decile\"] = pd.qcut(phenotype_df.bmi_residuals, q=10)\n",
    "    phenotype_df[\"bmi_res_decile_num\"] = pd.qcut(phenotype_df.bmi_residuals, q=10, labels=False)\n",
    "    phenotype_df[\"bmi_prs_decile\"] = pd.qcut(phenotype_df.bmi_prs, q=10)\n",
    "    phenotype_df[\"bmi_prs_decile_num\"] = pd.qcut(phenotype_df.bmi_prs, q=10, labels=False)\n",
    "    phenotype_df[\"bmi_res_categories\"] = phenotype_df.bmi_res_decile_num.map({\n",
    "        0: \"underweight\", \n",
    "        1:\"normal\", 2:\"normal\", \n",
    "        3:\"overweight\", 4:\"overweight\", 5:\"overweight\", 6:\"overweight\", 7:\"overweight\",\n",
    "        8:\"obese\", 9:\"severe obesity\"\n",
    "        })\n",
    "    phenotype_df[\"bmi_prs_categories\"] = phenotype_df.bmi_prs_decile_num.map({\n",
    "        0: \"lowest\", \n",
    "        1:\"middle\", 2:\"middle\", \n",
    "        3:\"middle\", 4:\"middle\", 5:\"middle\", 6:\"middle\", 7:\"middle\",\n",
    "        8:\"middle\", 9:\"highest\"\n",
    "        })\n",
    "    mean_bmi_dict = phenotype_df.groupby(\"bmi_res_categories\")[\"bmi\"].mean().to_dict()\n",
    "    return phenotype_df, mean_bmi_dict\n",
    "\n",
    "def get_all_combo_info(combo_info_dir, comorbidities, comorbidity_codes, combo_info_filename_start):\n",
    "    combo_dfs = []\n",
    "    for cm, cmc in zip(comorbidities, comorbidity_codes):\n",
    "        combo_df = pd.concat([pd.read_csv(cf) for cf in os.scandir(os.path.join(combo_info_dir, cm)) if (cf.name.startswith(combo_info_filename_start)&(cf.name.endswith(\".csv\")))])\n",
    "        combo_df[\"combo_samples\"] = combo_df.combo_samples.str.split(\"|\")\n",
    "        combo_df = combo_df.explode(\"combo_samples\")\n",
    "        combo_df = combo_df.reset_index(drop=True)\n",
    "        combo_df[\"disease\"] = cm\n",
    "        combo_df[\"code\"] = cmc\n",
    "        combo_dfs.append(combo_df)\n",
    "\n",
    "    all_combo_df = pd.concat(combo_dfs).reset_index(drop=True)\n",
    "    return all_combo_df"
   ]
  },
  {
   "cell_type": "markdown",
   "metadata": {},
   "source": [
    "# Get phenotype info"
   ]
  },
  {
   "cell_type": "code",
   "execution_count": 4,
   "metadata": {},
   "outputs": [],
   "source": [
    "phenotype_df = pd.read_csv(\n",
    "        phenotype_file, \n",
    "        usecols=[\"sample_names\", \"genetic_sex\", \"age\"] + [f\"genetic_pca{i}\" for i in range(1, 40)] + [\"bmi_prs\", \"bmi\"])\n",
    "phenotype_df[\"sample_names\"] = phenotype_df.sample_names.astype(str)\n",
    "phenotype_samples_df, mean_bmi_dict = create_bmi_res_prs_decile_data(phenotype_df)\n",
    "\n",
    "prs_obesity_related_df = pd.read_csv(prs_obesity_related_file, dtype={\"sample_names\": str, \"ht_prs\":float, \"t2d_prs\":float})\n",
    "phenotype_w_prs_df = phenotype_samples_df.merge(prs_obesity_related_df, left_on=\"sample_names\", right_on=\"sample_names\")"
   ]
  },
  {
   "cell_type": "markdown",
   "metadata": {},
   "source": [
    "# Get combo info"
   ]
  },
  {
   "cell_type": "code",
   "execution_count": 5,
   "metadata": {},
   "outputs": [],
   "source": [
    "all_combo_df = get_all_combo_info(combo_info_dir, comorbidities, comorbidity_codes, combo_info_filename_start)"
   ]
  },
  {
   "cell_type": "markdown",
   "metadata": {},
   "source": [
    "# Add obesity info to all combo info"
   ]
  },
  {
   "cell_type": "code",
   "execution_count": 16,
   "metadata": {},
   "outputs": [],
   "source": [
    "all_combo_info_df = all_combo_df.merge(phenotype_w_prs_df.loc[:, [\"sample_names\", \"bmi_res_categories\", \"bmi_prs_categories\"]], left_on=\"combo_samples\", right_on=\"sample_names\")"
   ]
  },
  {
   "cell_type": "markdown",
   "metadata": {},
   "source": [
    "# ICD annotation"
   ]
  },
  {
   "cell_type": "code",
   "execution_count": 20,
   "metadata": {},
   "outputs": [],
   "source": [
    "icd_samples_df = utpa.create_icd_samples_file(icd_raw_dir)\n",
    "icd_codes_df = pd.read_csv(icd_codes_file, usecols=[\"coding\", \"meaning\", \"node_id\", \"parent_id\"], sep=\"\\t\")\n",
    "icd_codes_df[\"coding\"] = icd_codes_df.coding.str.replace(\" \", \"\")\n",
    "pheno_tree, root_pheno, c2nodeid_dict = utpa.create_tree(icd_codes_df, icd_samples_df)\n",
    "hes_info_df = pd.read_csv(hes_info_file, dtype={\"sample_names\": str, \"hes_info\": float})\n",
    "all_icd_samples = set(hes_info_df.loc[hes_info_df.hes_info>0, \"sample_names\"].values)"
   ]
  },
  {
   "cell_type": "code",
   "execution_count": 23,
   "metadata": {},
   "outputs": [],
   "source": [
    "all_combo_w_icd_df = all_combo_info_df.loc[all_combo_info_df.combo_samples.isin(all_icd_samples)]"
   ]
  },
  {
   "cell_type": "code",
   "execution_count": 24,
   "metadata": {},
   "outputs": [],
   "source": [
    "all_combo_w_icd_obese_df = all_combo_w_icd_df.loc[(all_combo_w_icd_df.bmi_res_categories==\"obese\")|(all_combo_w_icd_df.bmi_res_categories==\"severe obesity\")]"
   ]
  },
  {
   "cell_type": "code",
   "execution_count": 25,
   "metadata": {},
   "outputs": [],
   "source": [
    "all_combo_w_icd_nonobese_df = all_combo_w_icd_df.loc[(all_combo_w_icd_df.bmi_res_categories!=\"obese\")&(all_combo_w_icd_df.bmi_res_categories!=\"severe obesity\")]"
   ]
  },
  {
   "cell_type": "code",
   "execution_count": 26,
   "metadata": {},
   "outputs": [],
   "source": [
    "def get_table_icd(combo_samples, noncombo_samples, comorbid_samples, field):\n",
    "    table = [\n",
    "        [len(combo_samples.intersection(comorbid_samples)), len(combo_samples.difference(comorbid_samples))],\n",
    "        [len(noncombo_samples.intersection(comorbid_samples)), len(noncombo_samples.difference(comorbid_samples))]\n",
    "    ]\n",
    "    df = pd.DataFrame(table, columns=[f\"{field}\", f\"No {field}\"], index=[\"Combo\", \"Non Combo\"])\n",
    "    return df"
   ]
  },
  {
   "cell_type": "code",
   "execution_count": 27,
   "metadata": {},
   "outputs": [],
   "source": [
    "def check_icd_enrichment_combo_in_groups(all_combo_w_icd_df, all_samples):\n",
    "    all_combo_w_icd_dfs = []\n",
    "    icd_data = []\n",
    "\n",
    "    for group, gdf in all_combo_w_icd_df.groupby(\"code\"):\n",
    "        icdc_node = pheno_tree.node_dict[c2nodeid_dict[group]]\n",
    "        icd_samples = icdc_node.get_samples()\n",
    "        gdf[\"icd_case\"] = gdf.combo_samples.isin(icd_samples)\n",
    "        combo_samples = set(gdf.combo_samples.unique())\n",
    "        non_combo_samples = all_samples.difference(combo_samples)\n",
    "        df = get_table_icd(combo_samples, non_combo_samples, icd_samples, group)\n",
    "        res = fisher_exact(df)\n",
    "        or_study = odds_ratio(df)\n",
    "        cil, cih = or_study.confidence_interval(confidence_level=0.95)\n",
    "        icdc_node_data = (group, icdc_node.meaning, df.iloc[0,0], df.iloc[0,1], df.iloc[1,0], df.iloc[1,1], or_study.statistic, res.pvalue, cil, cih)\n",
    "        icd_data.append(icdc_node_data)\n",
    "        all_combo_w_icd_dfs.append(gdf)\n",
    "\n",
    "    all_combo_w_icd_annot_df = pd.concat(all_combo_w_icd_dfs)\n",
    "    all_combo_w_icd_enrich_df = pd.DataFrame(icd_data, columns=[\"icd_code\", \"icd_meaning\", \"combo_comorbid\", \"combo_noncomorbid\", \"noncombo_comorbid\", \"noncombo_noncomorbid\", \"odds_ratio\", \"p_value\", \"ci_low\", \"ci_high\"])\n",
    "    return all_combo_w_icd_annot_df, all_combo_w_icd_enrich_df"
   ]
  },
  {
   "cell_type": "code",
   "execution_count": 29,
   "metadata": {},
   "outputs": [],
   "source": [
    "obese_samples = set(phenotype_w_prs_df.loc[(phenotype_w_prs_df.bmi_res_categories==\"obese\")|(phenotype_w_prs_df.bmi_res_categories==\"severe obesity\"), \"sample_names\"].astype(str).values)\n",
    "non_obese_samples = all_icd_samples.difference(obese_samples)"
   ]
  },
  {
   "cell_type": "code",
   "execution_count": 30,
   "metadata": {},
   "outputs": [],
   "source": [
    "all_combo_w_icd_annot_nonobese_df, all_combo_w_icd_enrich_nonobese_df = check_icd_enrichment_combo_in_groups(all_combo_w_icd_nonobese_df, non_obese_samples)"
   ]
  },
  {
   "cell_type": "code",
   "execution_count": 31,
   "metadata": {},
   "outputs": [],
   "source": [
    "all_combo_w_icd_annot_obese_df, all_combo_w_icd_enrich_obese_df = check_icd_enrichment_combo_in_groups(all_combo_w_icd_obese_df, obese_samples)"
   ]
  },
  {
   "cell_type": "code",
   "execution_count": 32,
   "metadata": {},
   "outputs": [],
   "source": [
    "all_combo_w_icd_annot_df, all_combo_w_icd_enrich_df = check_icd_enrichment_combo_in_groups(all_combo_w_icd_df, all_icd_samples)"
   ]
  },
  {
   "cell_type": "code",
   "execution_count": 33,
   "metadata": {},
   "outputs": [
    {
     "data": {
      "text/html": [
       "<div>\n",
       "<style scoped>\n",
       "    .dataframe tbody tr th:only-of-type {\n",
       "        vertical-align: middle;\n",
       "    }\n",
       "\n",
       "    .dataframe tbody tr th {\n",
       "        vertical-align: top;\n",
       "    }\n",
       "\n",
       "    .dataframe thead th {\n",
       "        text-align: right;\n",
       "    }\n",
       "</style>\n",
       "<table border=\"1\" class=\"dataframe\">\n",
       "  <thead>\n",
       "    <tr style=\"text-align: right;\">\n",
       "      <th></th>\n",
       "      <th>icd_code</th>\n",
       "      <th>icd_meaning</th>\n",
       "      <th>combo_comorbid</th>\n",
       "      <th>combo_noncomorbid</th>\n",
       "      <th>noncombo_comorbid</th>\n",
       "      <th>noncombo_noncomorbid</th>\n",
       "      <th>odds_ratio</th>\n",
       "      <th>p_value</th>\n",
       "      <th>ci_low</th>\n",
       "      <th>ci_high</th>\n",
       "    </tr>\n",
       "  </thead>\n",
       "  <tbody>\n",
       "    <tr>\n",
       "      <th>0</th>\n",
       "      <td>BlockI20-I25</td>\n",
       "      <td>I20-I25 Ischaemic heart diseases</td>\n",
       "      <td>5222</td>\n",
       "      <td>4808</td>\n",
       "      <td>52144</td>\n",
       "      <td>386916</td>\n",
       "      <td>8.059000</td>\n",
       "      <td>0.0</td>\n",
       "      <td>7.739677</td>\n",
       "      <td>8.391632</td>\n",
       "    </tr>\n",
       "    <tr>\n",
       "      <th>1</th>\n",
       "      <td>BlockK80-K87</td>\n",
       "      <td>K80-K87 Disorders of gallbladder, biliary trac...</td>\n",
       "      <td>6442</td>\n",
       "      <td>12535</td>\n",
       "      <td>28292</td>\n",
       "      <td>401821</td>\n",
       "      <td>7.298969</td>\n",
       "      <td>0.0</td>\n",
       "      <td>7.065283</td>\n",
       "      <td>7.539944</td>\n",
       "    </tr>\n",
       "    <tr>\n",
       "      <th>2</th>\n",
       "      <td>BlockM15-M19</td>\n",
       "      <td>M15-M19 Arthrosis</td>\n",
       "      <td>5888</td>\n",
       "      <td>2606</td>\n",
       "      <td>87130</td>\n",
       "      <td>353466</td>\n",
       "      <td>9.165799</td>\n",
       "      <td>0.0</td>\n",
       "      <td>8.745944</td>\n",
       "      <td>9.607755</td>\n",
       "    </tr>\n",
       "    <tr>\n",
       "      <th>3</th>\n",
       "      <td>E039</td>\n",
       "      <td>E03.9 Hypothyroidism, unspecified</td>\n",
       "      <td>7572</td>\n",
       "      <td>20947</td>\n",
       "      <td>21479</td>\n",
       "      <td>399092</td>\n",
       "      <td>6.716517</td>\n",
       "      <td>0.0</td>\n",
       "      <td>6.519366</td>\n",
       "      <td>6.919253</td>\n",
       "    </tr>\n",
       "    <tr>\n",
       "      <th>4</th>\n",
       "      <td>E11</td>\n",
       "      <td>E11 Non-insulin-dependent diabetes mellitus</td>\n",
       "      <td>7782</td>\n",
       "      <td>15463</td>\n",
       "      <td>33057</td>\n",
       "      <td>392788</td>\n",
       "      <td>5.979834</td>\n",
       "      <td>0.0</td>\n",
       "      <td>5.805425</td>\n",
       "      <td>6.159182</td>\n",
       "    </tr>\n",
       "    <tr>\n",
       "      <th>5</th>\n",
       "      <td>E780</td>\n",
       "      <td>E78.0 Pure hypercholesterolaemia</td>\n",
       "      <td>6637</td>\n",
       "      <td>5082</td>\n",
       "      <td>64351</td>\n",
       "      <td>373020</td>\n",
       "      <td>7.570260</td>\n",
       "      <td>0.0</td>\n",
       "      <td>7.290608</td>\n",
       "      <td>7.860977</td>\n",
       "    </tr>\n",
       "    <tr>\n",
       "      <th>6</th>\n",
       "      <td>I10</td>\n",
       "      <td>I10 Essential (primary) hypertension</td>\n",
       "      <td>10386</td>\n",
       "      <td>2053</td>\n",
       "      <td>140589</td>\n",
       "      <td>296062</td>\n",
       "      <td>10.653404</td>\n",
       "      <td>0.0</td>\n",
       "      <td>10.155401</td>\n",
       "      <td>11.179996</td>\n",
       "    </tr>\n",
       "  </tbody>\n",
       "</table>\n",
       "</div>"
      ],
      "text/plain": [
       "       icd_code                                        icd_meaning  \\\n",
       "0  BlockI20-I25                   I20-I25 Ischaemic heart diseases   \n",
       "1  BlockK80-K87  K80-K87 Disorders of gallbladder, biliary trac...   \n",
       "2  BlockM15-M19                                  M15-M19 Arthrosis   \n",
       "3          E039                  E03.9 Hypothyroidism, unspecified   \n",
       "4           E11        E11 Non-insulin-dependent diabetes mellitus   \n",
       "5          E780                   E78.0 Pure hypercholesterolaemia   \n",
       "6           I10               I10 Essential (primary) hypertension   \n",
       "\n",
       "   combo_comorbid  combo_noncomorbid  noncombo_comorbid  noncombo_noncomorbid  \\\n",
       "0            5222               4808              52144                386916   \n",
       "1            6442              12535              28292                401821   \n",
       "2            5888               2606              87130                353466   \n",
       "3            7572              20947              21479                399092   \n",
       "4            7782              15463              33057                392788   \n",
       "5            6637               5082              64351                373020   \n",
       "6           10386               2053             140589                296062   \n",
       "\n",
       "   odds_ratio  p_value     ci_low    ci_high  \n",
       "0    8.059000      0.0   7.739677   8.391632  \n",
       "1    7.298969      0.0   7.065283   7.539944  \n",
       "2    9.165799      0.0   8.745944   9.607755  \n",
       "3    6.716517      0.0   6.519366   6.919253  \n",
       "4    5.979834      0.0   5.805425   6.159182  \n",
       "5    7.570260      0.0   7.290608   7.860977  \n",
       "6   10.653404      0.0  10.155401  11.179996  "
      ]
     },
     "execution_count": 33,
     "metadata": {},
     "output_type": "execute_result"
    }
   ],
   "source": [
    "all_combo_w_icd_enrich_df"
   ]
  },
  {
   "cell_type": "code",
   "execution_count": 20,
   "metadata": {},
   "outputs": [
    {
     "data": {
      "text/html": [
       "<div>\n",
       "<style scoped>\n",
       "    .dataframe tbody tr th:only-of-type {\n",
       "        vertical-align: middle;\n",
       "    }\n",
       "\n",
       "    .dataframe tbody tr th {\n",
       "        vertical-align: top;\n",
       "    }\n",
       "\n",
       "    .dataframe thead th {\n",
       "        text-align: right;\n",
       "    }\n",
       "</style>\n",
       "<table border=\"1\" class=\"dataframe\">\n",
       "  <thead>\n",
       "    <tr style=\"text-align: right;\">\n",
       "      <th></th>\n",
       "      <th>icd_code</th>\n",
       "      <th>icd_meaning</th>\n",
       "      <th>combo_comorbid</th>\n",
       "      <th>combo_noncomorbid</th>\n",
       "      <th>noncombo_comorbid</th>\n",
       "      <th>noncombo_noncomorbid</th>\n",
       "      <th>odds_ratio</th>\n",
       "      <th>p_value</th>\n",
       "      <th>ci_low</th>\n",
       "      <th>ci_high</th>\n",
       "    </tr>\n",
       "  </thead>\n",
       "  <tbody>\n",
       "    <tr>\n",
       "      <th>0</th>\n",
       "      <td>BlockI20-I25</td>\n",
       "      <td>I20-I25 Ischaemic heart diseases</td>\n",
       "      <td>5222</td>\n",
       "      <td>4808</td>\n",
       "      <td>52144</td>\n",
       "      <td>386916</td>\n",
       "      <td>8.059000</td>\n",
       "      <td>0.0</td>\n",
       "      <td>7.739677</td>\n",
       "      <td>8.391632</td>\n",
       "    </tr>\n",
       "    <tr>\n",
       "      <th>1</th>\n",
       "      <td>BlockK80-K87</td>\n",
       "      <td>K80-K87 Disorders of gallbladder, biliary trac...</td>\n",
       "      <td>6442</td>\n",
       "      <td>12535</td>\n",
       "      <td>28292</td>\n",
       "      <td>401821</td>\n",
       "      <td>7.298969</td>\n",
       "      <td>0.0</td>\n",
       "      <td>7.065283</td>\n",
       "      <td>7.539944</td>\n",
       "    </tr>\n",
       "    <tr>\n",
       "      <th>2</th>\n",
       "      <td>BlockM15-M19</td>\n",
       "      <td>M15-M19 Arthrosis</td>\n",
       "      <td>5888</td>\n",
       "      <td>2606</td>\n",
       "      <td>87130</td>\n",
       "      <td>353466</td>\n",
       "      <td>9.165799</td>\n",
       "      <td>0.0</td>\n",
       "      <td>8.745944</td>\n",
       "      <td>9.607755</td>\n",
       "    </tr>\n",
       "    <tr>\n",
       "      <th>3</th>\n",
       "      <td>E039</td>\n",
       "      <td>E03.9 Hypothyroidism, unspecified</td>\n",
       "      <td>7572</td>\n",
       "      <td>20947</td>\n",
       "      <td>21479</td>\n",
       "      <td>399092</td>\n",
       "      <td>6.716517</td>\n",
       "      <td>0.0</td>\n",
       "      <td>6.519366</td>\n",
       "      <td>6.919253</td>\n",
       "    </tr>\n",
       "    <tr>\n",
       "      <th>4</th>\n",
       "      <td>E11</td>\n",
       "      <td>E11 Non-insulin-dependent diabetes mellitus</td>\n",
       "      <td>7782</td>\n",
       "      <td>15463</td>\n",
       "      <td>33057</td>\n",
       "      <td>392788</td>\n",
       "      <td>5.979834</td>\n",
       "      <td>0.0</td>\n",
       "      <td>5.805425</td>\n",
       "      <td>6.159182</td>\n",
       "    </tr>\n",
       "    <tr>\n",
       "      <th>5</th>\n",
       "      <td>E780</td>\n",
       "      <td>E78.0 Pure hypercholesterolaemia</td>\n",
       "      <td>6637</td>\n",
       "      <td>5082</td>\n",
       "      <td>64351</td>\n",
       "      <td>373020</td>\n",
       "      <td>7.570260</td>\n",
       "      <td>0.0</td>\n",
       "      <td>7.290608</td>\n",
       "      <td>7.860977</td>\n",
       "    </tr>\n",
       "    <tr>\n",
       "      <th>6</th>\n",
       "      <td>I10</td>\n",
       "      <td>I10 Essential (primary) hypertension</td>\n",
       "      <td>10386</td>\n",
       "      <td>2053</td>\n",
       "      <td>140589</td>\n",
       "      <td>296062</td>\n",
       "      <td>10.653404</td>\n",
       "      <td>0.0</td>\n",
       "      <td>10.155401</td>\n",
       "      <td>11.179996</td>\n",
       "    </tr>\n",
       "  </tbody>\n",
       "</table>\n",
       "</div>"
      ],
      "text/plain": [
       "       icd_code                                        icd_meaning  \\\n",
       "0  BlockI20-I25                   I20-I25 Ischaemic heart diseases   \n",
       "1  BlockK80-K87  K80-K87 Disorders of gallbladder, biliary trac...   \n",
       "2  BlockM15-M19                                  M15-M19 Arthrosis   \n",
       "3          E039                  E03.9 Hypothyroidism, unspecified   \n",
       "4           E11        E11 Non-insulin-dependent diabetes mellitus   \n",
       "5          E780                   E78.0 Pure hypercholesterolaemia   \n",
       "6           I10               I10 Essential (primary) hypertension   \n",
       "\n",
       "   combo_comorbid  combo_noncomorbid  noncombo_comorbid  noncombo_noncomorbid  \\\n",
       "0            5222               4808              52144                386916   \n",
       "1            6442              12535              28292                401821   \n",
       "2            5888               2606              87130                353466   \n",
       "3            7572              20947              21479                399092   \n",
       "4            7782              15463              33057                392788   \n",
       "5            6637               5082              64351                373020   \n",
       "6           10386               2053             140589                296062   \n",
       "\n",
       "   odds_ratio  p_value     ci_low    ci_high  \n",
       "0    8.059000      0.0   7.739677   8.391632  \n",
       "1    7.298969      0.0   7.065283   7.539944  \n",
       "2    9.165799      0.0   8.745944   9.607755  \n",
       "3    6.716517      0.0   6.519366   6.919253  \n",
       "4    5.979834      0.0   5.805425   6.159182  \n",
       "5    7.570260      0.0   7.290608   7.860977  \n",
       "6   10.653404      0.0  10.155401  11.179996  "
      ]
     },
     "execution_count": 20,
     "metadata": {},
     "output_type": "execute_result"
    }
   ],
   "source": [
    "all_combo_w_icd_enrich_df"
   ]
  },
  {
   "cell_type": "code",
   "execution_count": 34,
   "metadata": {},
   "outputs": [
    {
     "data": {
      "text/html": [
       "<div>\n",
       "<style scoped>\n",
       "    .dataframe tbody tr th:only-of-type {\n",
       "        vertical-align: middle;\n",
       "    }\n",
       "\n",
       "    .dataframe tbody tr th {\n",
       "        vertical-align: top;\n",
       "    }\n",
       "\n",
       "    .dataframe thead th {\n",
       "        text-align: right;\n",
       "    }\n",
       "</style>\n",
       "<table border=\"1\" class=\"dataframe\">\n",
       "  <thead>\n",
       "    <tr style=\"text-align: right;\">\n",
       "      <th></th>\n",
       "      <th>icd_code</th>\n",
       "      <th>icd_meaning</th>\n",
       "      <th>combo_comorbid</th>\n",
       "      <th>combo_noncomorbid</th>\n",
       "      <th>noncombo_comorbid</th>\n",
       "      <th>noncombo_noncomorbid</th>\n",
       "      <th>odds_ratio</th>\n",
       "      <th>p_value</th>\n",
       "      <th>ci_low</th>\n",
       "      <th>ci_high</th>\n",
       "    </tr>\n",
       "  </thead>\n",
       "  <tbody>\n",
       "    <tr>\n",
       "      <th>0</th>\n",
       "      <td>BlockI20-I25</td>\n",
       "      <td>I20-I25 Ischaemic heart diseases</td>\n",
       "      <td>1550</td>\n",
       "      <td>992</td>\n",
       "      <td>12453</td>\n",
       "      <td>70515</td>\n",
       "      <td>8.847279</td>\n",
       "      <td>0.0</td>\n",
       "      <td>8.145531</td>\n",
       "      <td>9.612777</td>\n",
       "    </tr>\n",
       "    <tr>\n",
       "      <th>1</th>\n",
       "      <td>BlockK80-K87</td>\n",
       "      <td>K80-K87 Disorders of gallbladder, biliary trac...</td>\n",
       "      <td>2140</td>\n",
       "      <td>2479</td>\n",
       "      <td>8058</td>\n",
       "      <td>72833</td>\n",
       "      <td>7.802241</td>\n",
       "      <td>0.0</td>\n",
       "      <td>7.327582</td>\n",
       "      <td>8.307322</td>\n",
       "    </tr>\n",
       "    <tr>\n",
       "      <th>2</th>\n",
       "      <td>BlockM15-M19</td>\n",
       "      <td>M15-M19 Arthrosis</td>\n",
       "      <td>1790</td>\n",
       "      <td>481</td>\n",
       "      <td>23307</td>\n",
       "      <td>59932</td>\n",
       "      <td>9.569021</td>\n",
       "      <td>0.0</td>\n",
       "      <td>8.637652</td>\n",
       "      <td>10.616564</td>\n",
       "    </tr>\n",
       "    <tr>\n",
       "      <th>3</th>\n",
       "      <td>E039</td>\n",
       "      <td>E03.9 Hypothyroidism, unspecified</td>\n",
       "      <td>2310</td>\n",
       "      <td>4301</td>\n",
       "      <td>5343</td>\n",
       "      <td>73556</td>\n",
       "      <td>7.393611</td>\n",
       "      <td>0.0</td>\n",
       "      <td>6.975794</td>\n",
       "      <td>7.835584</td>\n",
       "    </tr>\n",
       "    <tr>\n",
       "      <th>4</th>\n",
       "      <td>E11</td>\n",
       "      <td>E11 Non-insulin-dependent diabetes mellitus</td>\n",
       "      <td>3865</td>\n",
       "      <td>2769</td>\n",
       "      <td>12048</td>\n",
       "      <td>66828</td>\n",
       "      <td>7.742019</td>\n",
       "      <td>0.0</td>\n",
       "      <td>7.343676</td>\n",
       "      <td>8.162746</td>\n",
       "    </tr>\n",
       "    <tr>\n",
       "      <th>5</th>\n",
       "      <td>E780</td>\n",
       "      <td>E78.0 Pure hypercholesterolaemia</td>\n",
       "      <td>1993</td>\n",
       "      <td>947</td>\n",
       "      <td>15303</td>\n",
       "      <td>67267</td>\n",
       "      <td>9.250527</td>\n",
       "      <td>0.0</td>\n",
       "      <td>8.540331</td>\n",
       "      <td>10.025019</td>\n",
       "    </tr>\n",
       "    <tr>\n",
       "      <th>6</th>\n",
       "      <td>I10</td>\n",
       "      <td>I10 Essential (primary) hypertension</td>\n",
       "      <td>3326</td>\n",
       "      <td>303</td>\n",
       "      <td>36558</td>\n",
       "      <td>45323</td>\n",
       "      <td>13.608363</td>\n",
       "      <td>0.0</td>\n",
       "      <td>12.084535</td>\n",
       "      <td>15.370044</td>\n",
       "    </tr>\n",
       "  </tbody>\n",
       "</table>\n",
       "</div>"
      ],
      "text/plain": [
       "       icd_code                                        icd_meaning  \\\n",
       "0  BlockI20-I25                   I20-I25 Ischaemic heart diseases   \n",
       "1  BlockK80-K87  K80-K87 Disorders of gallbladder, biliary trac...   \n",
       "2  BlockM15-M19                                  M15-M19 Arthrosis   \n",
       "3          E039                  E03.9 Hypothyroidism, unspecified   \n",
       "4           E11        E11 Non-insulin-dependent diabetes mellitus   \n",
       "5          E780                   E78.0 Pure hypercholesterolaemia   \n",
       "6           I10               I10 Essential (primary) hypertension   \n",
       "\n",
       "   combo_comorbid  combo_noncomorbid  noncombo_comorbid  noncombo_noncomorbid  \\\n",
       "0            1550                992              12453                 70515   \n",
       "1            2140               2479               8058                 72833   \n",
       "2            1790                481              23307                 59932   \n",
       "3            2310               4301               5343                 73556   \n",
       "4            3865               2769              12048                 66828   \n",
       "5            1993                947              15303                 67267   \n",
       "6            3326                303              36558                 45323   \n",
       "\n",
       "   odds_ratio  p_value     ci_low    ci_high  \n",
       "0    8.847279      0.0   8.145531   9.612777  \n",
       "1    7.802241      0.0   7.327582   8.307322  \n",
       "2    9.569021      0.0   8.637652  10.616564  \n",
       "3    7.393611      0.0   6.975794   7.835584  \n",
       "4    7.742019      0.0   7.343676   8.162746  \n",
       "5    9.250527      0.0   8.540331  10.025019  \n",
       "6   13.608363      0.0  12.084535  15.370044  "
      ]
     },
     "execution_count": 34,
     "metadata": {},
     "output_type": "execute_result"
    }
   ],
   "source": [
    "all_combo_w_icd_enrich_obese_df"
   ]
  },
  {
   "cell_type": "code",
   "execution_count": 35,
   "metadata": {},
   "outputs": [
    {
     "data": {
      "text/html": [
       "<div>\n",
       "<style scoped>\n",
       "    .dataframe tbody tr th:only-of-type {\n",
       "        vertical-align: middle;\n",
       "    }\n",
       "\n",
       "    .dataframe tbody tr th {\n",
       "        vertical-align: top;\n",
       "    }\n",
       "\n",
       "    .dataframe thead th {\n",
       "        text-align: right;\n",
       "    }\n",
       "</style>\n",
       "<table border=\"1\" class=\"dataframe\">\n",
       "  <thead>\n",
       "    <tr style=\"text-align: right;\">\n",
       "      <th></th>\n",
       "      <th>icd_code</th>\n",
       "      <th>icd_meaning</th>\n",
       "      <th>combo_comorbid</th>\n",
       "      <th>combo_noncomorbid</th>\n",
       "      <th>noncombo_comorbid</th>\n",
       "      <th>noncombo_noncomorbid</th>\n",
       "      <th>odds_ratio</th>\n",
       "      <th>p_value</th>\n",
       "      <th>ci_low</th>\n",
       "      <th>ci_high</th>\n",
       "    </tr>\n",
       "  </thead>\n",
       "  <tbody>\n",
       "    <tr>\n",
       "      <th>0</th>\n",
       "      <td>BlockI20-I25</td>\n",
       "      <td>I20-I25 Ischaemic heart diseases</td>\n",
       "      <td>3672</td>\n",
       "      <td>3816</td>\n",
       "      <td>39691</td>\n",
       "      <td>322409</td>\n",
       "      <td>7.816368</td>\n",
       "      <td>0.0</td>\n",
       "      <td>7.459155</td>\n",
       "      <td>8.190618</td>\n",
       "    </tr>\n",
       "    <tr>\n",
       "      <th>1</th>\n",
       "      <td>BlockK80-K87</td>\n",
       "      <td>K80-K87 Disorders of gallbladder, biliary trac...</td>\n",
       "      <td>4302</td>\n",
       "      <td>10056</td>\n",
       "      <td>20234</td>\n",
       "      <td>334996</td>\n",
       "      <td>7.082690</td>\n",
       "      <td>0.0</td>\n",
       "      <td>6.814053</td>\n",
       "      <td>7.361146</td>\n",
       "    </tr>\n",
       "    <tr>\n",
       "      <th>2</th>\n",
       "      <td>BlockM15-M19</td>\n",
       "      <td>M15-M19 Arthrosis</td>\n",
       "      <td>4098</td>\n",
       "      <td>2125</td>\n",
       "      <td>63823</td>\n",
       "      <td>299542</td>\n",
       "      <td>9.050856</td>\n",
       "      <td>0.0</td>\n",
       "      <td>8.580682</td>\n",
       "      <td>9.548847</td>\n",
       "    </tr>\n",
       "    <tr>\n",
       "      <th>3</th>\n",
       "      <td>E039</td>\n",
       "      <td>E03.9 Hypothyroidism, unspecified</td>\n",
       "      <td>5262</td>\n",
       "      <td>16646</td>\n",
       "      <td>16136</td>\n",
       "      <td>331544</td>\n",
       "      <td>6.495041</td>\n",
       "      <td>0.0</td>\n",
       "      <td>6.271691</td>\n",
       "      <td>6.725755</td>\n",
       "    </tr>\n",
       "    <tr>\n",
       "      <th>4</th>\n",
       "      <td>E11</td>\n",
       "      <td>E11 Non-insulin-dependent diabetes mellitus</td>\n",
       "      <td>3917</td>\n",
       "      <td>12694</td>\n",
       "      <td>21009</td>\n",
       "      <td>331968</td>\n",
       "      <td>4.875763</td>\n",
       "      <td>0.0</td>\n",
       "      <td>4.690652</td>\n",
       "      <td>5.067457</td>\n",
       "    </tr>\n",
       "    <tr>\n",
       "      <th>5</th>\n",
       "      <td>E780</td>\n",
       "      <td>E78.0 Pure hypercholesterolaemia</td>\n",
       "      <td>4644</td>\n",
       "      <td>4135</td>\n",
       "      <td>49048</td>\n",
       "      <td>311761</td>\n",
       "      <td>7.138605</td>\n",
       "      <td>0.0</td>\n",
       "      <td>6.836765</td>\n",
       "      <td>7.453959</td>\n",
       "    </tr>\n",
       "    <tr>\n",
       "      <th>6</th>\n",
       "      <td>I10</td>\n",
       "      <td>I10 Essential (primary) hypertension</td>\n",
       "      <td>7060</td>\n",
       "      <td>1750</td>\n",
       "      <td>104031</td>\n",
       "      <td>256747</td>\n",
       "      <td>9.956491</td>\n",
       "      <td>0.0</td>\n",
       "      <td>9.442638</td>\n",
       "      <td>10.502620</td>\n",
       "    </tr>\n",
       "  </tbody>\n",
       "</table>\n",
       "</div>"
      ],
      "text/plain": [
       "       icd_code                                        icd_meaning  \\\n",
       "0  BlockI20-I25                   I20-I25 Ischaemic heart diseases   \n",
       "1  BlockK80-K87  K80-K87 Disorders of gallbladder, biliary trac...   \n",
       "2  BlockM15-M19                                  M15-M19 Arthrosis   \n",
       "3          E039                  E03.9 Hypothyroidism, unspecified   \n",
       "4           E11        E11 Non-insulin-dependent diabetes mellitus   \n",
       "5          E780                   E78.0 Pure hypercholesterolaemia   \n",
       "6           I10               I10 Essential (primary) hypertension   \n",
       "\n",
       "   combo_comorbid  combo_noncomorbid  noncombo_comorbid  noncombo_noncomorbid  \\\n",
       "0            3672               3816              39691                322409   \n",
       "1            4302              10056              20234                334996   \n",
       "2            4098               2125              63823                299542   \n",
       "3            5262              16646              16136                331544   \n",
       "4            3917              12694              21009                331968   \n",
       "5            4644               4135              49048                311761   \n",
       "6            7060               1750             104031                256747   \n",
       "\n",
       "   odds_ratio  p_value    ci_low    ci_high  \n",
       "0    7.816368      0.0  7.459155   8.190618  \n",
       "1    7.082690      0.0  6.814053   7.361146  \n",
       "2    9.050856      0.0  8.580682   9.548847  \n",
       "3    6.495041      0.0  6.271691   6.725755  \n",
       "4    4.875763      0.0  4.690652   5.067457  \n",
       "5    7.138605      0.0  6.836765   7.453959  \n",
       "6    9.956491      0.0  9.442638  10.502620  "
      ]
     },
     "execution_count": 35,
     "metadata": {},
     "output_type": "execute_result"
    }
   ],
   "source": [
    "all_combo_w_icd_enrich_nonobese_df"
   ]
  },
  {
   "cell_type": "markdown",
   "metadata": {},
   "source": [
    "# Specific combinations causing comorbidity only in the presence of obesity\n",
    "\n",
    "1. Fishers exact, comorbid enriched significantly amongst obese individuals compared to non-obese"
   ]
  },
  {
   "cell_type": "code",
   "execution_count": 37,
   "metadata": {},
   "outputs": [
    {
     "data": {
      "text/html": [
       "<div>\n",
       "<style scoped>\n",
       "    .dataframe tbody tr th:only-of-type {\n",
       "        vertical-align: middle;\n",
       "    }\n",
       "\n",
       "    .dataframe tbody tr th {\n",
       "        vertical-align: top;\n",
       "    }\n",
       "\n",
       "    .dataframe thead th {\n",
       "        text-align: right;\n",
       "    }\n",
       "</style>\n",
       "<table border=\"1\" class=\"dataframe\">\n",
       "  <thead>\n",
       "    <tr style=\"text-align: right;\">\n",
       "      <th></th>\n",
       "      <th>uniq_items</th>\n",
       "      <th>combo_samples</th>\n",
       "      <th>disease</th>\n",
       "      <th>code</th>\n",
       "      <th>sample_names</th>\n",
       "      <th>bmi_res_categories</th>\n",
       "      <th>bmi_prs_categories</th>\n",
       "      <th>icd_case</th>\n",
       "    </tr>\n",
       "  </thead>\n",
       "  <tbody>\n",
       "    <tr>\n",
       "      <th>108</th>\n",
       "      <td>Input_HTT|Input_VPS13B</td>\n",
       "      <td>4150653</td>\n",
       "      <td>I20-I25Ischaemicheartdiseases</td>\n",
       "      <td>BlockI20-I25</td>\n",
       "      <td>4150653</td>\n",
       "      <td>underweight</td>\n",
       "      <td>middle</td>\n",
       "      <td>False</td>\n",
       "    </tr>\n",
       "    <tr>\n",
       "      <th>132</th>\n",
       "      <td>Input_REM1|Input_SLFN11</td>\n",
       "      <td>4686010</td>\n",
       "      <td>I20-I25Ischaemicheartdiseases</td>\n",
       "      <td>BlockI20-I25</td>\n",
       "      <td>4686010</td>\n",
       "      <td>overweight</td>\n",
       "      <td>middle</td>\n",
       "      <td>False</td>\n",
       "    </tr>\n",
       "    <tr>\n",
       "      <th>195</th>\n",
       "      <td>Input_FOXO3|Input_KRT71</td>\n",
       "      <td>2731575</td>\n",
       "      <td>I20-I25Ischaemicheartdiseases</td>\n",
       "      <td>BlockI20-I25</td>\n",
       "      <td>2731575</td>\n",
       "      <td>overweight</td>\n",
       "      <td>middle</td>\n",
       "      <td>True</td>\n",
       "    </tr>\n",
       "    <tr>\n",
       "      <th>222</th>\n",
       "      <td>Input_FOXO3|Input_KRT71</td>\n",
       "      <td>5153210</td>\n",
       "      <td>I20-I25Ischaemicheartdiseases</td>\n",
       "      <td>BlockI20-I25</td>\n",
       "      <td>5153210</td>\n",
       "      <td>underweight</td>\n",
       "      <td>middle</td>\n",
       "      <td>False</td>\n",
       "    </tr>\n",
       "    <tr>\n",
       "      <th>309</th>\n",
       "      <td>Input_HKDC1|Input_MUC12</td>\n",
       "      <td>3022728</td>\n",
       "      <td>I20-I25Ischaemicheartdiseases</td>\n",
       "      <td>BlockI20-I25</td>\n",
       "      <td>3022728</td>\n",
       "      <td>overweight</td>\n",
       "      <td>middle</td>\n",
       "      <td>False</td>\n",
       "    </tr>\n",
       "    <tr>\n",
       "      <th>...</th>\n",
       "      <td>...</td>\n",
       "      <td>...</td>\n",
       "      <td>...</td>\n",
       "      <td>...</td>\n",
       "      <td>...</td>\n",
       "      <td>...</td>\n",
       "      <td>...</td>\n",
       "      <td>...</td>\n",
       "    </tr>\n",
       "    <tr>\n",
       "      <th>102041</th>\n",
       "      <td>Input_AARS2|Input_MYH11|Input_TMEM151B</td>\n",
       "      <td>3558508</td>\n",
       "      <td>I10Essential(primary)hypertension</td>\n",
       "      <td>I10</td>\n",
       "      <td>3558508</td>\n",
       "      <td>overweight</td>\n",
       "      <td>middle</td>\n",
       "      <td>True</td>\n",
       "    </tr>\n",
       "    <tr>\n",
       "      <th>102042</th>\n",
       "      <td>Input_AARS2|Input_MYH11|Input_TMEM151B</td>\n",
       "      <td>4101695</td>\n",
       "      <td>I10Essential(primary)hypertension</td>\n",
       "      <td>I10</td>\n",
       "      <td>4101695</td>\n",
       "      <td>overweight</td>\n",
       "      <td>middle</td>\n",
       "      <td>True</td>\n",
       "    </tr>\n",
       "    <tr>\n",
       "      <th>102043</th>\n",
       "      <td>Input_LRP4|Input_PSMD10|Input_TEX13A</td>\n",
       "      <td>3503851</td>\n",
       "      <td>I10Essential(primary)hypertension</td>\n",
       "      <td>I10</td>\n",
       "      <td>3503851</td>\n",
       "      <td>obese</td>\n",
       "      <td>middle</td>\n",
       "      <td>True</td>\n",
       "    </tr>\n",
       "    <tr>\n",
       "      <th>102044</th>\n",
       "      <td>Input_LRP4|Input_PSMD10|Input_TEX13A</td>\n",
       "      <td>4912795</td>\n",
       "      <td>I10Essential(primary)hypertension</td>\n",
       "      <td>I10</td>\n",
       "      <td>4912795</td>\n",
       "      <td>underweight</td>\n",
       "      <td>middle</td>\n",
       "      <td>True</td>\n",
       "    </tr>\n",
       "    <tr>\n",
       "      <th>102045</th>\n",
       "      <td>Input_LRP4|Input_PSMD10|Input_TEX13A</td>\n",
       "      <td>5666104</td>\n",
       "      <td>I10Essential(primary)hypertension</td>\n",
       "      <td>I10</td>\n",
       "      <td>5666104</td>\n",
       "      <td>overweight</td>\n",
       "      <td>middle</td>\n",
       "      <td>True</td>\n",
       "    </tr>\n",
       "  </tbody>\n",
       "</table>\n",
       "<p>123790 rows × 8 columns</p>\n",
       "</div>"
      ],
      "text/plain": [
       "                                    uniq_items combo_samples  \\\n",
       "108                     Input_HTT|Input_VPS13B       4150653   \n",
       "132                    Input_REM1|Input_SLFN11       4686010   \n",
       "195                    Input_FOXO3|Input_KRT71       2731575   \n",
       "222                    Input_FOXO3|Input_KRT71       5153210   \n",
       "309                    Input_HKDC1|Input_MUC12       3022728   \n",
       "...                                        ...           ...   \n",
       "102041  Input_AARS2|Input_MYH11|Input_TMEM151B       3558508   \n",
       "102042  Input_AARS2|Input_MYH11|Input_TMEM151B       4101695   \n",
       "102043    Input_LRP4|Input_PSMD10|Input_TEX13A       3503851   \n",
       "102044    Input_LRP4|Input_PSMD10|Input_TEX13A       4912795   \n",
       "102045    Input_LRP4|Input_PSMD10|Input_TEX13A       5666104   \n",
       "\n",
       "                                  disease          code sample_names  \\\n",
       "108         I20-I25Ischaemicheartdiseases  BlockI20-I25      4150653   \n",
       "132         I20-I25Ischaemicheartdiseases  BlockI20-I25      4686010   \n",
       "195         I20-I25Ischaemicheartdiseases  BlockI20-I25      2731575   \n",
       "222         I20-I25Ischaemicheartdiseases  BlockI20-I25      5153210   \n",
       "309         I20-I25Ischaemicheartdiseases  BlockI20-I25      3022728   \n",
       "...                                   ...           ...          ...   \n",
       "102041  I10Essential(primary)hypertension           I10      3558508   \n",
       "102042  I10Essential(primary)hypertension           I10      4101695   \n",
       "102043  I10Essential(primary)hypertension           I10      3503851   \n",
       "102044  I10Essential(primary)hypertension           I10      4912795   \n",
       "102045  I10Essential(primary)hypertension           I10      5666104   \n",
       "\n",
       "       bmi_res_categories bmi_prs_categories  icd_case  \n",
       "108           underweight             middle     False  \n",
       "132            overweight             middle     False  \n",
       "195            overweight             middle      True  \n",
       "222           underweight             middle     False  \n",
       "309            overweight             middle     False  \n",
       "...                   ...                ...       ...  \n",
       "102041         overweight             middle      True  \n",
       "102042         overweight             middle      True  \n",
       "102043              obese             middle      True  \n",
       "102044        underweight             middle      True  \n",
       "102045         overweight             middle      True  \n",
       "\n",
       "[123790 rows x 8 columns]"
      ]
     },
     "execution_count": 37,
     "metadata": {},
     "output_type": "execute_result"
    }
   ],
   "source": [
    "all_combo_w_icd_annot_df"
   ]
  },
  {
   "cell_type": "code",
   "execution_count": 60,
   "metadata": {},
   "outputs": [],
   "source": [
    "def get_table_icd(obese_samples, nonobese_samples, comorbid_samples, field):\n",
    "    table = [\n",
    "        [len(obese_samples.intersection(comorbid_samples)), len(obese_samples.difference(comorbid_samples))],\n",
    "        [len(nonobese_samples.intersection(comorbid_samples)), len(nonobese_samples.difference(comorbid_samples))]\n",
    "    ]\n",
    "    df = pd.DataFrame(table, index=[\"Obese\", \"Non obese\"], columns=[f\"{field}\", f\"No {field}\"])\n",
    "    return df"
   ]
  },
  {
   "cell_type": "code",
   "execution_count": 65,
   "metadata": {},
   "outputs": [],
   "source": [
    "\n",
    "combo_obesity_data = []\n",
    "\n",
    "for disease_combo, disease_combo_df in all_combo_w_icd_annot_df.groupby([\"disease\", \"uniq_items\"]):\n",
    "    disease = disease_combo[0]\n",
    "    combo = disease_combo[1]\n",
    "    case_samples = set(disease_combo_df.loc[disease_combo_df.icd_case==True, \"sample_names\"].values)\n",
    "    obese_samples = set(disease_combo_df.loc[(disease_combo_df.bmi_res_categories==\"obese\")|(disease_combo_df.bmi_res_categories==\"severe obesity\"), \"sample_names\"].values)\n",
    "    nonobese_samples = set(disease_combo_df.loc[(disease_combo_df.bmi_res_categories!=\"obese\")&(disease_combo_df.bmi_res_categories!=\"severe obesity\"), \"sample_names\"].values)\n",
    "    df = get_table_icd(obese_samples, nonobese_samples, case_samples, disease)\n",
    "    res = fisher_exact(df)\n",
    "    or_study = odds_ratio(df)\n",
    "    cil, cih = or_study.confidence_interval(confidence_level=0.95)\n",
    "    combo_data = (disease, combo, df.iloc[0,0], df.iloc[0,1], df.iloc[1,0], df.iloc[1,1], or_study.statistic, res.pvalue, cil, cih)\n",
    "    combo_obesity_data.append(combo_data)\n",
    "\n",
    "combo_obesity_df = pd.DataFrame(combo_obesity_data, columns=[\"disease\", \"combo\", \"obese_comorbid\", \"obese_noncomorbid\", \"nonobese_comorbid\", \"nonobese_noncomorbid\", \"odds_ratio\", \"p_value\", \"ci_low\", \"ci_high\"])\n",
    "combo_obesity_df[\"FDR\"] = stats.false_discovery_control(combo_obesity_df.p_value)"
   ]
  },
  {
   "cell_type": "code",
   "execution_count": 68,
   "metadata": {},
   "outputs": [
    {
     "data": {
      "text/plain": [
       "0.19633978631122395"
      ]
     },
     "execution_count": 68,
     "metadata": {},
     "output_type": "execute_result"
    }
   ],
   "source": [
    "len(combo_obesity_df.loc[combo_obesity_df.odds_ratio<1])/len(combo_obesity_df)"
   ]
  },
  {
   "cell_type": "code",
   "execution_count": 84,
   "metadata": {},
   "outputs": [
    {
     "data": {
      "text/html": [
       "<div>\n",
       "<style scoped>\n",
       "    .dataframe tbody tr th:only-of-type {\n",
       "        vertical-align: middle;\n",
       "    }\n",
       "\n",
       "    .dataframe tbody tr th {\n",
       "        vertical-align: top;\n",
       "    }\n",
       "\n",
       "    .dataframe thead th {\n",
       "        text-align: right;\n",
       "    }\n",
       "</style>\n",
       "<table border=\"1\" class=\"dataframe\">\n",
       "  <thead>\n",
       "    <tr style=\"text-align: right;\">\n",
       "      <th></th>\n",
       "      <th>uniq_items</th>\n",
       "      <th>combo_samples</th>\n",
       "      <th>disease</th>\n",
       "      <th>code</th>\n",
       "    </tr>\n",
       "  </thead>\n",
       "  <tbody>\n",
       "    <tr>\n",
       "      <th>0</th>\n",
       "      <td>Input_ACADS|Input_RYR1</td>\n",
       "      <td>1003089</td>\n",
       "      <td>E03.9Hypothyroidism,unspecified</td>\n",
       "      <td>E039</td>\n",
       "    </tr>\n",
       "    <tr>\n",
       "      <th>34392</th>\n",
       "      <td>Input_CEL|Input_CPT1B</td>\n",
       "      <td>1024244</td>\n",
       "      <td>E11Non-insulin-dependentdiabetesmellitus</td>\n",
       "      <td>E11</td>\n",
       "    </tr>\n",
       "    <tr>\n",
       "      <th>61842</th>\n",
       "      <td>Input_ATP1A4|Input_COL18A1|Input_TTN</td>\n",
       "      <td>1360452</td>\n",
       "      <td>E78.0Purehypercholesterolaemia</td>\n",
       "      <td>E780</td>\n",
       "    </tr>\n",
       "    <tr>\n",
       "      <th>75074</th>\n",
       "      <td>Input_CENPF|Input_FRMD7</td>\n",
       "      <td>1235175</td>\n",
       "      <td>I10Essential(primary)hypertension</td>\n",
       "      <td>I10</td>\n",
       "    </tr>\n",
       "    <tr>\n",
       "      <th>90352</th>\n",
       "      <td>Input_MFSD12|Input_OBSCN|Input_TTN</td>\n",
       "      <td>2107743</td>\n",
       "      <td>I20-I25Ischaemicheartdiseases</td>\n",
       "      <td>BlockI20-I25</td>\n",
       "    </tr>\n",
       "    <tr>\n",
       "      <th>101592</th>\n",
       "      <td>Input_ADAMTSL3|Input_AMPD3</td>\n",
       "      <td>1129302</td>\n",
       "      <td>K80-K87Disordersofgallbladder,biliarytractandp...</td>\n",
       "      <td>BlockK80-K87</td>\n",
       "    </tr>\n",
       "    <tr>\n",
       "      <th>123709</th>\n",
       "      <td>Input_ADAMTSL3|Input_SEC24C</td>\n",
       "      <td>1102634</td>\n",
       "      <td>M15-M19Arthrosis</td>\n",
       "      <td>BlockM15-M19</td>\n",
       "    </tr>\n",
       "  </tbody>\n",
       "</table>\n",
       "</div>"
      ],
      "text/plain": [
       "                                  uniq_items combo_samples  \\\n",
       "0                     Input_ACADS|Input_RYR1       1003089   \n",
       "34392                  Input_CEL|Input_CPT1B       1024244   \n",
       "61842   Input_ATP1A4|Input_COL18A1|Input_TTN       1360452   \n",
       "75074                Input_CENPF|Input_FRMD7       1235175   \n",
       "90352     Input_MFSD12|Input_OBSCN|Input_TTN       2107743   \n",
       "101592            Input_ADAMTSL3|Input_AMPD3       1129302   \n",
       "123709           Input_ADAMTSL3|Input_SEC24C       1102634   \n",
       "\n",
       "                                                  disease          code  \n",
       "0                         E03.9Hypothyroidism,unspecified          E039  \n",
       "34392            E11Non-insulin-dependentdiabetesmellitus           E11  \n",
       "61842                      E78.0Purehypercholesterolaemia          E780  \n",
       "75074                   I10Essential(primary)hypertension           I10  \n",
       "90352                       I20-I25Ischaemicheartdiseases  BlockI20-I25  \n",
       "101592  K80-K87Disordersofgallbladder,biliarytractandp...  BlockK80-K87  \n",
       "123709                                   M15-M19Arthrosis  BlockM15-M19  "
      ]
     },
     "execution_count": 84,
     "metadata": {},
     "output_type": "execute_result"
    }
   ],
   "source": [
    "all_combo_df.drop_duplicates([\"disease\"])"
   ]
  },
  {
   "cell_type": "markdown",
   "metadata": {},
   "source": [
    "# Obesity related disorders PRS\n",
    "\n",
    "Check PRS for obesity, hypertension and t2 diabetes amongst\n",
    "\n",
    "1. Obesity + comorbid combo carriers vs non-carriers\n",
    "2. Non obese + comorbid combo carriers vs non-carriers\n",
    "3. Obese combo carrier w vs w/o comorbidity\n",
    "4. Obese non-combo carriers w vs w/o comorbidity"
   ]
  },
  {
   "cell_type": "code",
   "execution_count": 79,
   "metadata": {},
   "outputs": [],
   "source": []
  },
  {
   "cell_type": "code",
   "execution_count": 85,
   "metadata": {},
   "outputs": [],
   "source": [
    "group_readable_name_dict = {\n",
    "    \"E039\": \"hpt\",\n",
    "    \"E11\": \"t2d\",\n",
    "    \"E780\": \"hcl\",\n",
    "    \"I10\": \"ht\",\n",
    "    \"BlockI20-I25\": \"hd\",\n",
    "    \"BlockK80-K87\": \"gb\",\n",
    "    \"BlockM15-M19\": \"art\"\n",
    "}\n",
    "phenotype_w_prs_icd_df = phenotype_w_prs_df.loc[phenotype_w_prs_df.sample_names.isin(all_icd_samples)]\n",
    "\n",
    "for group, gdf in all_combo_df.groupby(\"code\"):\n",
    "    icdc_node = pheno_tree.node_dict[c2nodeid_dict[group]]\n",
    "    icd_samples = icdc_node.get_samples()\n",
    "    phenotype_w_prs_icd_df[group_readable_name_dict[group]] = phenotype_w_prs_icd_df.sample_names.isin(icd_samples)\n",
    "    phenotype_w_prs_icd_df[f\"{group_readable_name_dict[group]}_combo\"] = phenotype_w_prs_icd_df.sample_names.isin(set(gdf.combo_samples.values))"
   ]
  },
  {
   "cell_type": "code",
   "execution_count": 150,
   "metadata": {},
   "outputs": [
    {
     "data": {
      "text/plain": [
       "array(['1024244', '1045686', '1234307', ..., '3998225', '5072712',\n",
       "       '5165128'], dtype=object)"
      ]
     },
     "execution_count": 150,
     "metadata": {},
     "output_type": "execute_result"
    }
   ],
   "source": [
    "all_combo_df.loc[all_combo_df.code==\"E11\"].combo_samples"
   ]
  },
  {
   "cell_type": "code",
   "execution_count": 153,
   "metadata": {},
   "outputs": [
    {
     "data": {
      "text/plain": [
       "t2d\n",
       "False    15463\n",
       "True      7782\n",
       "Name: count, dtype: int64"
      ]
     },
     "execution_count": 153,
     "metadata": {},
     "output_type": "execute_result"
    }
   ],
   "source": [
    "phenotype_w_prs_icd_df.loc[phenotype_w_prs_icd_df.t2d_combo==True, \"t2d\"].value_counts()"
   ]
  },
  {
   "cell_type": "code",
   "execution_count": null,
   "metadata": {},
   "outputs": [],
   "source": []
  },
  {
   "cell_type": "code",
   "execution_count": 91,
   "metadata": {},
   "outputs": [],
   "source": [
    "phenotype_w_prs_icd_df = phenotype_w_prs_icd_df.loc[:, [c for c in phenotype_w_prs_icd_df.columns if not c.startswith(\"genetic_pca\")]]"
   ]
  },
  {
   "cell_type": "code",
   "execution_count": 143,
   "metadata": {},
   "outputs": [],
   "source": [
    "t2d_combos = unique_intersects[(('british', 'comorbidities/E11Non-insulin-dependentdiabetesmellitus'),\n",
    "  ('comorbidities/E03.9Hypothyroidism,unspecified',\n",
    "   'comorbidities/E78.0Purehypercholesterolaemia',\n",
    "   'comorbidities/I10Essential(primary)hypertension',\n",
    "   'comorbidities/I20-I25Ischaemicheartdiseases',\n",
    "   'comorbidities/K80-K87Disordersofgallbladder,biliarytractandpancreas',\n",
    "   'comorbidities/M15-M19Arthrosis'))]\n",
    "\n",
    "ht_combos = unique_intersects[(('british', 'comorbidities/I10Essential(primary)hypertension'),\n",
    "  ('comorbidities/E03.9Hypothyroidism,unspecified',\n",
    "   'comorbidities/E11Non-insulin-dependentdiabetesmellitus',\n",
    "   'comorbidities/E78.0Purehypercholesterolaemia',\n",
    "   'comorbidities/I20-I25Ischaemicheartdiseases',\n",
    "   'comorbidities/K80-K87Disordersofgallbladder,biliarytractandpancreas',\n",
    "   'comorbidities/M15-M19Arthrosis'))]\n",
    "\n",
    "ht_bmi_combo_samples = set(all_combo_df.loc[all_combo_df.uniq_items.isin(ht_combos), \"combo_samples\"].values)\n",
    "t2d_bmi_combo_samples = set(all_combo_df.loc[all_combo_df.uniq_items.isin(t2d_combos), \"combo_samples\"].values)"
   ]
  },
  {
   "cell_type": "code",
   "execution_count": 144,
   "metadata": {},
   "outputs": [
    {
     "data": {
      "text/plain": [
       "(104, 76)"
      ]
     },
     "execution_count": 144,
     "metadata": {},
     "output_type": "execute_result"
    }
   ],
   "source": [
    "len(t2d_bmi_combo_samples), len(ht_bmi_combo_samples)"
   ]
  },
  {
   "cell_type": "code",
   "execution_count": 145,
   "metadata": {},
   "outputs": [
    {
     "data": {
      "text/plain": [
       "ht_prs     0.155573\n",
       "bmi_prs   -0.022105\n",
       "dtype: float64"
      ]
     },
     "execution_count": 145,
     "metadata": {},
     "output_type": "execute_result"
    }
   ],
   "source": [
    "phenotype_w_prs_icd_df.loc[phenotype_w_prs_icd_df.sample_names.isin(ht_bmi_combo_samples), [\"ht_prs\", \"bmi_prs\"]].mean()"
   ]
  },
  {
   "cell_type": "code",
   "execution_count": 146,
   "metadata": {},
   "outputs": [
    {
     "data": {
      "text/plain": [
       "t2d\n",
       "False    69\n",
       "True     25\n",
       "Name: count, dtype: int64"
      ]
     },
     "execution_count": 146,
     "metadata": {},
     "output_type": "execute_result"
    }
   ],
   "source": [
    "phenotype_w_prs_icd_df.loc[phenotype_w_prs_icd_df.sample_names.isin(t2d_bmi_combo_samples), \"t2d\"].value_counts()"
   ]
  },
  {
   "cell_type": "code",
   "execution_count": 147,
   "metadata": {},
   "outputs": [
    {
     "data": {
      "text/plain": [
       "ht\n",
       "True     65\n",
       "False     8\n",
       "Name: count, dtype: int64"
      ]
     },
     "execution_count": 147,
     "metadata": {},
     "output_type": "execute_result"
    }
   ],
   "source": [
    "phenotype_w_prs_icd_df.loc[phenotype_w_prs_icd_df.sample_names.isin(ht_bmi_combo_samples), \"ht\"].value_counts()"
   ]
  },
  {
   "cell_type": "code",
   "execution_count": null,
   "metadata": {},
   "outputs": [],
   "source": []
  },
  {
   "cell_type": "code",
   "execution_count": 130,
   "metadata": {},
   "outputs": [
    {
     "data": {
      "text/plain": [
       "t2d_prs    0.029400\n",
       "bmi_prs    0.059984\n",
       "dtype: float64"
      ]
     },
     "execution_count": 130,
     "metadata": {},
     "output_type": "execute_result"
    }
   ],
   "source": [
    "phenotype_w_prs_icd_df.loc[phenotype_w_prs_icd_df.sample_names.isin(t2d_bmi_combo_samples), [\"t2d_prs\", \"bmi_prs\"]].mean()"
   ]
  },
  {
   "cell_type": "code",
   "execution_count": 111,
   "metadata": {},
   "outputs": [
    {
     "data": {
      "text/plain": [
       "ht_prs     0.208520\n",
       "bmi_prs   -0.109535\n",
       "dtype: float64"
      ]
     },
     "execution_count": 111,
     "metadata": {},
     "output_type": "execute_result"
    }
   ],
   "source": [
    "phenotype_w_prs_icd_df.loc[(phenotype_w_prs_icd_df.ht_combo==True)&(phenotype_w_prs_icd_df.ht==True), [\"ht_prs\", \"bmi_prs\"]].mean()"
   ]
  },
  {
   "cell_type": "code",
   "execution_count": 112,
   "metadata": {},
   "outputs": [
    {
     "data": {
      "text/plain": [
       "ht_prs     0.209930\n",
       "bmi_prs   -0.124554\n",
       "dtype: float64"
      ]
     },
     "execution_count": 112,
     "metadata": {},
     "output_type": "execute_result"
    }
   ],
   "source": [
    "phenotype_w_prs_icd_df.loc[(phenotype_w_prs_icd_df.ht_combo==False)&(phenotype_w_prs_icd_df.ht==True), [\"ht_prs\", \"bmi_prs\"]].mean()"
   ]
  },
  {
   "cell_type": "code",
   "execution_count": 108,
   "metadata": {},
   "outputs": [
    {
     "data": {
      "text/plain": [
       "t2d_prs    0.462404\n",
       "bmi_prs    0.018320\n",
       "dtype: float64"
      ]
     },
     "execution_count": 108,
     "metadata": {},
     "output_type": "execute_result"
    }
   ],
   "source": [
    "phenotype_w_prs_icd_df.loc[(phenotype_w_prs_icd_df.t2d_combo==True)&(phenotype_w_prs_icd_df.t2d==True), [\"t2d_prs\", \"bmi_prs\"]].mean()"
   ]
  },
  {
   "cell_type": "code",
   "execution_count": 107,
   "metadata": {},
   "outputs": [
    {
     "data": {
      "text/plain": [
       "t2d_prs    0.453505\n",
       "bmi_prs    0.017635\n",
       "dtype: float64"
      ]
     },
     "execution_count": 107,
     "metadata": {},
     "output_type": "execute_result"
    }
   ],
   "source": [
    "phenotype_w_prs_icd_df.loc[(phenotype_w_prs_icd_df.t2d_combo==False)&(phenotype_w_prs_icd_df.t2d==True), [\"t2d_prs\", \"bmi_prs\"]].mean()"
   ]
  },
  {
   "cell_type": "code",
   "execution_count": 102,
   "metadata": {},
   "outputs": [
    {
     "data": {
      "image/png": "[encoded data removed]",
      "text/plain": [
       "<Figure size 421.25x360 with 1 Axes>"
      ]
     },
     "metadata": {
      "needs_background": "light"
     },
     "output_type": "display_data"
    }
   ],
   "source": [
    "doi = \"ht\"\n",
    "\n",
    "g = sns.catplot(\n",
    "    phenotype_w_prs_icd_df, kind=\"box\", x=f\"{doi}\", y=f\"{doi}_prs\", hue=f\"{doi}_combo\",\n",
    "    palette=\"Set2\",)\n",
    "    # fliersize=0, capprops={'color':'none'}, width=0.5,\n",
    "    #     boxprops={'edgecolor':'k'},  # 'facecolor':'none', \n",
    "    #     whiskerprops={'color':'k'}, medianprops={'color':'k'})\n",
    "\n",
    "# g.set(ylim=(-3, 3))"
   ]
  },
  {
   "cell_type": "code",
   "execution_count": 101,
   "metadata": {},
   "outputs": [
    {
     "data": {
      "image/png": "[encoded data removed]",
      "text/plain": [
       "<Figure size 423x360 with 1 Axes>"
      ]
     },
     "metadata": {
      "needs_background": "light"
     },
     "output_type": "display_data"
    }
   ],
   "source": [
    "doi = \"t2d\"\n",
    "\n",
    "g = sns.catplot(\n",
    "    phenotype_w_prs_icd_df, kind=\"box\", x=f\"{doi}\", y=f\"{doi}_prs\", hue=f\"{doi}_combo\",\n",
    "    palette=\"Set2\",)\n",
    "    # fliersize=0, capprops={'color':'none'}, width=0.5,\n",
    "    #     boxprops={'edgecolor':'k'},  # 'facecolor':'none', \n",
    "    #     whiskerprops={'color':'k'}, medianprops={'color':'k'})\n",
    "\n",
    "# g.set(ylim=(-3, 3))"
   ]
  },
  {
   "cell_type": "code",
   "execution_count": 93,
   "metadata": {},
   "outputs": [
    {
     "data": {
      "text/plain": [
       "<seaborn.axisgrid.FacetGrid at 0x7f806e5f6f10>"
      ]
     },
     "execution_count": 93,
     "metadata": {},
     "output_type": "execute_result"
    },
    {
     "data": {
      "image/png": "[encoded data removed]",
      "text/plain": [
       "<Figure size 1141.25x288 with 5 Axes>"
      ]
     },
     "metadata": {
      "needs_background": "light"
     },
     "output_type": "display_data"
    }
   ],
   "source": [
    "doi = \"ht\"\n",
    "\n",
    "g = sns.catplot(\n",
    "    phenotype_w_prs_icd_df, kind=\"box\", x=f\"{doi}\", y=f\"{doi}_prs\", hue=f\"{doi}_combo\", col=\"bmi_res_categories\", aspect=0.75, height=4,\n",
    "    col_order=[\"underweight\",\"normal\",\"overweight\",\"obese\",\"severe obesity\"], \n",
    "    palette=\"Set2\",\n",
    "    fliersize=0, capprops={'color':'none'}, width=0.5,\n",
    "        boxprops={'edgecolor':'k'},  # 'facecolor':'none', \n",
    "        whiskerprops={'color':'k'}, medianprops={'color':'k'})\n",
    "\n",
    "g.set(ylim=(-3, 3))"
   ]
  },
  {
   "cell_type": "code",
   "execution_count": 94,
   "metadata": {},
   "outputs": [
    {
     "data": {
      "text/plain": [
       "<seaborn.axisgrid.FacetGrid at 0x7f8093ead0d0>"
      ]
     },
     "execution_count": 94,
     "metadata": {},
     "output_type": "execute_result"
    },
    {
     "data": {
      "image/png": "[encoded data removed]",
      "text/plain": [
       "<Figure size 1143x288 with 5 Axes>"
      ]
     },
     "metadata": {
      "needs_background": "light"
     },
     "output_type": "display_data"
    }
   ],
   "source": [
    "doi = \"t2d\"\n",
    "\n",
    "g = sns.catplot(\n",
    "    phenotype_w_prs_icd_df, kind=\"box\", x=f\"{doi}\", y=f\"{doi}_prs\", hue=f\"{doi}_combo\", col=\"bmi_res_categories\", aspect=0.75, height=4,\n",
    "    col_order=[\"underweight\",\"normal\",\"overweight\",\"obese\",\"severe obesity\"], \n",
    "    palette=\"Set2\",\n",
    "    fliersize=0, capprops={'color':'none'}, width=0.5,\n",
    "        boxprops={'edgecolor':'k'},  # 'facecolor':'none', \n",
    "        whiskerprops={'color':'k'}, medianprops={'color':'k'})\n",
    "\n",
    "g.set(ylim=(-3, 3))"
   ]
  },
  {
   "cell_type": "code",
   "execution_count": null,
   "metadata": {},
   "outputs": [],
   "source": []
  },
  {
   "cell_type": "code",
   "execution_count": 28,
   "metadata": {},
   "outputs": [],
   "source": [
    "phenotype_w_prs_df[\"obese\"] = phenotype_w_prs_df.sample_names.isin(obese_samples)"
   ]
  },
  {
   "cell_type": "code",
   "execution_count": 29,
   "metadata": {},
   "outputs": [],
   "source": [
    "ht_node = pheno_tree.node_dict[c2nodeid_dict[\"I10\"]]\n",
    "ht_samples = ht_node.get_samples()\n",
    "\n",
    "t2d_node = pheno_tree.node_dict[c2nodeid_dict[\"E11\"]]\n",
    "t2d_samples = t2d_node.get_samples()"
   ]
  },
  {
   "cell_type": "code",
   "execution_count": 30,
   "metadata": {},
   "outputs": [],
   "source": [
    "phenotype_w_prs_df = phenotype_w_prs_df.loc[phenotype_w_prs_df.sample_names.isin(all_icd_samples)]"
   ]
  },
  {
   "cell_type": "code",
   "execution_count": 31,
   "metadata": {},
   "outputs": [],
   "source": [
    "phenotype_w_prs_df[\"ht\"] = phenotype_w_prs_df.sample_names.isin(ht_samples)\n",
    "phenotype_w_prs_df[\"t2d\"] = phenotype_w_prs_df.sample_names.isin(t2d_samples)"
   ]
  },
  {
   "cell_type": "code",
   "execution_count": 32,
   "metadata": {},
   "outputs": [],
   "source": [
    "ht_combo_samples = set(all_combo_w_icd_df.loc[all_combo_w_icd_df.code==\"I10\", \"combo_samples\"].values)\n",
    "t2d_combo_samples = set(all_combo_w_icd_df.loc[all_combo_w_icd_df.code==\"E11\", \"combo_samples\"].values) "
   ]
  },
  {
   "cell_type": "code",
   "execution_count": 33,
   "metadata": {},
   "outputs": [],
   "source": [
    "phenotype_w_prs_df[\"ht_combo\"] = phenotype_w_prs_df.sample_names.isin(ht_combo_samples)\n",
    "phenotype_w_prs_df[\"t2d_combo\"] = phenotype_w_prs_df.sample_names.isin(t2d_combo_samples)"
   ]
  },
  {
   "cell_type": "code",
   "execution_count": 47,
   "metadata": {},
   "outputs": [],
   "source": [
    "phenotype_w_prs_df[\"ht_prs_decile\"] = pd.qcut(phenotype_w_prs_df.ht_prs, q=10, labels=False)\n",
    "phenotype_w_prs_df[\"ht_prs_categories\"] = phenotype_w_prs_df.ht_prs_decile.map({\n",
    "    0: \"lowest\", \n",
    "    1:\"middle\", 2:\"middle\", \n",
    "    3:\"middle\", 4:\"middle\", 5:\"middle\", 6:\"middle\", 7:\"middle\",\n",
    "    8:\"middle\", 9:\"highest\"\n",
    "    })\n",
    "phenotype_w_prs_df[\"t2d_prs_decile\"] = pd.qcut(phenotype_w_prs_df.t2d_prs, q=10, labels=False)\n",
    "phenotype_w_prs_df[\"t2d_prs_categories\"] = phenotype_w_prs_df.t2d_prs_decile.map({\n",
    "    0: \"lowest\", \n",
    "    1:\"middle\", 2:\"middle\", \n",
    "    3:\"middle\", 4:\"middle\", 5:\"middle\", 6:\"middle\", 7:\"middle\",\n",
    "    8:\"middle\", 9:\"highest\"\n",
    "    })"
   ]
  },
  {
   "cell_type": "code",
   "execution_count": 62,
   "metadata": {},
   "outputs": [],
   "source": [
    "def get_table_icd(combo_samples, noncombo_samples, comorbid_samples, field):\n",
    "    table = [\n",
    "        [len(combo_samples.intersection(comorbid_samples)), len(combo_samples.difference(comorbid_samples))],\n",
    "        [len(noncombo_samples.intersection(comorbid_samples)), len(noncombo_samples.difference(comorbid_samples))]\n",
    "    ]\n",
    "    df = pd.DataFrame(table, columns=[f\"{field}\", f\"No {field}\"], index=[\"Combo\", \"Non Combo\"])\n",
    "    return df\n",
    "\n",
    "def get_odds_ratio(df, var):\n",
    "    combo_samples = set(df.loc[df[f\"{var}_combo\"]==True, \"sample_names\"].values)\n",
    "    noncombo_samples = set(df.loc[df[f\"{var}_combo\"]==False, \"sample_names\"].values)\n",
    "    comorbid_samples = set(df.loc[df[f\"{var}\"]==True, \"sample_names\"].values)\n",
    "    df = get_table_icd(combo_samples, noncombo_samples, comorbid_samples, var)\n",
    "    print(df)\n",
    "    res = fisher_exact(df)\n",
    "    return pd.Series({\"pvalue\": res.pvalue, \"odds\": res.statistic})"
   ]
  },
  {
   "cell_type": "code",
   "execution_count": 63,
   "metadata": {},
   "outputs": [
    {
     "name": "stdout",
     "output_type": "stream",
     "text": [
      "              ht  No ht\n",
      "Combo       1506    139\n",
      "Non Combo  17324  19357\n",
      "             ht  No ht\n",
      "Combo       629    272\n",
      "Non Combo  6838  30589\n",
      "              ht   No ht\n",
      "Combo       8251    1642\n",
      "Non Combo  93032  203674\n"
     ]
    },
    {
     "data": {
      "text/html": [
       "<div>\n",
       "<style scoped>\n",
       "    .dataframe tbody tr th:only-of-type {\n",
       "        vertical-align: middle;\n",
       "    }\n",
       "\n",
       "    .dataframe tbody tr th {\n",
       "        vertical-align: top;\n",
       "    }\n",
       "\n",
       "    .dataframe thead th {\n",
       "        text-align: right;\n",
       "    }\n",
       "</style>\n",
       "<table border=\"1\" class=\"dataframe\">\n",
       "  <thead>\n",
       "    <tr style=\"text-align: right;\">\n",
       "      <th></th>\n",
       "      <th>pvalue</th>\n",
       "      <th>odds</th>\n",
       "    </tr>\n",
       "    <tr>\n",
       "      <th>ht_prs_categories</th>\n",
       "      <th></th>\n",
       "      <th></th>\n",
       "    </tr>\n",
       "  </thead>\n",
       "  <tbody>\n",
       "    <tr>\n",
       "      <th>highest</th>\n",
       "      <td>3.755047e-312</td>\n",
       "      <td>12.105983</td>\n",
       "    </tr>\n",
       "    <tr>\n",
       "      <th>lowest</th>\n",
       "      <td>1.060388e-242</td>\n",
       "      <td>10.344701</td>\n",
       "    </tr>\n",
       "    <tr>\n",
       "      <th>middle</th>\n",
       "      <td>0.000000e+00</td>\n",
       "      <td>11.001114</td>\n",
       "    </tr>\n",
       "  </tbody>\n",
       "</table>\n",
       "</div>"
      ],
      "text/plain": [
       "                          pvalue       odds\n",
       "ht_prs_categories                          \n",
       "highest            3.755047e-312  12.105983\n",
       "lowest             1.060388e-242  10.344701\n",
       "middle              0.000000e+00  11.001114"
      ]
     },
     "execution_count": 63,
     "metadata": {},
     "output_type": "execute_result"
    }
   ],
   "source": [
    "doi=\"ht\"\n",
    "phenotype_w_prs_df.groupby([\"ht_prs_categories\"]).apply(get_odds_ratio, f\"{doi}\")"
   ]
  },
  {
   "cell_type": "code",
   "execution_count": 59,
   "metadata": {},
   "outputs": [
    {
     "data": {
      "text/html": [
       "<div>\n",
       "<style scoped>\n",
       "    .dataframe tbody tr th:only-of-type {\n",
       "        vertical-align: middle;\n",
       "    }\n",
       "\n",
       "    .dataframe tbody tr th {\n",
       "        vertical-align: top;\n",
       "    }\n",
       "\n",
       "    .dataframe thead th {\n",
       "        text-align: right;\n",
       "    }\n",
       "</style>\n",
       "<table border=\"1\" class=\"dataframe\">\n",
       "  <thead>\n",
       "    <tr style=\"text-align: right;\">\n",
       "      <th></th>\n",
       "      <th>pvalue</th>\n",
       "      <th>odds</th>\n",
       "    </tr>\n",
       "    <tr>\n",
       "      <th>ht_prs_decile</th>\n",
       "      <th></th>\n",
       "      <th></th>\n",
       "    </tr>\n",
       "  </thead>\n",
       "  <tbody>\n",
       "    <tr>\n",
       "      <th>0</th>\n",
       "      <td>7.976754e-216</td>\n",
       "      <td>7.039110</td>\n",
       "    </tr>\n",
       "    <tr>\n",
       "      <th>1</th>\n",
       "      <td>2.993476e-223</td>\n",
       "      <td>6.576917</td>\n",
       "    </tr>\n",
       "    <tr>\n",
       "      <th>2</th>\n",
       "      <td>2.315560e-246</td>\n",
       "      <td>6.896764</td>\n",
       "    </tr>\n",
       "    <tr>\n",
       "      <th>3</th>\n",
       "      <td>1.280569e-249</td>\n",
       "      <td>6.684931</td>\n",
       "    </tr>\n",
       "    <tr>\n",
       "      <th>4</th>\n",
       "      <td>3.826934e-306</td>\n",
       "      <td>7.598295</td>\n",
       "    </tr>\n",
       "    <tr>\n",
       "      <th>5</th>\n",
       "      <td>7.477100e-297</td>\n",
       "      <td>7.252779</td>\n",
       "    </tr>\n",
       "    <tr>\n",
       "      <th>6</th>\n",
       "      <td>0.000000e+00</td>\n",
       "      <td>7.370000</td>\n",
       "    </tr>\n",
       "    <tr>\n",
       "      <th>7</th>\n",
       "      <td>0.000000e+00</td>\n",
       "      <td>7.236683</td>\n",
       "    </tr>\n",
       "    <tr>\n",
       "      <th>8</th>\n",
       "      <td>2.237282e-316</td>\n",
       "      <td>6.705659</td>\n",
       "    </tr>\n",
       "    <tr>\n",
       "      <th>9</th>\n",
       "      <td>0.000000e+00</td>\n",
       "      <td>6.723528</td>\n",
       "    </tr>\n",
       "  </tbody>\n",
       "</table>\n",
       "</div>"
      ],
      "text/plain": [
       "                      pvalue      odds\n",
       "ht_prs_decile                         \n",
       "0              7.976754e-216  7.039110\n",
       "1              2.993476e-223  6.576917\n",
       "2              2.315560e-246  6.896764\n",
       "3              1.280569e-249  6.684931\n",
       "4              3.826934e-306  7.598295\n",
       "5              7.477100e-297  7.252779\n",
       "6               0.000000e+00  7.370000\n",
       "7               0.000000e+00  7.236683\n",
       "8              2.237282e-316  6.705659\n",
       "9               0.000000e+00  6.723528"
      ]
     },
     "execution_count": 59,
     "metadata": {},
     "output_type": "execute_result"
    }
   ],
   "source": [
    "doi=\"t2d\"\n",
    "phenotype_w_prs_df.groupby([\"ht_prs_decile\"]).apply(get_odds_ratio, f\"{doi}\")"
   ]
  },
  {
   "cell_type": "code",
   "execution_count": 60,
   "metadata": {},
   "outputs": [
    {
     "data": {
      "text/html": [
       "<div>\n",
       "<style scoped>\n",
       "    .dataframe tbody tr th:only-of-type {\n",
       "        vertical-align: middle;\n",
       "    }\n",
       "\n",
       "    .dataframe tbody tr th {\n",
       "        vertical-align: top;\n",
       "    }\n",
       "\n",
       "    .dataframe thead th {\n",
       "        text-align: right;\n",
       "    }\n",
       "</style>\n",
       "<table border=\"1\" class=\"dataframe\">\n",
       "  <thead>\n",
       "    <tr style=\"text-align: right;\">\n",
       "      <th></th>\n",
       "      <th>sample_names</th>\n",
       "      <th>genetic_sex</th>\n",
       "      <th>bmi_prs</th>\n",
       "      <th>genetic_pca1</th>\n",
       "      <th>genetic_pca2</th>\n",
       "      <th>genetic_pca3</th>\n",
       "      <th>genetic_pca4</th>\n",
       "      <th>genetic_pca5</th>\n",
       "      <th>genetic_pca6</th>\n",
       "      <th>genetic_pca7</th>\n",
       "      <th>...</th>\n",
       "      <th>t2d_prs</th>\n",
       "      <th>obese</th>\n",
       "      <th>ht</th>\n",
       "      <th>t2d</th>\n",
       "      <th>ht_combo</th>\n",
       "      <th>t2d_combo</th>\n",
       "      <th>ht_prs_decile</th>\n",
       "      <th>t2d_prs_decile</th>\n",
       "      <th>ht_prs_categories</th>\n",
       "      <th>t2d_prs_categories</th>\n",
       "    </tr>\n",
       "  </thead>\n",
       "  <tbody>\n",
       "    <tr>\n",
       "      <th>0</th>\n",
       "      <td>1000028</td>\n",
       "      <td>1</td>\n",
       "      <td>-0.652309</td>\n",
       "      <td>-1.049343</td>\n",
       "      <td>-0.035594</td>\n",
       "      <td>-0.318610</td>\n",
       "      <td>1.066207</td>\n",
       "      <td>0.842138</td>\n",
       "      <td>1.140278</td>\n",
       "      <td>-0.434576</td>\n",
       "      <td>...</td>\n",
       "      <td>2.275420</td>\n",
       "      <td>False</td>\n",
       "      <td>False</td>\n",
       "      <td>False</td>\n",
       "      <td>False</td>\n",
       "      <td>False</td>\n",
       "      <td>6</td>\n",
       "      <td>9</td>\n",
       "      <td>middle</td>\n",
       "      <td>highest</td>\n",
       "    </tr>\n",
       "    <tr>\n",
       "      <th>1</th>\n",
       "      <td>1000045</td>\n",
       "      <td>0</td>\n",
       "      <td>-1.084330</td>\n",
       "      <td>-0.375479</td>\n",
       "      <td>-0.102603</td>\n",
       "      <td>-0.511934</td>\n",
       "      <td>-0.043436</td>\n",
       "      <td>-0.143338</td>\n",
       "      <td>-0.247138</td>\n",
       "      <td>0.968845</td>\n",
       "      <td>...</td>\n",
       "      <td>0.247464</td>\n",
       "      <td>False</td>\n",
       "      <td>False</td>\n",
       "      <td>False</td>\n",
       "      <td>False</td>\n",
       "      <td>False</td>\n",
       "      <td>0</td>\n",
       "      <td>6</td>\n",
       "      <td>lowest</td>\n",
       "      <td>middle</td>\n",
       "    </tr>\n",
       "    <tr>\n",
       "      <th>2</th>\n",
       "      <td>1000171</td>\n",
       "      <td>0</td>\n",
       "      <td>-0.980411</td>\n",
       "      <td>-0.382776</td>\n",
       "      <td>-0.734280</td>\n",
       "      <td>0.182330</td>\n",
       "      <td>0.271249</td>\n",
       "      <td>1.016180</td>\n",
       "      <td>-0.127882</td>\n",
       "      <td>0.524564</td>\n",
       "      <td>...</td>\n",
       "      <td>2.392380</td>\n",
       "      <td>True</td>\n",
       "      <td>False</td>\n",
       "      <td>False</td>\n",
       "      <td>False</td>\n",
       "      <td>False</td>\n",
       "      <td>7</td>\n",
       "      <td>9</td>\n",
       "      <td>middle</td>\n",
       "      <td>highest</td>\n",
       "    </tr>\n",
       "    <tr>\n",
       "      <th>3</th>\n",
       "      <td>1000196</td>\n",
       "      <td>0</td>\n",
       "      <td>0.032952</td>\n",
       "      <td>9.739123</td>\n",
       "      <td>-21.189125</td>\n",
       "      <td>-11.847223</td>\n",
       "      <td>-0.065353</td>\n",
       "      <td>0.439113</td>\n",
       "      <td>-1.558717</td>\n",
       "      <td>-0.468649</td>\n",
       "      <td>...</td>\n",
       "      <td>0.496997</td>\n",
       "      <td>False</td>\n",
       "      <td>False</td>\n",
       "      <td>False</td>\n",
       "      <td>False</td>\n",
       "      <td>False</td>\n",
       "      <td>1</td>\n",
       "      <td>7</td>\n",
       "      <td>middle</td>\n",
       "      <td>middle</td>\n",
       "    </tr>\n",
       "    <tr>\n",
       "      <th>4</th>\n",
       "      <td>1000222</td>\n",
       "      <td>1</td>\n",
       "      <td>0.092755</td>\n",
       "      <td>0.531430</td>\n",
       "      <td>0.476652</td>\n",
       "      <td>-0.542410</td>\n",
       "      <td>0.154158</td>\n",
       "      <td>0.426149</td>\n",
       "      <td>-1.585834</td>\n",
       "      <td>0.029176</td>\n",
       "      <td>...</td>\n",
       "      <td>0.295108</td>\n",
       "      <td>False</td>\n",
       "      <td>True</td>\n",
       "      <td>False</td>\n",
       "      <td>False</td>\n",
       "      <td>False</td>\n",
       "      <td>1</td>\n",
       "      <td>6</td>\n",
       "      <td>middle</td>\n",
       "      <td>middle</td>\n",
       "    </tr>\n",
       "    <tr>\n",
       "      <th>...</th>\n",
       "      <td>...</td>\n",
       "      <td>...</td>\n",
       "      <td>...</td>\n",
       "      <td>...</td>\n",
       "      <td>...</td>\n",
       "      <td>...</td>\n",
       "      <td>...</td>\n",
       "      <td>...</td>\n",
       "      <td>...</td>\n",
       "      <td>...</td>\n",
       "      <td>...</td>\n",
       "      <td>...</td>\n",
       "      <td>...</td>\n",
       "      <td>...</td>\n",
       "      <td>...</td>\n",
       "      <td>...</td>\n",
       "      <td>...</td>\n",
       "      <td>...</td>\n",
       "      <td>...</td>\n",
       "      <td>...</td>\n",
       "      <td>...</td>\n",
       "    </tr>\n",
       "    <tr>\n",
       "      <th>427530</th>\n",
       "      <td>6024818</td>\n",
       "      <td>1</td>\n",
       "      <td>-0.416108</td>\n",
       "      <td>0.307354</td>\n",
       "      <td>0.304317</td>\n",
       "      <td>-0.321877</td>\n",
       "      <td>0.620826</td>\n",
       "      <td>0.169777</td>\n",
       "      <td>-0.224238</td>\n",
       "      <td>-0.205999</td>\n",
       "      <td>...</td>\n",
       "      <td>-1.834430</td>\n",
       "      <td>False</td>\n",
       "      <td>False</td>\n",
       "      <td>False</td>\n",
       "      <td>False</td>\n",
       "      <td>False</td>\n",
       "      <td>0</td>\n",
       "      <td>0</td>\n",
       "      <td>lowest</td>\n",
       "      <td>lowest</td>\n",
       "    </tr>\n",
       "    <tr>\n",
       "      <th>427531</th>\n",
       "      <td>6024948</td>\n",
       "      <td>1</td>\n",
       "      <td>0.321514</td>\n",
       "      <td>0.166423</td>\n",
       "      <td>0.526967</td>\n",
       "      <td>-0.109158</td>\n",
       "      <td>0.036097</td>\n",
       "      <td>-0.871575</td>\n",
       "      <td>-0.222492</td>\n",
       "      <td>-0.073084</td>\n",
       "      <td>...</td>\n",
       "      <td>2.334780</td>\n",
       "      <td>True</td>\n",
       "      <td>True</td>\n",
       "      <td>True</td>\n",
       "      <td>False</td>\n",
       "      <td>False</td>\n",
       "      <td>9</td>\n",
       "      <td>9</td>\n",
       "      <td>highest</td>\n",
       "      <td>highest</td>\n",
       "    </tr>\n",
       "    <tr>\n",
       "      <th>427532</th>\n",
       "      <td>6025016</td>\n",
       "      <td>1</td>\n",
       "      <td>-1.162700</td>\n",
       "      <td>0.985217</td>\n",
       "      <td>-0.361463</td>\n",
       "      <td>0.462544</td>\n",
       "      <td>-1.308939</td>\n",
       "      <td>0.211924</td>\n",
       "      <td>0.167586</td>\n",
       "      <td>1.328446</td>\n",
       "      <td>...</td>\n",
       "      <td>-1.319190</td>\n",
       "      <td>False</td>\n",
       "      <td>False</td>\n",
       "      <td>False</td>\n",
       "      <td>False</td>\n",
       "      <td>False</td>\n",
       "      <td>0</td>\n",
       "      <td>1</td>\n",
       "      <td>lowest</td>\n",
       "      <td>middle</td>\n",
       "    </tr>\n",
       "    <tr>\n",
       "      <th>427534</th>\n",
       "      <td>6025181</td>\n",
       "      <td>1</td>\n",
       "      <td>-0.119517</td>\n",
       "      <td>0.053980</td>\n",
       "      <td>-0.853161</td>\n",
       "      <td>-0.321771</td>\n",
       "      <td>-0.530573</td>\n",
       "      <td>-0.333055</td>\n",
       "      <td>-0.319564</td>\n",
       "      <td>0.371106</td>\n",
       "      <td>...</td>\n",
       "      <td>0.171270</td>\n",
       "      <td>False</td>\n",
       "      <td>False</td>\n",
       "      <td>False</td>\n",
       "      <td>False</td>\n",
       "      <td>False</td>\n",
       "      <td>1</td>\n",
       "      <td>6</td>\n",
       "      <td>middle</td>\n",
       "      <td>middle</td>\n",
       "    </tr>\n",
       "    <tr>\n",
       "      <th>427535</th>\n",
       "      <td>6025208</td>\n",
       "      <td>0</td>\n",
       "      <td>-0.435601</td>\n",
       "      <td>0.056533</td>\n",
       "      <td>-0.430585</td>\n",
       "      <td>-0.727058</td>\n",
       "      <td>0.069025</td>\n",
       "      <td>-0.030145</td>\n",
       "      <td>-0.120230</td>\n",
       "      <td>0.385079</td>\n",
       "      <td>...</td>\n",
       "      <td>2.186030</td>\n",
       "      <td>False</td>\n",
       "      <td>False</td>\n",
       "      <td>False</td>\n",
       "      <td>False</td>\n",
       "      <td>True</td>\n",
       "      <td>4</td>\n",
       "      <td>9</td>\n",
       "      <td>middle</td>\n",
       "      <td>highest</td>\n",
       "    </tr>\n",
       "  </tbody>\n",
       "</table>\n",
       "<p>383253 rows × 63 columns</p>\n",
       "</div>"
      ],
      "text/plain": [
       "       sample_names  genetic_sex   bmi_prs  genetic_pca1  genetic_pca2  \\\n",
       "0           1000028            1 -0.652309     -1.049343     -0.035594   \n",
       "1           1000045            0 -1.084330     -0.375479     -0.102603   \n",
       "2           1000171            0 -0.980411     -0.382776     -0.734280   \n",
       "3           1000196            0  0.032952      9.739123    -21.189125   \n",
       "4           1000222            1  0.092755      0.531430      0.476652   \n",
       "...             ...          ...       ...           ...           ...   \n",
       "427530      6024818            1 -0.416108      0.307354      0.304317   \n",
       "427531      6024948            1  0.321514      0.166423      0.526967   \n",
       "427532      6025016            1 -1.162700      0.985217     -0.361463   \n",
       "427534      6025181            1 -0.119517      0.053980     -0.853161   \n",
       "427535      6025208            0 -0.435601      0.056533     -0.430585   \n",
       "\n",
       "        genetic_pca3  genetic_pca4  genetic_pca5  genetic_pca6  genetic_pca7  \\\n",
       "0          -0.318610      1.066207      0.842138      1.140278     -0.434576   \n",
       "1          -0.511934     -0.043436     -0.143338     -0.247138      0.968845   \n",
       "2           0.182330      0.271249      1.016180     -0.127882      0.524564   \n",
       "3         -11.847223     -0.065353      0.439113     -1.558717     -0.468649   \n",
       "4          -0.542410      0.154158      0.426149     -1.585834      0.029176   \n",
       "...              ...           ...           ...           ...           ...   \n",
       "427530     -0.321877      0.620826      0.169777     -0.224238     -0.205999   \n",
       "427531     -0.109158      0.036097     -0.871575     -0.222492     -0.073084   \n",
       "427532      0.462544     -1.308939      0.211924      0.167586      1.328446   \n",
       "427534     -0.321771     -0.530573     -0.333055     -0.319564      0.371106   \n",
       "427535     -0.727058      0.069025     -0.030145     -0.120230      0.385079   \n",
       "\n",
       "        ...   t2d_prs  obese     ht    t2d  ht_combo  t2d_combo  \\\n",
       "0       ...  2.275420  False  False  False     False      False   \n",
       "1       ...  0.247464  False  False  False     False      False   \n",
       "2       ...  2.392380   True  False  False     False      False   \n",
       "3       ...  0.496997  False  False  False     False      False   \n",
       "4       ...  0.295108  False   True  False     False      False   \n",
       "...     ...       ...    ...    ...    ...       ...        ...   \n",
       "427530  ... -1.834430  False  False  False     False      False   \n",
       "427531  ...  2.334780   True   True   True     False      False   \n",
       "427532  ... -1.319190  False  False  False     False      False   \n",
       "427534  ...  0.171270  False  False  False     False      False   \n",
       "427535  ...  2.186030  False  False  False     False       True   \n",
       "\n",
       "        ht_prs_decile  t2d_prs_decile  ht_prs_categories  t2d_prs_categories  \n",
       "0                   6               9             middle             highest  \n",
       "1                   0               6             lowest              middle  \n",
       "2                   7               9             middle             highest  \n",
       "3                   1               7             middle              middle  \n",
       "4                   1               6             middle              middle  \n",
       "...               ...             ...                ...                 ...  \n",
       "427530              0               0             lowest              lowest  \n",
       "427531              9               9            highest             highest  \n",
       "427532              0               1             lowest              middle  \n",
       "427534              1               6             middle              middle  \n",
       "427535              4               9             middle             highest  \n",
       "\n",
       "[383253 rows x 63 columns]"
      ]
     },
     "execution_count": 60,
     "metadata": {},
     "output_type": "execute_result"
    }
   ],
   "source": [
    "phenotype_w_prs_df"
   ]
  },
  {
   "cell_type": "code",
   "execution_count": 35,
   "metadata": {},
   "outputs": [],
   "source": [
    "def conduct_ttest(df, variable=\"ht_combo\", value=\"ht_prs\"):\n",
    "    no_var = df.loc[df[variable]==False, value]\n",
    "    var =  df.loc[df[variable]==True, value]\n",
    "    res = ttest_ind(var, no_var, alternative=\"less\")\n",
    "    return pd.Series({\"p_value\": res.pvalue, f\"No {variable}\": round(no_var.mean(), 3), f\"{variable}\": round(var.mean(), 3)})"
   ]
  },
  {
   "cell_type": "code",
   "execution_count": 36,
   "metadata": {},
   "outputs": [
    {
     "data": {
      "text/html": [
       "<div>\n",
       "<style scoped>\n",
       "    .dataframe tbody tr th:only-of-type {\n",
       "        vertical-align: middle;\n",
       "    }\n",
       "\n",
       "    .dataframe tbody tr th {\n",
       "        vertical-align: top;\n",
       "    }\n",
       "\n",
       "    .dataframe thead th {\n",
       "        text-align: right;\n",
       "    }\n",
       "</style>\n",
       "<table border=\"1\" class=\"dataframe\">\n",
       "  <thead>\n",
       "    <tr style=\"text-align: right;\">\n",
       "      <th></th>\n",
       "      <th></th>\n",
       "      <th>p_value</th>\n",
       "      <th>No ht_combo</th>\n",
       "      <th>ht_combo</th>\n",
       "    </tr>\n",
       "    <tr>\n",
       "      <th>bmi_res_categories</th>\n",
       "      <th>ht</th>\n",
       "      <th></th>\n",
       "      <th></th>\n",
       "      <th></th>\n",
       "    </tr>\n",
       "  </thead>\n",
       "  <tbody>\n",
       "    <tr>\n",
       "      <th rowspan=\"2\" valign=\"top\">normal</th>\n",
       "      <th>False</th>\n",
       "      <td>0.526795</td>\n",
       "      <td>-0.190</td>\n",
       "      <td>-0.187</td>\n",
       "    </tr>\n",
       "    <tr>\n",
       "      <th>True</th>\n",
       "      <td>0.099879</td>\n",
       "      <td>0.160</td>\n",
       "      <td>0.126</td>\n",
       "    </tr>\n",
       "    <tr>\n",
       "      <th rowspan=\"2\" valign=\"top\">obese</th>\n",
       "      <th>False</th>\n",
       "      <td>0.124126</td>\n",
       "      <td>-0.097</td>\n",
       "      <td>-0.178</td>\n",
       "    </tr>\n",
       "    <tr>\n",
       "      <th>True</th>\n",
       "      <td>0.038732</td>\n",
       "      <td>0.234</td>\n",
       "      <td>0.190</td>\n",
       "    </tr>\n",
       "    <tr>\n",
       "      <th rowspan=\"2\" valign=\"top\">overweight</th>\n",
       "      <th>False</th>\n",
       "      <td>0.036141</td>\n",
       "      <td>-0.141</td>\n",
       "      <td>-0.193</td>\n",
       "    </tr>\n",
       "    <tr>\n",
       "      <th>True</th>\n",
       "      <td>0.709766</td>\n",
       "      <td>0.203</td>\n",
       "      <td>0.210</td>\n",
       "    </tr>\n",
       "    <tr>\n",
       "      <th rowspan=\"2\" valign=\"top\">severe obesity</th>\n",
       "      <th>False</th>\n",
       "      <td>0.115551</td>\n",
       "      <td>-0.064</td>\n",
       "      <td>-0.162</td>\n",
       "    </tr>\n",
       "    <tr>\n",
       "      <th>True</th>\n",
       "      <td>0.878971</td>\n",
       "      <td>0.275</td>\n",
       "      <td>0.301</td>\n",
       "    </tr>\n",
       "    <tr>\n",
       "      <th rowspan=\"2\" valign=\"top\">underweight</th>\n",
       "      <th>False</th>\n",
       "      <td>0.205601</td>\n",
       "      <td>-0.230</td>\n",
       "      <td>-0.280</td>\n",
       "    </tr>\n",
       "    <tr>\n",
       "      <th>True</th>\n",
       "      <td>0.562402</td>\n",
       "      <td>0.129</td>\n",
       "      <td>0.136</td>\n",
       "    </tr>\n",
       "  </tbody>\n",
       "</table>\n",
       "</div>"
      ],
      "text/plain": [
       "                           p_value  No ht_combo  ht_combo\n",
       "bmi_res_categories ht                                    \n",
       "normal             False  0.526795       -0.190    -0.187\n",
       "                   True   0.099879        0.160     0.126\n",
       "obese              False  0.124126       -0.097    -0.178\n",
       "                   True   0.038732        0.234     0.190\n",
       "overweight         False  0.036141       -0.141    -0.193\n",
       "                   True   0.709766        0.203     0.210\n",
       "severe obesity     False  0.115551       -0.064    -0.162\n",
       "                   True   0.878971        0.275     0.301\n",
       "underweight        False  0.205601       -0.230    -0.280\n",
       "                   True   0.562402        0.129     0.136"
      ]
     },
     "execution_count": 36,
     "metadata": {},
     "output_type": "execute_result"
    }
   ],
   "source": [
    "doi = \"ht\"\n",
    "phenotype_w_prs_df.groupby([\"bmi_res_categories\", f\"{doi}\"]).apply(conduct_ttest, *(f\"{doi}_combo\", f\"{doi}_prs\"))"
   ]
  },
  {
   "cell_type": "code",
   "execution_count": 37,
   "metadata": {},
   "outputs": [
    {
     "data": {
      "text/plain": [
       "<seaborn.axisgrid.FacetGrid at 0x7f1ef4a61150>"
      ]
     },
     "execution_count": 37,
     "metadata": {},
     "output_type": "execute_result"
    },
    {
     "data": {
      "image/png": "[encoded data removed]",
      "text/plain": [
       "<Figure size 1141.25x288 with 5 Axes>"
      ]
     },
     "metadata": {
      "needs_background": "light"
     },
     "output_type": "display_data"
    }
   ],
   "source": [
    "doi = \"ht\"\n",
    "\n",
    "g = sns.catplot(\n",
    "    phenotype_w_prs_df, kind=\"box\", x=f\"{doi}\", y=f\"{doi}_prs\", hue=f\"{doi}_combo\", col=\"bmi_res_categories\", aspect=0.75, height=4,\n",
    "    col_order=[\"underweight\",\"normal\",\"overweight\",\"obese\",\"severe obesity\"], \n",
    "    palette=\"Set2\",\n",
    "    fliersize=0, capprops={'color':'none'}, width=0.5,\n",
    "        boxprops={'edgecolor':'k'},  # 'facecolor':'none', \n",
    "        whiskerprops={'color':'k'}, medianprops={'color':'k'})\n",
    "\n",
    "g.set(ylim=(-3, 3))"
   ]
  },
  {
   "cell_type": "code",
   "execution_count": null,
   "metadata": {},
   "outputs": [],
   "source": []
  },
  {
   "cell_type": "code",
   "execution_count": 38,
   "metadata": {},
   "outputs": [
    {
     "data": {
      "text/plain": [
       "<seaborn.axisgrid.FacetGrid at 0x7f1ee61f0110>"
      ]
     },
     "execution_count": 38,
     "metadata": {},
     "output_type": "execute_result"
    },
    {
     "data": {
      "image/png": "[encoded data removed]",
      "text/plain": [
       "<Figure size 493.25x288 with 2 Axes>"
      ]
     },
     "metadata": {
      "needs_background": "light"
     },
     "output_type": "display_data"
    }
   ],
   "source": [
    "doi = \"ht\"\n",
    "\n",
    "g = sns.catplot(\n",
    "    phenotype_w_prs_df, kind=\"box\", x=f\"{doi}\", y=f\"{doi}_prs\", hue=f\"{doi}_combo\", col=\"obese\", aspect=0.75, height=4,  \n",
    "    palette=\"Set2\",\n",
    "    fliersize=0, capprops={'color':'none'}, width=0.5,\n",
    "        boxprops={'edgecolor':'k'},  # 'facecolor':'none', \n",
    "        whiskerprops={'color':'k'}, medianprops={'color':'k'})\n",
    "\n",
    "g.set(ylim=(-3, 3))"
   ]
  },
  {
   "cell_type": "code",
   "execution_count": 39,
   "metadata": {},
   "outputs": [
    {
     "data": {
      "text/html": [
       "<div>\n",
       "<style scoped>\n",
       "    .dataframe tbody tr th:only-of-type {\n",
       "        vertical-align: middle;\n",
       "    }\n",
       "\n",
       "    .dataframe tbody tr th {\n",
       "        vertical-align: top;\n",
       "    }\n",
       "\n",
       "    .dataframe thead th {\n",
       "        text-align: right;\n",
       "    }\n",
       "</style>\n",
       "<table border=\"1\" class=\"dataframe\">\n",
       "  <thead>\n",
       "    <tr style=\"text-align: right;\">\n",
       "      <th></th>\n",
       "      <th></th>\n",
       "      <th>p_value</th>\n",
       "      <th>No t2d_combo</th>\n",
       "      <th>t2d_combo</th>\n",
       "    </tr>\n",
       "    <tr>\n",
       "      <th>bmi_res_categories</th>\n",
       "      <th>t2d</th>\n",
       "      <th></th>\n",
       "      <th></th>\n",
       "      <th></th>\n",
       "    </tr>\n",
       "  </thead>\n",
       "  <tbody>\n",
       "    <tr>\n",
       "      <th rowspan=\"2\" valign=\"top\">normal</th>\n",
       "      <th>False</th>\n",
       "      <td>0.112022</td>\n",
       "      <td>-0.283</td>\n",
       "      <td>-0.304</td>\n",
       "    </tr>\n",
       "    <tr>\n",
       "      <th>True</th>\n",
       "      <td>0.450032</td>\n",
       "      <td>0.402</td>\n",
       "      <td>0.396</td>\n",
       "    </tr>\n",
       "    <tr>\n",
       "      <th rowspan=\"2\" valign=\"top\">obese</th>\n",
       "      <th>False</th>\n",
       "      <td>0.952407</td>\n",
       "      <td>-0.074</td>\n",
       "      <td>-0.033</td>\n",
       "    </tr>\n",
       "    <tr>\n",
       "      <th>True</th>\n",
       "      <td>0.330869</td>\n",
       "      <td>0.482</td>\n",
       "      <td>0.470</td>\n",
       "    </tr>\n",
       "    <tr>\n",
       "      <th rowspan=\"2\" valign=\"top\">overweight</th>\n",
       "      <th>False</th>\n",
       "      <td>0.189272</td>\n",
       "      <td>-0.166</td>\n",
       "      <td>-0.176</td>\n",
       "    </tr>\n",
       "    <tr>\n",
       "      <th>True</th>\n",
       "      <td>0.614719</td>\n",
       "      <td>0.486</td>\n",
       "      <td>0.491</td>\n",
       "    </tr>\n",
       "    <tr>\n",
       "      <th rowspan=\"2\" valign=\"top\">severe obesity</th>\n",
       "      <th>False</th>\n",
       "      <td>0.927118</td>\n",
       "      <td>-0.044</td>\n",
       "      <td>-0.007</td>\n",
       "    </tr>\n",
       "    <tr>\n",
       "      <th>True</th>\n",
       "      <td>0.867807</td>\n",
       "      <td>0.430</td>\n",
       "      <td>0.453</td>\n",
       "    </tr>\n",
       "    <tr>\n",
       "      <th rowspan=\"2\" valign=\"top\">underweight</th>\n",
       "      <th>False</th>\n",
       "      <td>0.610947</td>\n",
       "      <td>-0.354</td>\n",
       "      <td>-0.347</td>\n",
       "    </tr>\n",
       "    <tr>\n",
       "      <th>True</th>\n",
       "      <td>0.892695</td>\n",
       "      <td>0.096</td>\n",
       "      <td>0.204</td>\n",
       "    </tr>\n",
       "  </tbody>\n",
       "</table>\n",
       "</div>"
      ],
      "text/plain": [
       "                           p_value  No t2d_combo  t2d_combo\n",
       "bmi_res_categories t2d                                     \n",
       "normal             False  0.112022        -0.283     -0.304\n",
       "                   True   0.450032         0.402      0.396\n",
       "obese              False  0.952407        -0.074     -0.033\n",
       "                   True   0.330869         0.482      0.470\n",
       "overweight         False  0.189272        -0.166     -0.176\n",
       "                   True   0.614719         0.486      0.491\n",
       "severe obesity     False  0.927118        -0.044     -0.007\n",
       "                   True   0.867807         0.430      0.453\n",
       "underweight        False  0.610947        -0.354     -0.347\n",
       "                   True   0.892695         0.096      0.204"
      ]
     },
     "execution_count": 39,
     "metadata": {},
     "output_type": "execute_result"
    }
   ],
   "source": [
    "doi = \"t2d\"\n",
    "phenotype_w_prs_df.groupby([\"bmi_res_categories\", f\"{doi}\"]).apply(conduct_ttest, *(f\"{doi}_combo\", f\"{doi}_prs\"))"
   ]
  },
  {
   "cell_type": "code",
   "execution_count": 40,
   "metadata": {},
   "outputs": [
    {
     "data": {
      "text/plain": [
       "<seaborn.axisgrid.FacetGrid at 0x7f1ee5dfde10>"
      ]
     },
     "execution_count": 40,
     "metadata": {},
     "output_type": "execute_result"
    },
    {
     "data": {
      "image/png": "[encoded data removed]",
      "text/plain": [
       "<Figure size 1143x288 with 5 Axes>"
      ]
     },
     "metadata": {
      "needs_background": "light"
     },
     "output_type": "display_data"
    }
   ],
   "source": [
    "doi = \"t2d\"\n",
    "\n",
    "g = sns.catplot(\n",
    "    phenotype_w_prs_df, kind=\"box\", x=f\"{doi}\", y=f\"{doi}_prs\", hue=f\"{doi}_combo\", col=\"bmi_res_categories\", aspect=0.75, height=4,\n",
    "    col_order=[\"underweight\",\"normal\",\"overweight\",\"obese\",\"severe obesity\"], \n",
    "    palette=\"Set2\",\n",
    "    fliersize=0, capprops={'color':'none'}, width=0.5,\n",
    "        boxprops={'edgecolor':'k'},  # 'facecolor':'none', \n",
    "        whiskerprops={'color':'k'}, medianprops={'color':'k'})\n",
    "\n",
    "g.set(ylim=(-3, 3))"
   ]
  },
  {
   "cell_type": "code",
   "execution_count": 41,
   "metadata": {},
   "outputs": [
    {
     "data": {
      "text/plain": [
       "<seaborn.axisgrid.FacetGrid at 0x7f1ee5c015d0>"
      ]
     },
     "execution_count": 41,
     "metadata": {},
     "output_type": "execute_result"
    },
    {
     "data": {
      "image/png": "[encoded data removed]",
      "text/plain": [
       "<Figure size 495x288 with 2 Axes>"
      ]
     },
     "metadata": {
      "needs_background": "light"
     },
     "output_type": "display_data"
    }
   ],
   "source": [
    "doi = \"t2d\"\n",
    "\n",
    "g = sns.catplot(\n",
    "    phenotype_w_prs_df, kind=\"box\", x=f\"{doi}\", y=f\"{doi}_prs\", hue=f\"{doi}_combo\", col=\"obese\", aspect=0.75, height=4,  \n",
    "    palette=\"Set2\",\n",
    "    fliersize=0, capprops={'color':'none'}, width=0.5,\n",
    "        boxprops={'edgecolor':'k'},  # 'facecolor':'none', \n",
    "        whiskerprops={'color':'k'}, medianprops={'color':'k'})\n",
    "\n",
    "g.set(ylim=(-3, 3))"
   ]
  },
  {
   "cell_type": "code",
   "execution_count": null,
   "metadata": {},
   "outputs": [],
   "source": []
  },
  {
   "cell_type": "code",
   "execution_count": 178,
   "metadata": {},
   "outputs": [
    {
     "data": {
      "text/html": [
       "<div>\n",
       "<style scoped>\n",
       "    .dataframe tbody tr th:only-of-type {\n",
       "        vertical-align: middle;\n",
       "    }\n",
       "\n",
       "    .dataframe tbody tr th {\n",
       "        vertical-align: top;\n",
       "    }\n",
       "\n",
       "    .dataframe thead th {\n",
       "        text-align: right;\n",
       "    }\n",
       "</style>\n",
       "<table border=\"1\" class=\"dataframe\">\n",
       "  <thead>\n",
       "    <tr style=\"text-align: right;\">\n",
       "      <th></th>\n",
       "      <th>bmi_prs</th>\n",
       "      <th>ht_prs</th>\n",
       "      <th>t2d_prs</th>\n",
       "    </tr>\n",
       "  </thead>\n",
       "  <tbody>\n",
       "    <tr>\n",
       "      <th>bmi_prs</th>\n",
       "      <td>1.000000</td>\n",
       "      <td>0.139386</td>\n",
       "      <td>0.230127</td>\n",
       "    </tr>\n",
       "    <tr>\n",
       "      <th>ht_prs</th>\n",
       "      <td>0.139386</td>\n",
       "      <td>1.000000</td>\n",
       "      <td>0.201223</td>\n",
       "    </tr>\n",
       "    <tr>\n",
       "      <th>t2d_prs</th>\n",
       "      <td>0.230127</td>\n",
       "      <td>0.201223</td>\n",
       "      <td>1.000000</td>\n",
       "    </tr>\n",
       "  </tbody>\n",
       "</table>\n",
       "</div>"
      ],
      "text/plain": [
       "          bmi_prs    ht_prs   t2d_prs\n",
       "bmi_prs  1.000000  0.139386  0.230127\n",
       "ht_prs   0.139386  1.000000  0.201223\n",
       "t2d_prs  0.230127  0.201223  1.000000"
      ]
     },
     "execution_count": 178,
     "metadata": {},
     "output_type": "execute_result"
    }
   ],
   "source": [
    "phenotype_w_prs_df.loc[:, [\"bmi_prs\", \"ht_prs\", \"t2d_prs\"]].corr()"
   ]
  },
  {
   "cell_type": "code",
   "execution_count": null,
   "metadata": {},
   "outputs": [],
   "source": []
  }
 ],
 "metadata": {
  "kernelspec": {
   "display_name": "Python 3",
   "language": "python",
   "name": "python3"
  },
  "language_info": {
   "codemirror_mode": {
    "name": "ipython",
    "version": 3
   },
   "file_extension": ".py",
   "mimetype": "text/x-python",
   "name": "python",
   "nbconvert_exporter": "python",
   "pygments_lexer": "ipython3",
   "version": "3.11.4"
  }
 },
 "nbformat": 4,
 "nbformat_minor": 2
}
