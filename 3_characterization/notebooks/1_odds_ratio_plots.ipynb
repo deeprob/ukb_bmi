{
 "cells": [
  {
   "cell_type": "code",
   "execution_count": 1,
   "metadata": {},
   "outputs": [],
   "source": [
    "import pandas as pd\n",
    "import numpy as np\n",
    "from scipy.stats.contingency import odds_ratio\n",
    "import forestplot as fp\n",
    "from scipy.stats import fisher_exact\n",
    "\n",
    "import matplotlib\n",
    "import matplotlib.pyplot as plt\n",
    "matplotlib.rcParams['pdf.fonttype'] = 42\n",
    "matplotlib.rcParams['ps.fonttype'] = 42\n",
    "matplotlib.rcParams['font.sans-serif'] = \"Arial\" # missing fonts:: https://alexanderlabwhoi.github.io/post/2021-03-missingfont/\n",
    "# Then, \"ALWAYS use sans-serif fonts\"\n",
    "matplotlib.rcParams['font.family'] = \"sans-serif\"\n",
    "matplotlib.rcParams.update({'font.size': 14, 'axes.linewidth': 2, 'xtick.major.width': 1.5, 'xtick.major.size': 7, 'ytick.major.width': 1.5, 'ytick.major.size': 7})\n",
    "from matplotlib.backends.backend_pdf import PdfPages"
   ]
  },
  {
   "cell_type": "code",
   "execution_count": 2,
   "metadata": {},
   "outputs": [],
   "source": [
    "def save_pdf(save_file, fig):\n",
    "    pdf = PdfPages(save_file)\n",
    "    pdf.savefig(fig, bbox_inches='tight',dpi=300)\n",
    "    pdf.close()\n",
    "    return"
   ]
  },
  {
   "cell_type": "code",
   "execution_count": 3,
   "metadata": {},
   "outputs": [],
   "source": [
    "case_controls_file = \"/data6/deepro/ukb_bmi/1_data_processing/data/british/case_controls.csv\"\n",
    "\n",
    "study_genes_list_files = [\n",
    "    \"/data6/deepro/ukb_bmi/0_data_preparation_and_download/bmi_genes/akbari_2021/data/akbari_genes.list\",\n",
    "    \"/data6/deepro/ukb_bmi/0_data_preparation_and_download/bmi_genes/turcot_2018/data/turcot_genes.list\"\n",
    "    ]\n",
    "\n",
    "combo_files = [\n",
    "    \"/data6/deepro/ukb_bmi/2_rarecomb/data/british/combo2.csv\",\n",
    "    \"/data6/deepro/ukb_bmi/2_rarecomb/data/british/combo3.csv\"\n",
    "]\n",
    "\n",
    "genotype_file = \"/data6/deepro/ukb_bmi/0_data_preparation_and_download/genotype/data/processed_burden/all_gene_burden.csv.gz\""
   ]
  },
  {
   "cell_type": "code",
   "execution_count": 4,
   "metadata": {},
   "outputs": [],
   "source": [
    "case_cont_df = pd.read_csv(case_controls_file)"
   ]
  },
  {
   "cell_type": "code",
   "execution_count": 5,
   "metadata": {},
   "outputs": [],
   "source": [
    "case_samples = set(case_cont_df.loc[case_cont_df.Output_BMI==1, \"Sample_Name\"].astype(\"str\").values)\n",
    "control_samples = set(case_cont_df.loc[case_cont_df.Output_BMI==0, \"Sample_Name\"].astype(\"str\").values)"
   ]
  },
  {
   "cell_type": "code",
   "execution_count": 6,
   "metadata": {},
   "outputs": [],
   "source": [
    "def get_gene_set(gene_file):\n",
    "    with open(gene_file, \"r\") as f:\n",
    "        genes = set([g.strip() for g in f.readlines()])\n",
    "    return genes"
   ]
  },
  {
   "cell_type": "code",
   "execution_count": 7,
   "metadata": {},
   "outputs": [],
   "source": [
    "study_genes = [get_gene_set(gf) for gf in study_genes_list_files]\n",
    "combo_dfs = [pd.read_csv(cf) for cf in combo_files]"
   ]
  },
  {
   "cell_type": "code",
   "execution_count": 8,
   "metadata": {},
   "outputs": [],
   "source": [
    "genotype_df = pd.read_csv(genotype_file)"
   ]
  },
  {
   "cell_type": "code",
   "execution_count": 9,
   "metadata": {},
   "outputs": [],
   "source": [
    "def create_contingency_tables_genes(genotype_df, genes, case_samples, control_samples):\n",
    "    all_gene_samples = set(\",\".join(genotype_df.loc[genotype_df.gene.isin(genes)].samples.values).split(\",\"))\n",
    "    all_gene_case_samples = case_samples.intersection(all_gene_samples)\n",
    "    all_nongene_case_samples = case_samples.difference(all_gene_samples)\n",
    "    all_gene_cont_samples = control_samples.intersection(all_gene_samples)\n",
    "    all_nongene_cont_samples = control_samples.difference(all_gene_samples)\n",
    "    contingency_table = np.array([[len(all_gene_case_samples), len(all_nongene_case_samples)], [len(all_gene_cont_samples), len(all_nongene_cont_samples)]])\n",
    "    return contingency_table\n",
    "\n",
    "def create_contingency_tables_combos(combo_df, case_samples, control_samples):\n",
    "    all_combo_samples = set(\"|\".join(combo_df.Case_Samples.values).split(\"|\")).union(set(\"|\".join(combo_df.Control_Samples.dropna().values).split(\"|\")))\n",
    "    all_combo_case_samples = case_samples.intersection(all_combo_samples)\n",
    "    all_noncombo_case_samples = case_samples.difference(all_combo_samples)\n",
    "    all_combo_cont_samples = control_samples.intersection(all_combo_samples)\n",
    "    all_noncombo_cont_samples = control_samples.difference(all_combo_samples)\n",
    "    contingency_table = np.array([[len(all_combo_case_samples), len(all_noncombo_case_samples)], [len(all_combo_cont_samples), len(all_noncombo_cont_samples)]])\n",
    "    return contingency_table\n",
    "\n"
   ]
  },
  {
   "cell_type": "code",
   "execution_count": 10,
   "metadata": {},
   "outputs": [],
   "source": [
    "cont_tables_study = [create_contingency_tables_genes(genotype_df, sg, case_samples, control_samples) for sg in study_genes]\n",
    "cont_tables_combos = [create_contingency_tables_combos(cdf, case_samples, control_samples) for cdf in combo_dfs]"
   ]
  },
  {
   "cell_type": "code",
   "execution_count": 11,
   "metadata": {},
   "outputs": [],
   "source": [
    "odds_ratios_all = [odds_ratio(ct) for ct in cont_tables_study + cont_tables_combos]"
   ]
  },
  {
   "cell_type": "code",
   "execution_count": 12,
   "metadata": {},
   "outputs": [],
   "source": [
    "fishers_all = [fisher_exact(ct) for ct in cont_tables_study + cont_tables_combos]"
   ]
  },
  {
   "cell_type": "code",
   "execution_count": 13,
   "metadata": {},
   "outputs": [],
   "source": [
    "data_dict = {\"study_type\": [], \"odds_ratio\": [], \"ci_low\": [], \"ci_high\": [], \"pvalue\": []}\n",
    "\n",
    "for or_study, fe_study, st in zip(odds_ratios_all, fishers_all, [\"Akbari et. al.\", \"Turcot et. al. \", \"Digenic Combinations\", \"Trigenic Combinations\"]):\n",
    "    data_dict[\"study_type\"].append(st)\n",
    "    data_dict[\"odds_ratio\"].append(or_study.statistic)\n",
    "    cil, cih = or_study.confidence_interval(confidence_level=0.95)\n",
    "    data_dict[\"ci_low\"].append(cil)\n",
    "    data_dict[\"ci_high\"].append(cih)\n",
    "    data_dict[\"pvalue\"].append(fe_study.pvalue)\n",
    "\n",
    "df = pd.DataFrame(data_dict)"
   ]
  },
  {
   "cell_type": "code",
   "execution_count": 14,
   "metadata": {},
   "outputs": [],
   "source": [
    "df[\"study_type_group\"] = [\"RVAS\", \"RVAS\", \"RareComb\", \"RareComb\"]"
   ]
  },
  {
   "cell_type": "code",
   "execution_count": 15,
   "metadata": {},
   "outputs": [
    {
     "data": {
      "text/html": [
       "<div>\n",
       "<style scoped>\n",
       "    .dataframe tbody tr th:only-of-type {\n",
       "        vertical-align: middle;\n",
       "    }\n",
       "\n",
       "    .dataframe tbody tr th {\n",
       "        vertical-align: top;\n",
       "    }\n",
       "\n",
       "    .dataframe thead th {\n",
       "        text-align: right;\n",
       "    }\n",
       "</style>\n",
       "<table border=\"1\" class=\"dataframe\">\n",
       "  <thead>\n",
       "    <tr style=\"text-align: right;\">\n",
       "      <th></th>\n",
       "      <th>study_type</th>\n",
       "      <th>odds_ratio</th>\n",
       "      <th>ci_low</th>\n",
       "      <th>ci_high</th>\n",
       "      <th>pvalue</th>\n",
       "      <th>study_type_group</th>\n",
       "    </tr>\n",
       "  </thead>\n",
       "  <tbody>\n",
       "    <tr>\n",
       "      <th>0</th>\n",
       "      <td>Akbari et. al.</td>\n",
       "      <td>1.149526</td>\n",
       "      <td>1.096099</td>\n",
       "      <td>1.205471</td>\n",
       "      <td>8.644771e-09</td>\n",
       "      <td>RVAS</td>\n",
       "    </tr>\n",
       "    <tr>\n",
       "      <th>1</th>\n",
       "      <td>Turcot et. al.</td>\n",
       "      <td>1.063093</td>\n",
       "      <td>1.012801</td>\n",
       "      <td>1.115779</td>\n",
       "      <td>1.312199e-02</td>\n",
       "      <td>RVAS</td>\n",
       "    </tr>\n",
       "    <tr>\n",
       "      <th>2</th>\n",
       "      <td>Digenic Combinations</td>\n",
       "      <td>10.498392</td>\n",
       "      <td>9.698086</td>\n",
       "      <td>11.377889</td>\n",
       "      <td>0.000000e+00</td>\n",
       "      <td>RareComb</td>\n",
       "    </tr>\n",
       "    <tr>\n",
       "      <th>3</th>\n",
       "      <td>Trigenic Combinations</td>\n",
       "      <td>37.202553</td>\n",
       "      <td>29.427868</td>\n",
       "      <td>47.692341</td>\n",
       "      <td>0.000000e+00</td>\n",
       "      <td>RareComb</td>\n",
       "    </tr>\n",
       "  </tbody>\n",
       "</table>\n",
       "</div>"
      ],
      "text/plain": [
       "              study_type  odds_ratio     ci_low    ci_high        pvalue  \\\n",
       "0         Akbari et. al.    1.149526   1.096099   1.205471  8.644771e-09   \n",
       "1        Turcot et. al.     1.063093   1.012801   1.115779  1.312199e-02   \n",
       "2   Digenic Combinations   10.498392   9.698086  11.377889  0.000000e+00   \n",
       "3  Trigenic Combinations   37.202553  29.427868  47.692341  0.000000e+00   \n",
       "\n",
       "  study_type_group  \n",
       "0             RVAS  \n",
       "1             RVAS  \n",
       "2         RareComb  \n",
       "3         RareComb  "
      ]
     },
     "execution_count": 15,
     "metadata": {},
     "output_type": "execute_result"
    }
   ],
   "source": [
    "df"
   ]
  },
  {
   "cell_type": "code",
   "execution_count": 16,
   "metadata": {},
   "outputs": [
    {
     "data": {
      "image/png": "[encoded data removed]",
      "text/plain": [
       "<Figure size 432x216 with 1 Axes>"
      ]
     },
     "metadata": {},
     "output_type": "display_data"
    }
   ],
   "source": [
    "fig = fp.forestplot(df,  # the dataframe with results data\n",
    "              estimate=\"odds_ratio\",  # col containing estimated effect size \n",
    "              ll=\"ci_low\", hl=\"ci_high\",\n",
    "              pval=\"pvalue\",\n",
    "              decimal_precision=3,\n",
    "              varlabel=\"study_type\",  # column containing variable label\n",
    "              groupvar=\"study_type_group\",  # Add variable groupings\n",
    "              color_alt_rows=True,\n",
    "              table=True,\n",
    "              annote=[\"est_ci\"],\n",
    "              annoteheaders=[\"Est. (95% Conf. Int.)\"],\n",
    "              # group ordering\n",
    "              group_order=[\"RVAS\", \"RareComb\"],\n",
    "              sort=True, # sort in ascending order (sorts within group if group is specified)\n",
    "              logscale=True, \n",
    "              ylabel=\"Est. (95% Conf. Int.)\",  # y-label title\n",
    "              xlabel=\"Odds Ratio\",  # x-label title\n",
    "              xticks=[0.1, 1, 10, 100],\n",
    "              # xticks=[-5, 1, 5, 10, 15, 20, 25, 30, 35, 40, 50],\n",
    "              figsize=(6, 3 ),\n",
    "              **{\"marker\": \"D\",  # set maker symbol as diamond\n",
    "                 \"markersize\": 75,  # adjust marker size\n",
    "                 \"xlinestyle\": (0, (10, 5)),  # long dash for x-reference line \n",
    "                 \"xlinecolor\": \"k\",  # gray color for x-reference line\n",
    "                 \"xline\": 1,\n",
    "                 \"xlinewidth\": 1,\n",
    "                 \"xtick_size\": 12,  # adjust x-ticker fontsize\n",
    "                 \"lw\": 3,\n",
    "                }       \n",
    "              )\n"
   ]
  },
  {
   "cell_type": "code",
   "execution_count": 18,
   "metadata": {},
   "outputs": [],
   "source": [
    "save_pdf(\"../data/effect_sizes/british/figures/odr.pdf\", fig.figure)"
   ]
  },
  {
   "cell_type": "code",
   "execution_count": null,
   "metadata": {},
   "outputs": [],
   "source": []
  }
 ],
 "metadata": {
  "kernelspec": {
   "display_name": "Python 3",
   "language": "python",
   "name": "python3"
  },
  "language_info": {
   "codemirror_mode": {
    "name": "ipython",
    "version": 3
   },
   "file_extension": ".py",
   "mimetype": "text/x-python",
   "name": "python",
   "nbconvert_exporter": "python",
   "pygments_lexer": "ipython3",
   "version": "3.11.4"
  }
 },
 "nbformat": 4,
 "nbformat_minor": 2
}
