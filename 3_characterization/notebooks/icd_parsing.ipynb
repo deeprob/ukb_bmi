{
 "cells": [
  {
   "cell_type": "code",
   "execution_count": 1,
   "metadata": {},
   "outputs": [],
   "source": [
    "import pandas as pd\n",
    "import numpy as np\n",
    "\n",
    "\n",
    "import sys\n",
    "\n",
    "sys.path.append(\"../src/utils\")\n",
    "\n",
    "import parsing as utpa"
   ]
  },
  {
   "cell_type": "code",
   "execution_count": 2,
   "metadata": {},
   "outputs": [],
   "source": [
    "icd_raw_dir = \"/data6/deepro/ukb_bmi/0_data_preparation_and_download/icd_codes/data/icd_raw\"\n",
    "icd_codes_file = \"/data6/deepro/ukb_bmi/0_data_preparation_and_download/icd_codes/data/icd_tree/coding19.tsv\"\n",
    "\n",
    "combo_files = [\n",
    "    \"/data6/deepro/ukb_bmi/3_characterization/data/combo_info/british/discovery_combo2.csv\",\n",
    "    \"/data6/deepro/ukb_bmi/3_characterization/data/combo_info/british/discovery_combo3.csv\"\n",
    "]\n",
    "cohort_file = \"/data6/deepro/ukb_bmi/0_data_preparation_and_download/phenotype/data/bmi_processed/british/train_cohort_bmi.csv.gz\"\n",
    "hes_info_file = \"/data6/deepro/ukb_bmi/0_data_preparation_and_download/icd_codes/data/hes_info/hes_info.csv.gz\""
   ]
  },
  {
   "cell_type": "code",
   "execution_count": 3,
   "metadata": {},
   "outputs": [],
   "source": [
    "def create_phenotype_samples_df(phenotype_df, combo_samples):\n",
    "    phenotype_df[\"carrier\"] = phenotype_df.sample_names.isin(combo_samples)\n",
    "    return phenotype_df"
   ]
  },
  {
   "cell_type": "code",
   "execution_count": 4,
   "metadata": {},
   "outputs": [
    {
     "name": "stdout",
     "output_type": "stream",
     "text": [
      "Samples in cohort 427639\n",
      "Samples with icd 383253\n",
      "Samples with combo 10193\n",
      "Samples with combo and icd 9269\n"
     ]
    }
   ],
   "source": [
    "cohort_df = pd.read_csv(cohort_file, usecols=[\"sample_names\",  \"bmi\", \"bmi_prs\", \"bmi_residuals\"], dtype={\"sample_names\": str, \"bmi\": float, \"bmi_prs\": float, \"bmi_residuals\":float})\n",
    "cohort_df[\"sample_names\"] = cohort_df.sample_names.astype(str)\n",
    "combo_genes, combo_samples = utpa.get_combo_info_from_files(combo_files)\n",
    "phenotype_samples_df = create_phenotype_samples_df(cohort_df, combo_samples)\n",
    "icd_samples_df = utpa.create_icd_samples_file(icd_raw_dir)\n",
    "icd_codes_df = pd.read_csv(icd_codes_file, usecols=[\"coding\", \"meaning\", \"node_id\", \"parent_id\"], sep=\"\\t\")\n",
    "icd_codes_df[\"coding\"] = icd_codes_df.coding.str.replace(\" \", \"\")\n",
    "pheno_tree, root_pheno, c2nodeid_dict = utpa.create_tree(icd_codes_df, icd_samples_df)\n",
    "hes_info_df = pd.read_csv(hes_info_file, dtype={\"sample_names\": str, \"hes_info\": float})\n",
    "all_icd_samples = set(hes_info_df.loc[hes_info_df.hes_info>0, \"sample_names\"].values)\n",
    "print(f\"Samples in cohort {len(phenotype_samples_df)}\")\n",
    "phenotype_samples_df = phenotype_samples_df.loc[phenotype_samples_df.sample_names.isin(all_icd_samples)]\n",
    "print(f\"Samples with icd {len(phenotype_samples_df)}\")\n",
    "print(f\"Samples with combo {len(combo_samples)}\")\n",
    "combo_samples = combo_samples.intersection(all_icd_samples)\n",
    "print(f\"Samples with combo and icd {len(combo_samples)}\")"
   ]
  },
  {
   "cell_type": "code",
   "execution_count": 5,
   "metadata": {},
   "outputs": [
    {
     "data": {
      "text/plain": [
       "449090"
      ]
     },
     "execution_count": 5,
     "metadata": {},
     "output_type": "execute_result"
    }
   ],
   "source": [
    "len(all_icd_samples)"
   ]
  },
  {
   "cell_type": "code",
   "execution_count": null,
   "metadata": {},
   "outputs": [],
   "source": []
  }
 ],
 "metadata": {
  "kernelspec": {
   "display_name": "Python 3",
   "language": "python",
   "name": "python3"
  },
  "language_info": {
   "codemirror_mode": {
    "name": "ipython",
    "version": 3
   },
   "file_extension": ".py",
   "mimetype": "text/x-python",
   "name": "python",
   "nbconvert_exporter": "python",
   "pygments_lexer": "ipython3",
   "version": "3.11.4"
  }
 },
 "nbformat": 4,
 "nbformat_minor": 2
}
