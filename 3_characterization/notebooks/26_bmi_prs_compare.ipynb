{
 "cells": [
  {
   "cell_type": "code",
   "execution_count": 1,
   "metadata": {},
   "outputs": [],
   "source": [
    "import os\n",
    "import numpy as np\n",
    "import pandas as pd\n",
    "from scipy.stats import kstest,ttest_ind, fisher_exact\n",
    "from scipy.stats.contingency import odds_ratio\n",
    "import itertools as it\n",
    "from collections import Counter\n",
    "import seaborn as sns\n",
    "from matplotlib.ticker import MultipleLocator\n",
    "import matplotlib\n",
    "import matplotlib.pyplot as plt\n",
    "matplotlib.rcParams['pdf.fonttype'] = 42\n",
    "matplotlib.rcParams['ps.fonttype'] = 42\n",
    "matplotlib.rcParams.update({'font.size': 14, 'axes.linewidth': 2, 'xtick.major.width': 1.5, 'xtick.major.size': 7, 'ytick.major.width': 1.5, 'ytick.major.size': 7})\n",
    "from matplotlib.backends.backend_pdf import PdfPages\n",
    "from functools import reduce\n",
    "from scipy.stats import kstest,ttest_ind"
   ]
  },
  {
   "cell_type": "code",
   "execution_count": 2,
   "metadata": {},
   "outputs": [],
   "source": [
    "phenotype_file = \"/data6/deepro/ukb_bmi/0_data_preparation_and_download/phenotype/data/bmi_processed/british/train_cohort_bmi.csv.gz\"\n",
    "combo_files = [\n",
    "    \"/data6/deepro/ukb_bmi/3_characterization/data/combo_info/british/discovery_combo2.csv\",\n",
    "    \"/data6/deepro/ukb_bmi/3_characterization/data/combo_info/british/discovery_combo3.csv\"\n",
    "]\n",
    "\n",
    "phenotype_df = pd.read_csv(phenotype_file, usecols=[\"sample_names\", \"bmi\", \"bmi_prs\"])\n",
    "combo_df = pd.concat([pd.read_csv(cf) for cf in combo_files])\n",
    "all_combo_samples = set(\"|\".join(combo_df.combo_samples.values).split(\"|\"))\n"
   ]
  },
  {
   "cell_type": "code",
   "execution_count": 3,
   "metadata": {},
   "outputs": [
    {
     "name": "stderr",
     "output_type": "stream",
     "text": [
      "/tmp/ipykernel_90660/112422977.py:4: SettingWithCopyWarning: \n",
      "A value is trying to be set on a copy of a slice from a DataFrame.\n",
      "Try using .loc[row_indexer,col_indexer] = value instead\n",
      "\n",
      "See the caveats in the documentation: https://pandas.pydata.org/pandas-docs/stable/user_guide/indexing.html#returning-a-view-versus-a-copy\n",
      "  phenotype_other_samples_df[\"description\"] = \"Non Combo\"\n",
      "/tmp/ipykernel_90660/112422977.py:5: SettingWithCopyWarning: \n",
      "A value is trying to be set on a copy of a slice from a DataFrame.\n",
      "Try using .loc[row_indexer,col_indexer] = value instead\n",
      "\n",
      "See the caveats in the documentation: https://pandas.pydata.org/pandas-docs/stable/user_guide/indexing.html#returning-a-view-versus-a-copy\n",
      "  phenotype_combo_samples_df[\"description\"] = \"Combo\"\n"
     ]
    }
   ],
   "source": [
    "phenotype_combo_samples_df = phenotype_df.loc[phenotype_df.sample_names.astype(str).isin(list(map(str, all_combo_samples)))]\n",
    "phenotype_other_samples_df = phenotype_df.loc[~phenotype_df.sample_names.astype(str).isin(list(map(str, all_combo_samples)))]\n",
    "\n",
    "phenotype_other_samples_df[\"description\"] = \"Non Combo\"\n",
    "phenotype_combo_samples_df[\"description\"] = \"Combo\"\n",
    "phenotype_samples_df = pd.concat((phenotype_combo_samples_df, phenotype_other_samples_df))"
   ]
  },
  {
   "cell_type": "code",
   "execution_count": 4,
   "metadata": {},
   "outputs": [
    {
     "data": {
      "text/html": [
       "<div>\n",
       "<style scoped>\n",
       "    .dataframe tbody tr th:only-of-type {\n",
       "        vertical-align: middle;\n",
       "    }\n",
       "\n",
       "    .dataframe tbody tr th {\n",
       "        vertical-align: top;\n",
       "    }\n",
       "\n",
       "    .dataframe thead th {\n",
       "        text-align: right;\n",
       "    }\n",
       "</style>\n",
       "<table border=\"1\" class=\"dataframe\">\n",
       "  <thead>\n",
       "    <tr style=\"text-align: right;\">\n",
       "      <th></th>\n",
       "      <th>sample_names</th>\n",
       "      <th>bmi_prs</th>\n",
       "      <th>bmi</th>\n",
       "      <th>description</th>\n",
       "    </tr>\n",
       "  </thead>\n",
       "  <tbody>\n",
       "    <tr>\n",
       "      <th>22</th>\n",
       "      <td>1001090</td>\n",
       "      <td>0.537263</td>\n",
       "      <td>27.5551</td>\n",
       "      <td>Combo</td>\n",
       "    </tr>\n",
       "    <tr>\n",
       "      <th>110</th>\n",
       "      <td>1005637</td>\n",
       "      <td>-0.280427</td>\n",
       "      <td>26.2897</td>\n",
       "      <td>Combo</td>\n",
       "    </tr>\n",
       "    <tr>\n",
       "      <th>118</th>\n",
       "      <td>1006065</td>\n",
       "      <td>0.903266</td>\n",
       "      <td>49.9817</td>\n",
       "      <td>Combo</td>\n",
       "    </tr>\n",
       "    <tr>\n",
       "      <th>154</th>\n",
       "      <td>1007953</td>\n",
       "      <td>0.161748</td>\n",
       "      <td>30.6831</td>\n",
       "      <td>Combo</td>\n",
       "    </tr>\n",
       "    <tr>\n",
       "      <th>162</th>\n",
       "      <td>1008528</td>\n",
       "      <td>1.294230</td>\n",
       "      <td>27.0552</td>\n",
       "      <td>Combo</td>\n",
       "    </tr>\n",
       "    <tr>\n",
       "      <th>...</th>\n",
       "      <td>...</td>\n",
       "      <td>...</td>\n",
       "      <td>...</td>\n",
       "      <td>...</td>\n",
       "    </tr>\n",
       "    <tr>\n",
       "      <th>427633</th>\n",
       "      <td>6024818</td>\n",
       "      <td>-0.416108</td>\n",
       "      <td>27.6095</td>\n",
       "      <td>Non Combo</td>\n",
       "    </tr>\n",
       "    <tr>\n",
       "      <th>427634</th>\n",
       "      <td>6024948</td>\n",
       "      <td>0.321514</td>\n",
       "      <td>47.2208</td>\n",
       "      <td>Non Combo</td>\n",
       "    </tr>\n",
       "    <tr>\n",
       "      <th>427636</th>\n",
       "      <td>6025119</td>\n",
       "      <td>0.968325</td>\n",
       "      <td>30.0759</td>\n",
       "      <td>Non Combo</td>\n",
       "    </tr>\n",
       "    <tr>\n",
       "      <th>427637</th>\n",
       "      <td>6025181</td>\n",
       "      <td>-0.119517</td>\n",
       "      <td>26.4991</td>\n",
       "      <td>Non Combo</td>\n",
       "    </tr>\n",
       "    <tr>\n",
       "      <th>427638</th>\n",
       "      <td>6025208</td>\n",
       "      <td>-0.435601</td>\n",
       "      <td>23.9974</td>\n",
       "      <td>Non Combo</td>\n",
       "    </tr>\n",
       "  </tbody>\n",
       "</table>\n",
       "<p>427639 rows × 4 columns</p>\n",
       "</div>"
      ],
      "text/plain": [
       "        sample_names   bmi_prs      bmi description\n",
       "22           1001090  0.537263  27.5551       Combo\n",
       "110          1005637 -0.280427  26.2897       Combo\n",
       "118          1006065  0.903266  49.9817       Combo\n",
       "154          1007953  0.161748  30.6831       Combo\n",
       "162          1008528  1.294230  27.0552       Combo\n",
       "...              ...       ...      ...         ...\n",
       "427633       6024818 -0.416108  27.6095   Non Combo\n",
       "427634       6024948  0.321514  47.2208   Non Combo\n",
       "427636       6025119  0.968325  30.0759   Non Combo\n",
       "427637       6025181 -0.119517  26.4991   Non Combo\n",
       "427638       6025208 -0.435601  23.9974   Non Combo\n",
       "\n",
       "[427639 rows x 4 columns]"
      ]
     },
     "execution_count": 4,
     "metadata": {},
     "output_type": "execute_result"
    }
   ],
   "source": [
    "phenotype_samples_df"
   ]
  },
  {
   "cell_type": "code",
   "execution_count": 5,
   "metadata": {},
   "outputs": [
    {
     "data": {
      "text/plain": [
       "-0.2113454277180635"
      ]
     },
     "execution_count": 5,
     "metadata": {},
     "output_type": "execute_result"
    }
   ],
   "source": [
    "phenotype_samples_df.loc[phenotype_samples_df.description==\"Non Combo\", \"bmi_prs\"].mean()"
   ]
  },
  {
   "cell_type": "code",
   "execution_count": 6,
   "metadata": {},
   "outputs": [
    {
     "data": {
      "text/plain": [
       "count    10193.000000\n",
       "mean        -0.157903\n",
       "std          0.995045\n",
       "min         -3.997840\n",
       "25%         -0.822225\n",
       "50%         -0.165892\n",
       "75%          0.513074\n",
       "max          3.823600\n",
       "Name: bmi_prs, dtype: float64"
      ]
     },
     "execution_count": 6,
     "metadata": {},
     "output_type": "execute_result"
    }
   ],
   "source": [
    "phenotype_samples_df.loc[phenotype_samples_df.description==\"Combo\", \"bmi_prs\"].describe()"
   ]
  },
  {
   "cell_type": "code",
   "execution_count": 7,
   "metadata": {},
   "outputs": [
    {
     "data": {
      "text/plain": [
       "count    417446.000000\n",
       "mean         -0.211345\n",
       "std           0.976805\n",
       "min          -4.709030\n",
       "25%          -0.871008\n",
       "50%          -0.211110\n",
       "75%           0.446872\n",
       "max           4.164230\n",
       "Name: bmi_prs, dtype: float64"
      ]
     },
     "execution_count": 7,
     "metadata": {},
     "output_type": "execute_result"
    }
   ],
   "source": [
    "phenotype_samples_df.loc[phenotype_samples_df.description==\"Non Combo\", \"bmi_prs\"].describe()"
   ]
  },
  {
   "cell_type": "code",
   "execution_count": 8,
   "metadata": {},
   "outputs": [
    {
     "data": {
      "text/plain": [
       "<AxesSubplot: xlabel='bmi_prs', ylabel='Density'>"
      ]
     },
     "execution_count": 8,
     "metadata": {},
     "output_type": "execute_result"
    },
    {
     "data": {
      "image/png": "[encoded data removed]",
      "text/plain": [
       "<Figure size 432x288 with 1 Axes>"
      ]
     },
     "metadata": {
      "needs_background": "light"
     },
     "output_type": "display_data"
    }
   ],
   "source": [
    "sns.kdeplot(phenotype_samples_df, x=\"bmi_prs\", hue=\"description\", fill=True, common_norm=False)"
   ]
  },
  {
   "cell_type": "code",
   "execution_count": 9,
   "metadata": {},
   "outputs": [
    {
     "data": {
      "text/plain": [
       "(-3.5, 3.5)"
      ]
     },
     "execution_count": 9,
     "metadata": {},
     "output_type": "execute_result"
    },
    {
     "data": {
      "image/png": "[encoded data removed]",
      "text/plain": [
       "<Figure size 216x432 with 1 Axes>"
      ]
     },
     "metadata": {
      "needs_background": "light"
     },
     "output_type": "display_data"
    }
   ],
   "source": [
    "fig,ax = plt.subplots(figsize=(3, 6))\n",
    "\n",
    "# Box Plot\n",
    "sns_ax = sns.boxplot(\n",
    "    data=phenotype_samples_df,\n",
    "    # palette=[\"#c1272d\", \"#00ADEE\"],  # \"#eecc16\", \"#008176\" '#D1245D', '#00ADEE', '#D1245D', '#00ADEE' \"#0000a7\"\n",
    "    x=\"description\",\n",
    "    y=\"bmi_prs\",\n",
    "    color=\"k\",\n",
    "    orient=\"v\",\n",
    "    legend=False,\n",
    "    width=0.35, linewidth=2.25, fliersize=0, capprops={'color':'none'}, boxprops={'facecolor':'none', 'edgecolor':'k'}\n",
    "    )\n",
    "\n",
    "ax.set_ylim((-3.5, 3.5))"
   ]
  },
  {
   "cell_type": "code",
   "execution_count": 10,
   "metadata": {},
   "outputs": [
    {
     "data": {
      "text/plain": [
       "TtestResult(statistic=-0.05471114350862153, pvalue=0.9563686176074011, df=417445.0)"
      ]
     },
     "execution_count": 10,
     "metadata": {},
     "output_type": "execute_result"
    }
   ],
   "source": [
    "ttest_ind(\n",
    "    phenotype_samples_df.loc[phenotype_samples_df.description==\"Non Combo\", \"bmi_prs\"],\n",
    "    phenotype_samples_df.loc[phenotype_samples_df.description==\"Combo\", \"bmi_prs\"].mean()\n",
    ")"
   ]
  },
  {
   "cell_type": "code",
   "execution_count": null,
   "metadata": {},
   "outputs": [],
   "source": []
  }
 ],
 "metadata": {
  "kernelspec": {
   "display_name": "Python 3",
   "language": "python",
   "name": "python3"
  },
  "language_info": {
   "codemirror_mode": {
    "name": "ipython",
    "version": 3
   },
   "file_extension": ".py",
   "mimetype": "text/x-python",
   "name": "python",
   "nbconvert_exporter": "python",
   "pygments_lexer": "ipython3",
   "version": "3.11.4"
  }
 },
 "nbformat": 4,
 "nbformat_minor": 2
}
