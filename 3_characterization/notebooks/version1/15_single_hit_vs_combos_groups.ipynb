{
 "cells": [
  {
   "cell_type": "code",
   "execution_count": 2,
   "metadata": {},
   "outputs": [],
   "source": [
    "import os\n",
    "import pandas as pd\n",
    "import upsetplot\n",
    "from functools import reduce\n",
    "from itertools import combinations\n",
    "\n",
    "# plotting modules\n",
    "import seaborn as sns\n",
    "from matplotlib.ticker import MultipleLocator\n",
    "import matplotlib\n",
    "import matplotlib.pyplot as plt\n",
    "matplotlib.rcParams['pdf.fonttype'] = 42\n",
    "matplotlib.rcParams['ps.fonttype'] = 42\n",
    "matplotlib.rcParams['font.sans-serif'] = \"Arial\" # missing fonts:: https://alexanderlabwhoi.github.io/post/2021-03-missingfont/\n",
    "# Then, \"ALWAYS use sans-serif fonts\"\n",
    "matplotlib.rcParams['font.family'] = \"sans-serif\"\n",
    "matplotlib.rcParams.update({'font.size': 14, 'axes.linewidth': 2, 'xtick.major.width': 1.5, 'xtick.major.size': 5, 'ytick.major.width': 1.5, 'ytick.major.size': 4})\n",
    "from matplotlib.backends.backend_pdf import PdfPages"
   ]
  },
  {
   "cell_type": "code",
   "execution_count": 3,
   "metadata": {},
   "outputs": [],
   "source": [
    "def save_pdf(save_file, fig):\n",
    "    pdf = PdfPages(save_file)\n",
    "    pdf.savefig(fig, bbox_inches='tight')\n",
    "    pdf.close()\n",
    "    return"
   ]
  },
  {
   "cell_type": "code",
   "execution_count": 8,
   "metadata": {},
   "outputs": [],
   "source": [
    "genotype_file = \"/data6/deepro/ukb_bmi/0_data_preparation_and_download/genotype/data/processed_burden/all_gene_burden.csv.gz\"\n",
    "phenotype_files = [\n",
    "    \"/data6/deepro/ukb_bmi/0_data_preparation_and_download/phenotype/data/bmi_processed/british_male/train_cohort_bmi.csv.gz\",\n",
    "    \"/data6/deepro/ukb_bmi/0_data_preparation_and_download/phenotype/data/bmi_processed/british_female/train_cohort_bmi.csv.gz\",\n",
    "    \"/data6/deepro/ukb_bmi/0_data_preparation_and_download/phenotype/data/bmi_processed/pre_menopause/train_cohort_bmi.csv.gz\",\n",
    "    \"/data6/deepro/ukb_bmi/0_data_preparation_and_download/phenotype/data/bmi_processed/post_menopause/train_cohort_bmi.csv.gz\",\n",
    "]\n",
    "combo_files = [\n",
    "    \"/data6/deepro/ukb_bmi/3_characterization/data/combos_in_cohort/british_male/train_cohort.csv\",\n",
    "    \"/data6/deepro/ukb_bmi/3_characterization/data/combos_in_cohort/british_female/train_cohort.csv\",\n",
    "    \"/data6/deepro/ukb_bmi/3_characterization/data/combos_in_cohort/pre_menopause/train_cohort.csv\",\n",
    "    \"/data6/deepro/ukb_bmi/3_characterization/data/combos_in_cohort/post_menopause/train_cohort.csv\",\n",
    "    ]"
   ]
  },
  {
   "cell_type": "code",
   "execution_count": 9,
   "metadata": {},
   "outputs": [],
   "source": [
    "groups = [\"british_male\", \"british_female\", \"pre_menopause\", \"post_menopause\"]"
   ]
  },
  {
   "cell_type": "code",
   "execution_count": 10,
   "metadata": {},
   "outputs": [],
   "source": [
    "def get_oligo_table(genotype_df, combo_genes, phenotype_df, combo_samples, group):\n",
    "    # only keep the combo genes\n",
    "    combo_gene_df = genotype_df.loc[genotype_df.gene.isin(combo_genes)]\n",
    "    # set samples as str type\n",
    "    combo_gene_df.loc[:, \"samples\"] = combo_gene_df.samples.str.split(\",\")\n",
    "    # explode by samples\n",
    "    combo_gene_df = combo_gene_df.explode(\"samples\")\n",
    "    # create one hot encoded data\n",
    "    combo_gene_df = pd.crosstab(combo_gene_df.samples, combo_gene_df.gene)\n",
    "    single_hit_samples = set(combo_gene_df.loc[combo_gene_df.sum(axis=1)<2].index)\n",
    "    single_hit_pheno = phenotype_df.loc[phenotype_df.sample_names.isin(single_hit_samples)]\n",
    "    combo_pheno = phenotype_df.loc[phenotype_df.sample_names.isin(combo_samples)]\n",
    "    single_hit_pheno[\"mutation\"] = \"single hit\"\n",
    "    combo_pheno[\"mutation\"] = \"combo\"\n",
    "    oligo_table = pd.concat((single_hit_pheno, combo_pheno))\n",
    "    oligo_table[\"group\"] = group\n",
    "    return oligo_table\n",
    "\n",
    "def get_oligo_status(genotype_file, phenotype_files, combo_files, groups):\n",
    "    genotype_df = pd.read_csv(genotype_file)\n",
    "    combo_info_dfs = [pd.read_csv(combo_file) for combo_file in combo_files]\n",
    "    phenotype_dfs = [pd.read_csv(phenotype_file, usecols=[\"sample_names\", \"bmi\"], dtype={\"sample_names\": str, \"bmi\": float}) for phenotype_file in phenotype_files]\n",
    "    combo_samples = [set(\"|\".join(combo_info_df.combo_samples).split(\"|\")) for combo_info_df in combo_info_dfs]\n",
    "    combo_genes = [set(\"|\".join(combo_info_df.uniq_items.str.replace(\"Input_\", \"\")).split(\"|\")) for combo_info_df in combo_info_dfs]\n",
    "    oligo_tables = [get_oligo_table(genotype_df, cg, phenotype_df, cs, group) for phenotype_df,cg,cs,group in zip(phenotype_dfs, combo_genes, combo_samples, groups)]\n",
    "    oligo_table = pd.concat(oligo_tables)\n",
    "    return oligo_table\n"
   ]
  },
  {
   "cell_type": "code",
   "execution_count": 11,
   "metadata": {},
   "outputs": [
    {
     "name": "stderr",
     "output_type": "stream",
     "text": [
      "/tmp/ipykernel_35442/3476139230.py:13: SettingWithCopyWarning: \n",
      "A value is trying to be set on a copy of a slice from a DataFrame.\n",
      "Try using .loc[row_indexer,col_indexer] = value instead\n",
      "\n",
      "See the caveats in the documentation: https://pandas.pydata.org/pandas-docs/stable/user_guide/indexing.html#returning-a-view-versus-a-copy\n",
      "  single_hit_pheno[\"mutation\"] = \"single hit\"\n",
      "/tmp/ipykernel_35442/3476139230.py:14: SettingWithCopyWarning: \n",
      "A value is trying to be set on a copy of a slice from a DataFrame.\n",
      "Try using .loc[row_indexer,col_indexer] = value instead\n",
      "\n",
      "See the caveats in the documentation: https://pandas.pydata.org/pandas-docs/stable/user_guide/indexing.html#returning-a-view-versus-a-copy\n",
      "  combo_pheno[\"mutation\"] = \"combo\"\n",
      "/tmp/ipykernel_35442/3476139230.py:13: SettingWithCopyWarning: \n",
      "A value is trying to be set on a copy of a slice from a DataFrame.\n",
      "Try using .loc[row_indexer,col_indexer] = value instead\n",
      "\n",
      "See the caveats in the documentation: https://pandas.pydata.org/pandas-docs/stable/user_guide/indexing.html#returning-a-view-versus-a-copy\n",
      "  single_hit_pheno[\"mutation\"] = \"single hit\"\n",
      "/tmp/ipykernel_35442/3476139230.py:14: SettingWithCopyWarning: \n",
      "A value is trying to be set on a copy of a slice from a DataFrame.\n",
      "Try using .loc[row_indexer,col_indexer] = value instead\n",
      "\n",
      "See the caveats in the documentation: https://pandas.pydata.org/pandas-docs/stable/user_guide/indexing.html#returning-a-view-versus-a-copy\n",
      "  combo_pheno[\"mutation\"] = \"combo\"\n",
      "/tmp/ipykernel_35442/3476139230.py:13: SettingWithCopyWarning: \n",
      "A value is trying to be set on a copy of a slice from a DataFrame.\n",
      "Try using .loc[row_indexer,col_indexer] = value instead\n",
      "\n",
      "See the caveats in the documentation: https://pandas.pydata.org/pandas-docs/stable/user_guide/indexing.html#returning-a-view-versus-a-copy\n",
      "  single_hit_pheno[\"mutation\"] = \"single hit\"\n",
      "/tmp/ipykernel_35442/3476139230.py:14: SettingWithCopyWarning: \n",
      "A value is trying to be set on a copy of a slice from a DataFrame.\n",
      "Try using .loc[row_indexer,col_indexer] = value instead\n",
      "\n",
      "See the caveats in the documentation: https://pandas.pydata.org/pandas-docs/stable/user_guide/indexing.html#returning-a-view-versus-a-copy\n",
      "  combo_pheno[\"mutation\"] = \"combo\"\n",
      "/tmp/ipykernel_35442/3476139230.py:13: SettingWithCopyWarning: \n",
      "A value is trying to be set on a copy of a slice from a DataFrame.\n",
      "Try using .loc[row_indexer,col_indexer] = value instead\n",
      "\n",
      "See the caveats in the documentation: https://pandas.pydata.org/pandas-docs/stable/user_guide/indexing.html#returning-a-view-versus-a-copy\n",
      "  single_hit_pheno[\"mutation\"] = \"single hit\"\n",
      "/tmp/ipykernel_35442/3476139230.py:14: SettingWithCopyWarning: \n",
      "A value is trying to be set on a copy of a slice from a DataFrame.\n",
      "Try using .loc[row_indexer,col_indexer] = value instead\n",
      "\n",
      "See the caveats in the documentation: https://pandas.pydata.org/pandas-docs/stable/user_guide/indexing.html#returning-a-view-versus-a-copy\n",
      "  combo_pheno[\"mutation\"] = \"combo\"\n"
     ]
    }
   ],
   "source": [
    "oligo_table = get_oligo_status(genotype_file, phenotype_files, combo_files, groups)"
   ]
  },
  {
   "cell_type": "code",
   "execution_count": null,
   "metadata": {},
   "outputs": [],
   "source": []
  },
  {
   "cell_type": "code",
   "execution_count": 27,
   "metadata": {},
   "outputs": [
    {
     "name": "stderr",
     "output_type": "stream",
     "text": [
      "/tmp/ipykernel_35442/1927467660.py:22: UserWarning: FixedFormatter should only be used together with FixedLocator\n",
      "  ax.set_xticklabels([\"Male\", \"Female\", \"Pre\\nmenopause\", \"Post\\nmenopause\"], rotation=0, fontsize=18)\n",
      "/tmp/ipykernel_35442/1927467660.py:23: UserWarning: FixedFormatter should only be used together with FixedLocator\n",
      "  ax.set_yticklabels(ax.get_yticklabels(), fontsize=18)\n"
     ]
    },
    {
     "data": {
      "text/plain": [
       "<matplotlib.legend.Legend at 0x7fafec111cd0>"
      ]
     },
     "execution_count": 27,
     "metadata": {},
     "output_type": "execute_result"
    },
    {
     "data": {
      "image/png": "[encoded data removed]",
      "text/plain": [
       "<Figure size 648x432 with 1 Axes>"
      ]
     },
     "metadata": {
      "needs_background": "light"
     },
     "output_type": "display_data"
    }
   ],
   "source": [
    "boxdf = oligo_table\n",
    "\n",
    "fig,ax = plt.subplots(figsize=(9, 6))\n",
    "\n",
    "# Box Plot\n",
    "sns_ax = sns.boxplot(\n",
    "    data=boxdf,\n",
    "    palette=[\"#00ADEE\", \"#FF3688\"],  # \"#eecc16\", \"#008176\" '#D1245D', '#00ADEE', '#D1245D', '#00ADEE' \"#0000a7\"\n",
    "    x=\"group\",\n",
    "    y=\"bmi\",\n",
    "    hue=\"mutation\",\n",
    "    color=\"k\",\n",
    "    orient=\"v\",\n",
    "    legend=True,\n",
    "    width=0.35, linewidth=1.25, fliersize=0, capprops={'color':'none'}, boxprops={'edgecolor':'k'} #'facecolor':'none', \n",
    "    )\n",
    "\n",
    "# Adjust Axis\n",
    "# ax.set_yticks([-0.02, 0, 0.02, 0.04])\n",
    "ax.set_ylim((10, 50))\n",
    "# ax.set_ylabel('Percentage')\n",
    "ax.set_xticklabels([\"Male\", \"Female\", \"Pre\\nmenopause\", \"Post\\nmenopause\"], rotation=0, fontsize=18)\n",
    "ax.set_yticklabels(ax.get_yticklabels(), fontsize=18)\n",
    "ax.set_xlabel(\"\")\n",
    "ax.set_ylabel(\"BMI\", fontsize=20)\n",
    "\n",
    "# Remove Spines\n",
    "ax.spines['right'].set_visible(False)\n",
    "ax.spines['top'].set_visible(False);\n",
    "\n",
    "# legend below as multiple columns\n",
    "h,l = sns_ax.axes.get_legend_handles_labels()\n",
    "sns_ax.axes.legend_.remove()\n",
    "sns_ax.legend(h,l, loc=\"upper center\", ncol=2, bbox_to_anchor=(0.5, 1.1), fontsize=14)"
   ]
  },
  {
   "cell_type": "code",
   "execution_count": null,
   "metadata": {},
   "outputs": [],
   "source": []
  },
  {
   "cell_type": "code",
   "execution_count": 26,
   "metadata": {},
   "outputs": [
    {
     "name": "stdout",
     "output_type": "stream",
     "text": [
      "Running t-test for british_male\n",
      "TTest results:\tStatistics=-17.446447554057197;p-val=2.085764514709077e-67\n",
      "Running t-test for british_female\n",
      "TTest results:\tStatistics=-42.1537667201943;p-val=0.0\n",
      "Running t-test for pre_menopause\n",
      "TTest results:\tStatistics=-33.35000962518566;p-val=4.961630814223802e-226\n",
      "Running t-test for post_menopause\n",
      "TTest results:\tStatistics=-12.183599035132143;p-val=3.6293014440935692e-34\n"
     ]
    }
   ],
   "source": [
    "for g in groups:\n",
    "    print(f\"Running t-test for {g}\")\n",
    "    single_hit_g = oligo_table.loc[(oligo_table.mutation==\"single hit\")&(oligo_table.group==g)]\n",
    "    combo_hit_g = oligo_table.loc[(oligo_table.mutation==\"combo\")&(oligo_table.group==g)]\n",
    "    ttest_res = ttest_ind(single_hit_g.bmi, combo_hit_g.bmi, alternative=\"less\")\n",
    "    print(f\"TTest results:\\tStatistics={ttest_res[0]};p-val={ttest_res[1]}\")"
   ]
  },
  {
   "cell_type": "code",
   "execution_count": null,
   "metadata": {},
   "outputs": [],
   "source": []
  },
  {
   "cell_type": "code",
   "execution_count": null,
   "metadata": {},
   "outputs": [],
   "source": []
  },
  {
   "cell_type": "code",
   "execution_count": null,
   "metadata": {},
   "outputs": [
    {
     "data": {
      "text/plain": [
       "(Ttest_indResult(statistic=-10.400470428015863, pvalue=1.4621164126916534e-25),\n",
       " KstestResult(statistic=0.32861802904881665, pvalue=8.849310932759738e-24))"
      ]
     },
     "execution_count": 9,
     "metadata": {},
     "output_type": "execute_result"
    }
   ],
   "source": [
    "ttest_ind(single_hit_pheno_c2.bmi, combo_hit_pheno_c2.bmi, alternative=\"less\"), kstest(single_hit_pheno_c2.bmi, combo_hit_pheno_c2.bmi)"
   ]
  },
  {
   "cell_type": "code",
   "execution_count": null,
   "metadata": {},
   "outputs": [
    {
     "data": {
      "text/plain": [
       "(Ttest_indResult(statistic=-26.510898062286397, pvalue=8.810889200687164e-155),\n",
       " KstestResult(statistic=0.4330296110581548, pvalue=2.5767301611682205e-149))"
      ]
     },
     "execution_count": 10,
     "metadata": {},
     "output_type": "execute_result"
    }
   ],
   "source": [
    "ttest_ind(single_hit_pheno_c3.bmi, combo_hit_pheno_c3.bmi, alternative=\"less\"), kstest(single_hit_pheno_c3.bmi, combo_hit_pheno_c3.bmi)"
   ]
  },
  {
   "cell_type": "code",
   "execution_count": null,
   "metadata": {},
   "outputs": [],
   "source": []
  }
 ],
 "metadata": {
  "kernelspec": {
   "display_name": "starrseq",
   "language": "python",
   "name": "python3"
  },
  "language_info": {
   "codemirror_mode": {
    "name": "ipython",
    "version": 3
   },
   "file_extension": ".py",
   "mimetype": "text/x-python",
   "name": "python",
   "nbconvert_exporter": "python",
   "pygments_lexer": "ipython3",
   "version": "3.11.4"
  },
  "orig_nbformat": 4,
  "vscode": {
   "interpreter": {
    "hash": "06856c2527dea3cf472b3c4994ec564df76496982852535c5a9520cd26601212"
   }
  }
 },
 "nbformat": 4,
 "nbformat_minor": 2
}
