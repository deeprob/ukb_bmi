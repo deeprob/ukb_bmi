{
 "cells": [
  {
   "cell_type": "code",
   "execution_count": 1,
   "metadata": {},
   "outputs": [],
   "source": [
    "import pandas as pd\n",
    "import numpy as np\n",
    "\n",
    "import seaborn as sns\n",
    "import matplotlib\n",
    "import matplotlib.pyplot as plt\n",
    "matplotlib.rcParams['pdf.fonttype'] = 42\n",
    "matplotlib.rcParams['ps.fonttype'] = 42\n",
    "matplotlib.rcParams['font.sans-serif'] = \"Arial\" # missing fonts:: https://alexanderlabwhoi.github.io/post/2021-03-missingfont/\n",
    "# Then, \"ALWAYS use sans-serif fonts\"\n",
    "matplotlib.rcParams['font.family'] = \"sans-serif\"\n",
    "matplotlib.rcParams.update({'font.size': 14, 'axes.linewidth': 2, 'xtick.major.width': 1.5, 'xtick.major.size': 7, 'ytick.major.width': 1.5, 'ytick.major.size': 7})\n",
    "from matplotlib.backends.backend_pdf import PdfPages"
   ]
  },
  {
   "cell_type": "code",
   "execution_count": 2,
   "metadata": {},
   "outputs": [],
   "source": [
    "def save_pdf(save_file, fig):\n",
    "    pdf = PdfPages(save_file)\n",
    "    pdf.savefig(fig, bbox_inches='tight',dpi=300)\n",
    "    pdf.close()\n",
    "    return"
   ]
  },
  {
   "cell_type": "code",
   "execution_count": 3,
   "metadata": {},
   "outputs": [],
   "source": [
    "genotype_file = \"/data6/deepro/ukb_bmi/0_data_preparation_and_download/genotype/data/processed_burden/all_gene_burden.csv.gz\"\n",
    "phenotype_file = \"/data6/deepro/ukb_bmi/0_data_preparation_and_download/phenotype/data/bmi_processed/british/train_cohort_bmi.csv.gz\"\n",
    "combo_gene_file = \"/data6/deepro/ukb_bmi/3_characterization/data/combos_in_cohort/british/train_cohort.csv\""
   ]
  },
  {
   "cell_type": "code",
   "execution_count": 4,
   "metadata": {},
   "outputs": [],
   "source": [
    "genotype_df = pd.read_csv(genotype_file)\n",
    "phenotype_df = pd.read_csv(phenotype_file)\n",
    "combo_gene_df = pd.read_csv(combo_gene_file)"
   ]
  },
  {
   "cell_type": "code",
   "execution_count": 5,
   "metadata": {},
   "outputs": [],
   "source": [
    "phenotype_df.sample_names = phenotype_df.sample_names.astype(str)"
   ]
  },
  {
   "cell_type": "code",
   "execution_count": 6,
   "metadata": {},
   "outputs": [],
   "source": [
    "combo_gene_df[\"combo_len\"] = combo_gene_df.uniq_items.apply(lambda x: len(x.split(\"|\")))"
   ]
  },
  {
   "cell_type": "code",
   "execution_count": 7,
   "metadata": {},
   "outputs": [],
   "source": [
    "combo_gene_df[[\"Gene1\", \"Gene2\", \"Gene3\"]] = combo_gene_df.uniq_items.str.split(\"|\", expand=True)"
   ]
  },
  {
   "cell_type": "code",
   "execution_count": 8,
   "metadata": {},
   "outputs": [],
   "source": [
    "def get_gene_samples(row, gene_col, genotype_df):\n",
    "    if type(row[gene_col])!=str:\n",
    "        if pd.isnull(row[gene_col]):\n",
    "            return \"\"\n",
    "    gene = row[gene_col].replace(\"Input_\", \"\")\n",
    "    all_gene_samples = set(genotype_df.loc[genotype_df.gene==gene, \"samples\"].values[0].split(\",\"))\n",
    "    all_combo_samples = set(row.combo_samples.split(\"|\"))\n",
    "    all_single_gene_samples = all_gene_samples.difference(all_combo_samples)\n",
    "    return \"|\".join(all_single_gene_samples)"
   ]
  },
  {
   "cell_type": "code",
   "execution_count": 9,
   "metadata": {},
   "outputs": [],
   "source": [
    "combo_gene_df[\"Gene1_samples\"] = combo_gene_df.apply(get_gene_samples, args=(\"Gene1\", genotype_df), axis=1)\n",
    "combo_gene_df[\"Gene2_samples\"] = combo_gene_df.apply(get_gene_samples, args=(\"Gene2\", genotype_df), axis=1)\n",
    "combo_gene_df[\"Gene3_samples\"] = combo_gene_df.apply(get_gene_samples, args=(\"Gene3\", genotype_df), axis=1)"
   ]
  },
  {
   "cell_type": "code",
   "execution_count": 10,
   "metadata": {},
   "outputs": [],
   "source": [
    "def get_combo_bmi_info(combo_df, ncombo):\n",
    "    combo_samples = set(\"|\".join(combo_df.combo_samples.values).split(\"|\"))\n",
    "    gene_samples = [set(\"|\".join(combo_df[f\"Gene{i}_samples\"].values).split(\"|\")) for i in range(1, ncombo+1)]\n",
    "    all_samples = set(phenotype_df.sample_names.values)\n",
    "    non_gene_samples = all_samples.difference(gene_samples[0].union(gene_samples[1]).union(combo_samples))\n",
    "    gene1_only_samples = gene_samples[0].difference(gene_samples[1])\n",
    "    gene2_only_samples = gene_samples[1].difference(gene_samples[0])\n",
    "    return non_gene_samples, gene1_only_samples, gene2_only_samples, combo_samples"
   ]
  },
  {
   "cell_type": "code",
   "execution_count": 11,
   "metadata": {},
   "outputs": [],
   "source": [
    "non_gene_samples, gene1_samples, gene2_samples, combo_samples = get_combo_bmi_info(combo_gene_df.loc[combo_gene_df.combo_len==2], 2)"
   ]
  },
  {
   "cell_type": "code",
   "execution_count": 12,
   "metadata": {},
   "outputs": [],
   "source": [
    "def get_bmi(phenotype_df, samples):\n",
    "    return phenotype_df.loc[phenotype_df.sample_names.isin(samples), \"bmi\"].values"
   ]
  },
  {
   "cell_type": "code",
   "execution_count": 13,
   "metadata": {},
   "outputs": [],
   "source": [
    "all_bmi_info = [get_bmi(phenotype_df, s) for s in [non_gene_samples, gene1_samples, gene2_samples, combo_samples]]"
   ]
  },
  {
   "cell_type": "code",
   "execution_count": null,
   "metadata": {},
   "outputs": [],
   "source": []
  },
  {
   "cell_type": "code",
   "execution_count": 55,
   "metadata": {},
   "outputs": [],
   "source": [
    "plot_df = pd.DataFrame({\n",
    "    \"Gene A\": [\"No\" for i in range(len(all_bmi_info[0]))] + [\"Yes\" for i in range(len(all_bmi_info[1]))] + [\"No\" for i in range(len(all_bmi_info[2]))] + [\"Yes\" for i in range(len(all_bmi_info[3]))],\n",
    "    \"Gene B\": [\"No\" for i in range(len(all_bmi_info[0]))] + [\"No\" for i in range(len(all_bmi_info[1]))] + [\"Yes\" for i in range(len(all_bmi_info[2]))] + [\"Yes\" for i in range(len(all_bmi_info[3]))],\n",
    "    \"BMI\": np.concatenate(all_bmi_info)\n",
    "})"
   ]
  },
  {
   "cell_type": "code",
   "execution_count": 70,
   "metadata": {},
   "outputs": [
    {
     "name": "stderr",
     "output_type": "stream",
     "text": [
      "/tmp/ipykernel_78838/341575667.py:14: UserWarning: FixedFormatter should only be used together with FixedLocator\n",
      "  axes.set_xticklabels(axes.get_xticklabels(), fontsize=18)\n",
      "/tmp/ipykernel_78838/341575667.py:15: UserWarning: FixedFormatter should only be used together with FixedLocator\n",
      "  axes.set_yticklabels(axes.get_yticklabels(), fontsize=18)\n"
     ]
    },
    {
     "data": {
      "text/plain": [
       "[None, None]"
      ]
     },
     "execution_count": 70,
     "metadata": {},
     "output_type": "execute_result"
    },
    {
     "data": {
      "image/png": "[encoded data removed]",
      "text/plain": [
       "<Figure size 720x576 with 1 Axes>"
      ]
     },
     "metadata": {
      "needs_background": "light"
     },
     "output_type": "display_data"
    }
   ],
   "source": [
    "fig, axes = plt.subplots(figsize=(10,8))\n",
    "\n",
    "sns.pointplot(\n",
    "    data=plot_df,\n",
    "    x=\"Gene A\", y=\"BMI\", hue=\"Gene B\",\n",
    "    markers=[\"o\", \"s\"], linestyles=[\":\", \"-\"], errorbar=(\"se\", 10),\n",
    "    palette=[\"navy\", \"red\"], markersize=15,\n",
    "    dodge=0.075,\n",
    "    ax=axes\n",
    ")\n",
    "\n",
    "axes.set_ylim(26, 32, auto=False)\n",
    "\n",
    "axes.set_xticklabels(axes.get_xticklabels(), fontsize=18)\n",
    "axes.set_yticklabels(axes.get_yticklabels(), fontsize=18)\n",
    "\n",
    "axes.set_xlabel(\"Gene A\", fontsize=20)\n",
    "axes.set_ylabel(\"BMI\", fontsize=20)\n",
    "\n",
    "# Remove Spines\n",
    "axes.spines['right'].set_visible(False)\n",
    "axes.spines['top'].set_visible(False)\n",
    "\n",
    "\n",
    "plt.setp(axes.get_legend().get_texts(), fontsize='14') # for legend text\n",
    "plt.setp(axes.get_legend().get_title(), fontsize='18') # for legend title"
   ]
  },
  {
   "cell_type": "code",
   "execution_count": 69,
   "metadata": {},
   "outputs": [],
   "source": [
    "save_pdf(\"../data/additive_test/british/figures/interaction_plot.pdf\", fig)"
   ]
  },
  {
   "cell_type": "code",
   "execution_count": null,
   "metadata": {},
   "outputs": [],
   "source": []
  }
 ],
 "metadata": {
  "kernelspec": {
   "display_name": "Python 3",
   "language": "python",
   "name": "python3"
  },
  "language_info": {
   "codemirror_mode": {
    "name": "ipython",
    "version": 3
   },
   "file_extension": ".py",
   "mimetype": "text/x-python",
   "name": "python",
   "nbconvert_exporter": "python",
   "pygments_lexer": "ipython3",
   "version": "3.11.4"
  }
 },
 "nbformat": 4,
 "nbformat_minor": 2
}
