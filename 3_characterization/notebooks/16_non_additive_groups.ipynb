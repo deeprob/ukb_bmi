{
 "cells": [
  {
   "cell_type": "code",
   "execution_count": 1,
   "metadata": {},
   "outputs": [],
   "source": [
    "\n",
    "from scipy.stats import kstest,ttest_ind\n",
    "import pandas as pd\n",
    "import numpy as np\n",
    "\n",
    "# plotting modules\n",
    "import seaborn as sns\n",
    "from matplotlib.ticker import MultipleLocator\n",
    "import matplotlib\n",
    "import matplotlib.pyplot as plt\n",
    "matplotlib.rcParams['pdf.fonttype'] = 42\n",
    "matplotlib.rcParams['ps.fonttype'] = 42\n",
    "matplotlib.rcParams['font.sans-serif'] = \"Arial\" # missing fonts:: https://alexanderlabwhoi.github.io/post/2021-03-missingfont/\n",
    "# Then, \"ALWAYS use sans-serif fonts\"\n",
    "matplotlib.rcParams['font.family'] = \"sans-serif\"\n",
    "matplotlib.rcParams.update({'font.size': 14, 'axes.linewidth': 2, 'xtick.major.width': 1.5, 'xtick.major.size': 5, 'ytick.major.width': 1.5, 'ytick.major.size': 4})\n",
    "from matplotlib.backends.backend_pdf import PdfPages"
   ]
  },
  {
   "cell_type": "code",
   "execution_count": 2,
   "metadata": {},
   "outputs": [],
   "source": [
    "def save_pdf(save_file, fig):\n",
    "    pdf = PdfPages(save_file)\n",
    "    pdf.savefig(fig, bbox_inches='tight')\n",
    "    pdf.close()\n",
    "    return"
   ]
  },
  {
   "cell_type": "code",
   "execution_count": 3,
   "metadata": {},
   "outputs": [],
   "source": [
    "additive_test_files = [\n",
    "    \"/data6/deepro/ukb_bmi/3_characterization/data/additive_test/british_male/train_cohort_pred.csv\",\n",
    "    \"/data6/deepro/ukb_bmi/3_characterization/data/additive_test/british_female/train_cohort_pred.csv\",\n",
    "    \"/data6/deepro/ukb_bmi/3_characterization/data/additive_test/pre_menopause/train_cohort_pred.csv\",\n",
    "    \"/data6/deepro/ukb_bmi/3_characterization/data/additive_test/post_menopause/train_cohort_pred.csv\",\n",
    "    ]"
   ]
  },
  {
   "cell_type": "code",
   "execution_count": 4,
   "metadata": {},
   "outputs": [],
   "source": [
    "groups = [\"british_male\", \"british_female\", \"pre_menopause\", \"post_menopause\"]"
   ]
  },
  {
   "cell_type": "code",
   "execution_count": 5,
   "metadata": {},
   "outputs": [],
   "source": [
    "def get_nonadditive_table(nonadditive_file, group):\n",
    "    nonadd_df = pd.read_csv(nonadditive_file)\n",
    "    nonadd_df[\"group\"] = group\n",
    "    return nonadd_df\n",
    "\n",
    "def get_nonadd_status(add_test_files, groups):\n",
    "    nonadd_dfs = [get_nonadditive_table(nadd_file, group) for nadd_file,group in zip(add_test_files, groups)]\n",
    "    return pd.concat(nonadd_dfs)\n"
   ]
  },
  {
   "cell_type": "code",
   "execution_count": 6,
   "metadata": {},
   "outputs": [],
   "source": [
    "nadd_table = get_nonadd_status(additive_test_files, groups).melt(id_vars=[\"group\"], value_vars=[\"bmi\", \"bmi_pred\"], var_name=\"bmi_type\", value_name=\"BMI\")"
   ]
  },
  {
   "cell_type": "code",
   "execution_count": 7,
   "metadata": {},
   "outputs": [
    {
     "data": {
      "text/html": [
       "<div>\n",
       "<style scoped>\n",
       "    .dataframe tbody tr th:only-of-type {\n",
       "        vertical-align: middle;\n",
       "    }\n",
       "\n",
       "    .dataframe tbody tr th {\n",
       "        vertical-align: top;\n",
       "    }\n",
       "\n",
       "    .dataframe thead th {\n",
       "        text-align: right;\n",
       "    }\n",
       "</style>\n",
       "<table border=\"1\" class=\"dataframe\">\n",
       "  <thead>\n",
       "    <tr style=\"text-align: right;\">\n",
       "      <th></th>\n",
       "      <th>group</th>\n",
       "      <th>bmi_type</th>\n",
       "      <th>BMI</th>\n",
       "    </tr>\n",
       "  </thead>\n",
       "  <tbody>\n",
       "    <tr>\n",
       "      <th>0</th>\n",
       "      <td>british_male</td>\n",
       "      <td>bmi</td>\n",
       "      <td>40.856700</td>\n",
       "    </tr>\n",
       "    <tr>\n",
       "      <th>1</th>\n",
       "      <td>british_male</td>\n",
       "      <td>bmi</td>\n",
       "      <td>42.260400</td>\n",
       "    </tr>\n",
       "    <tr>\n",
       "      <th>2</th>\n",
       "      <td>british_male</td>\n",
       "      <td>bmi</td>\n",
       "      <td>27.044400</td>\n",
       "    </tr>\n",
       "    <tr>\n",
       "      <th>3</th>\n",
       "      <td>british_male</td>\n",
       "      <td>bmi</td>\n",
       "      <td>27.555100</td>\n",
       "    </tr>\n",
       "    <tr>\n",
       "      <th>4</th>\n",
       "      <td>british_male</td>\n",
       "      <td>bmi</td>\n",
       "      <td>30.151400</td>\n",
       "    </tr>\n",
       "    <tr>\n",
       "      <th>...</th>\n",
       "      <td>...</td>\n",
       "      <td>...</td>\n",
       "      <td>...</td>\n",
       "    </tr>\n",
       "    <tr>\n",
       "      <th>49715</th>\n",
       "      <td>post_menopause</td>\n",
       "      <td>bmi_pred</td>\n",
       "      <td>25.704558</td>\n",
       "    </tr>\n",
       "    <tr>\n",
       "      <th>49716</th>\n",
       "      <td>post_menopause</td>\n",
       "      <td>bmi_pred</td>\n",
       "      <td>25.745670</td>\n",
       "    </tr>\n",
       "    <tr>\n",
       "      <th>49717</th>\n",
       "      <td>post_menopause</td>\n",
       "      <td>bmi_pred</td>\n",
       "      <td>26.090316</td>\n",
       "    </tr>\n",
       "    <tr>\n",
       "      <th>49718</th>\n",
       "      <td>post_menopause</td>\n",
       "      <td>bmi_pred</td>\n",
       "      <td>26.326275</td>\n",
       "    </tr>\n",
       "    <tr>\n",
       "      <th>49719</th>\n",
       "      <td>post_menopause</td>\n",
       "      <td>bmi_pred</td>\n",
       "      <td>25.401456</td>\n",
       "    </tr>\n",
       "  </tbody>\n",
       "</table>\n",
       "<p>49720 rows × 3 columns</p>\n",
       "</div>"
      ],
      "text/plain": [
       "                group  bmi_type        BMI\n",
       "0        british_male       bmi  40.856700\n",
       "1        british_male       bmi  42.260400\n",
       "2        british_male       bmi  27.044400\n",
       "3        british_male       bmi  27.555100\n",
       "4        british_male       bmi  30.151400\n",
       "...               ...       ...        ...\n",
       "49715  post_menopause  bmi_pred  25.704558\n",
       "49716  post_menopause  bmi_pred  25.745670\n",
       "49717  post_menopause  bmi_pred  26.090316\n",
       "49718  post_menopause  bmi_pred  26.326275\n",
       "49719  post_menopause  bmi_pred  25.401456\n",
       "\n",
       "[49720 rows x 3 columns]"
      ]
     },
     "execution_count": 7,
     "metadata": {},
     "output_type": "execute_result"
    }
   ],
   "source": [
    "nadd_table"
   ]
  },
  {
   "cell_type": "code",
   "execution_count": null,
   "metadata": {},
   "outputs": [],
   "source": []
  },
  {
   "cell_type": "code",
   "execution_count": 8,
   "metadata": {},
   "outputs": [
    {
     "name": "stderr",
     "output_type": "stream",
     "text": [
      "/tmp/ipykernel_11572/3095139815.py:23: UserWarning: FixedFormatter should only be used together with FixedLocator\n",
      "  ax.set_xticklabels([\"Male\", \"Female\", \"Pre\\nmenopause\", \"Post\\nmenopause\"], rotation=0, fontsize=18)\n",
      "/tmp/ipykernel_11572/3095139815.py:24: UserWarning: FixedFormatter should only be used together with FixedLocator\n",
      "  ax.set_yticklabels(ax.get_yticklabels(), fontsize=18)\n"
     ]
    },
    {
     "data": {
      "text/plain": [
       "<matplotlib.legend.Legend at 0x7fcf5317c450>"
      ]
     },
     "execution_count": 8,
     "metadata": {},
     "output_type": "execute_result"
    },
    {
     "data": {
      "image/png": "[encoded data removed]",
      "text/plain": [
       "<Figure size 648x432 with 1 Axes>"
      ]
     },
     "metadata": {
      "needs_background": "light"
     },
     "output_type": "display_data"
    }
   ],
   "source": [
    "boxdf = nadd_table\n",
    "\n",
    "fig,ax = plt.subplots(figsize=(9, 6))\n",
    "\n",
    "# Box Plot\n",
    "sns_ax = sns.boxplot(\n",
    "    data=boxdf,\n",
    "    palette=[\"#00ADEE\", \"#FF3688\"],  # \"#eecc16\", \"#008176\" '#D1245D', '#00ADEE', '#D1245D', '#00ADEE' \"#0000a7\"\n",
    "    x=\"group\",\n",
    "    y=\"BMI\",\n",
    "    hue=\"bmi_type\",\n",
    "    hue_order=[\"bmi_pred\", \"bmi\"],\n",
    "    color=\"k\",\n",
    "    orient=\"v\",\n",
    "    legend=True,\n",
    "    width=0.35, linewidth=1.25, fliersize=0, capprops={'color':'none'}, boxprops={'edgecolor':'k'} #'facecolor':'none', \n",
    "    )\n",
    "\n",
    "# Adjust Axis\n",
    "# ax.set_yticks([-0.02, 0, 0.02, 0.04])\n",
    "ax.set_ylim((15, 50))\n",
    "# ax.set_ylabel('Percentage')\n",
    "ax.set_xticklabels([\"Male\", \"Female\", \"Pre\\nmenopause\", \"Post\\nmenopause\"], rotation=0, fontsize=18)\n",
    "ax.set_yticklabels(ax.get_yticklabels(), fontsize=18)\n",
    "ax.set_xlabel(\"\")\n",
    "ax.set_ylabel(\"BMI\", fontsize=20)\n",
    "\n",
    "# Remove Spines\n",
    "ax.spines['right'].set_visible(False)\n",
    "ax.spines['top'].set_visible(False);\n",
    "\n",
    "# legend below as multiple columns\n",
    "h,l = sns_ax.axes.get_legend_handles_labels()\n",
    "sns_ax.axes.legend_.remove()\n",
    "sns_ax.legend(h,l, loc=\"upper center\", ncol=2, bbox_to_anchor=(0.5, 1.1), fontsize=14)"
   ]
  },
  {
   "cell_type": "code",
   "execution_count": null,
   "metadata": {},
   "outputs": [],
   "source": []
  },
  {
   "cell_type": "code",
   "execution_count": 9,
   "metadata": {},
   "outputs": [
    {
     "name": "stdout",
     "output_type": "stream",
     "text": [
      "Running t-test for british_male\n",
      "TTest results:\tStatistics=-80.62173983901175;p-val=0.0\n",
      "Running t-test for british_female\n",
      "TTest results:\tStatistics=-66.259788617967;p-val=0.0\n",
      "Running t-test for pre_menopause\n",
      "TTest results:\tStatistics=-36.56861087303107;p-val=3.894953085506781e-249\n",
      "Running t-test for post_menopause\n",
      "TTest results:\tStatistics=-79.22483628594067;p-val=0.0\n"
     ]
    }
   ],
   "source": [
    "for g in groups:\n",
    "    print(f\"Running t-test for {g}\")\n",
    "    expected_g = nadd_table.loc[(nadd_table.bmi_type==\"bmi_pred\")&(nadd_table.group==g)]\n",
    "    observed_g = nadd_table.loc[(nadd_table.bmi_type==\"bmi\")&(nadd_table.group==g)]\n",
    "    ttest_res = ttest_ind(expected_g.BMI, observed_g.BMI, alternative=\"less\")\n",
    "    print(f\"TTest results:\\tStatistics={ttest_res[0]};p-val={ttest_res[1]}\")"
   ]
  },
  {
   "cell_type": "code",
   "execution_count": null,
   "metadata": {},
   "outputs": [],
   "source": []
  },
  {
   "cell_type": "code",
   "execution_count": null,
   "metadata": {},
   "outputs": [],
   "source": []
  },
  {
   "cell_type": "code",
   "execution_count": 10,
   "metadata": {},
   "outputs": [
    {
     "ename": "NameError",
     "evalue": "name 'single_hit_pheno_c2' is not defined",
     "output_type": "error",
     "traceback": [
      "\u001b[0;31m---------------------------------------------------------------------------\u001b[0m",
      "\u001b[0;31mNameError\u001b[0m                                 Traceback (most recent call last)",
      "Cell \u001b[0;32mIn[10], line 1\u001b[0m\n\u001b[0;32m----> 1\u001b[0m ttest_ind(\u001b[43msingle_hit_pheno_c2\u001b[49m\u001b[38;5;241m.\u001b[39mbmi, combo_hit_pheno_c2\u001b[38;5;241m.\u001b[39mbmi, alternative\u001b[38;5;241m=\u001b[39m\u001b[38;5;124m\"\u001b[39m\u001b[38;5;124mless\u001b[39m\u001b[38;5;124m\"\u001b[39m), kstest(single_hit_pheno_c2\u001b[38;5;241m.\u001b[39mbmi, combo_hit_pheno_c2\u001b[38;5;241m.\u001b[39mbmi)\n",
      "\u001b[0;31mNameError\u001b[0m: name 'single_hit_pheno_c2' is not defined"
     ]
    }
   ],
   "source": [
    "ttest_ind(single_hit_pheno_c2.bmi, combo_hit_pheno_c2.bmi, alternative=\"less\"), kstest(single_hit_pheno_c2.bmi, combo_hit_pheno_c2.bmi)"
   ]
  },
  {
   "cell_type": "code",
   "execution_count": null,
   "metadata": {},
   "outputs": [
    {
     "data": {
      "text/plain": [
       "(Ttest_indResult(statistic=-26.510898062286397, pvalue=8.810889200687164e-155),\n",
       " KstestResult(statistic=0.4330296110581548, pvalue=2.5767301611682205e-149))"
      ]
     },
     "execution_count": 10,
     "metadata": {},
     "output_type": "execute_result"
    }
   ],
   "source": [
    "ttest_ind(single_hit_pheno_c3.bmi, combo_hit_pheno_c3.bmi, alternative=\"less\"), kstest(single_hit_pheno_c3.bmi, combo_hit_pheno_c3.bmi)"
   ]
  },
  {
   "cell_type": "code",
   "execution_count": null,
   "metadata": {},
   "outputs": [],
   "source": []
  }
 ],
 "metadata": {
  "kernelspec": {
   "display_name": "starrseq",
   "language": "python",
   "name": "python3"
  },
  "language_info": {
   "codemirror_mode": {
    "name": "ipython",
    "version": 3
   },
   "file_extension": ".py",
   "mimetype": "text/x-python",
   "name": "python",
   "nbconvert_exporter": "python",
   "pygments_lexer": "ipython3",
   "version": "3.11.4"
  },
  "orig_nbformat": 4,
  "vscode": {
   "interpreter": {
    "hash": "06856c2527dea3cf472b3c4994ec564df76496982852535c5a9520cd26601212"
   }
  }
 },
 "nbformat": 4,
 "nbformat_minor": 2
}
