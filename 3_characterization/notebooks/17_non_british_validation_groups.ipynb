{
 "cells": [
  {
   "cell_type": "code",
   "execution_count": 1,
   "metadata": {},
   "outputs": [],
   "source": [
    "from scipy.stats import kstest,ttest_ind\n",
    "import pandas as pd\n",
    "import numpy as np\n",
    "\n",
    "# plotting modules\n",
    "import seaborn as sns\n",
    "from matplotlib.ticker import MultipleLocator\n",
    "import matplotlib\n",
    "import matplotlib.pyplot as plt\n",
    "matplotlib.rcParams['pdf.fonttype'] = 42\n",
    "matplotlib.rcParams['ps.fonttype'] = 42\n",
    "matplotlib.rcParams['font.sans-serif'] = \"Arial\" # missing fonts:: https://alexanderlabwhoi.github.io/post/2021-03-missingfont/\n",
    "# Then, \"ALWAYS use sans-serif fonts\"\n",
    "matplotlib.rcParams['font.family'] = \"sans-serif\"\n",
    "matplotlib.rcParams.update({'font.size': 14, 'axes.linewidth': 2, 'xtick.major.width': 1.5, 'xtick.major.size': 5, 'ytick.major.width': 1.5, 'ytick.major.size': 4})\n",
    "from matplotlib.backends.backend_pdf import PdfPages"
   ]
  },
  {
   "cell_type": "code",
   "execution_count": 2,
   "metadata": {},
   "outputs": [],
   "source": [
    "def save_pdf(save_file, fig):\n",
    "    pdf = PdfPages(save_file)\n",
    "    pdf.savefig(fig, bbox_inches='tight')\n",
    "    pdf.close()\n",
    "    return"
   ]
  },
  {
   "cell_type": "code",
   "execution_count": 3,
   "metadata": {},
   "outputs": [],
   "source": [
    "def get_validation_table(cohort_file, combo_info_file, group):\n",
    "    cohort_df = pd.read_csv(cohort_file, usecols=[\"sample_names\", \"bmi\", \"bmi_prs\"])\n",
    "    combo_info_df = pd.read_csv(combo_info_file)\n",
    "    all_combo_samples = set(\"|\".join(combo_info_df.combo_samples.values).split(\"|\"))\n",
    "    cohort_df[\"combo_carriers\"] = cohort_df.sample_names.astype(str).isin(all_combo_samples)\n",
    "    cohort_df[\"group\"] = group\n",
    "    return cohort_df\n",
    "\n",
    "def get_validation_groups(cohort_files, combo_info_files, groups):\n",
    "    cohort_dfs = [get_validation_table(cohort_file, combo_info_file, group) for cohort_file, combo_info_file, group in zip(cohort_files, combo_info_files, groups)]\n",
    "    return pd.concat(cohort_dfs)"
   ]
  },
  {
   "cell_type": "code",
   "execution_count": 4,
   "metadata": {},
   "outputs": [],
   "source": [
    "cohort_files = [\n",
    "    \"/data6/deepro/ukb_bmi/0_data_preparation_and_download/phenotype/data/bmi_processed/british_male/test_cohort_bmi.csv.gz\",\n",
    "    \"/data6/deepro/ukb_bmi/0_data_preparation_and_download/phenotype/data/bmi_processed/british_female/test_cohort_bmi.csv.gz\",\n",
    "    \"/data6/deepro/ukb_bmi/0_data_preparation_and_download/phenotype/data/bmi_processed/pre_menopause/test_cohort_bmi.csv.gz\",\n",
    "    \"/data6/deepro/ukb_bmi/0_data_preparation_and_download/phenotype/data/bmi_processed/post_menopause/test_cohort_bmi.csv.gz\",\n",
    "]\n",
    "\n",
    "combo_info_files = [\n",
    "    \"/data6/deepro/ukb_bmi/3_characterization/data/combos_in_cohort/british_male/test_cohort.csv\",\n",
    "    \"/data6/deepro/ukb_bmi/3_characterization/data/combos_in_cohort/british_female/test_cohort.csv\",\n",
    "    \"/data6/deepro/ukb_bmi/3_characterization/data/combos_in_cohort/pre_menopause/test_cohort.csv\",\n",
    "    \"/data6/deepro/ukb_bmi/3_characterization/data/combos_in_cohort/post_menopause/test_cohort.csv\"\n",
    "]\n",
    "\n",
    "groups = [\"british_male\", \"british_female\", \"pre_menopause\", \"post_menopause\"]"
   ]
  },
  {
   "cell_type": "code",
   "execution_count": 5,
   "metadata": {},
   "outputs": [],
   "source": [
    "cohort_df = get_validation_groups(cohort_files, combo_info_files, groups)"
   ]
  },
  {
   "cell_type": "code",
   "execution_count": 6,
   "metadata": {},
   "outputs": [
    {
     "data": {
      "text/html": [
       "<div>\n",
       "<style scoped>\n",
       "    .dataframe tbody tr th:only-of-type {\n",
       "        vertical-align: middle;\n",
       "    }\n",
       "\n",
       "    .dataframe tbody tr th {\n",
       "        vertical-align: top;\n",
       "    }\n",
       "\n",
       "    .dataframe thead th {\n",
       "        text-align: right;\n",
       "    }\n",
       "</style>\n",
       "<table border=\"1\" class=\"dataframe\">\n",
       "  <thead>\n",
       "    <tr style=\"text-align: right;\">\n",
       "      <th></th>\n",
       "      <th>sample_names</th>\n",
       "      <th>bmi_prs</th>\n",
       "      <th>bmi</th>\n",
       "      <th>combo_carriers</th>\n",
       "      <th>group</th>\n",
       "    </tr>\n",
       "  </thead>\n",
       "  <tbody>\n",
       "    <tr>\n",
       "      <th>0</th>\n",
       "      <td>1001044</td>\n",
       "      <td>-2.497630</td>\n",
       "      <td>25.87140</td>\n",
       "      <td>False</td>\n",
       "      <td>british_male</td>\n",
       "    </tr>\n",
       "    <tr>\n",
       "      <th>1</th>\n",
       "      <td>1002002</td>\n",
       "      <td>-1.327310</td>\n",
       "      <td>24.30910</td>\n",
       "      <td>False</td>\n",
       "      <td>british_male</td>\n",
       "    </tr>\n",
       "    <tr>\n",
       "      <th>2</th>\n",
       "      <td>1002119</td>\n",
       "      <td>-0.199478</td>\n",
       "      <td>26.58920</td>\n",
       "      <td>True</td>\n",
       "      <td>british_male</td>\n",
       "    </tr>\n",
       "    <tr>\n",
       "      <th>3</th>\n",
       "      <td>1003644</td>\n",
       "      <td>0.687425</td>\n",
       "      <td>34.83810</td>\n",
       "      <td>False</td>\n",
       "      <td>british_male</td>\n",
       "    </tr>\n",
       "    <tr>\n",
       "      <th>4</th>\n",
       "      <td>1009415</td>\n",
       "      <td>-0.708952</td>\n",
       "      <td>19.38350</td>\n",
       "      <td>False</td>\n",
       "      <td>british_male</td>\n",
       "    </tr>\n",
       "    <tr>\n",
       "      <th>...</th>\n",
       "      <td>...</td>\n",
       "      <td>...</td>\n",
       "      <td>...</td>\n",
       "      <td>...</td>\n",
       "      <td>...</td>\n",
       "    </tr>\n",
       "    <tr>\n",
       "      <th>16668</th>\n",
       "      <td>6015845</td>\n",
       "      <td>0.067241</td>\n",
       "      <td>21.20315</td>\n",
       "      <td>False</td>\n",
       "      <td>post_menopause</td>\n",
       "    </tr>\n",
       "    <tr>\n",
       "      <th>16669</th>\n",
       "      <td>6019884</td>\n",
       "      <td>-0.681908</td>\n",
       "      <td>24.50790</td>\n",
       "      <td>False</td>\n",
       "      <td>post_menopause</td>\n",
       "    </tr>\n",
       "    <tr>\n",
       "      <th>16670</th>\n",
       "      <td>6019946</td>\n",
       "      <td>0.400011</td>\n",
       "      <td>22.80000</td>\n",
       "      <td>False</td>\n",
       "      <td>post_menopause</td>\n",
       "    </tr>\n",
       "    <tr>\n",
       "      <th>16671</th>\n",
       "      <td>6024167</td>\n",
       "      <td>0.168653</td>\n",
       "      <td>23.50430</td>\n",
       "      <td>False</td>\n",
       "      <td>post_menopause</td>\n",
       "    </tr>\n",
       "    <tr>\n",
       "      <th>16672</th>\n",
       "      <td>6024859</td>\n",
       "      <td>-1.798690</td>\n",
       "      <td>23.10440</td>\n",
       "      <td>False</td>\n",
       "      <td>post_menopause</td>\n",
       "    </tr>\n",
       "  </tbody>\n",
       "</table>\n",
       "<p>82480 rows × 5 columns</p>\n",
       "</div>"
      ],
      "text/plain": [
       "       sample_names   bmi_prs       bmi  combo_carriers           group\n",
       "0           1001044 -2.497630  25.87140           False    british_male\n",
       "1           1002002 -1.327310  24.30910           False    british_male\n",
       "2           1002119 -0.199478  26.58920            True    british_male\n",
       "3           1003644  0.687425  34.83810           False    british_male\n",
       "4           1009415 -0.708952  19.38350           False    british_male\n",
       "...             ...       ...       ...             ...             ...\n",
       "16668       6015845  0.067241  21.20315           False  post_menopause\n",
       "16669       6019884 -0.681908  24.50790           False  post_menopause\n",
       "16670       6019946  0.400011  22.80000           False  post_menopause\n",
       "16671       6024167  0.168653  23.50430           False  post_menopause\n",
       "16672       6024859 -1.798690  23.10440           False  post_menopause\n",
       "\n",
       "[82480 rows x 5 columns]"
      ]
     },
     "execution_count": 6,
     "metadata": {},
     "output_type": "execute_result"
    }
   ],
   "source": [
    "cohort_df"
   ]
  },
  {
   "cell_type": "code",
   "execution_count": 7,
   "metadata": {},
   "outputs": [
    {
     "name": "stderr",
     "output_type": "stream",
     "text": [
      "/tmp/ipykernel_37018/4186023268.py:22: UserWarning: FixedFormatter should only be used together with FixedLocator\n",
      "  ax.set_xticklabels([\"Male\", \"Female\", \"Pre\\nmenopause\", \"Post\\nmenopause\"], rotation=0, fontsize=18)\n",
      "/tmp/ipykernel_37018/4186023268.py:23: UserWarning: FixedFormatter should only be used together with FixedLocator\n",
      "  ax.set_yticklabels(ax.get_yticklabels(), fontsize=18)\n"
     ]
    },
    {
     "data": {
      "text/plain": [
       "<matplotlib.legend.Legend at 0x7fadc5883510>"
      ]
     },
     "execution_count": 7,
     "metadata": {},
     "output_type": "execute_result"
    },
    {
     "data": {
      "image/png": "[encoded data removed]",
      "text/plain": [
       "<Figure size 648x432 with 1 Axes>"
      ]
     },
     "metadata": {
      "needs_background": "light"
     },
     "output_type": "display_data"
    }
   ],
   "source": [
    "boxdf = cohort_df\n",
    "\n",
    "fig,ax = plt.subplots(figsize=(9, 6))\n",
    "\n",
    "# Box Plot\n",
    "sns_ax = sns.boxplot(\n",
    "    data=boxdf,\n",
    "    palette=[\"#00ADEE\", \"#FF3688\"],  # \"#eecc16\", \"#008176\" '#D1245D', '#00ADEE', '#D1245D', '#00ADEE' \"#0000a7\"\n",
    "    x=\"group\",\n",
    "    y=\"bmi\",\n",
    "    hue=\"combo_carriers\",\n",
    "    color=\"k\",\n",
    "    orient=\"v\",\n",
    "    legend=True,\n",
    "    width=0.35, linewidth=1.25, fliersize=0, capprops={'color':'none'}, boxprops={'edgecolor':'k'} #'facecolor':'none', \n",
    "    )\n",
    "\n",
    "# Adjust Axis\n",
    "# ax.set_yticks([-0.02, 0, 0.02, 0.04])\n",
    "ax.set_ylim((10, 50))\n",
    "# ax.set_ylabel('Percentage')\n",
    "ax.set_xticklabels([\"Male\", \"Female\", \"Pre\\nmenopause\", \"Post\\nmenopause\"], rotation=0, fontsize=18)\n",
    "ax.set_yticklabels(ax.get_yticklabels(), fontsize=18)\n",
    "ax.set_xlabel(\"\")\n",
    "ax.set_ylabel(\"BMI\", fontsize=20)\n",
    "\n",
    "# Remove Spines\n",
    "ax.spines['right'].set_visible(False)\n",
    "ax.spines['top'].set_visible(False);\n",
    "\n",
    "# legend below as multiple columns\n",
    "h,l = sns_ax.axes.get_legend_handles_labels()\n",
    "sns_ax.axes.legend_.remove()\n",
    "sns_ax.legend(h,l, loc=\"upper center\", ncol=2, bbox_to_anchor=(0.5, 1.1), fontsize=14)"
   ]
  },
  {
   "cell_type": "code",
   "execution_count": 9,
   "metadata": {},
   "outputs": [
    {
     "name": "stdout",
     "output_type": "stream",
     "text": [
      "Running t-test for british_male\n",
      "TTest results:\tStatistics=-0.7737069996065539;p-val=0.21955562458676953\n",
      "Running t-test for british_female\n",
      "TTest results:\tStatistics=-12.59756604309494;p-val=1.3332859911348104e-36\n",
      "Running t-test for pre_menopause\n",
      "TTest results:\tStatistics=-5.744479355947218;p-val=4.761367546707185e-09\n",
      "Running t-test for post_menopause\n",
      "TTest results:\tStatistics=-11.858496434402262;p-val=1.3110913470082388e-32\n"
     ]
    }
   ],
   "source": [
    "for g in groups:\n",
    "    print(f\"Running t-test for {g}\")\n",
    "    expected_g = cohort_df.loc[(cohort_df.combo_carriers==False)&(cohort_df.group==g)]\n",
    "    observed_g = cohort_df.loc[(cohort_df.combo_carriers==True)&(cohort_df.group==g)]\n",
    "    ttest_res = ttest_ind(expected_g.bmi, observed_g.bmi, alternative=\"less\")\n",
    "    print(f\"TTest results:\\tStatistics={ttest_res[0]};p-val={ttest_res[1]}\")"
   ]
  },
  {
   "cell_type": "code",
   "execution_count": 13,
   "metadata": {},
   "outputs": [
    {
     "data": {
      "text/plain": [
       "27.71368328833655"
      ]
     },
     "execution_count": 13,
     "metadata": {},
     "output_type": "execute_result"
    }
   ],
   "source": [
    "cohort_df.loc[(cohort_df.combo_carriers==False)&(cohort_df.group==\"british_male\"), \"bmi\"].mean()"
   ]
  },
  {
   "cell_type": "code",
   "execution_count": 14,
   "metadata": {},
   "outputs": [
    {
     "data": {
      "text/plain": [
       "27.78754729874503"
      ]
     },
     "execution_count": 14,
     "metadata": {},
     "output_type": "execute_result"
    }
   ],
   "source": [
    "cohort_df.loc[(cohort_df.combo_carriers==True)&(cohort_df.group==\"british_male\"), \"bmi\"].mean()"
   ]
  },
  {
   "cell_type": "code",
   "execution_count": 17,
   "metadata": {},
   "outputs": [
    {
     "data": {
      "text/plain": [
       "0.0026652541865326168"
      ]
     },
     "execution_count": 17,
     "metadata": {},
     "output_type": "execute_result"
    }
   ],
   "source": [
    "(27.78754729874503-27.71368328833655)/27.71368328833655"
   ]
  },
  {
   "cell_type": "code",
   "execution_count": null,
   "metadata": {},
   "outputs": [],
   "source": []
  }
 ],
 "metadata": {
  "kernelspec": {
   "display_name": "Python 3",
   "language": "python",
   "name": "python3"
  },
  "language_info": {
   "codemirror_mode": {
    "name": "ipython",
    "version": 3
   },
   "file_extension": ".py",
   "mimetype": "text/x-python",
   "name": "python",
   "nbconvert_exporter": "python",
   "pygments_lexer": "ipython3",
   "version": "3.11.4"
  }
 },
 "nbformat": 4,
 "nbformat_minor": 2
}
