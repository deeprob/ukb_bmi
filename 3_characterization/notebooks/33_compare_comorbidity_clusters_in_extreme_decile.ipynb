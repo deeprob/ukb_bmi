{
 "cells": [
  {
   "cell_type": "code",
   "execution_count": 2,
   "metadata": {},
   "outputs": [],
   "source": [
    "import os\n",
    "import argparse\n",
    "import numpy as np\n",
    "import pandas as pd\n",
    "from scipy.stats import fisher_exact, chi2_contingency\n",
    "from scipy.stats.contingency import odds_ratio\n",
    "from scipy import stats\n",
    "from functools import reduce\n",
    "\n",
    "from sklearn.preprocessing import LabelEncoder\n",
    "from sklearn.preprocessing import StandardScaler\n",
    "from sklearn.linear_model import LinearRegression\n",
    "from sklearn.cluster import KMeans\n",
    "\n",
    "import sys\n",
    "sys.path.append(\"../src\")\n",
    "import utils.parsing as utpa\n",
    "import utils.plotting as utpl\n",
    "\n",
    "def get_scaled_bmi(df, categorical_cols, numerical_cols, scaled_numerical_cols):\n",
    "    # define encoders\n",
    "    en = LabelEncoder()\n",
    "    scaler = StandardScaler()\n",
    "    # select the categorical and numerical columns\n",
    "    # transform the categorical columns to integer values\n",
    "    for cat_col in categorical_cols:\n",
    "        df[cat_col] = en.fit_transform(df[cat_col])\n",
    "    # scale the numerical columns\n",
    "    df[numerical_cols] = scaler.fit_transform(df.loc[:, numerical_cols])\n",
    "    # scale bmi separately\n",
    "    df[\"bmi_scaled\"] = scaler.fit_transform(df.loc[:, [\"bmi\"]])\n",
    "    # Create the target variable (bmi_residuals) using linear regression\n",
    "    X = df.loc[:, categorical_cols + numerical_cols + scaled_numerical_cols]\n",
    "    y = df.loc[:, 'bmi_scaled']\n",
    "    model = LinearRegression()\n",
    "    model.fit(X, y)\n",
    "    # save the residuals for bmi\n",
    "    df['bmi_residuals'] = y - model.predict(X)\n",
    "    return df\n",
    "\n",
    "def create_bmi_res_prs_decile_data(phenotype_df, all_combo_samples):\n",
    "    categorical_cols = [\"genetic_sex\"]\n",
    "    numerical_cols = [\"age\"] + [f\"genetic_pca{i}\" for i in range(1, 40)]\n",
    "    scaled_numerical_cols = []#[\"bmi_prs\"]\n",
    "\n",
    "    phenotype_df = get_scaled_bmi(phenotype_df, categorical_cols, numerical_cols, scaled_numerical_cols)\n",
    "    phenotype_df[\"bmi_res_decile\"] = pd.qcut(phenotype_df.bmi_residuals, q=10)\n",
    "    phenotype_df[\"bmi_res_decile_num\"] = pd.qcut(phenotype_df.bmi_residuals, q=10, labels=False)\n",
    "    phenotype_df[\"bmi_prs_decile\"] = pd.qcut(phenotype_df.bmi_prs, q=10)\n",
    "    phenotype_df[\"bmi_prs_decile_num\"] = pd.qcut(phenotype_df.bmi_prs, q=10, labels=False)\n",
    "    phenotype_combo_samples_df = phenotype_df.loc[phenotype_df.sample_names.astype(str).isin(list(map(str, all_combo_samples)))]\n",
    "    phenotype_other_samples_df = phenotype_df.loc[~phenotype_df.sample_names.astype(str).isin(list(map(str, all_combo_samples)))]\n",
    "\n",
    "    phenotype_other_samples_df[\"description\"] = \"Non Combo\"\n",
    "    phenotype_combo_samples_df[\"description\"] = \"Combo\"\n",
    "    phenotype_samples_df = pd.concat((phenotype_combo_samples_df, phenotype_other_samples_df))\n",
    "    return phenotype_samples_df"
   ]
  },
  {
   "cell_type": "code",
   "execution_count": 3,
   "metadata": {},
   "outputs": [],
   "source": [
    "cohort_file = \"/data6/deepro/ukb_bmi/0_data_preparation_and_download/phenotype/data/bmi_processed/british/train_cohort_bmi.csv.gz\"\n",
    "combo_files = [\n",
    "    \"/data6/deepro/ukb_bmi/3_characterization/data/combo_info/british/discovery_combo2.csv\",\n",
    "    \"/data6/deepro/ukb_bmi/3_characterization/data/combo_info/british/discovery_combo3.csv\"\n",
    "]\n"
   ]
  },
  {
   "cell_type": "code",
   "execution_count": 4,
   "metadata": {},
   "outputs": [],
   "source": [
    "cohort_df = pd.read_csv(\n",
    "    cohort_file, \n",
    "    usecols=[\"sample_names\", \"genetic_sex\", \"age\"] + [f\"genetic_pca{i}\" for i in range(1, 40)] + [\"bmi_prs\", \"bmi\"])\n",
    "cohort_df[\"sample_names\"] = cohort_df.sample_names.astype(str)\n",
    "combo_genes, combo_samples = utpa.get_combo_info_from_files(combo_files)\n",
    "\n",
    "phenotype_samples_df = create_bmi_res_prs_decile_data(cohort_df, combo_samples)"
   ]
  },
  {
   "cell_type": "code",
   "execution_count": 5,
   "metadata": {},
   "outputs": [],
   "source": [
    "icd_features_file = \"/data6/deepro/ukb_bmi/3_characterization/data/enrichment/british/discovery/icd_features.csv.gz\"\n",
    "cohort_file = \"/data6/deepro/ukb_bmi/3_characterization/data/enrichment/british/discovery/cohort_pheno.csv.gz\""
   ]
  },
  {
   "cell_type": "code",
   "execution_count": 6,
   "metadata": {},
   "outputs": [],
   "source": [
    "def divide_into_nocomorbidity(features_df):\n",
    "    no_comorbidity_df = features_df.loc[features_df.sum(axis=1)==0]\n",
    "    comorbidity_df = features_df.loc[features_df.sum(axis=1)>0]\n",
    "    return comorbidity_df, no_comorbidity_df\n",
    "\n",
    "def cluster_by_comorbidity(train_features_df, test_features_df):\n",
    "    train_comorbidity_df, train_no_comorbidity_df = divide_into_nocomorbidity(train_features_df)\n",
    "    test_comorbidity_df, test_no_comorbidity_df = divide_into_nocomorbidity(test_features_df)\n",
    "    train_no_comorbidity_df[\"labels\"] = 0\n",
    "    test_no_comorbidity_df[\"labels\"] = 0\n",
    "    no_comorbidity_df = pd.concat((train_no_comorbidity_df, test_no_comorbidity_df))\n",
    "\n",
    "    X_train, X_test = train_comorbidity_df.values, test_comorbidity_df.values\n",
    "    kmeans = KMeans(n_clusters=2, random_state=42, n_init=\"auto\")\n",
    "    y_train = kmeans.fit_predict(X_train)\n",
    "    y_test = kmeans.fit_predict(X_test)\n",
    "    \n",
    "    train_comorbidity_df[\"labels\"] = y_train\n",
    "    test_comorbidity_df[\"labels\"] = y_test\n",
    "    comorbidity_df = pd.concat((train_comorbidity_df, test_comorbidity_df))\n",
    "    comorbidity_df[\"labels\"] = comorbidity_df.labels.replace(0, 2)\n",
    "    icd_df = pd.concat((comorbidity_df, no_comorbidity_df))\n",
    "    return icd_df"
   ]
  },
  {
   "cell_type": "code",
   "execution_count": 7,
   "metadata": {},
   "outputs": [],
   "source": [
    "icd_features_df = pd.read_csv(icd_features_file, index_col=0)\n",
    "icd_features_df.index = icd_features_df.index.astype(str)\n",
    "\n",
    "\n",
    "cohort_df = pd.read_csv(cohort_file, usecols=[\"sample_names\", \"bmi_prs\", \"bmi\", \"bmi_residuals\", \"carrier\"], dtype={\"sample_names\": str})\n",
    "\n",
    "combo_samples = set(cohort_df.loc[cohort_df.carrier==True, \"sample_names\"].values)\n",
    "noncombo_samples = set(cohort_df.loc[cohort_df.carrier==False, \"sample_names\"].values)\n",
    "combo_features_df = icd_features_df.loc[icd_features_df.index.isin(combo_samples)]\n",
    "noncombo_features_df = icd_features_df.loc[icd_features_df.index.isin(noncombo_samples)]\n",
    "\n",
    "icd_df = cluster_by_comorbidity(noncombo_features_df, combo_features_df)\n"
   ]
  },
  {
   "cell_type": "code",
   "execution_count": 8,
   "metadata": {},
   "outputs": [],
   "source": [
    "phenotype_samples_df = phenotype_samples_df.loc[:, [\"sample_names\", \"bmi\", \"bmi_res_decile_num\", \"bmi_prs_decile_num\", \"description\"]]"
   ]
  },
  {
   "cell_type": "code",
   "execution_count": 9,
   "metadata": {},
   "outputs": [],
   "source": [
    "bmi_res_comorbidity_df = phenotype_samples_df.merge(icd_df.loc[:, \"labels\"].to_frame(), left_on=\"sample_names\", right_index=True)"
   ]
  },
  {
   "cell_type": "code",
   "execution_count": 10,
   "metadata": {},
   "outputs": [
    {
     "data": {
      "text/html": [
       "<div>\n",
       "<style scoped>\n",
       "    .dataframe tbody tr th:only-of-type {\n",
       "        vertical-align: middle;\n",
       "    }\n",
       "\n",
       "    .dataframe tbody tr th {\n",
       "        vertical-align: top;\n",
       "    }\n",
       "\n",
       "    .dataframe thead th {\n",
       "        text-align: right;\n",
       "    }\n",
       "</style>\n",
       "<table border=\"1\" class=\"dataframe\">\n",
       "  <thead>\n",
       "    <tr style=\"text-align: right;\">\n",
       "      <th></th>\n",
       "      <th>sample_names</th>\n",
       "      <th>bmi</th>\n",
       "      <th>bmi_res_decile_num</th>\n",
       "      <th>bmi_prs_decile_num</th>\n",
       "      <th>description</th>\n",
       "      <th>labels</th>\n",
       "    </tr>\n",
       "  </thead>\n",
       "  <tbody>\n",
       "    <tr>\n",
       "      <th>110</th>\n",
       "      <td>1005637</td>\n",
       "      <td>26.28970</td>\n",
       "      <td>4</td>\n",
       "      <td>4</td>\n",
       "      <td>Combo</td>\n",
       "      <td>1</td>\n",
       "    </tr>\n",
       "    <tr>\n",
       "      <th>118</th>\n",
       "      <td>1006065</td>\n",
       "      <td>49.98170</td>\n",
       "      <td>9</td>\n",
       "      <td>8</td>\n",
       "      <td>Combo</td>\n",
       "      <td>2</td>\n",
       "    </tr>\n",
       "    <tr>\n",
       "      <th>154</th>\n",
       "      <td>1007953</td>\n",
       "      <td>30.68310</td>\n",
       "      <td>7</td>\n",
       "      <td>6</td>\n",
       "      <td>Combo</td>\n",
       "      <td>0</td>\n",
       "    </tr>\n",
       "    <tr>\n",
       "      <th>162</th>\n",
       "      <td>1008528</td>\n",
       "      <td>27.05520</td>\n",
       "      <td>6</td>\n",
       "      <td>9</td>\n",
       "      <td>Combo</td>\n",
       "      <td>1</td>\n",
       "    </tr>\n",
       "    <tr>\n",
       "      <th>192</th>\n",
       "      <td>1010258</td>\n",
       "      <td>31.27685</td>\n",
       "      <td>8</td>\n",
       "      <td>3</td>\n",
       "      <td>Combo</td>\n",
       "      <td>1</td>\n",
       "    </tr>\n",
       "    <tr>\n",
       "      <th>...</th>\n",
       "      <td>...</td>\n",
       "      <td>...</td>\n",
       "      <td>...</td>\n",
       "      <td>...</td>\n",
       "      <td>...</td>\n",
       "      <td>...</td>\n",
       "    </tr>\n",
       "    <tr>\n",
       "      <th>427632</th>\n",
       "      <td>6024770</td>\n",
       "      <td>24.47390</td>\n",
       "      <td>2</td>\n",
       "      <td>0</td>\n",
       "      <td>Non Combo</td>\n",
       "      <td>0</td>\n",
       "    </tr>\n",
       "    <tr>\n",
       "      <th>427633</th>\n",
       "      <td>6024818</td>\n",
       "      <td>27.60950</td>\n",
       "      <td>5</td>\n",
       "      <td>4</td>\n",
       "      <td>Non Combo</td>\n",
       "      <td>1</td>\n",
       "    </tr>\n",
       "    <tr>\n",
       "      <th>427634</th>\n",
       "      <td>6024948</td>\n",
       "      <td>47.22080</td>\n",
       "      <td>9</td>\n",
       "      <td>7</td>\n",
       "      <td>Non Combo</td>\n",
       "      <td>2</td>\n",
       "    </tr>\n",
       "    <tr>\n",
       "      <th>427637</th>\n",
       "      <td>6025181</td>\n",
       "      <td>26.49910</td>\n",
       "      <td>4</td>\n",
       "      <td>5</td>\n",
       "      <td>Non Combo</td>\n",
       "      <td>0</td>\n",
       "    </tr>\n",
       "    <tr>\n",
       "      <th>427638</th>\n",
       "      <td>6025208</td>\n",
       "      <td>23.99740</td>\n",
       "      <td>2</td>\n",
       "      <td>4</td>\n",
       "      <td>Non Combo</td>\n",
       "      <td>1</td>\n",
       "    </tr>\n",
       "  </tbody>\n",
       "</table>\n",
       "<p>383253 rows × 6 columns</p>\n",
       "</div>"
      ],
      "text/plain": [
       "       sample_names       bmi  bmi_res_decile_num  bmi_prs_decile_num  \\\n",
       "110         1005637  26.28970                   4                   4   \n",
       "118         1006065  49.98170                   9                   8   \n",
       "154         1007953  30.68310                   7                   6   \n",
       "162         1008528  27.05520                   6                   9   \n",
       "192         1010258  31.27685                   8                   3   \n",
       "...             ...       ...                 ...                 ...   \n",
       "427632      6024770  24.47390                   2                   0   \n",
       "427633      6024818  27.60950                   5                   4   \n",
       "427634      6024948  47.22080                   9                   7   \n",
       "427637      6025181  26.49910                   4                   5   \n",
       "427638      6025208  23.99740                   2                   4   \n",
       "\n",
       "       description  labels  \n",
       "110          Combo       1  \n",
       "118          Combo       2  \n",
       "154          Combo       0  \n",
       "162          Combo       1  \n",
       "192          Combo       1  \n",
       "...            ...     ...  \n",
       "427632   Non Combo       0  \n",
       "427633   Non Combo       1  \n",
       "427634   Non Combo       2  \n",
       "427637   Non Combo       0  \n",
       "427638   Non Combo       1  \n",
       "\n",
       "[383253 rows x 6 columns]"
      ]
     },
     "execution_count": 10,
     "metadata": {},
     "output_type": "execute_result"
    }
   ],
   "source": [
    "bmi_res_comorbidity_df"
   ]
  },
  {
   "cell_type": "code",
   "execution_count": 11,
   "metadata": {},
   "outputs": [],
   "source": [
    "def get_comorbidity_percent_by_res_cat(df):\n",
    "    df1 = df.groupby(\"comorbid_categories\")[\"bmi_res_categories\"].value_counts(normalize=True)\n",
    "    df1 = df1.mul(100)\n",
    "    df1 = df1.rename('percent').reset_index()\n",
    "    mean_bmi_dict = df.groupby(\"bmi_res_categories\")[\"bmi\"].mean().to_dict()\n",
    "    return df1, mean_bmi_dict\n",
    "\n",
    "def get_bmi_res_decile_data_comorbidity_percent(phenotype_samples_df):\n",
    "    phenotype_samples_df[\"bmi_res_categories\"] = phenotype_samples_df.bmi_res_decile_num.map({\n",
    "        0: \"underweight\", \n",
    "        1:\"normal\", 2:\"normal\", \n",
    "        3:\"overweight\", 4:\"overweight\", 5:\"overweight\", 6:\"overweight\", 7:\"overweight\",\n",
    "        8:\"obese\", 9:\"severe obesity\"\n",
    "        })\n",
    "    phenotype_samples_df[\"comorbid_categories\"] = phenotype_samples_df.labels.map({\n",
    "        0: \"lowest\", \n",
    "        1:\"middle\", 2:\"highest\"\n",
    "        })\n",
    "    phenotype_combo_samples_df = phenotype_samples_df.loc[phenotype_samples_df.description==\"Combo\"]\n",
    "    phenotype_other_samples_df = phenotype_samples_df.loc[phenotype_samples_df.description==\"Non Combo\"]\n",
    "    phenotype_combo_samples_plot_df, cbmi_dict = get_comorbidity_percent_by_res_cat(phenotype_combo_samples_df)\n",
    "    phenotype_other_samples_plot_df, ncbmi_dict = get_comorbidity_percent_by_res_cat(phenotype_other_samples_df)\n",
    "    return phenotype_combo_samples_plot_df, cbmi_dict, phenotype_other_samples_plot_df, ncbmi_dict"
   ]
  },
  {
   "cell_type": "code",
   "execution_count": 12,
   "metadata": {},
   "outputs": [
    {
     "data": {
      "image/png": "[encoded data removed]",
      "text/plain": [
       "<Figure size 677.5x288 with 1 Axes>"
      ]
     },
     "metadata": {
      "needs_background": "light"
     },
     "output_type": "display_data"
    }
   ],
   "source": [
    "phenotype_combo_samples_plot_df, cbmi_dict, phenotype_other_samples_plot_df, ncbmi_dict = get_bmi_res_decile_data_comorbidity_percent(bmi_res_comorbidity_df)\n",
    "fig = utpl.get_prs_bmi_res_decile_plot(phenotype_combo_samples_plot_df, cbmi_dict, hue=\"comorbid_categories\")"
   ]
  },
  {
   "cell_type": "code",
   "execution_count": 13,
   "metadata": {},
   "outputs": [
    {
     "data": {
      "image/png": "[encoded data removed]",
      "text/plain": [
       "<Figure size 677.5x288 with 1 Axes>"
      ]
     },
     "metadata": {
      "needs_background": "light"
     },
     "output_type": "display_data"
    }
   ],
   "source": [
    "fig = utpl.get_prs_bmi_res_decile_plot(phenotype_other_samples_plot_df, ncbmi_dict, hue=\"comorbid_categories\")"
   ]
  },
  {
   "cell_type": "code",
   "execution_count": 14,
   "metadata": {},
   "outputs": [],
   "source": [
    "import seaborn as sns\n",
    "import matplotlib.pyplot as plt"
   ]
  },
  {
   "cell_type": "code",
   "execution_count": 15,
   "metadata": {},
   "outputs": [],
   "source": [
    "def create_decile_comorbid_plot_helper(df, deciles):\n",
    "    plot_df = df.loc[df.bmi_res_decile_num.isin(deciles)]\n",
    "    plot_df = plot_df.groupby([\"description\"])[\"labels\"].value_counts(normalize=True) \n",
    "    plot_df = plot_df.mul(100)\n",
    "    plot_df = plot_df.rename('percent').reset_index()\n",
    "    return plot_df\n",
    "\n",
    "def create_decile_comorbid_plot(df, decile_of_interest):\n",
    "    other_deciles = [i for i in range(10) if i<decile_of_interest]\n",
    "    plot_df1 = create_decile_comorbid_plot_helper(df, [decile_of_interest])\n",
    "    plot_df2 = create_decile_comorbid_plot_helper(df, other_deciles)\n",
    "    fig, ax = plt.subplots(1,2, figsize=(8,6), sharey=True)\n",
    "    sns.barplot(plot_df1, x=\"labels\", y=\"percent\", hue=\"description\", order=[0,1,2], hue_order=[\"Non Combo\", \"Combo\"], ax=ax[0])\n",
    "    ax[0].set_title(f\"Decile {decile_of_interest+1}\")\n",
    "    sns.barplot(plot_df2, x=\"labels\", y=\"percent\", hue=\"description\", order=[0,1,2], hue_order=[\"Non Combo\", \"Combo\"], ax=ax[1])\n",
    "    ax[1].set_title(f\"Other deciles\")\n",
    "    return fig"
   ]
  },
  {
   "cell_type": "code",
   "execution_count": 18,
   "metadata": {},
   "outputs": [
    {
     "data": {
      "image/png": "[encoded data removed]",
      "text/plain": [
       "<Figure size 576x432 with 2 Axes>"
      ]
     },
     "metadata": {
      "needs_background": "light"
     },
     "output_type": "display_data"
    }
   ],
   "source": [
    "f = create_decile_comorbid_plot(bmi_res_comorbidity_df, 9)"
   ]
  },
  {
   "cell_type": "code",
   "execution_count": null,
   "metadata": {},
   "outputs": [],
   "source": []
  },
  {
   "cell_type": "code",
   "execution_count": 47,
   "metadata": {},
   "outputs": [
    {
     "name": "stdout",
     "output_type": "stream",
     "text": [
      "1\n",
      "                 9      8\n",
      "description              \n",
      "Combo         1504   1339\n",
      "Non Combo    17180  19466\n",
      "2\n",
      "                 9      8\n",
      "description              \n",
      "Combo         1266    780\n",
      "Non Combo    17337  14156\n",
      "0\n",
      "                9     8\n",
      "description            \n",
      "Combo         224   222\n",
      "Non Combo    2577  3451\n"
     ]
    }
   ],
   "source": [
    "def create_decile_comorbid_table_helper(df, deciles):\n",
    "    table_df = df.loc[df.bmi_res_decile_num.isin(deciles)]\n",
    "    table_df = table_df.groupby([\"description\"])[\"sample_names\"].count()\n",
    "    table_df.name = \"_\".join(list(map(str, deciles)))\n",
    "    return table_df.to_frame()\n",
    "\n",
    "def create_table(df, label, decile_of_interest):\n",
    "    label_df = df.loc[df.labels==label]\n",
    "    other_deciles = [i for i in range(10) if i!=decile_of_interest]\n",
    "    decile_of_interest_table = create_decile_comorbid_table_helper(label_df, [decile_of_interest])\n",
    "    other_deciles_table = create_decile_comorbid_table_helper(label_df, other_deciles)\n",
    "    table_df = pd.concat((decile_of_interest_table, other_deciles_table), axis=1)\n",
    "    return table_df\n",
    "\n",
    "\n",
    "for label in bmi_res_comorbidity_df.labels.unique():\n",
    "    print(label)\n",
    "    table_df = create_table(bmi_res_comorbidity_df, label, 9)\n",
    "    print(table_df)\n"
   ]
  },
  {
   "cell_type": "code",
   "execution_count": 34,
   "metadata": {},
   "outputs": [],
   "source": [
    "bmi_res_comorbidity_sel_df = bmi_res_comorbidity_df.loc[bmi_res_comorbidity_df.bmi_res_decile_num.isin([9,0])]\n",
    "bmi_res_comorbidity_sel_df[\"bmi_res_binary_decile\"] = bmi_res_comorbidity_sel_df.bmi_res_decile_num.apply(lambda x: \"extreme\" if x==9 else \"others\")\n",
    "bmi_res_comorbidity_sel_df[\"comorbidity_binary_decile\"] = bmi_res_comorbidity_sel_df.labels.apply(lambda x: \"extreme\" if x==2 else \"others\")"
   ]
  },
  {
   "cell_type": "code",
   "execution_count": 28,
   "metadata": {},
   "outputs": [
    {
     "name": "stdout",
     "output_type": "stream",
     "text": [
      "others\n",
      "comorbidity_binary_decile  extreme    others\n",
      "description                                 \n",
      "Combo                       1648.0    4627.0\n",
      "Non Combo                  87956.0  248934.0\n",
      "1.0080369575518058 0.7828877742560478\n",
      "extreme\n",
      "comorbidity_binary_decile  extreme   others\n",
      "description                                \n",
      "Combo                       1266.0   1728.0\n",
      "Non Combo                  17337.0  19757.0\n",
      "0.8349049159472676 2.517814889240206e-06\n"
     ]
    }
   ],
   "source": [
    "decile_of_interest = 9\n",
    "other_deciles = [ i for i in range(10) if i<decile_of_interest] \n",
    "bmi_res_comorbidity_sel_df = bmi_res_comorbidity_df.loc[bmi_res_comorbidity_df.bmi_res_decile_num.isin(other_deciles + [decile_of_interest])] #7,6,5,4,3,2,1,0\n",
    "bmi_res_comorbidity_sel_df[\"bmi_res_binary_decile\"] = bmi_res_comorbidity_sel_df.bmi_res_decile_num.apply(lambda x: \"extreme\" if x==decile_of_interest else \"others\")\n",
    "bmi_res_comorbidity_sel_df[\"comorbidity_binary_decile\"] = bmi_res_comorbidity_sel_df.labels.apply(lambda x: \"extreme\" if x==2 else \"others\")\n",
    "\n",
    "def create_decile_comorbid_table_helper(df):\n",
    "    table_df = df.groupby([\"description\"])[\"comorbidity_binary_decile\"].value_counts()\n",
    "    return table_df.reset_index().pivot_table(index=\"description\", columns=\"comorbidity_binary_decile\", values=\"count\")\n",
    "\n",
    "def create_table(df, bmi_res_binary_decile):\n",
    "    bmi_res_decile_df = df.loc[df.bmi_res_binary_decile==bmi_res_binary_decile]\n",
    "    table_df = create_decile_comorbid_table_helper(bmi_res_decile_df)\n",
    "    return table_df\n",
    "\n",
    "for bmi_res_binary_decile in bmi_res_comorbidity_sel_df.bmi_res_binary_decile.unique():\n",
    "    print(bmi_res_binary_decile)\n",
    "    table_df = create_table(bmi_res_comorbidity_sel_df, bmi_res_binary_decile)\n",
    "    print(table_df)\n",
    "    res = fisher_exact(table_df)\n",
    "    print(res.statistic, res.pvalue)"
   ]
  },
  {
   "cell_type": "code",
   "execution_count": null,
   "metadata": {},
   "outputs": [],
   "source": []
  },
  {
   "cell_type": "code",
   "execution_count": null,
   "metadata": {},
   "outputs": [],
   "source": []
  },
  {
   "cell_type": "code",
   "execution_count": 48,
   "metadata": {},
   "outputs": [
    {
     "data": {
      "text/plain": [
       "description  labels\n",
       "Combo        1         0.502338\n",
       "             2         0.422846\n",
       "             0         0.074816\n",
       "Non Combo    2         0.467380\n",
       "             1         0.463148\n",
       "             0         0.069472\n",
       "Name: proportion, dtype: float64"
      ]
     },
     "execution_count": 48,
     "metadata": {},
     "output_type": "execute_result"
    }
   ],
   "source": [
    "bmi_res_comorbidity_df.loc[bmi_res_comorbidity_df.bmi_res_decile_num==9].groupby([\"description\"])[\"labels\"].value_counts(normalize=True)"
   ]
  },
  {
   "cell_type": "code",
   "execution_count": 45,
   "metadata": {},
   "outputs": [
    {
     "data": {
      "text/plain": [
       "description  labels\n",
       "Combo        1         0.581077\n",
       "             2         0.314381\n",
       "             0         0.104542\n",
       "Non Combo    1         0.584044\n",
       "             2         0.281544\n",
       "             0         0.134412\n",
       "Name: proportion, dtype: float64"
      ]
     },
     "execution_count": 45,
     "metadata": {},
     "output_type": "execute_result"
    }
   ],
   "source": [
    "bmi_res_comorbidity_df.groupby([\"description\"])[\"labels\"].value_counts(normalize=True)"
   ]
  },
  {
   "cell_type": "code",
   "execution_count": null,
   "metadata": {},
   "outputs": [],
   "source": []
  }
 ],
 "metadata": {
  "kernelspec": {
   "display_name": "Python 3",
   "language": "python",
   "name": "python3"
  },
  "language_info": {
   "codemirror_mode": {
    "name": "ipython",
    "version": 3
   },
   "file_extension": ".py",
   "mimetype": "text/x-python",
   "name": "python",
   "nbconvert_exporter": "python",
   "pygments_lexer": "ipython3",
   "version": "3.11.4"
  }
 },
 "nbformat": 4,
 "nbformat_minor": 2
}
