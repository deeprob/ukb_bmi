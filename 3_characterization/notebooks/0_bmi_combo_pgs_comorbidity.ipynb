{
 "cells": [
  {
   "cell_type": "code",
   "execution_count": 31,
   "metadata": {},
   "outputs": [],
   "source": [
    "import os\n",
    "import argparse\n",
    "import numpy as np\n",
    "import pandas as pd\n",
    "from scipy.stats import fisher_exact, chi2_contingency\n",
    "from scipy.stats.contingency import odds_ratio\n",
    "from scipy import stats\n",
    "from functools import reduce\n",
    "from sklearn.cluster import KMeans\n",
    "import statsmodels.api as sm\n",
    "from sklearn.preprocessing import PolynomialFeatures\n",
    "\n",
    "from sklearn.preprocessing import LabelEncoder\n",
    "from sklearn.preprocessing import StandardScaler\n",
    "from sklearn.linear_model import LinearRegression\n",
    "from sklearn.cluster import KMeans\n",
    "from sklearn.metrics import silhouette_score, davies_bouldin_score\n",
    "\n",
    "import sys\n",
    "sys.path.append(\"../src\")\n",
    "import utils.parsing as utpa\n",
    "import utils.plotting as utpl\n",
    "\n",
    "# plotting\n",
    "import os\n",
    "import pandas as pd\n",
    "import seaborn as sns\n",
    "import matplotlib\n",
    "import matplotlib.pyplot as plt\n",
    "from matplotlib.ticker import MultipleLocator\n",
    "import matplotlib.patches as mpatches\n",
    "matplotlib.rcParams['pdf.fonttype'] = 42\n",
    "matplotlib.rcParams['ps.fonttype'] = 42\n",
    "matplotlib.rcParams['font.sans-serif'] = \"Arial\" # missing fonts:: https://alexanderlabwhoi.github.io/post/2021-03-missingfont/\n",
    "# Then, \"ALWAYS use sans-serif fonts\"\n",
    "matplotlib.rcParams['font.family'] = \"sans-serif\"\n",
    "matplotlib.rcParams.update({'font.size': 14, 'axes.linewidth': 2, 'xtick.major.width': 1.5, 'xtick.major.size': 7, 'ytick.major.width': 1.5, 'ytick.major.size': 7})\n",
    "from matplotlib.backends.backend_pdf import PdfPages\n",
    "import forestplot as fp\n",
    "import upsetplot\n",
    "\n",
    "from scipy.stats import ttest_ind"
   ]
  },
  {
   "cell_type": "markdown",
   "metadata": {},
   "source": [
    "# Normalize and add info\n",
    "1. Scale BMI by ancestry, sex and age\n",
    "2. Add combo info\n",
    "3. Divide residuals and prs into categories"
   ]
  },
  {
   "cell_type": "code",
   "execution_count": 2,
   "metadata": {},
   "outputs": [],
   "source": [
    "def get_scaled_bmi(df, categorical_cols, numerical_cols, scaled_numerical_cols):\n",
    "    # define encoders\n",
    "    en = LabelEncoder()\n",
    "    scaler = StandardScaler()\n",
    "    # select the categorical and numerical columns\n",
    "    # transform the categorical columns to integer values\n",
    "    for cat_col in categorical_cols:\n",
    "        df[cat_col] = en.fit_transform(df[cat_col])\n",
    "    # scale the numerical columns\n",
    "    df[numerical_cols] = scaler.fit_transform(df.loc[:, numerical_cols])\n",
    "    # scale bmi separately\n",
    "    df[\"bmi_scaled\"] = scaler.fit_transform(df.loc[:, [\"bmi\"]])\n",
    "    # Create the target variable (bmi_residuals) using linear regression\n",
    "    X = df.loc[:, categorical_cols + numerical_cols + scaled_numerical_cols]\n",
    "    y = df.loc[:, 'bmi_scaled']\n",
    "    model = LinearRegression()\n",
    "    model.fit(X, y)\n",
    "    # save the residuals for bmi\n",
    "    df['bmi_residuals'] = y - model.predict(X)\n",
    "    return df\n",
    "\n",
    "\n",
    "def create_bmi_res_prs_decile_data(phenotype_df, all_combo_samples):\n",
    "    categorical_cols = [\"genetic_sex\"]\n",
    "    numerical_cols = [\"age\"] + [f\"genetic_pca{i}\" for i in range(1, 40)]\n",
    "    scaled_numerical_cols = []#[\"bmi_prs\"]\n",
    "\n",
    "    phenotype_df = get_scaled_bmi(phenotype_df, categorical_cols, numerical_cols, scaled_numerical_cols)\n",
    "    phenotype_df[\"bmi_res_decile\"] = pd.qcut(phenotype_df.bmi_residuals, q=10)\n",
    "    phenotype_df[\"bmi_res_decile_num\"] = pd.qcut(phenotype_df.bmi_residuals, q=10, labels=False)\n",
    "    phenotype_df[\"bmi_prs_decile\"] = pd.qcut(phenotype_df.bmi_prs, q=10)\n",
    "    phenotype_df[\"bmi_prs_decile_num\"] = pd.qcut(phenotype_df.bmi_prs, q=10, labels=False)\n",
    "    phenotype_df[\"carrier\"] = phenotype_df.sample_names.isin(all_combo_samples)\n",
    "    phenotype_df[\"bmi_res_categories\"] = phenotype_df.bmi_res_decile_num.map({\n",
    "        0: \"underweight\", \n",
    "        1:\"normal\", 2:\"normal\", \n",
    "        3:\"overweight\", 4:\"overweight\", 5:\"overweight\", 6:\"overweight\", 7:\"overweight\",\n",
    "        8:\"obese\", 9:\"severe obesity\"\n",
    "        })\n",
    "    phenotype_df[\"bmi_prs_categories\"] = phenotype_df.bmi_prs_decile_num.map({\n",
    "        0: \"lowest\", \n",
    "        1:\"middle\", 2:\"middle\", \n",
    "        3:\"middle\", 4:\"middle\", 5:\"middle\", 6:\"middle\", 7:\"middle\",\n",
    "        8:\"middle\", 9:\"highest\"\n",
    "        })\n",
    "    mean_bmi_dict = phenotype_df.groupby(\"bmi_res_categories\")[\"bmi\"].mean().to_dict()\n",
    "    return phenotype_df, mean_bmi_dict"
   ]
  },
  {
   "cell_type": "code",
   "execution_count": 3,
   "metadata": {},
   "outputs": [],
   "source": [
    "cohort_file = \"/data6/deepro/ukb_bmi/0_data_preparation_and_download/phenotype/data/bmi_processed/british/train_cohort_bmi.csv.gz\"\n",
    "combo_files = [\n",
    "    \"/data6/deepro/ukb_bmi/3_characterization/data/combo_info/british/discovery_combo2.csv\",\n",
    "    \"/data6/deepro/ukb_bmi/3_characterization/data/combo_info/british/discovery_combo3.csv\"\n",
    "]"
   ]
  },
  {
   "cell_type": "code",
   "execution_count": 4,
   "metadata": {},
   "outputs": [],
   "source": [
    "cohort_df = pd.read_csv(\n",
    "    cohort_file, \n",
    "    usecols=[\"sample_names\", \"genetic_sex\", \"age\"] + [f\"genetic_pca{i}\" for i in range(1, 40)] + [\"bmi_prs\", \"bmi\"])\n",
    "cohort_df[\"sample_names\"] = cohort_df.sample_names.astype(str)\n",
    "combo_genes, combo_samples = utpa.get_combo_info_from_files(combo_files)\n",
    "\n",
    "phenotype_samples_df, mean_bmi_dict = create_bmi_res_prs_decile_data(cohort_df, combo_samples)"
   ]
  },
  {
   "cell_type": "markdown",
   "metadata": {},
   "source": [
    "# PRS comparison per BMI residual category plot"
   ]
  },
  {
   "cell_type": "code",
   "execution_count": 5,
   "metadata": {},
   "outputs": [],
   "source": [
    "def create_decile_rank_plot(phenotype_samples_df, bmi_dict):\n",
    "    fig,ax = plt.subplots(2, 1, figsize=(6, 12), sharex=True, height_ratios=(4, 4))\n",
    "    ## BMI prs box plots\n",
    "    sns_ax = sns.boxplot(\n",
    "        phenotype_samples_df, x=\"bmi_res_categories\", y=\"bmi_prs\", hue=\"carrier\", hue_order=[False, True],\n",
    "        order=[\"underweight\", \"normal\", \"overweight\", \"obese\", \"severe obesity\"],\n",
    "        width=0.65, linewidth=1.25, fliersize=0, capprops={'color':'none'}, boxprops={'edgecolor':'k'},\n",
    "        medianprops={'color':'k'},\n",
    "        linecolor='k',\n",
    "        palette= [\"whitesmoke\", sns.color_palette(\"Reds\", 15).as_hex()[7]],\n",
    "        legend=True, gap=0.25, ax=ax[0])\n",
    "    ax[0].set_ylim(-3.5, 3.5)\n",
    "    ax[0].spines[['right', 'top']].set_visible(False)\n",
    "    ax[0].hlines([3 for i in range(5)], [(i-0.25+i*0.001953125) for i in range(0, 5)], [(i+0.25+i*0.001953125) for i in range(0,5)], color=\"k\")\n",
    "    for i, (res_cat) in enumerate([\"underweight\", \"normal\", \"overweight\", \"obese\", \"severe obesity\"]):\n",
    "        psd = phenotype_samples_df.loc[phenotype_samples_df.bmi_res_categories==res_cat]\n",
    "        ttest_res = ttest_ind(psd.loc[psd.carrier==True, \"bmi_prs\"], psd.loc[psd.carrier==False, \"bmi_prs\"], alternative=\"less\")\n",
    "        ttest_pval = ttest_res.pvalue\n",
    "        if ttest_pval<0.05:\n",
    "            pval_text = \"*\"\n",
    "            if ttest_pval<0.001:\n",
    "                pval_text = \"**\"\n",
    "                # pval_text = f\"P = {ttest_pval:.1E}\"\n",
    "            ax[0].text(0.+i, 3.05, pval_text, ha=\"center\", va=\"bottom\", fontsize=14)\n",
    "    h,l = ax[0].get_legend_handles_labels()\n",
    "    ax[0].legend_.remove()\n",
    "    fig.legend(h,l, ncol=2, loc=(0.35, 0.5025), frameon=False)\n",
    "    ax[0].set_ylabel(\"BMI PRS\")\n",
    "    \n",
    "    phenotype_combo_samples_decile_df = phenotype_samples_df.loc[phenotype_samples_df.carrier==True].groupby(\"bmi_res_categories\", observed=True).agg({\n",
    "        \"sample_names\": \"count\",\n",
    "        \"bmi_prs\": \"median\",\n",
    "        \"bmi_residuals\": \"mean\"}\n",
    "        ).reset_index()\n",
    "\n",
    "    ## Combo per decile barplot\n",
    "    ax[1].bar(phenotype_combo_samples_decile_df.bmi_res_categories, phenotype_combo_samples_decile_df.sample_names, width=0.75, color=sns.color_palette(\"Reds\", 15).as_hex()[7], edgecolor=\"k\")\n",
    "    ax[1].set_xlabel(\"BMI Residuals Categories\")\n",
    "    ax[1].set_ylabel(\"Number of individuals\")\n",
    "    # g.bar_label([g.containers[i] for i in range])\n",
    "    rects = ax[1].patches\n",
    "    # Make some labels.\n",
    "    for rect in rects:\n",
    "        height = rect.get_height()\n",
    "        ax[1].text(\n",
    "            rect.get_x() + rect.get_width() / 2, height + 5, f\"{height}\", ha=\"center\", va=\"bottom\"\n",
    "        )\n",
    "    # ax[1].set_ylim(-100, 3500)\n",
    "    ax[1].spines[['right', 'top']].set_visible(False)\n",
    "    ax[1].set_xticklabels([f\"{l.get_text()}\\n{round(bmi_dict[l.get_text()], 2)}\" for l in ax[1].get_xticklabels()])\n",
    "    return fig,ax\n"
   ]
  },
  {
   "cell_type": "code",
   "execution_count": 6,
   "metadata": {},
   "outputs": [
    {
     "data": {
      "text/plain": [
       "(<Figure size 432x864 with 2 Axes>,\n",
       " array([<AxesSubplot: xlabel='bmi_res_categories', ylabel='BMI PRS'>,\n",
       "        <AxesSubplot: xlabel='BMI Residuals Categories', ylabel='Number of individuals'>],\n",
       "       dtype=object))"
      ]
     },
     "execution_count": 6,
     "metadata": {},
     "output_type": "execute_result"
    },
    {
     "data": {
      "image/png": "[encoded data removed]",
      "text/plain": [
       "<Figure size 432x864 with 2 Axes>"
      ]
     },
     "metadata": {
      "needs_background": "light"
     },
     "output_type": "display_data"
    }
   ],
   "source": [
    "create_decile_rank_plot(phenotype_samples_df, mean_bmi_dict)"
   ]
  },
  {
   "cell_type": "markdown",
   "metadata": {},
   "source": [
    "# PRS category by BMI residual categories"
   ]
  },
  {
   "cell_type": "code",
   "execution_count": 7,
   "metadata": {},
   "outputs": [],
   "source": [
    "def get_prs_percent_by_prs(df):\n",
    "    df1 = df.groupby(\"bmi_prs_categories\")[\"bmi_res_categories\"].value_counts(normalize=True)\n",
    "    df1 = df1.mul(100)\n",
    "    df1 = df1.rename('percent').reset_index()\n",
    "    return df1\n",
    "\n",
    "def create_bmi_res_cat_prs_cat_df(phenotype_samples_df):\n",
    "    noncombo = get_prs_percent_by_prs(phenotype_samples_df.loc[phenotype_samples_df.carrier==False])\n",
    "    noncombo[\"carrier\"] = False\n",
    "    combo = get_prs_percent_by_prs(phenotype_samples_df.loc[phenotype_samples_df.carrier==True])\n",
    "    combo[\"carrier\"] = True\n",
    "    plot_df = pd.concat((combo, noncombo))\n",
    "    return plot_df\n",
    "\n",
    "\n",
    "def get_prs_bmi_res_decile_plot(plot_df, bmi_dict, hue=\"bmi_prs_categories\", hue_order=[\"lowest\", \"middle\", \"highest\"]):\n",
    "    g = sns.catplot(data=plot_df, \n",
    "        x=\"bmi_res_categories\",\n",
    "        y=\"percent\",\n",
    "        hue=hue,\n",
    "        kind=\"bar\",\n",
    "        height=4, aspect=2,\n",
    "        order=[\"underweight\", \"normal\", \"overweight\", \"obese\", \"severe obesity\"],\n",
    "        hue_order=hue_order,\n",
    "        row=\"carrier\",\n",
    "        palette=[\"silver\", \"gray\", \"black\"]\n",
    "        )\n",
    "\n",
    "    g.set(ylim=(0,100))\n",
    "    \n",
    "    g.axes.flat[1].set_xticklabels([f\"{l.get_text()}\\n{round(bmi_dict[l.get_text()], 2)}\" for l in  g.axes.flat[1].get_xticklabels()])\n",
    "\n",
    "    for ax in g.axes.flat:\n",
    "        rects = ax.patches\n",
    "        for rect in rects:\n",
    "            height = rect.get_height()\n",
    "            ax.text(\n",
    "                rect.get_x() + rect.get_width() / 2, height + 1, f\"{round(height, 2)}%\", ha=\"center\", va=\"bottom\"\n",
    "            )\n",
    "    return g.figure\n",
    "\n"
   ]
  },
  {
   "cell_type": "code",
   "execution_count": 8,
   "metadata": {},
   "outputs": [],
   "source": [
    "bmi_res_cat_prs_cat_df = create_bmi_res_cat_prs_cat_df(phenotype_samples_df)"
   ]
  },
  {
   "cell_type": "code",
   "execution_count": 9,
   "metadata": {},
   "outputs": [
    {
     "data": {
      "image/png": "[encoded data removed]",
      "text/plain": [
       "<Figure size 671.875x576 with 2 Axes>"
      ]
     },
     "metadata": {
      "needs_background": "light"
     },
     "output_type": "display_data"
    }
   ],
   "source": [
    "f = get_prs_bmi_res_decile_plot(bmi_res_cat_prs_cat_df, mean_bmi_dict)"
   ]
  },
  {
   "cell_type": "markdown",
   "metadata": {},
   "source": [
    "# Comorbidities enriched in \n",
    "1. People with highest residuals (severely obese)\n",
    "2. People with combos"
   ]
  },
  {
   "cell_type": "code",
   "execution_count": 10,
   "metadata": {},
   "outputs": [],
   "source": [
    "icd_raw_dir = \"/data6/deepro/ukb_bmi/0_data_preparation_and_download/icd_codes/data/icd_raw\"\n",
    "icd_codes_file = \"/data6/deepro/ukb_bmi/0_data_preparation_and_download/icd_codes/data/icd_tree/coding19.tsv\"\n",
    "hes_info_file = \"/data6/deepro/ukb_bmi/0_data_preparation_and_download/icd_codes/data/hes_info/hes_info.csv.gz\""
   ]
  },
  {
   "cell_type": "code",
   "execution_count": 11,
   "metadata": {},
   "outputs": [
    {
     "name": "stdout",
     "output_type": "stream",
     "text": [
      "Samples in cohort 427639\n",
      "Samples with icd 383253\n",
      "Samples with combo 10193\n",
      "Samples with combo and icd 9269\n"
     ]
    }
   ],
   "source": [
    "icd_samples_df = utpa.create_icd_samples_file(icd_raw_dir)\n",
    "icd_codes_df = pd.read_csv(icd_codes_file, usecols=[\"coding\", \"meaning\", \"node_id\", \"parent_id\"], sep=\"\\t\")\n",
    "icd_codes_df[\"coding\"] = icd_codes_df.coding.str.replace(\" \", \"\")\n",
    "pheno_tree, root_pheno, c2nodeid_dict = utpa.create_tree(icd_codes_df, icd_samples_df)\n",
    "hes_info_df = pd.read_csv(hes_info_file, dtype={\"sample_names\": str, \"hes_info\": float})\n",
    "all_icd_samples = set(hes_info_df.loc[hes_info_df.hes_info>0, \"sample_names\"].values)\n",
    "print(f\"Samples in cohort {len(phenotype_samples_df)}\")\n",
    "phenotype_samples_df = phenotype_samples_df.loc[phenotype_samples_df.sample_names.isin(all_icd_samples)]\n",
    "print(f\"Samples with icd {len(phenotype_samples_df)}\")\n",
    "print(f\"Samples with combo {len(combo_samples)}\")\n",
    "combo_samples = combo_samples.intersection(all_icd_samples)\n",
    "print(f\"Samples with combo and icd {len(combo_samples)}\")"
   ]
  },
  {
   "cell_type": "code",
   "execution_count": 12,
   "metadata": {},
   "outputs": [],
   "source": [
    "def get_table_icd(samples_of_interest, nonsamples_of_interest, comorbid_samples, field, shortlist):\n",
    "    table = [\n",
    "        [len(samples_of_interest.intersection(comorbid_samples)), len(samples_of_interest.difference(comorbid_samples))],\n",
    "        [len(nonsamples_of_interest.intersection(comorbid_samples)), len(nonsamples_of_interest.difference(comorbid_samples))]\n",
    "    ]\n",
    "    df = pd.DataFrame(table, columns=[f\"{field}\", f\"No {field}\"], index=shortlist)\n",
    "    return df\n",
    "\n",
    "def get_icd_enrich(samples_of_interest, nonsamples_of_interest, all_cohort_samples, pheno_tree, icd_codes_df, c2nodeid_dict, shortlist):\n",
    "    icd_data = []\n",
    "\n",
    "    for icdc in icd_codes_df.coding.values:\n",
    "        icdc_node = pheno_tree.node_dict[c2nodeid_dict[icdc]]\n",
    "        comorbid_samples = icdc_node.get_samples()\n",
    "        comorbid_samples = all_cohort_samples.intersection(comorbid_samples)\n",
    "        df = get_table_icd(samples_of_interest, nonsamples_of_interest, comorbid_samples, icdc_node.meaning, shortlist)\n",
    "        res = fisher_exact(df)\n",
    "        or_study = odds_ratio(df)\n",
    "        cil, cih = or_study.confidence_interval(confidence_level=0.95)\n",
    "        icdc_node_data = (icdc, icdc_node.meaning, df.iloc[0,0], df.iloc[0,1], df.iloc[1,0], df.iloc[1,1], or_study.statistic, res.pvalue, cil, cih)\n",
    "        icd_data.append(icdc_node_data)\n",
    "    \n",
    "    icd_df = pd.DataFrame(icd_data, columns=[\"icd_code\", \"icd_meaning\", f\"{shortlist[0]}_comorbid\", f\"{shortlist[0]}_noncomorbid\", f\"{shortlist[1]}_comorbid\", f\"{shortlist[1]}_noncomorbid\", \"odds_ratio\", \"p_value\", \"ci_low\", \"ci_high\"])\n",
    "    icd_df[\"FDR\"] = stats.false_discovery_control(icd_df.p_value)\n",
    "    return icd_df"
   ]
  },
  {
   "cell_type": "code",
   "execution_count": 13,
   "metadata": {},
   "outputs": [],
   "source": [
    "severely_obese_samples = set(phenotype_samples_df.loc[phenotype_samples_df.bmi_res_categories==\"severe obesity\", \"sample_names\"].values)\n",
    "notseverely_obese_samples = set(phenotype_samples_df.loc[phenotype_samples_df.bmi_res_categories!=\"severe obesity\", \"sample_names\"].values)\n",
    "all_samples = set(phenotype_samples_df.sample_names.values)\n",
    "\n",
    "icd_enrich_file = \"/data6/deepro/ukb_bmi/3_characterization/data/pilot/severe_obesity_icd_enrich.csv\"\n",
    "if not os.path.exists(icd_enrich_file):\n",
    "    severely_obese_samples_enrich_df = get_icd_enrich(severely_obese_samples, notseverely_obese_samples, all_samples, pheno_tree, icd_codes_df, c2nodeid_dict, [\"severely obese\", \"not severely obese\"])\n",
    "    severely_obese_samples_enrich_df.to_csv(icd_enrich_file)\n",
    "else:\n",
    "    severely_obese_samples_enrich_df = pd.read_csv(icd_enrich_file)"
   ]
  },
  {
   "cell_type": "code",
   "execution_count": 304,
   "metadata": {},
   "outputs": [],
   "source": [
    "def get_level(icd_node, level):\n",
    "    if icd_node.parent:\n",
    "        return get_level(icd_node.parent, level+1)\n",
    "    else:\n",
    "        return level\n",
    "\n",
    "def add_more_info(pheno_tree, code, odds, fdr, c2nodeid_dict):\n",
    "    icd_node = pheno_tree.node_dict[c2nodeid_dict[code]]\n",
    "    icd_node.fdr = fdr\n",
    "    icd_node.odds = odds\n",
    "    icd_node.level = get_level(icd_node, 0)\n",
    "    return\n",
    "\n",
    "\n",
    "def filter_icd_enrich(icd_df, pheno_tree, root_pheno, c2nodeid_dict):\n",
    "    for num, row in icd_df.iterrows():\n",
    "        code, odds, fdr = row.icd_code, row.odds_ratio, row.FDR\n",
    "        add_more_info(pheno_tree, code, odds, fdr, c2nodeid_dict)\n",
    "    root_pheno.fdr=1\n",
    "    root_pheno.level=0\n",
    "    root_pheno.odds=1\n",
    "\n",
    "    df_columns = [\"level\", \"node_id\", \"num_samples\", \"parent\", \"meaning\", \"coding\", \"fdr\", \"odds_ratio\"]\n",
    "    df_data_dict = {c:[] for c in df_columns}\n",
    "\n",
    "    def save_data(curr_node):\n",
    "        df_data_dict[\"level\"].append(curr_node.level)\n",
    "        df_data_dict[\"node_id\"].append(curr_node.node)\n",
    "        df_data_dict[\"num_samples\"].append(len(curr_node.samples))\n",
    "        if curr_node.parent:\n",
    "            df_data_dict[\"parent\"].append(curr_node.parent.meaning)\n",
    "        else:\n",
    "            df_data_dict[\"parent\"].append(\"\")\n",
    "        df_data_dict[\"meaning\"].append(curr_node.meaning)\n",
    "        df_data_dict[\"coding\"].append(curr_node.code)\n",
    "        df_data_dict[\"fdr\"].append(curr_node.fdr)\n",
    "        df_data_dict[\"odds_ratio\"].append(curr_node.odds)\n",
    "        return\n",
    "\n",
    "    def add_all_parents(curr_node, saved_nodes):\n",
    "        if curr_node.parent:\n",
    "            if curr_node.parent not in saved_nodes:\n",
    "                save_data(curr_node.parent)\n",
    "                saved_nodes.add(curr_node.parent)\n",
    "                return add_all_parents(curr_node.parent, saved_nodes)\n",
    "        return saved_nodes\n",
    "    \n",
    "    saved_nodes = set()\n",
    "    for i,row in icd_df.loc[icd_df.FDR<0.05].iterrows():\n",
    "        code = row.icd_code\n",
    "        icd_node = pheno_tree.node_dict[c2nodeid_dict[code]]\n",
    "        if icd_node not in saved_nodes:\n",
    "            save_data(icd_node)\n",
    "            saved_nodes.add(icd_node)\n",
    "            saved_nodes.update(add_all_parents(icd_node, saved_nodes))\n",
    "\n",
    "    # filter the phenotypes\n",
    "    max_level=2\n",
    "    df_data = pd.DataFrame(df_data_dict)\n",
    "    df_data = df_data.loc[(df_data.level>0)&(df_data.level<max_level+1)].replace(\"Root Phenotype\", \"\")\n",
    "    df_data = df_data.loc[~((df_data.level==max_level)&(df_data.fdr>0.05))] # &(df_data.odds_ratio>1)\n",
    "    df_data = df_data.loc[~(df_data.odds_ratio<1)]\n",
    "    df_data[\"fdr_rank\"] = df_data.fdr.rank()\n",
    "    df_data[\"fdr_rank_inv\"] = df_data.fdr_rank.apply(lambda x: 1/x)\n",
    "    return df_data"
   ]
  },
  {
   "cell_type": "code",
   "execution_count": 305,
   "metadata": {},
   "outputs": [],
   "source": [
    "obesity_related_comorbid_df = filter_icd_enrich(severely_obese_samples_enrich_df, pheno_tree, root_pheno, c2nodeid_dict)\n",
    "obesity_related_comorbid_df = obesity_related_comorbid_df.loc[obesity_related_comorbid_df.level==2]\n",
    "obesity_related_comorbid_df = obesity_related_comorbid_df.loc[~obesity_related_comorbid_df.meaning.str.lower().str.contains(\"obesity\")] \n",
    "# eliminate external factors from ICD file: https://biobank.ndph.ox.ac.uk/ukb/field.cgi?id=40001\n",
    "obesity_related_comorbid_df = obesity_related_comorbid_df.loc[~obesity_related_comorbid_df.parent.str.startswith((\"Chapter XV\", \"Chapter XX\", \"Chapter XXI\"))]"
   ]
  },
  {
   "cell_type": "code",
   "execution_count": 306,
   "metadata": {},
   "outputs": [
    {
     "data": {
      "text/plain": [
       "117"
      ]
     },
     "execution_count": 306,
     "metadata": {},
     "output_type": "execute_result"
    }
   ],
   "source": [
    "len(obesity_related_comorbid_df)"
   ]
  },
  {
   "cell_type": "markdown",
   "metadata": {},
   "source": [
    "## Combos enrichment for phenotypes within bmi residual categories"
   ]
  },
  {
   "cell_type": "code",
   "execution_count": 307,
   "metadata": {},
   "outputs": [],
   "source": [
    "def get_combos_icd_enrichment(phenotype_samples_df, bmi_res_category, pheno_tree, c2nodeid_dict, comorbid_df):\n",
    "    cat_combo_samples = set(phenotype_samples_df.loc[(phenotype_samples_df.bmi_res_categories==bmi_res_category)&(phenotype_samples_df.carrier==True), \"sample_names\"].values)\n",
    "    cat_noncombo_samples = set(phenotype_samples_df.loc[(phenotype_samples_df.bmi_res_categories==bmi_res_category)&(phenotype_samples_df.carrier==False), \"sample_names\"].values)\n",
    "    cat_samples = set(phenotype_samples_df.loc[phenotype_samples_df.bmi_res_categories==bmi_res_category, \"sample_names\"].values)\n",
    "    # individual icd enrichment\n",
    "    combo_samples_enrich_df = get_icd_enrich(cat_combo_samples, cat_noncombo_samples, cat_samples, pheno_tree, comorbid_df, c2nodeid_dict, [\"combo\", \"non combo\"])\n",
    "    # all comorbidity enrichment\n",
    "    orc_samples = set()\n",
    "    for icdc in comorbid_df.sort_values(\"fdr\").coding.values:\n",
    "        icdc_node = pheno_tree.node_dict[c2nodeid_dict[icdc]]\n",
    "        comorbid_samples = icdc_node.get_samples()\n",
    "        comorbid_samples = cat_samples.intersection(comorbid_samples)\n",
    "        orc_samples.update(comorbid_samples)\n",
    "    df = get_table_icd(cat_combo_samples, cat_noncombo_samples, orc_samples, \"obesity related comorbidity\", [\"Combo\", \"Non Combo\"])\n",
    "    res = fisher_exact(df)\n",
    "    or_study = odds_ratio(df)\n",
    "    cil, cih = or_study.confidence_interval(confidence_level=0.95)\n",
    "    all_comorbid_data = (\"All\", \"Obesity Related Comorbidities\", df.iloc[0,0], df.iloc[0,1], df.iloc[1,0], df.iloc[1,1], or_study.statistic, res.pvalue, cil, cih)\n",
    "    all_comorbid_df = pd.Series(all_comorbid_data, index=[\"icd_code\", \"icd_meaning\", f\"combo_comorbid\", f\"combo_noncomorbid\", f\"noncombo_comorbid\", f\"noncombo_noncomorbid\", \"odds_ratio\", \"p_value\", \"ci_low\", \"ci_high\"])\n",
    "    return combo_samples_enrich_df, all_comorbid_df"
   ]
  },
  {
   "cell_type": "code",
   "execution_count": 308,
   "metadata": {},
   "outputs": [],
   "source": [
    "severely_obese_combo_ind_enrich_df, severely_obese_combo_enrich_df = get_combos_icd_enrichment(phenotype_samples_df, \"severe obesity\", pheno_tree, c2nodeid_dict, obesity_related_comorbid_df)"
   ]
  },
  {
   "cell_type": "code",
   "execution_count": 309,
   "metadata": {},
   "outputs": [
    {
     "data": {
      "text/plain": [
       "icd_code                                          All\n",
       "icd_meaning             Obesity Related Comorbidities\n",
       "combo_comorbid                                   2856\n",
       "combo_noncomorbid                                 138\n",
       "noncombo_comorbid                               35681\n",
       "noncombo_noncomorbid                             1413\n",
       "odds_ratio                                   0.819571\n",
       "p_value                                       0.03397\n",
       "ci_low                                       0.684659\n",
       "ci_high                                      0.987422\n",
       "dtype: object"
      ]
     },
     "execution_count": 309,
     "metadata": {},
     "output_type": "execute_result"
    }
   ],
   "source": [
    "severely_obese_combo_enrich_df"
   ]
  },
  {
   "cell_type": "code",
   "execution_count": 310,
   "metadata": {},
   "outputs": [
    {
     "data": {
      "text/plain": [
       "(117, 75)"
      ]
     },
     "execution_count": 310,
     "metadata": {},
     "output_type": "execute_result"
    }
   ],
   "source": [
    "len(severely_obese_combo_ind_enrich_df), len(severely_obese_combo_ind_enrich_df.loc[severely_obese_combo_ind_enrich_df.odds_ratio<1])"
   ]
  },
  {
   "cell_type": "code",
   "execution_count": 311,
   "metadata": {},
   "outputs": [],
   "source": [
    "obese_combo_ind_enrich_df, obese_combo_enrich_df = get_combos_icd_enrichment(phenotype_samples_df, \"obese\", pheno_tree, c2nodeid_dict, obesity_related_comorbid_df)"
   ]
  },
  {
   "cell_type": "code",
   "execution_count": 312,
   "metadata": {},
   "outputs": [
    {
     "data": {
      "text/plain": [
       "icd_code                                          All\n",
       "icd_meaning             Obesity Related Comorbidities\n",
       "combo_comorbid                                   2216\n",
       "combo_noncomorbid                                 125\n",
       "noncombo_comorbid                               35178\n",
       "noncombo_noncomorbid                             1895\n",
       "odds_ratio                                   0.954989\n",
       "p_value                                      0.628808\n",
       "ci_low                                       0.792215\n",
       "ci_high                                      1.159684\n",
       "dtype: object"
      ]
     },
     "execution_count": 312,
     "metadata": {},
     "output_type": "execute_result"
    }
   ],
   "source": [
    "obese_combo_enrich_df"
   ]
  },
  {
   "cell_type": "code",
   "execution_count": 313,
   "metadata": {},
   "outputs": [
    {
     "data": {
      "text/plain": [
       "(117, 66)"
      ]
     },
     "execution_count": 313,
     "metadata": {},
     "output_type": "execute_result"
    }
   ],
   "source": [
    "len(obese_combo_ind_enrich_df), len(obese_combo_ind_enrich_df.loc[obese_combo_ind_enrich_df.odds_ratio<1])"
   ]
  },
  {
   "cell_type": "code",
   "execution_count": 314,
   "metadata": {},
   "outputs": [],
   "source": [
    "def get_pgs_icd_enrichment(phenotype_samples_df, bmi_res_category, pheno_tree, c2nodeid_dict, comorbid_df):\n",
    "    cat_pgs_samples = set(phenotype_samples_df.loc[(phenotype_samples_df.bmi_res_categories==bmi_res_category)&(phenotype_samples_df.bmi_prs_categories==\"highest\"), \"sample_names\"].values)\n",
    "    cat_nonpgs_samples = set(phenotype_samples_df.loc[(phenotype_samples_df.bmi_res_categories==bmi_res_category)&(phenotype_samples_df.bmi_prs_categories!=\"highest\"), \"sample_names\"].values)\n",
    "    cat_samples = set(phenotype_samples_df.loc[phenotype_samples_df.bmi_res_categories==bmi_res_category, \"sample_names\"].values)\n",
    "    # individual icd enrichment\n",
    "    pgs_samples_enrich_df = get_icd_enrich(cat_pgs_samples, cat_nonpgs_samples, cat_samples, pheno_tree, comorbid_df, c2nodeid_dict, [\"pgs\", \"non pgs\"])\n",
    "    # all comorbidity enrichment\n",
    "    orc_samples = set()\n",
    "    for icdc in comorbid_df.sort_values(\"fdr\").coding.values:\n",
    "        icdc_node = pheno_tree.node_dict[c2nodeid_dict[icdc]]\n",
    "        comorbid_samples = icdc_node.get_samples()\n",
    "        comorbid_samples = cat_samples.intersection(comorbid_samples)\n",
    "        orc_samples.update(comorbid_samples)\n",
    "    df = get_table_icd(cat_pgs_samples, cat_nonpgs_samples, orc_samples, \"obesity related comorbidity\", [\"pgs\", \"Non pgs\"])\n",
    "    res = fisher_exact(df)\n",
    "    or_study = odds_ratio(df)\n",
    "    cil, cih = or_study.confidence_interval(confidence_level=0.95)\n",
    "    all_comorbid_data = (\"All\", \"Obesity Related Comorbidities\", df.iloc[0,0], df.iloc[0,1], df.iloc[1,0], df.iloc[1,1], or_study.statistic, res.pvalue, cil, cih)\n",
    "    all_comorbid_df = pd.Series(all_comorbid_data, index=[\"icd_code\", \"icd_meaning\", f\"pgs_comorbid\", f\"pgs_noncomorbid\", f\"nonpgs_comorbid\", f\"nonpgs_noncomorbid\", \"odds_ratio\", \"p_value\", \"ci_low\", \"ci_high\"])\n",
    "    return pgs_samples_enrich_df, all_comorbid_df"
   ]
  },
  {
   "cell_type": "code",
   "execution_count": 315,
   "metadata": {},
   "outputs": [],
   "source": [
    "severely_obese_pgs_ind_enrich_df, severely_obese_pgs_enrich_df = get_pgs_icd_enrichment(phenotype_samples_df, \"severe obesity\", pheno_tree, c2nodeid_dict, obesity_related_comorbid_df)"
   ]
  },
  {
   "cell_type": "code",
   "execution_count": 317,
   "metadata": {},
   "outputs": [
    {
     "data": {
      "text/plain": [
       "icd_code                                        All\n",
       "icd_meaning           Obesity Related Comorbidities\n",
       "pgs_comorbid                                   8478\n",
       "pgs_noncomorbid                                 329\n",
       "nonpgs_comorbid                               30059\n",
       "nonpgs_noncomorbid                             1222\n",
       "odds_ratio                                 1.047596\n",
       "p_value                                    0.472109\n",
       "ci_low                                     0.924471\n",
       "ci_high                                    1.189678\n",
       "dtype: object"
      ]
     },
     "execution_count": 317,
     "metadata": {},
     "output_type": "execute_result"
    }
   ],
   "source": [
    "severely_obese_pgs_enrich_df"
   ]
  },
  {
   "cell_type": "code",
   "execution_count": null,
   "metadata": {},
   "outputs": [],
   "source": []
  },
  {
   "cell_type": "code",
   "execution_count": 318,
   "metadata": {},
   "outputs": [
    {
     "data": {
      "text/plain": [
       "(117, 50)"
      ]
     },
     "execution_count": 318,
     "metadata": {},
     "output_type": "execute_result"
    }
   ],
   "source": [
    "len(severely_obese_pgs_ind_enrich_df), len(severely_obese_pgs_ind_enrich_df.loc[severely_obese_pgs_ind_enrich_df.odds_ratio<1])"
   ]
  },
  {
   "cell_type": "code",
   "execution_count": null,
   "metadata": {},
   "outputs": [],
   "source": []
  },
  {
   "cell_type": "code",
   "execution_count": null,
   "metadata": {},
   "outputs": [],
   "source": []
  },
  {
   "cell_type": "markdown",
   "metadata": {},
   "source": []
  }
 ],
 "metadata": {
  "kernelspec": {
   "display_name": "Python 3",
   "language": "python",
   "name": "python3"
  },
  "language_info": {
   "codemirror_mode": {
    "name": "ipython",
    "version": 3
   },
   "file_extension": ".py",
   "mimetype": "text/x-python",
   "name": "python",
   "nbconvert_exporter": "python",
   "pygments_lexer": "ipython3",
   "version": "3.11.4"
  }
 },
 "nbformat": 4,
 "nbformat_minor": 2
}
