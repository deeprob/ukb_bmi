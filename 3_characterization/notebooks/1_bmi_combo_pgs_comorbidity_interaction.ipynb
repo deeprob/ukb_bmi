{
 "cells": [
  {
   "cell_type": "code",
   "execution_count": 1,
   "metadata": {},
   "outputs": [],
   "source": [
    "import os\n",
    "import argparse\n",
    "import numpy as np\n",
    "import pandas as pd\n",
    "from scipy.stats import fisher_exact, chi2_contingency\n",
    "from scipy.stats.contingency import odds_ratio\n",
    "from scipy import stats\n",
    "from functools import reduce\n",
    "from sklearn.cluster import KMeans\n",
    "import statsmodels.api as sm\n",
    "from sklearn.preprocessing import PolynomialFeatures\n",
    "\n",
    "from sklearn.preprocessing import LabelEncoder\n",
    "from sklearn.preprocessing import StandardScaler\n",
    "from sklearn.linear_model import LinearRegression\n",
    "from sklearn.cluster import KMeans\n",
    "from sklearn.metrics import silhouette_score, davies_bouldin_score\n",
    "\n",
    "import sys\n",
    "sys.path.append(\"../src\")\n",
    "import utils.parsing as utpa\n",
    "import utils.plotting as utpl\n",
    "\n",
    "# plotting\n",
    "import os\n",
    "import pandas as pd\n",
    "import seaborn as sns\n",
    "import matplotlib\n",
    "import matplotlib.pyplot as plt\n",
    "from matplotlib.ticker import MultipleLocator\n",
    "import matplotlib.patches as mpatches\n",
    "matplotlib.rcParams['pdf.fonttype'] = 42\n",
    "matplotlib.rcParams['ps.fonttype'] = 42\n",
    "matplotlib.rcParams['font.sans-serif'] = \"Arial\" # missing fonts:: https://alexanderlabwhoi.github.io/post/2021-03-missingfont/\n",
    "# Then, \"ALWAYS use sans-serif fonts\"\n",
    "matplotlib.rcParams['font.family'] = \"sans-serif\"\n",
    "matplotlib.rcParams.update({'font.size': 14, 'axes.linewidth': 2, 'xtick.major.width': 1.5, 'xtick.major.size': 7, 'ytick.major.width': 1.5, 'ytick.major.size': 7})\n",
    "from matplotlib.backends.backend_pdf import PdfPages\n",
    "import forestplot as fp\n",
    "import upsetplot\n",
    "\n",
    "from scipy.stats import ttest_ind"
   ]
  },
  {
   "cell_type": "code",
   "execution_count": 2,
   "metadata": {},
   "outputs": [],
   "source": [
    "def get_scaled_bmi(df, categorical_cols, numerical_cols, scaled_numerical_cols):\n",
    "    # define encoders\n",
    "    en = LabelEncoder()\n",
    "    scaler = StandardScaler()\n",
    "    # select the categorical and numerical columns\n",
    "    # transform the categorical columns to integer values\n",
    "    for cat_col in categorical_cols:\n",
    "        df[cat_col] = en.fit_transform(df[cat_col])\n",
    "    # scale the numerical columns\n",
    "    df[numerical_cols] = scaler.fit_transform(df.loc[:, numerical_cols])\n",
    "    # scale bmi separately\n",
    "    df[\"bmi_scaled\"] = scaler.fit_transform(df.loc[:, [\"bmi\"]])\n",
    "    # Create the target variable (bmi_residuals) using linear regression\n",
    "    X = df.loc[:, categorical_cols + numerical_cols + scaled_numerical_cols]\n",
    "    y = df.loc[:, 'bmi_scaled']\n",
    "    model = LinearRegression()\n",
    "    model.fit(X, y)\n",
    "    # save the residuals for bmi\n",
    "    df['bmi_residuals'] = y - model.predict(X)\n",
    "    return df\n",
    "\n",
    "\n",
    "def create_bmi_res_prs_decile_data(phenotype_df, all_combo_samples):\n",
    "    categorical_cols = [\"genetic_sex\"]\n",
    "    numerical_cols = [\"age\"] + [f\"genetic_pca{i}\" for i in range(1, 40)]\n",
    "    scaled_numerical_cols = []#[\"bmi_prs\"]\n",
    "\n",
    "    phenotype_df = get_scaled_bmi(phenotype_df, categorical_cols, numerical_cols, scaled_numerical_cols)\n",
    "    phenotype_df[\"bmi_res_decile\"] = pd.qcut(phenotype_df.bmi_residuals, q=10)\n",
    "    phenotype_df[\"bmi_res_decile_num\"] = pd.qcut(phenotype_df.bmi_residuals, q=10, labels=False)\n",
    "    phenotype_df[\"bmi_prs_decile\"] = pd.qcut(phenotype_df.bmi_prs, q=10)\n",
    "    phenotype_df[\"bmi_prs_decile_num\"] = pd.qcut(phenotype_df.bmi_prs, q=10, labels=False)\n",
    "    phenotype_df[\"carrier\"] = phenotype_df.sample_names.isin(all_combo_samples)\n",
    "    phenotype_df[\"bmi_res_categories\"] = phenotype_df.bmi_res_decile_num.map({\n",
    "        0: \"underweight\", \n",
    "        1:\"normal\", 2:\"normal\", \n",
    "        3:\"overweight\", 4:\"overweight\", 5:\"overweight\", 6:\"overweight\", 7:\"overweight\",\n",
    "        8:\"obese\", 9:\"severe obesity\"\n",
    "        })\n",
    "    phenotype_df[\"bmi_prs_categories\"] = phenotype_df.bmi_prs_decile_num.map({\n",
    "        0: \"lowest\", \n",
    "        1:\"middle\", 2:\"middle\", \n",
    "        3:\"middle\", 4:\"middle\", 5:\"middle\", 6:\"middle\", 7:\"middle\",\n",
    "        8:\"middle\", 9:\"highest\"\n",
    "        })\n",
    "    mean_bmi_dict = phenotype_df.groupby(\"bmi_res_categories\")[\"bmi\"].mean().to_dict()\n",
    "    return phenotype_df, mean_bmi_dict"
   ]
  },
  {
   "cell_type": "code",
   "execution_count": 3,
   "metadata": {},
   "outputs": [],
   "source": [
    "cohort_file = \"/data6/deepro/ukb_bmi/0_data_preparation_and_download/phenotype/data/bmi_processed/british/train_cohort_bmi.csv.gz\"\n",
    "combo_files = [\n",
    "    \"/data6/deepro/ukb_bmi/3_characterization/data/combo_info/british/discovery_combo2.csv\",\n",
    "    \"/data6/deepro/ukb_bmi/3_characterization/data/combo_info/british/discovery_combo3.csv\"\n",
    "]"
   ]
  },
  {
   "cell_type": "code",
   "execution_count": 4,
   "metadata": {},
   "outputs": [],
   "source": [
    "cohort_df = pd.read_csv(\n",
    "    cohort_file, \n",
    "    usecols=[\"sample_names\", \"genetic_sex\", \"age\"] + [f\"genetic_pca{i}\" for i in range(1, 40)] + [\"bmi_prs\", \"bmi\"])\n",
    "cohort_df[\"sample_names\"] = cohort_df.sample_names.astype(str)\n",
    "combo_genes, combo_samples = utpa.get_combo_info_from_files(combo_files)\n",
    "\n",
    "phenotype_samples_df, mean_bmi_dict = create_bmi_res_prs_decile_data(cohort_df, combo_samples)"
   ]
  },
  {
   "cell_type": "markdown",
   "metadata": {},
   "source": [
    "# Comorbidities enriched in obese individuals"
   ]
  },
  {
   "cell_type": "code",
   "execution_count": 5,
   "metadata": {},
   "outputs": [],
   "source": [
    "icd_raw_dir = \"/data6/deepro/ukb_bmi/0_data_preparation_and_download/icd_codes/data/icd_raw\"\n",
    "icd_codes_file = \"/data6/deepro/ukb_bmi/0_data_preparation_and_download/icd_codes/data/icd_tree/coding19.tsv\"\n",
    "hes_info_file = \"/data6/deepro/ukb_bmi/0_data_preparation_and_download/icd_codes/data/hes_info/hes_info.csv.gz\""
   ]
  },
  {
   "cell_type": "code",
   "execution_count": 6,
   "metadata": {},
   "outputs": [
    {
     "name": "stdout",
     "output_type": "stream",
     "text": [
      "Samples in cohort 427639\n",
      "Samples with icd 383253\n",
      "Samples with combo 10193\n",
      "Samples with combo and icd 9269\n"
     ]
    }
   ],
   "source": [
    "icd_samples_df = utpa.create_icd_samples_file(icd_raw_dir)\n",
    "icd_codes_df = pd.read_csv(icd_codes_file, usecols=[\"coding\", \"meaning\", \"node_id\", \"parent_id\"], sep=\"\\t\")\n",
    "icd_codes_df[\"coding\"] = icd_codes_df.coding.str.replace(\" \", \"\")\n",
    "pheno_tree, root_pheno, c2nodeid_dict = utpa.create_tree(icd_codes_df, icd_samples_df)\n",
    "hes_info_df = pd.read_csv(hes_info_file, dtype={\"sample_names\": str, \"hes_info\": float})\n",
    "all_icd_samples = set(hes_info_df.loc[hes_info_df.hes_info>0, \"sample_names\"].values)\n",
    "print(f\"Samples in cohort {len(phenotype_samples_df)}\")\n",
    "phenotype_samples_df = phenotype_samples_df.loc[phenotype_samples_df.sample_names.isin(all_icd_samples)]\n",
    "print(f\"Samples with icd {len(phenotype_samples_df)}\")\n",
    "print(f\"Samples with combo {len(combo_samples)}\")\n",
    "combo_samples = combo_samples.intersection(all_icd_samples)\n",
    "print(f\"Samples with combo and icd {len(combo_samples)}\")"
   ]
  },
  {
   "cell_type": "code",
   "execution_count": 18,
   "metadata": {},
   "outputs": [],
   "source": [
    "def get_table_icd(samples_of_interest, nonsamples_of_interest, comorbid_samples, field, shortlist):\n",
    "    table = [\n",
    "        [len(samples_of_interest.intersection(comorbid_samples)), len(samples_of_interest.difference(comorbid_samples))],\n",
    "        [len(nonsamples_of_interest.intersection(comorbid_samples)), len(nonsamples_of_interest.difference(comorbid_samples))]\n",
    "    ]\n",
    "    df = pd.DataFrame(table, columns=[f\"{field}\", f\"No {field}\"], index=shortlist)\n",
    "    return df\n",
    "\n",
    "def get_icd_enrich(samples_of_interest, nonsamples_of_interest, all_cohort_samples, pheno_tree, icd_codes_df, c2nodeid_dict, shortlist, mode=\"\"):\n",
    "    icd_data = []\n",
    "\n",
    "    for icdc in icd_codes_df.coding.values:\n",
    "        icdc_node = pheno_tree.node_dict[c2nodeid_dict[icdc]]\n",
    "        comorbid_samples = icdc_node.get_samples()\n",
    "        comorbid_samples = all_cohort_samples.intersection(comorbid_samples)\n",
    "        df = get_table_icd(samples_of_interest, nonsamples_of_interest, comorbid_samples, icdc_node.meaning, shortlist)\n",
    "        res = fisher_exact(df)\n",
    "        if mode==\"lazy\":\n",
    "            or_study = res.statistic\n",
    "            cil, cih = np.nan, np.nan        \n",
    "        else:\n",
    "            or_study = odds_ratio(df)\n",
    "            cil, cih = or_study.confidence_interval(confidence_level=0.95)\n",
    "        icdc_node_data = (icdc, icdc_node.meaning, df.iloc[0,0], df.iloc[0,1], df.iloc[1,0], df.iloc[1,1], or_study.statistic, res.pvalue, cil, cih)\n",
    "        icd_data.append(icdc_node_data)\n",
    "    \n",
    "    icd_df = pd.DataFrame(icd_data, columns=[\"icd_code\", \"icd_meaning\", f\"{shortlist[0]}_comorbid\", f\"{shortlist[0]}_noncomorbid\", f\"{shortlist[1]}_comorbid\", f\"{shortlist[1]}_noncomorbid\", \"odds_ratio\", \"p_value\", \"ci_low\", \"ci_high\"])\n",
    "    icd_df[\"FDR\"] = stats.false_discovery_control(icd_df.p_value)\n",
    "    return icd_df\n",
    "\n",
    "def get_level(icd_node, level):\n",
    "    if icd_node.parent:\n",
    "        return get_level(icd_node.parent, level+1)\n",
    "    else:\n",
    "        return level\n",
    "\n",
    "def add_more_info(pheno_tree, code, odds, fdr, c2nodeid_dict):\n",
    "    icd_node = pheno_tree.node_dict[c2nodeid_dict[code]]\n",
    "    icd_node.fdr = fdr\n",
    "    icd_node.odds = odds\n",
    "    icd_node.level = get_level(icd_node, 0)\n",
    "    return\n",
    "\n",
    "def filter_icd_enrich(icd_df, pheno_tree, root_pheno, c2nodeid_dict):\n",
    "    for num, row in icd_df.iterrows():\n",
    "        code, odds, fdr = row.icd_code, row.odds_ratio, row.FDR\n",
    "        add_more_info(pheno_tree, code, odds, fdr, c2nodeid_dict)\n",
    "    root_pheno.fdr=1\n",
    "    root_pheno.level=0\n",
    "    root_pheno.odds=1\n",
    "\n",
    "    df_columns = [\"level\", \"node_id\", \"num_samples\", \"parent\", \"meaning\", \"coding\", \"fdr\", \"odds_ratio\"]\n",
    "    df_data_dict = {c:[] for c in df_columns}\n",
    "\n",
    "    def save_data(curr_node):\n",
    "        df_data_dict[\"level\"].append(curr_node.level)\n",
    "        df_data_dict[\"node_id\"].append(curr_node.node)\n",
    "        df_data_dict[\"num_samples\"].append(len(curr_node.samples))\n",
    "        if curr_node.parent:\n",
    "            df_data_dict[\"parent\"].append(curr_node.parent.meaning)\n",
    "        else:\n",
    "            df_data_dict[\"parent\"].append(\"\")\n",
    "        df_data_dict[\"meaning\"].append(curr_node.meaning)\n",
    "        df_data_dict[\"coding\"].append(curr_node.code)\n",
    "        df_data_dict[\"fdr\"].append(curr_node.fdr)\n",
    "        df_data_dict[\"odds_ratio\"].append(curr_node.odds)\n",
    "        return\n",
    "\n",
    "    def add_all_parents(curr_node, saved_nodes):\n",
    "        if curr_node.parent:\n",
    "            if curr_node.parent not in saved_nodes:\n",
    "                save_data(curr_node.parent)\n",
    "                saved_nodes.add(curr_node.parent)\n",
    "                return add_all_parents(curr_node.parent, saved_nodes)\n",
    "        return saved_nodes\n",
    "    \n",
    "    saved_nodes = set()\n",
    "    for i,row in icd_df.loc[icd_df.FDR<0.05].iterrows():\n",
    "        code = row.icd_code\n",
    "        icd_node = pheno_tree.node_dict[c2nodeid_dict[code]]\n",
    "        if icd_node not in saved_nodes:\n",
    "            save_data(icd_node)\n",
    "            saved_nodes.add(icd_node)\n",
    "            saved_nodes.update(add_all_parents(icd_node, saved_nodes))\n",
    "\n",
    "    # filter the phenotypes\n",
    "    max_level=2\n",
    "    df_data = pd.DataFrame(df_data_dict)\n",
    "    df_data = df_data.loc[(df_data.level>0)&(df_data.level<max_level+1)].replace(\"Root Phenotype\", \"\")\n",
    "    df_data = df_data.loc[~((df_data.level==max_level)&(df_data.fdr>0.05))]\n",
    "    df_data = df_data.loc[~(df_data.odds_ratio<1)]\n",
    "    df_data[\"fdr_rank\"] = df_data.fdr.rank()\n",
    "    df_data[\"fdr_rank_inv\"] = df_data.fdr_rank.apply(lambda x: 1/x)\n",
    "    return df_data"
   ]
  },
  {
   "cell_type": "code",
   "execution_count": 19,
   "metadata": {},
   "outputs": [],
   "source": [
    "obese_samples = set(phenotype_samples_df.loc[(phenotype_samples_df.bmi_res_categories==\"severe obesity\")|(phenotype_samples_df.bmi_res_categories==\"obese\"), \"sample_names\"].values)\n",
    "notobese_samples = set(phenotype_samples_df.loc[(phenotype_samples_df.bmi_res_categories!=\"severe obesity\")&(phenotype_samples_df.bmi_res_categories!=\"obese\"), \"sample_names\"].values)\n",
    "all_samples = set(phenotype_samples_df.sample_names.values)"
   ]
  },
  {
   "cell_type": "code",
   "execution_count": 20,
   "metadata": {},
   "outputs": [
    {
     "data": {
      "text/plain": [
       "(383253, 79502, 303751, 383253)"
      ]
     },
     "execution_count": 20,
     "metadata": {},
     "output_type": "execute_result"
    }
   ],
   "source": [
    "len(all_samples), len(obese_samples), len(notobese_samples), len(obese_samples)+len(notobese_samples)"
   ]
  },
  {
   "cell_type": "code",
   "execution_count": 21,
   "metadata": {},
   "outputs": [],
   "source": [
    "icd_enrich_file = \"/data6/deepro/ukb_bmi/3_characterization/data/pilot/obesity_icd_enrich.csv\"\n",
    "if not os.path.exists(icd_enrich_file):\n",
    "    obese_samples_enrich_df = get_icd_enrich(obese_samples, notobese_samples, all_samples, pheno_tree, icd_codes_df, c2nodeid_dict, [\"obese\", \"not obese\"])\n",
    "    obese_samples_enrich_df.to_csv(icd_enrich_file)\n",
    "else:\n",
    "    obese_samples_enrich_df = pd.read_csv(icd_enrich_file)"
   ]
  },
  {
   "cell_type": "code",
   "execution_count": 22,
   "metadata": {},
   "outputs": [],
   "source": [
    "obesity_related_comorbid_df = filter_icd_enrich(obese_samples_enrich_df, pheno_tree, root_pheno, c2nodeid_dict)\n",
    "obesity_related_comorbid_df = obesity_related_comorbid_df.loc[obesity_related_comorbid_df.level==2]\n",
    "obesity_related_comorbid_df = obesity_related_comorbid_df.loc[~obesity_related_comorbid_df.meaning.str.lower().str.contains(\"obesity\")] \n",
    "# eliminate external factors from ICD file: https://biobank.ndph.ox.ac.uk/ukb/field.cgi?id=40001\n",
    "obesity_related_comorbid_df = obesity_related_comorbid_df.loc[~obesity_related_comorbid_df.parent.str.startswith((\"Chapter XV\", \"Chapter XX\", \"Chapter XXI\"))]"
   ]
  },
  {
   "cell_type": "code",
   "execution_count": 23,
   "metadata": {},
   "outputs": [
    {
     "data": {
      "text/plain": [
       "121"
      ]
     },
     "execution_count": 23,
     "metadata": {},
     "output_type": "execute_result"
    }
   ],
   "source": [
    "len(obesity_related_comorbid_df)"
   ]
  },
  {
   "cell_type": "code",
   "execution_count": null,
   "metadata": {},
   "outputs": [],
   "source": []
  },
  {
   "cell_type": "markdown",
   "metadata": {},
   "source": [
    "# Cluster by icd comorbidities"
   ]
  },
  {
   "cell_type": "code",
   "execution_count": 25,
   "metadata": {},
   "outputs": [],
   "source": [
    "def create_icd_comorbidity_features(icd_codes_of_interest, samples_of_interest, pheno_tree, c2nodeid_dict):\n",
    "    icd_samples_data_dict = {\"icd\": [], \"samples\": []}\n",
    "    for icd_code in icd_codes_of_interest:\n",
    "        icd_node = pheno_tree.node_dict[c2nodeid_dict[icd_code]]\n",
    "        comorbid_cohort_samples = samples_of_interest.intersection(icd_node.samples)\n",
    "        icd_samples_data_dict[\"icd\"].append(icd_node.code)\n",
    "        icd_samples_data_dict[\"samples\"].append(comorbid_cohort_samples)\n",
    "\n",
    "    icd_samples_df = pd.DataFrame(icd_samples_data_dict)\n",
    "    icd_samples_df = icd_samples_df.explode(\"samples\")\n",
    "    icd_samples_df = pd.crosstab(icd_samples_df.samples, icd_samples_df.icd)\n",
    "    # ensure all samples are present\n",
    "    existing_samples = set(icd_samples_df.index)\n",
    "    no_comorbidity_samples = samples_of_interest.difference(existing_samples)\n",
    "    if len(no_comorbidity_samples)>0:\n",
    "        df_data = np.zeros((len(no_comorbidity_samples), icd_samples_df.shape[1]))\n",
    "        no_comorbid_df = pd.DataFrame(df_data, index=list(no_comorbidity_samples), columns=icd_samples_df.columns)\n",
    "        no_comorbid_df.index.name = icd_samples_df.index.name\n",
    "        icd_samples_df = pd.concat((icd_samples_df, no_comorbid_df))\n",
    "    return icd_samples_df"
   ]
  },
  {
   "cell_type": "code",
   "execution_count": 26,
   "metadata": {},
   "outputs": [],
   "source": [
    "# creating a feature file for selected icd comorbidities\n",
    "icd_codes_of_interest = set(obesity_related_comorbid_df.coding)\n",
    "samples_of_interest = set(phenotype_samples_df.sample_names.values)\n",
    "icd_features_df = create_icd_comorbidity_features(icd_codes_of_interest, samples_of_interest, pheno_tree, c2nodeid_dict)"
   ]
  },
  {
   "cell_type": "code",
   "execution_count": 70,
   "metadata": {},
   "outputs": [],
   "source": [
    "def divide_into_nocomorbidity(features_df):\n",
    "    no_comorbidity_df = features_df.loc[features_df.sum(axis=1)==0]\n",
    "    comorbidity_df = features_df.loc[features_df.sum(axis=1)>0]\n",
    "    return comorbidity_df, no_comorbidity_df\n",
    "\n",
    "def find_the_best_cluster(X, nclusts=[2,3,4,5,6,7,8,9,10,15,25,50]):\n",
    "    ds_scores = []\n",
    "    for nclust in nclusts:\n",
    "        kmeans = KMeans(n_clusters=nclust, random_state=42, n_init=\"auto\")\n",
    "        y = kmeans.fit_predict(X)\n",
    "        dss = davies_bouldin_score(X, y)\n",
    "        ds_scores.append(dss)\n",
    "    ds_scores = np.array(ds_scores)\n",
    "    print(ds_scores)\n",
    "    return nclusts[np.argmin(ds_scores)]\n",
    "\n",
    "# def cluster_by_comorbidity(train_features_df, test_features_df):\n",
    "#     train_comorbidity_df, train_no_comorbidity_df = divide_into_nocomorbidity(train_features_df)\n",
    "#     test_comorbidity_df, test_no_comorbidity_df = divide_into_nocomorbidity(test_features_df)\n",
    "#     train_no_comorbidity_df[\"labels\"] = 0\n",
    "#     test_no_comorbidity_df[\"labels\"] = 0\n",
    "#     no_comorbidity_df = pd.concat((train_no_comorbidity_df, test_no_comorbidity_df))\n",
    "\n",
    "#     X_train, X_test = train_comorbidity_df.values, test_comorbidity_df.values\n",
    "#     nclust = find_the_best_cluster(X_train)\n",
    "#     kmeans = KMeans(n_clusters=nclust, random_state=42, n_init=\"auto\")\n",
    "#     y_train = kmeans.fit_predict(X_train)\n",
    "#     y_test = kmeans.fit_predict(X_test)\n",
    "    \n",
    "#     train_comorbidity_df[\"labels\"] = y_train\n",
    "#     test_comorbidity_df[\"labels\"] = y_test\n",
    "#     comorbidity_df = pd.concat((train_comorbidity_df, test_comorbidity_df))\n",
    "#     comorbidity_df[\"labels\"] = comorbidity_df.labels.replace(0, 2)\n",
    "#     icd_df = pd.concat((comorbidity_df, no_comorbidity_df))\n",
    "#     return icd_df.labels\n",
    "\n",
    "def cluster_by_comorbidity_diff(features_df):\n",
    "    comorbidity_df, no_comorbidity_df = divide_into_nocomorbidity(features_df)\n",
    "    no_comorbidity_df[\"labels\"] = 0\n",
    "\n",
    "    X = comorbidity_df.values\n",
    "    nclust = 2 #find_the_best_cluster(X)\n",
    "    kmeans = KMeans(n_clusters=nclust, random_state=42, n_init=\"auto\")\n",
    "    y = kmeans.fit_predict(X)\n",
    "    \n",
    "    comorbidity_df[\"labels\"] = y\n",
    "    comorbidity_df[\"labels\"] = comorbidity_df.labels.replace(0, nclust)\n",
    "    icd_df = pd.concat((comorbidity_df, no_comorbidity_df))\n",
    "    return icd_df.labels\n",
    "\n",
    "def prepare_polynomial_features(data_df, features, y_var, include_bias):\n",
    "    feature_df = data_df.loc[:, features].dropna()\n",
    "    X = feature_df.values\n",
    "    poly = PolynomialFeatures(len(features), interaction_only=True, include_bias=include_bias)\n",
    "    X_poly = poly.fit_transform(X)\n",
    "    y = data_df.loc[data_df.index.isin(feature_df.index), y_var].values.reshape(-1,1)\n",
    "    return X_poly,y, poly.get_feature_names_out(input_features=features)[1:]\n",
    "\n",
    "def train_model_sm(X, y):\n",
    "    model = sm.OLS(y, X)\n",
    "    results = model.fit()\n",
    "    r2 = results.rsquared\n",
    "    coefs = results.params[1:]\n",
    "    conf_ints = results.conf_int()[1:]\n",
    "    p_vals = results.pvalues[1:]\n",
    "    return r2, coefs, conf_ints, p_vals"
   ]
  },
  {
   "cell_type": "code",
   "execution_count": 71,
   "metadata": {},
   "outputs": [],
   "source": [
    "combo_features_df = icd_features_df.loc[icd_features_df.index.isin(combo_samples)]\n",
    "noncombo_samples = all_samples.difference(combo_samples)\n",
    "noncombo_features_df = icd_features_df.loc[icd_features_df.index.isin(noncombo_samples)]\n",
    "\n",
    "\n",
    "# comorbidity_labels = cluster_by_comorbidity(noncombo_features_df, combo_features_df)\n",
    "comorbidity_labels = cluster_by_comorbidity_diff(icd_features_df)"
   ]
  },
  {
   "cell_type": "code",
   "execution_count": 72,
   "metadata": {},
   "outputs": [],
   "source": [
    "def get_average_comorbidity_per_label(icd_features_df, comorbidity_labels):\n",
    "    ncomorbidity_df = icd_features_df.sum(axis=1).to_frame()\n",
    "    ncomorbidity_df.columns = [\"ncomorbidity\"]\n",
    "    ncomorbidity_df = ncomorbidity_df.merge(comorbidity_labels, left_index=True, right_index=True).groupby(\"labels\")[\"ncomorbidity\"].mean()\n",
    "    avg_comorbidities_per_label = ncomorbidity_df.to_dict()\n",
    "    return avg_comorbidities_per_label\n",
    "\n",
    "def get_specific_comorbidity_enrichment_per_label(icd_features_df, comorbidity_labels):\n",
    "    comorbidity_df, no_comorbidity_df = divide_into_nocomorbidity(icd_features_df)\n",
    "    icd_data = []\n",
    "    for icd_code in comorbidity_df.columns:\n",
    "        df = comorbidity_df.loc[:, icd_code].to_frame().merge(comorbidity_labels, left_index=True, right_index=True).groupby(\"labels\")[icd_code].value_counts().reset_index().pivot_table(index=icd_code, columns=\"labels\", values=\"count\")\n",
    "        df = df.astype(int)\n",
    "        assert df.index[0]==0\n",
    "        res = fisher_exact(df)\n",
    "        icdc_node_data = (icd_code, df.iloc[0,0], df.iloc[0,1], df.iloc[1,0], df.iloc[1,1], res.statistic, res.pvalue)\n",
    "        icd_data.append(icdc_node_data)\n",
    "    icd_df = pd.DataFrame(icd_data, columns=[\"icd_code\", f\"nocomorbidity_label1\", f\"nocomorbidity_label2\", f\"comorbidity_label1\", f\"comorbidity_label2\", \"odds_ratio\", \"p_value\"])\n",
    "    return icd_df"
   ]
  },
  {
   "cell_type": "code",
   "execution_count": 73,
   "metadata": {},
   "outputs": [],
   "source": [
    "avg_comorbidity_per_group = get_average_comorbidity_per_label(icd_features_df, comorbidity_labels)"
   ]
  },
  {
   "cell_type": "code",
   "execution_count": 74,
   "metadata": {},
   "outputs": [
    {
     "data": {
      "text/plain": [
       "{0: 0.0, 1: 3.8604604792455928, 2: 13.175010359729265}"
      ]
     },
     "execution_count": 74,
     "metadata": {},
     "output_type": "execute_result"
    }
   ],
   "source": [
    "avg_comorbidity_per_group"
   ]
  },
  {
   "cell_type": "code",
   "execution_count": 75,
   "metadata": {},
   "outputs": [],
   "source": [
    "comorbidity_labels = comorbidity_labels.map({0: \"No\", 1: \"Medium\", 2: \"High\"}).to_frame()\n",
    "comorbidity_labels.columns = [\"Comorbidity\"]"
   ]
  },
  {
   "cell_type": "code",
   "execution_count": 76,
   "metadata": {},
   "outputs": [],
   "source": [
    "cohort_df = phenotype_samples_df.loc[:, [\"sample_names\", \"bmi\", \"bmi_prs\", \"bmi_residuals\", \"carrier\", \"bmi_res_categories\", \"bmi_prs_categories\"]]"
   ]
  },
  {
   "cell_type": "code",
   "execution_count": 77,
   "metadata": {},
   "outputs": [],
   "source": [
    "cohort_comorbid_df = cohort_df.merge(comorbidity_labels, left_on=\"sample_names\", right_index=True)"
   ]
  },
  {
   "cell_type": "code",
   "execution_count": 78,
   "metadata": {},
   "outputs": [
    {
     "data": {
      "text/plain": [
       "34.054307670614776"
      ]
     },
     "execution_count": 78,
     "metadata": {},
     "output_type": "execute_result"
    }
   ],
   "source": [
    "cohort_comorbid_df.loc[(cohort_comorbid_df.carrier==True)&(cohort_comorbid_df.Comorbidity==\"Medium\")&(cohort_comorbid_df.bmi_prs_categories==\"highest\"),\"bmi\"].mean()"
   ]
  },
  {
   "cell_type": "code",
   "execution_count": 79,
   "metadata": {},
   "outputs": [
    {
     "data": {
      "text/plain": [
       "36.12351118773946"
      ]
     },
     "execution_count": 79,
     "metadata": {},
     "output_type": "execute_result"
    }
   ],
   "source": [
    "cohort_comorbid_df.loc[(cohort_comorbid_df.carrier==True)&(cohort_comorbid_df.Comorbidity==\"High\")&(cohort_comorbid_df.bmi_prs_categories==\"highest\"),\"bmi\"].mean()"
   ]
  },
  {
   "cell_type": "code",
   "execution_count": 80,
   "metadata": {},
   "outputs": [],
   "source": [
    "def create_variate_interaction_plot(df, x=\"Comorbidity\", y=\"bmi\", order=[\"No\", \"Medium\", \"High\"], hue=\"bmi_prs_categories\", hue_order=[\"lowest\", \"middle\", \"highest\"], height=6):\n",
    "    g = sns.catplot(\n",
    "        data=df, x=x, y=y, hue=hue, order=order, hue_order=hue_order, col=\"carrier\",\n",
    "        capsize=.2, palette=\"YlGnBu_d\", errorbar=\"se\",\n",
    "        kind=\"point\", height=height, aspect=.75,\n",
    "    )\n",
    "    for ax in g.axes.flatten():\n",
    "        ax.grid()\n",
    "    return g.figure"
   ]
  },
  {
   "cell_type": "code",
   "execution_count": 81,
   "metadata": {},
   "outputs": [
    {
     "data": {
      "image/png": "[encoded data removed]",
      "text/plain": [
       "<Figure size 743.875x432 with 2 Axes>"
      ]
     },
     "metadata": {
      "needs_background": "light"
     },
     "output_type": "display_data"
    }
   ],
   "source": [
    "fig = create_variate_interaction_plot(cohort_comorbid_df)"
   ]
  },
  {
   "cell_type": "code",
   "execution_count": 82,
   "metadata": {},
   "outputs": [],
   "source": [
    "def create_variate_interaction_model_plot(df, figsize=(6,3)):\n",
    "    fig = fp.forestplot(\n",
    "        df,  # the dataframe with results data\n",
    "        estimate=\"coefs\",  # col containing estimated effect size \n",
    "        ll=\"ci_low\", hl=\"ci_high\",\n",
    "        pval=\"p_value\",\n",
    "        decimal_precision=3,\n",
    "        varlabel=\"variables\",  # column containing variable label\n",
    "        color_alt_rows=True,\n",
    "        table=True,\n",
    "        annote=[\"est_ci\"],\n",
    "        annoteheaders=[\"Est. (95% Conf. Int.)\"],\n",
    "        # group ordering\n",
    "        sort=True, # sort in ascending order (sorts within group if group is specified)\n",
    "        ylabel=\"Est. (95% Conf. Int.)\",  # y-label title\n",
    "        xlabel=\"Model Coefficients\",  # x-label title\n",
    "        xticks=[-0.5, 0, 0.5, 1, 5],\n",
    "        figsize=figsize,\n",
    "        **{\"marker\": \"D\",  # set maker symbol as diamond\n",
    "            \"markersize\": 75,  # adjust marker size\n",
    "            \"xlinestyle\": (0, (10, 5)),  # long dash for x-reference line \n",
    "            \"xlinecolor\": \"k\",  # gray color for x-reference line\n",
    "            \"xline\": 0,\n",
    "            \"xlinewidth\": 1,\n",
    "            \"xtick_size\": 12,  # adjust x-ticker fontsize\n",
    "            \"lw\": 3,\n",
    "            \"thresholds\": (0.001, 0.01, 0.05),\n",
    "            }       \n",
    "        )\n",
    "    return fig.figure\n",
    "\n",
    "def prepare_polynomial_features(data_df, features, y_var, include_bias):\n",
    "    feature_df = data_df.loc[:, features].dropna()\n",
    "    feature_df[\"Comorbidity\"] = feature_df.Comorbidity.map({\"No\":0, \"Medium\":1, \"High\":2})\n",
    "    X = feature_df.values\n",
    "    poly = PolynomialFeatures(len(features), interaction_only=True, include_bias=include_bias)\n",
    "    X_poly = poly.fit_transform(X)\n",
    "    y = data_df.loc[data_df.index.isin(feature_df.index), y_var].values.reshape(-1,1)\n",
    "    return X_poly,y, poly.get_feature_names_out(input_features=features)[1:]"
   ]
  },
  {
   "cell_type": "code",
   "execution_count": 83,
   "metadata": {},
   "outputs": [
    {
     "data": {
      "image/png": "[encoded data removed]",
      "text/plain": [
       "<Figure size 432x216 with 1 Axes>"
      ]
     },
     "metadata": {},
     "output_type": "display_data"
    }
   ],
   "source": [
    "X_poly, y, poly_features = prepare_polynomial_features(cohort_comorbid_df, [\"carrier\", \"bmi_prs\", \"Comorbidity\"], \"bmi\", True)\n",
    "r2, coefs, conf_ints, p_vals = train_model_sm(X_poly, y)\n",
    "df_data = np.concatenate([poly_features.reshape(-1,1), coefs.reshape(-1,1), conf_ints, p_vals.reshape(-1,1)], axis=1)\n",
    "coef_df = pd.DataFrame(df_data, columns=[\"variables\", \"coefs\", \"ci_low\", \"ci_high\", \"p_value\"])\n",
    "coef_df[\"variables\"] = coef_df.variables.str.replace(\" \", \"*\")\n",
    "fig = create_variate_interaction_model_plot(coef_df)"
   ]
  },
  {
   "cell_type": "code",
   "execution_count": null,
   "metadata": {},
   "outputs": [],
   "source": []
  },
  {
   "cell_type": "markdown",
   "metadata": {},
   "source": []
  }
 ],
 "metadata": {
  "kernelspec": {
   "display_name": "Python 3",
   "language": "python",
   "name": "python3"
  },
  "language_info": {
   "codemirror_mode": {
    "name": "ipython",
    "version": 3
   },
   "file_extension": ".py",
   "mimetype": "text/x-python",
   "name": "python",
   "nbconvert_exporter": "python",
   "pygments_lexer": "ipython3",
   "version": "3.11.4"
  }
 },
 "nbformat": 4,
 "nbformat_minor": 2
}
