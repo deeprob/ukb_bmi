{
 "cells": [
  {
   "cell_type": "code",
   "execution_count": 1,
   "metadata": {},
   "outputs": [],
   "source": [
    "import numpy as np\n",
    "import pandas as pd\n",
    "\n",
    "# plotting modules\n",
    "import seaborn as sns\n",
    "from matplotlib.ticker import MultipleLocator\n",
    "import matplotlib\n",
    "import matplotlib.pyplot as plt\n",
    "matplotlib.rcParams['pdf.fonttype'] = 42\n",
    "matplotlib.rcParams['ps.fonttype'] = 42\n",
    "matplotlib.rcParams['font.sans-serif'] = \"Arial\" # missing fonts:: https://alexanderlabwhoi.github.io/post/2021-03-missingfont/\n",
    "# Then, \"ALWAYS use sans-serif fonts\"\n",
    "matplotlib.rcParams['font.family'] = \"sans-serif\"\n",
    "matplotlib.rcParams.update({'font.size': 14, 'axes.linewidth': 2, 'xtick.major.width': 1.5, 'xtick.major.size': 5, 'ytick.major.width': 1.5, 'ytick.major.size': 4})\n",
    "from matplotlib.backends.backend_pdf import PdfPages"
   ]
  },
  {
   "cell_type": "code",
   "execution_count": 2,
   "metadata": {},
   "outputs": [],
   "source": [
    "def save_pdf(save_file, fig):\n",
    "    pdf = PdfPages(save_file)\n",
    "    pdf.savefig(fig, bbox_inches='tight')\n",
    "    pdf.close()\n",
    "    return"
   ]
  },
  {
   "cell_type": "code",
   "execution_count": 3,
   "metadata": {},
   "outputs": [],
   "source": [
    "bmi_res_file = \"/data5/deepro/ukbiobank/papers/bmi_project/2_prepare_data_for_analysis/white_british/data/samples_with_residuals.csv\""
   ]
  },
  {
   "cell_type": "code",
   "execution_count": 4,
   "metadata": {},
   "outputs": [],
   "source": [
    "bmi_res_df = pd.read_csv(bmi_res_file)"
   ]
  },
  {
   "cell_type": "code",
   "execution_count": 5,
   "metadata": {},
   "outputs": [],
   "source": [
    "decile_cut = pd.qcut(bmi_res_df['bmi_residuals'], 10, labels = False, retbins=True)"
   ]
  },
  {
   "cell_type": "code",
   "execution_count": 6,
   "metadata": {},
   "outputs": [],
   "source": [
    "bmi_res_df['Decile_rank'] = decile_cut[0]"
   ]
  },
  {
   "cell_type": "code",
   "execution_count": 7,
   "metadata": {},
   "outputs": [
    {
     "data": {
      "text/plain": [
       "('#ab162a', '#faeae1', '#1b1b1b')"
      ]
     },
     "execution_count": 7,
     "metadata": {},
     "output_type": "execute_result"
    }
   ],
   "source": [
    "sns.color_palette(\"RdBu_r\", 10).as_hex()[9], sns.color_palette(\"RdBu_r\", 10).as_hex()[5], sns.color_palette(\"Greys\", 10).as_hex()[9]"
   ]
  },
  {
   "cell_type": "code",
   "execution_count": 8,
   "metadata": {},
   "outputs": [],
   "source": [
    "color_maps = [\"#1e61a5\", \"#1e61a5\", \"#1e61a5\", \"#f4f4f4\", \"#f4f4f4\", \"#f4f4f4\", \"#f4f4f4\", \"#f4f4f4\", \"#ab162a\", \"#ab162a\"]"
   ]
  },
  {
   "cell_type": "code",
   "execution_count": 9,
   "metadata": {},
   "outputs": [],
   "source": [
    "def get_nearest(array, value):\n",
    "    array = np.asarray(array)\n",
    "    idx = (np.abs(array - value)).argmin()\n",
    "    return array[idx]\n",
    "\n"
   ]
  },
  {
   "cell_type": "code",
   "execution_count": 10,
   "metadata": {},
   "outputs": [],
   "source": [
    "def get_hist_y(hist_dict, x_val):\n",
    "    return hist_dict[get_nearest(list(hist_dict.keys()), x_val)]\n",
    "\n",
    "def get_fill_vals(hist_dict, x_val, dir=\"greater\"):\n",
    "    nearest_x = get_nearest(list(hist_dict.keys()), x_val)\n",
    "    x_vals = []\n",
    "    y_vals = []\n",
    "    if dir == \"greater\":\n",
    "        for k in sorted(list(hist_dict.keys())):\n",
    "            if k>=nearest_x:\n",
    "                x_vals.append(k)\n",
    "                y_vals.append(hist_dict[k])\n",
    "    elif dir == \"lesser\":\n",
    "        for k in sorted(list(hist_dict.keys()), reverse=True):\n",
    "            if k<=nearest_x:\n",
    "                x_vals.append(k)\n",
    "                y_vals.append(hist_dict[k])\n",
    "    return x_vals, y_vals\n"
   ]
  },
  {
   "cell_type": "code",
   "execution_count": 11,
   "metadata": {},
   "outputs": [
    {
     "data": {
      "text/plain": [
       "array([-3.13667466, -1.08771622, -0.79704115, -0.57227947, -0.36439307,\n",
       "       -0.15458955,  0.0722213 ,  0.33924528,  0.69270513,  1.27940421,\n",
       "        8.85515068])"
      ]
     },
     "execution_count": 11,
     "metadata": {},
     "output_type": "execute_result"
    }
   ],
   "source": [
    "decile_cut[1]"
   ]
  },
  {
   "cell_type": "code",
   "execution_count": 12,
   "metadata": {},
   "outputs": [
    {
     "data": {
      "image/png": "[encoded data removed]",
      "text/plain": [
       "<Figure size 864x432 with 1 Axes>"
      ]
     },
     "metadata": {
      "needs_background": "light"
     },
     "output_type": "display_data"
    }
   ],
   "source": [
    "fig, ax = plt.subplots(1,1, figsize=(12, 6))\n",
    "sns_ax = sns.histplot(\n",
    "    data=bmi_res_df, x=\"bmi_residuals\", \n",
    "    stat=\"count\",# hue=\"Decile_rank\", multiple=\"stack\", palette=color_maps, \n",
    "    ax=ax, element=\"step\", bins=250, fill=False, color=\"k\",\n",
    "    )\n",
    "\n",
    "value_dict = dict(zip(*sns_ax.get_lines()[0].get_data()))\n",
    "\n",
    "\n",
    "ax.vlines([decile_cut[1][i] for i in range(1, len(decile_cut[1]) -1)] , 0,  [get_hist_y(value_dict, decile_cut[1][i]) for i in range(1, len(decile_cut[1]) - 1)], color=\"k\", linewidth=1., linestyles=\"solid\")\n",
    "# ax.vlines(decile_cut[1][-2], 0,  get_hist_y(value_dict, decile_cut[1][-2]), color=\"k\")\n",
    "\n",
    "greater_fillings_xval, greater_fillings_yval = get_fill_vals(value_dict, decile_cut[1][-3], dir=\"greater\")\n",
    "greater_fillings_xval[0] = decile_cut[1][-3]\n",
    "ax.fill_between(greater_fillings_xval, greater_fillings_yval, alpha=0.7, color=\"#1b1b1b\", step=\"post\")\n",
    "\n",
    "lesser_fillings_xval, lesser_fillings_yval = get_fill_vals(value_dict, decile_cut[1][3], dir=\"lesser\")\n",
    "lesser_fillings_xval[0] = decile_cut[1][3]\n",
    "ax.fill_between(lesser_fillings_xval, lesser_fillings_yval, alpha=0.7, color=\"#1b1b1b\", step=\"pre\")\n",
    "\n",
    "ax.set_ylim(0, 4000)\n",
    "ax.set_xlim(-3.5, 4)\n",
    "ax.set_xlabel(\"BMI residual deciles\")\n",
    "xticklocs = [(decile_cut[1][i] + decile_cut[1][i+1])/2 for i in range(len(decile_cut[1])-1)]\n",
    "xticklocs[0] = -1.5\n",
    "xticklocs[-1] = 2\n",
    "xticklabels = [\"-\".join(list(map(lambda x: str(round(x, 2)), [decile_cut[1][i], decile_cut[1][i+1]]))) for i in range(len(decile_cut[1])-1)]\n",
    "xticklabels = [f\"{i+1}\" for i in range(10)]\n",
    "ax.set_xticks(xticklocs, xticklabels, rotation=0, fontsize=12)\n",
    "ax.spines[['right', 'top']].set_visible(False)"
   ]
  },
  {
   "cell_type": "code",
   "execution_count": 12,
   "metadata": {},
   "outputs": [],
   "source": [
    "save_file = \"/data5/deepro/ukbiobank/papers/bmi_project/2_prepare_data_for_analysis/white_british/data/cases_controls/bmi_residuals.pdf\"\n",
    "save_pdf(save_file, fig)"
   ]
  },
  {
   "cell_type": "code",
   "execution_count": null,
   "metadata": {},
   "outputs": [],
   "source": []
  },
  {
   "cell_type": "code",
   "execution_count": null,
   "metadata": {},
   "outputs": [],
   "source": []
  },
  {
   "cell_type": "code",
   "execution_count": 55,
   "metadata": {},
   "outputs": [
    {
     "data": {
      "text/plain": [
       "<AxesSubplot:xlabel='bmi_residuals', ylabel='Density'>"
      ]
     },
     "execution_count": 55,
     "metadata": {},
     "output_type": "execute_result"
    },
    {
     "data": {
      "image/png": "[encoded data removed]",
      "text/plain": [
       "<Figure size 576x432 with 1 Axes>"
      ]
     },
     "metadata": {
      "needs_background": "light"
     },
     "output_type": "display_data"
    }
   ],
   "source": [
    "fig, ax = plt.subplots(1,1, figsize=(8, 6))\n",
    "sns.histplot(\n",
    "    data=bmi_res_df, x=\"bmi_residuals\", \n",
    "    stat=\"density\", hue=\"Decile_rank\", multiple=\"stack\", palette=color_maps, \n",
    "    ax=ax, element=\"step\", bins=150,\n",
    "    )"
   ]
  },
  {
   "cell_type": "code",
   "execution_count": null,
   "metadata": {},
   "outputs": [],
   "source": []
  }
 ],
 "metadata": {
  "kernelspec": {
   "display_name": "starrseq",
   "language": "python",
   "name": "python3"
  },
  "language_info": {
   "codemirror_mode": {
    "name": "ipython",
    "version": 3
   },
   "file_extension": ".py",
   "mimetype": "text/x-python",
   "name": "python",
   "nbconvert_exporter": "python",
   "pygments_lexer": "ipython3",
   "version": "3.9.7"
  },
  "orig_nbformat": 4
 },
 "nbformat": 4,
 "nbformat_minor": 2
}
