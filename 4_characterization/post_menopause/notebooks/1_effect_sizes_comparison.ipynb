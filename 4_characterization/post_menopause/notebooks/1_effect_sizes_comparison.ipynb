{
 "cells": [
  {
   "cell_type": "code",
   "execution_count": 1,
   "metadata": {},
   "outputs": [],
   "source": [
    "import numpy as np\n",
    "import pandas as pd\n",
    "from scipy.stats import kstest,ttest_ind\n",
    "import seaborn as sns\n",
    "from matplotlib.ticker import MultipleLocator\n",
    "import matplotlib\n",
    "import matplotlib.pyplot as plt\n",
    "matplotlib.rcParams['pdf.fonttype'] = 42\n",
    "matplotlib.rcParams['ps.fonttype'] = 42\n",
    "matplotlib.rcParams.update({'font.size': 14, 'axes.linewidth': 2, 'xtick.major.width': 1.5, 'xtick.major.size': 7, 'ytick.major.width': 1.5, 'ytick.major.size': 7})\n",
    "from matplotlib.backends.backend_pdf import PdfPages"
   ]
  },
  {
   "cell_type": "code",
   "execution_count": 2,
   "metadata": {},
   "outputs": [],
   "source": [
    "combo2_file = \"/data5/deepro/ukbiobank/papers/bmi_project/3_run_rarecomb/post_menopause/data/parsed_tables/combo_2.csv\"\n",
    "combo3_file = \"/data5/deepro/ukbiobank/papers/bmi_project/3_run_rarecomb/post_menopause/data/parsed_tables/combo_3.csv\"\n",
    "akbari_file = \"/data5/deepro/ukbiobank/papers/bmi_project/4_characterization/post_menopause/data/effect_sizes/akbari.csv\"\n",
    "turcot_file = \"/data5/deepro/ukbiobank/papers/bmi_project/4_characterization/post_menopause/data/effect_sizes/giant.csv\""
   ]
  },
  {
   "cell_type": "code",
   "execution_count": 3,
   "metadata": {},
   "outputs": [],
   "source": [
    "combo2_df = pd.read_csv(combo2_file)\n",
    "combo3_df = pd.read_csv(combo3_file)\n",
    "akbari_df = pd.read_csv(akbari_file)\n",
    "turcot_df = pd.read_csv(turcot_file)"
   ]
  },
  {
   "cell_type": "code",
   "execution_count": 4,
   "metadata": {},
   "outputs": [],
   "source": [
    "combo2_efs = combo2_df.Effect_Size.to_frame(name=\"Effect Size\")\n",
    "combo2_efs[\"Description\"] = \"Digenic combinations\"\n",
    "combo3_efs = combo3_df.Effect_Size.to_frame(name=\"Effect Size\")\n",
    "combo3_efs[\"Description\"] = \"Trigenic combinations\"\n",
    "akbari_efs = akbari_df.effect_size.to_frame(name=\"Effect Size\")\n",
    "akbari_efs[\"Description\"] = \"Akbari et. al.\"\n",
    "turcot_efs = turcot_df.effect_size.to_frame(name=\"Effect Size\")\n",
    "turcot_efs[\"Description\"] = \"Turcot et. al.\"\n",
    "\n",
    "efs_df = pd.concat([combo2_efs, combo3_efs, akbari_efs, turcot_efs], axis=0)"
   ]
  },
  {
   "cell_type": "code",
   "execution_count": 5,
   "metadata": {},
   "outputs": [
    {
     "data": {
      "text/plain": [
       "[Text(0, 0, 'Digenic\\ncombinations'),\n",
       " Text(1, 0, 'Trigenic\\ncombinations'),\n",
       " Text(2, 0, 'Akbari et. al.'),\n",
       " Text(3, 0, 'Turcot et. al.')]"
      ]
     },
     "execution_count": 5,
     "metadata": {},
     "output_type": "execute_result"
    },
    {
     "data": {
      "image/png": "[encoded data removed]",
      "text/plain": [
       "<Figure size 540x360 with 1 Axes>"
      ]
     },
     "metadata": {
      "needs_background": "light"
     },
     "output_type": "display_data"
    }
   ],
   "source": [
    "boxdf = efs_df\n",
    "\n",
    "# # Define Canvas\n",
    "# fig,ax = plt.subplots(1, 1, figsize=(8, 8))\n",
    "\n",
    "# Box Plot\n",
    "sns_ax = sns.catplot(\n",
    "    data=boxdf,\n",
    "    palette=[\"#c1272d\", \"#00ADEE\", \"#eecc16\", \"#008176\"],  # '#D1245D', '#00ADEE', '#D1245D', '#00ADEE' \"#0000a7\"\n",
    "    kind=\"box\",\n",
    "    x=\"Description\",\n",
    "    y=\"Effect Size\",\n",
    "    orient=\"v\",\n",
    "    aspect=1.5,\n",
    "    width=0.25,\n",
    "    linewidth=2.5,\n",
    "    fliersize=3.5\n",
    "    )\n",
    "\n",
    "\n",
    "# Adjust Axis\n",
    "# sns_ax.ax.set_yticks([-0.02, 0, 0.02, 0.04])\n",
    "# sns_ax.ax.set_ylim((-0.025, 0.5))\n",
    "# ax.set_ylabel('Percentage')\n",
    "sns_ax.ax.set_xticklabels([\"Digenic\\ncombinations\", \"Trigenic\\ncombinations\", \"Akbari et. al.\", \"Turcot et. al.\"],\n",
    "    rotation=0)\n",
    "# ax.set_ticklabels(\n",
    "#     [],\n",
    "#     rotation=90)\n",
    "\n",
    "# # Remove Spines\n",
    "# ax.spines['right'].set_visible(False)\n",
    "# ax.spines['top'].set_visible(False)"
   ]
  },
  {
   "cell_type": "code",
   "execution_count": 6,
   "metadata": {},
   "outputs": [],
   "source": [
    "digenic_effect_sizes = boxdf.loc[boxdf[\"Description\"]==\"Digenic combinations\", \"Effect Size\"]\n",
    "trigenic_effect_sizes = boxdf.loc[boxdf[\"Description\"]==\"Trigenic combinations\", \"Effect Size\"]\n",
    "akbari_effect_sizes = boxdf.loc[boxdf[\"Description\"]==\"Akbari et. al.\", \"Effect Size\"]\n",
    "turcot_effect_sizes = boxdf.loc[boxdf[\"Description\"]==\"Turcot et. al.\", \"Effect Size\"]"
   ]
  },
  {
   "cell_type": "code",
   "execution_count": 7,
   "metadata": {},
   "outputs": [
    {
     "data": {
      "text/plain": [
       "(Ttest_indResult(statistic=2.8519068496021975, pvalue=0.006059822750234859),\n",
       " KstestResult(statistic=0.8, pvalue=0.004524886877827816))"
      ]
     },
     "execution_count": 7,
     "metadata": {},
     "output_type": "execute_result"
    }
   ],
   "source": [
    "ttest_ind(digenic_effect_sizes, akbari_effect_sizes, alternative=\"greater\"), kstest(digenic_effect_sizes, akbari_effect_sizes)"
   ]
  },
  {
   "cell_type": "code",
   "execution_count": 8,
   "metadata": {},
   "outputs": [
    {
     "data": {
      "text/plain": [
       "(Ttest_indResult(statistic=2.870064340336995, pvalue=0.00704406090410073),\n",
       " KstestResult(statistic=0.8571428571428571, pvalue=0.008158508158508158))"
      ]
     },
     "execution_count": 8,
     "metadata": {},
     "output_type": "execute_result"
    }
   ],
   "source": [
    "ttest_ind(digenic_effect_sizes, turcot_effect_sizes, alternative=\"greater\"), kstest(digenic_effect_sizes, turcot_effect_sizes)"
   ]
  },
  {
   "cell_type": "code",
   "execution_count": 9,
   "metadata": {},
   "outputs": [
    {
     "data": {
      "text/plain": [
       "(Ttest_indResult(statistic=4.150060738006411, pvalue=0.00027194800594157226),\n",
       " KstestResult(statistic=0.8, pvalue=0.001190759704691735))"
      ]
     },
     "execution_count": 9,
     "metadata": {},
     "output_type": "execute_result"
    }
   ],
   "source": [
    "ttest_ind(trigenic_effect_sizes, akbari_effect_sizes, alternative=\"greater\"), kstest(trigenic_effect_sizes, akbari_effect_sizes)"
   ]
  },
  {
   "cell_type": "code",
   "execution_count": 10,
   "metadata": {},
   "outputs": [
    {
     "data": {
      "text/plain": [
       "(Ttest_indResult(statistic=4.029178352466111, pvalue=0.00048531937378324357),\n",
       " KstestResult(statistic=0.8571428571428571, pvalue=0.0011312217194568985))"
      ]
     },
     "execution_count": 10,
     "metadata": {},
     "output_type": "execute_result"
    }
   ],
   "source": [
    "ttest_ind(trigenic_effect_sizes, turcot_effect_sizes, alternative=\"greater\"), kstest(trigenic_effect_sizes, turcot_effect_sizes)"
   ]
  },
  {
   "cell_type": "code",
   "execution_count": 11,
   "metadata": {},
   "outputs": [],
   "source": [
    "all_combo_effect_sizes = pd.concat((digenic_effect_sizes, trigenic_effect_sizes))\n",
    "published_studies_effect_sizes = pd.concat((akbari_effect_sizes, turcot_effect_sizes))"
   ]
  },
  {
   "cell_type": "code",
   "execution_count": 12,
   "metadata": {},
   "outputs": [
    {
     "data": {
      "text/plain": [
       "(Ttest_indResult(statistic=4.936322605715503, pvalue=1.112543988017778e-05),\n",
       " KstestResult(statistic=0.8235294117647058, pvalue=2.8848054748342733e-06))"
      ]
     },
     "execution_count": 12,
     "metadata": {},
     "output_type": "execute_result"
    }
   ],
   "source": [
    "ttest_ind(all_combo_effect_sizes, published_studies_effect_sizes, alternative=\"greater\"), kstest(all_combo_effect_sizes, published_studies_effect_sizes)"
   ]
  },
  {
   "cell_type": "code",
   "execution_count": null,
   "metadata": {},
   "outputs": [],
   "source": []
  }
 ],
 "metadata": {
  "kernelspec": {
   "display_name": "starrseq",
   "language": "python",
   "name": "python3"
  },
  "language_info": {
   "codemirror_mode": {
    "name": "ipython",
    "version": 3
   },
   "file_extension": ".py",
   "mimetype": "text/x-python",
   "name": "python",
   "nbconvert_exporter": "python",
   "pygments_lexer": "ipython3",
   "version": "3.9.7"
  },
  "orig_nbformat": 4,
  "vscode": {
   "interpreter": {
    "hash": "06856c2527dea3cf472b3c4994ec564df76496982852535c5a9520cd26601212"
   }
  }
 },
 "nbformat": 4,
 "nbformat_minor": 2
}
