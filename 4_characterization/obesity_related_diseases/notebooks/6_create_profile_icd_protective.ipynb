{
 "cells": [
  {
   "cell_type": "code",
   "execution_count": 1,
   "metadata": {},
   "outputs": [],
   "source": [
    "import os\n",
    "import json\n",
    "import numpy as np\n",
    "import pandas as pd\n",
    "import seaborn as sns\n",
    "import matplotlib\n",
    "import matplotlib.pyplot as plt\n",
    "matplotlib.rcParams['pdf.fonttype'] = 42\n",
    "matplotlib.rcParams['ps.fonttype'] = 42\n",
    "# sns.set_style({'font.family':'sans-serif', 'font.sans-serif':'Arial'})\n",
    "from matplotlib.backends.backend_pdf import PdfPages"
   ]
  },
  {
   "cell_type": "code",
   "execution_count": 2,
   "metadata": {},
   "outputs": [],
   "source": [
    "wes_file = \"/data5/deepro/ukbiobank/papers/bmi_project/2_prepare_data_for_analysis/obesity_related_diseases/data/tables/wes.tsv\"\n",
    "intersect_file = \"/data5/deepro/ukbiobank/papers/bmi_project/4_characterization/obesity_related_diseases/data/upset_files/protection_intersects.json\"\n",
    "combos_file = \"/data5/deepro/ukbiobank/papers/bmi_project/4_characterization/obesity_related_diseases/data/merged_combos/protective_combos.csv\"\n",
    "selected_samples_file = \"/data5/deepro/ukbiobank/papers/bmi_project/2_prepare_data_for_analysis/white_british/data/cases_controls/cases.txt\"\n",
    "icd_cases_dir = \"/data5/deepro/ukbiobank/papers/bmi_project/2_prepare_data_for_analysis/obesity_related_diseases/data/cases_controls\"\n",
    "gencode_file = '/data5/bx_reference/hg38/annotations/gene_annotations/GENCODE39/gencode.v39.parsed.genes.tsv'\n",
    "icd_names_file = \"/data5/deepro/ukbiobank/papers/bmi_project/2_prepare_data_for_analysis/obesity_related_diseases/data/tables/obesity_related_diseases_icd.csv\""
   ]
  },
  {
   "cell_type": "code",
   "execution_count": 3,
   "metadata": {},
   "outputs": [],
   "source": [
    "def read_intersects_file(json_file):\n",
    "    with open(json_file, \"r\") as f:\n",
    "        json_object = json.load(f)\n",
    "    return json_object\n",
    "\n",
    "def get_all_unique_genes_combos_from_intersect_dict(intersect_dict):\n",
    "    unique_combos = set(sum(list(map(lambda x: x.split(\"||\"), list(intersect_dict.values()))), []))\n",
    "    unique_genes = set(sum(list(map(lambda x: x.split(\"_\"), unique_combos)), []))\n",
    "    return unique_genes, unique_combos\n",
    "\n",
    "def read_wes_file(wes_file, unique_genes):\n",
    "    cols_to_use = [f\"Input_{gid}\" for gid in unique_genes] + [\"Sample_Name\"]\n",
    "    wes_df = pd.read_csv(wes_file, sep=\"\\t\",  low_memory=False, index_col=0, usecols=cols_to_use)\n",
    "    return wes_df\n",
    "\n",
    "def read_selected_samples_file(samples_file):\n",
    "    with open(samples_file, \"r\") as f:\n",
    "        samples = [int(l.strip()) for l in f.readlines()]\n",
    "    return samples\n",
    "\n",
    "def get_all_unique_icd_from_intersect_dict(intersect_dict):\n",
    "    unique_icds_combos = set(list(map(lambda x: x.split(\"||\")[0], list(intersect_dict.keys()))))\n",
    "    unique_icds = set(sum(list(map(lambda x: x.split(\",\"), unique_icds_combos)), []))\n",
    "    return unique_icds\n",
    "\n",
    "def get_gencode_dict(gencode_file):\n",
    "    gencode = pd.read_csv(gencode_file, sep='\\t', low_memory=False)\n",
    "    gencode[\"gene_id_stripped\"] = gencode[\"gene_id\"].str.split(\".\", expand=True)[0]\n",
    "    gene_symbol_dict = dict(zip(gencode.gene_id_stripped, gencode.gene_name))\n",
    "    return gene_symbol_dict\n",
    "\n",
    "def get_icd_dict(icd_names_file):\n",
    "    icd_names = pd.read_csv(icd_names_file)\n",
    "    icd_names_dict = {c.replace(\" \", \"\"): m for c,m in zip(icd_names.coding, icd_names.meaning)}\n",
    "    return icd_names_dict\n",
    "\n",
    "def edit_profile_df_colnames(colnames, gene_symbol_dict, icd_symbol_dict):\n",
    "    new_gene_cols = []\n",
    "    new_icd_cols = []\n",
    "    new_colnames = []\n",
    "    for c in colnames:\n",
    "        if c.startswith(\"Input_ENSG\"):\n",
    "            item_name = gene_symbol_dict[c.replace(\"Input_\", \"\")]\n",
    "            new_gene_cols.append(item_name)\n",
    "        else:\n",
    "            if c != \"Obesity_risk\":\n",
    "                item_name = icd_symbol_dict[c]\n",
    "                new_icd_cols.append(item_name)\n",
    "            else:\n",
    "                item_name = c\n",
    "        new_colnames.append(item_name)\n",
    "    return new_colnames, new_gene_cols, new_icd_cols\n",
    "    "
   ]
  },
  {
   "cell_type": "code",
   "execution_count": 4,
   "metadata": {},
   "outputs": [
    {
     "name": "stderr",
     "output_type": "stream",
     "text": [
      "/tmp/ipykernel_2243033/1442892156.py:15: SettingWithCopyWarning: \n",
      "A value is trying to be set on a copy of a slice from a DataFrame.\n",
      "Try using .loc[row_indexer,col_indexer] = value instead\n",
      "\n",
      "See the caveats in the documentation: https://pandas.pydata.org/pandas-docs/stable/user_guide/indexing.html#returning-a-view-versus-a-copy\n",
      "  profile_df[\"Obesity_risk\"] = 1\n",
      "/tmp/ipykernel_2243033/1442892156.py:20: SettingWithCopyWarning: \n",
      "A value is trying to be set on a copy of a slice from a DataFrame.\n",
      "Try using .loc[row_indexer,col_indexer] = value instead\n",
      "\n",
      "See the caveats in the documentation: https://pandas.pydata.org/pandas-docs/stable/user_guide/indexing.html#returning-a-view-versus-a-copy\n",
      "  profile_df[icd] = 0\n",
      "/data5/deepro/miniconda3/envs/starrseq/lib/python3.9/site-packages/pandas/core/indexing.py:1817: SettingWithCopyWarning: \n",
      "A value is trying to be set on a copy of a slice from a DataFrame.\n",
      "Try using .loc[row_indexer,col_indexer] = value instead\n",
      "\n",
      "See the caveats in the documentation: https://pandas.pydata.org/pandas-docs/stable/user_guide/indexing.html#returning-a-view-versus-a-copy\n",
      "  self._setitem_single_column(loc, value, pi)\n"
     ]
    }
   ],
   "source": [
    "# read only the obese samples\n",
    "samples =  read_selected_samples_file(selected_samples_file)\n",
    "# read the icd protection intersecting gene combo dict\n",
    "intersect_dict = read_intersects_file(intersect_file)\n",
    "# filter the intersect dict to keep only samples who are protected for 3 icd codes\n",
    "intersect_dict = {k:v for k,v in intersect_dict.items() if len(k.split(\"||\")[0].split(\",\"))>2}\n",
    "unique_genes, unique_combos = get_all_unique_genes_combos_from_intersect_dict(intersect_dict)\n",
    "# read the wes profile of obese individuals\n",
    "wes_df = read_wes_file(wes_file, unique_genes)\n",
    "selected_wes_df = wes_df.loc[wes_df.index.isin(samples)]\n",
    "# only keep those individuals who have the combo\n",
    "cond = \" | \".join([\"(\" + \" & \".join([f\"(Input_{c} == 1)\" for c in ec_i]) + \")\" for ec_i in list(map(lambda x: x.split(\"_\"), unique_combos))])\n",
    "profile_df = selected_wes_df.loc[selected_wes_df.eval(cond)]\n",
    "# add their obeisty risk profile\n",
    "profile_df[\"Obesity_risk\"] = 1\n",
    "# get the unique icd codes from the intersect dict\n",
    "unique_icds = get_all_unique_icd_from_intersect_dict(intersect_dict)\n",
    "# add the icd profile of these individuals\n",
    "for icd in unique_icds:\n",
    "    profile_df[icd] = 0\n",
    "    icd_case_file = os.path.join(icd_cases_dir, f\"cases_{icd}.txt\")\n",
    "    case_samples_icd = read_selected_samples_file(icd_case_file)\n",
    "    profile_df.loc[profile_df.index.isin(case_samples_icd), icd] = 1\n",
    "# make a list of the gene and icd columns\n",
    "gene_cols = [c for c in profile_df.columns if c.startswith(\"Input_\")]\n",
    "icd_cols = [c for c in profile_df.columns if not c.startswith(\"Input_\")]\n",
    "# edit the profile df columns so that it makes more sense\n",
    "gene_symbol_dict = get_gencode_dict(gencode_file)\n",
    "icd_names_dict = get_icd_dict(icd_names_file)\n",
    "profile_df.columns, ngene_cols, nicd_cols =  edit_profile_df_colnames(profile_df.columns, gene_symbol_dict, icd_names_dict)\n"
   ]
  },
  {
   "cell_type": "code",
   "execution_count": 24,
   "metadata": {},
   "outputs": [],
   "source": [
    "profile_pivot = profile_df.pivot_table(index=ngene_cols+nicd_cols, aggfunc=np.sum).reset_index()"
   ]
  },
  {
   "cell_type": "code",
   "execution_count": 25,
   "metadata": {},
   "outputs": [],
   "source": [
    "profile_pivot_selected = profile_pivot.loc[profile_pivot.Obesity_risk>1]"
   ]
  },
  {
   "cell_type": "code",
   "execution_count": 54,
   "metadata": {},
   "outputs": [
    {
     "data": {
      "text/plain": [
       "'PYGM'"
      ]
     },
     "execution_count": 54,
     "metadata": {},
     "output_type": "execute_result"
    }
   ],
   "source": [
    "gene_symbol_dict[\"ENSG00000068976\"]"
   ]
  },
  {
   "cell_type": "code",
   "execution_count": 52,
   "metadata": {},
   "outputs": [
    {
     "data": {
      "text/plain": [
       "['Input_ENSG00000007520',\n",
       " 'Input_ENSG00000068976',\n",
       " 'Input_ENSG00000115365',\n",
       " 'Input_ENSG00000117266',\n",
       " 'Input_ENSG00000131584',\n",
       " 'Input_ENSG00000133056',\n",
       " 'Input_ENSG00000167967',\n",
       " 'Input_ENSG00000168530',\n",
       " 'Input_ENSG00000169962',\n",
       " 'Input_ENSG00000171401',\n",
       " 'Input_ENSG00000171431',\n",
       " 'Input_ENSG00000186185',\n",
       " 'Input_ENSG00000196557',\n",
       " 'Input_ENSG00000197136',\n",
       " 'Input_ENSG00000204889',\n",
       " 'Input_ENSG00000260027']"
      ]
     },
     "execution_count": 52,
     "metadata": {},
     "output_type": "execute_result"
    }
   ],
   "source": [
    "gene_cols"
   ]
  },
  {
   "cell_type": "code",
   "execution_count": 51,
   "metadata": {},
   "outputs": [
    {
     "data": {
      "text/plain": [
       "['TSR3',\n",
       " 'PYGM',\n",
       " 'LANCL1',\n",
       " 'CDK18',\n",
       " 'ACAP3',\n",
       " 'PIK3C2B',\n",
       " 'E4F1',\n",
       " 'MYL1',\n",
       " 'TAS1R3',\n",
       " 'KRT13',\n",
       " 'KRT20',\n",
       " 'KIF18B',\n",
       " 'CACNA1H',\n",
       " 'PCNX3',\n",
       " 'KRT40',\n",
       " 'HOXB7']"
      ]
     },
     "execution_count": 51,
     "metadata": {},
     "output_type": "execute_result"
    }
   ],
   "source": [
    "ngene_cols"
   ]
  },
  {
   "cell_type": "code",
   "execution_count": 49,
   "metadata": {},
   "outputs": [
    {
     "data": {
      "image/png": "[encoded data removed]",
      "text/plain": [
       "<Figure size 864x540 with 3 Axes>"
      ]
     },
     "metadata": {
      "needs_background": "light"
     },
     "output_type": "display_data"
    }
   ],
   "source": [
    "fig, ax = plt.subplots(1,3, figsize=(12, 7.5), gridspec_kw={'width_ratios': [len(gene_cols), len(icd_cols), 1]})\n",
    "g1 = sns.heatmap(\n",
    "    data=profile_pivot_selected.loc[:, ngene_cols], \n",
    "    linewidths=1.5,\n",
    "    linecolor=\"silver\", \n",
    "    cbar=False,\n",
    "    cmap=[\"w\", \"r\"],\n",
    "    ax=ax[0],\n",
    "    yticklabels=False,\n",
    "    square=False,\n",
    "    )\n",
    "g2 = sns.heatmap(\n",
    "    data=profile_pivot_selected.loc[:, nicd_cols], \n",
    "    linewidths=1.5,\n",
    "    linecolor=\"silver\", \n",
    "    cbar=False,\n",
    "    cmap=[\"w\", \"r\"],\n",
    "    ax=ax[1],\n",
    "    yticklabels=False,\n",
    "    square=False,\n",
    "    )\n",
    "\n",
    "g3 = sns.heatmap(\n",
    "    data=(profile_pivot_selected.loc[:, \"Obesity_risk\"]>0).to_frame(), \n",
    "    linewidths=1.5,\n",
    "    linecolor=\"silver\", \n",
    "    cbar=False,\n",
    "    cmap=[\"r\"],\n",
    "    ax=ax[2],\n",
    "    annot=profile_pivot_selected.loc[:, \"Obesity_risk\"].to_frame(),\n",
    "    yticklabels=False,\n",
    "    square=False,\n",
    "    )"
   ]
  },
  {
   "cell_type": "code",
   "execution_count": 58,
   "metadata": {},
   "outputs": [
    {
     "data": {
      "text/plain": [
       "'I25.9 Chronic ischaemic heart disease, unspecified'"
      ]
     },
     "execution_count": 58,
     "metadata": {},
     "output_type": "execute_result"
    }
   ],
   "source": [
    "icd_names_dict[\"I259\"]"
   ]
  },
  {
   "cell_type": "code",
   "execution_count": null,
   "metadata": {},
   "outputs": [],
   "source": []
  }
 ],
 "metadata": {
  "kernelspec": {
   "display_name": "starrseq",
   "language": "python",
   "name": "python3"
  },
  "language_info": {
   "codemirror_mode": {
    "name": "ipython",
    "version": 3
   },
   "file_extension": ".py",
   "mimetype": "text/x-python",
   "name": "python",
   "nbconvert_exporter": "python",
   "pygments_lexer": "ipython3",
   "version": "3.9.7"
  },
  "orig_nbformat": 4
 },
 "nbformat": 4,
 "nbformat_minor": 2
}
