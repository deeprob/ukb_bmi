{
 "cells": [
  {
   "cell_type": "code",
   "execution_count": 1,
   "metadata": {},
   "outputs": [],
   "source": [
    "import os\n",
    "import numpy as np\n",
    "import pandas as pd\n",
    "from scipy.stats import kstest,ttest_ind\n",
    "import seaborn as sns\n",
    "from matplotlib.ticker import MultipleLocator\n",
    "import matplotlib\n",
    "import matplotlib.pyplot as plt\n",
    "matplotlib.rcParams['pdf.fonttype'] = 42\n",
    "matplotlib.rcParams['ps.fonttype'] = 42\n",
    "matplotlib.rcParams.update({'font.size': 14, 'axes.linewidth': 2, 'xtick.major.width': 1.5, 'xtick.major.size': 7, 'ytick.major.width': 1.5, 'ytick.major.size': 7})\n",
    "from matplotlib.backends.backend_pdf import PdfPages"
   ]
  },
  {
   "cell_type": "code",
   "execution_count": 2,
   "metadata": {},
   "outputs": [],
   "source": [
    "def read_nonadditive_table(files, group):\n",
    "    dfs = []\n",
    "    for file in files:\n",
    "        if os.path.exists(file):\n",
    "            df_nc = pd.read_csv(file, usecols=[\"Expected_value\", \"Observed_value\"])\n",
    "            dfs.append(df_nc)\n",
    "    nonadditive_df = pd.concat(dfs)\n",
    "    nonadditive_df[\"group\"] = group\n",
    "    return nonadditive_df"
   ]
  },
  {
   "cell_type": "code",
   "execution_count": 3,
   "metadata": {},
   "outputs": [],
   "source": [
    "root_dir = \"/data5/deepro/ukbiobank/papers/bmi_project/4_characterization\"\n",
    "groups = [\"white_british_male\", \"white_british_female\", \"pre_menopause\", \"post_menopause\"]\n",
    "\n",
    "\n",
    "nonadditive_dfs = []\n",
    "\n",
    "for group in groups:\n",
    "    combo2_file = os.path.join(root_dir, group, \"data/additive/combo2.csv\")\n",
    "    combo3_file = os.path.join(root_dir, group, \"data/additive/combo3.csv\")\n",
    "    nonadditive_df_group = read_nonadditive_table([combo2_file, combo3_file], group)\n",
    "    nonadditive_dfs.append(nonadditive_df_group)"
   ]
  },
  {
   "cell_type": "code",
   "execution_count": 4,
   "metadata": {},
   "outputs": [],
   "source": [
    "nonadditive_df = pd.concat(nonadditive_dfs).melt(id_vars=[\"group\"], value_vars=[\"Observed_value\", \"Expected_value\"])"
   ]
  },
  {
   "cell_type": "code",
   "execution_count": 5,
   "metadata": {},
   "outputs": [
    {
     "data": {
      "text/plain": [
       "<matplotlib.legend.Legend at 0x7f812d653fd0>"
      ]
     },
     "execution_count": 5,
     "metadata": {},
     "output_type": "execute_result"
    },
    {
     "data": {
      "image/png": "[encoded data removed]",
      "text/plain": [
       "<Figure size 576x360 with 1 Axes>"
      ]
     },
     "metadata": {
      "needs_background": "light"
     },
     "output_type": "display_data"
    }
   ],
   "source": [
    "boxdf = nonadditive_df\n",
    "\n",
    "# Define Canvas\n",
    "fig,ax = plt.subplots(1, 1, figsize=(8, 5))\n",
    "\n",
    "# Box Plot\n",
    "sns_ax = sns.boxplot(\n",
    "    data=boxdf,\n",
    "    x=\"group\",\n",
    "    y=\"value\",\n",
    "    hue=\"variable\",\n",
    "    hue_order=[\"Expected_value\", \"Observed_value\"],\n",
    "    palette=[\"#00ADEE\", \"#FF3688\"],  # '#D1245D', '#00ADEE', '#D1245D', '#00ADEE' \"#0000a7\"\n",
    "    orient=\"v\",\n",
    "    width=0.25,\n",
    "    linewidth=2,\n",
    "    fliersize=0.5,\n",
    "    ax=ax\n",
    "    )\n",
    "\n",
    "# Adjust Axis\n",
    "sns_ax.set_xlabel(\"\")\n",
    "sns_ax.set_xticklabels([\"Male\", \"Female\", \"Pre\\nmenopause\", \"Post\\nmenopause\"], rotation=0) # sns_ax.get_xticklabels(\n",
    "\n",
    "# Remove Spines\n",
    "ax.spines['right'].set_visible(False)\n",
    "ax.spines['top'].set_visible(False)\n",
    "\n",
    "# legend below as multiple columns\n",
    "h,l = sns_ax.axes.get_legend_handles_labels()\n",
    "sns_ax.axes.legend_.remove()\n",
    "sns_ax.legend(h,l, loc=\"upper center\", ncol=2, bbox_to_anchor=(0.5, 1))"
   ]
  },
  {
   "cell_type": "code",
   "execution_count": 6,
   "metadata": {},
   "outputs": [],
   "source": [
    "def run_ttest(lower_group, higher_group):\n",
    "    return ttest_ind(lower_group, higher_group, alternative=\"less\")"
   ]
  },
  {
   "cell_type": "code",
   "execution_count": 9,
   "metadata": {},
   "outputs": [
    {
     "name": "stdout",
     "output_type": "stream",
     "text": [
      "Running t-test for white_british_male\n",
      "TTest results:\tStatistics=-14.230368682204812;p-val=2.255474216513858e-18\n",
      "Running t-test for white_british_female\n",
      "TTest results:\tStatistics=-17.415717488063933;p-val=7.973453076633245e-28\n",
      "Running t-test for pre_menopause\n",
      "TTest results:\tStatistics=-26.615261978691574;p-val=2.4786319916499232e-61\n",
      "Running t-test for post_menopause\n",
      "TTest results:\tStatistics=-9.459329151811538;p-val=2.3741192804603816e-11\n"
     ]
    }
   ],
   "source": [
    "for g in groups:\n",
    "    print(f\"Running t-test for {g}\")\n",
    "    single_hit_g = nonadditive_df.loc[(nonadditive_df.variable==\"Expected_value\")&(nonadditive_df.group==g)]\n",
    "    combo_hit_g = nonadditive_df.loc[(nonadditive_df.variable==\"Observed_value\")&(nonadditive_df.group==g)]\n",
    "    ttest_res = run_ttest(single_hit_g.value, combo_hit_g.value)\n",
    "    print(f\"TTest results:\\tStatistics={ttest_res[0]};p-val={ttest_res[1]}\")"
   ]
  },
  {
   "cell_type": "code",
   "execution_count": null,
   "metadata": {},
   "outputs": [],
   "source": []
  }
 ],
 "metadata": {
  "kernelspec": {
   "display_name": "starrseq",
   "language": "python",
   "name": "python3"
  },
  "language_info": {
   "codemirror_mode": {
    "name": "ipython",
    "version": 3
   },
   "file_extension": ".py",
   "mimetype": "text/x-python",
   "name": "python",
   "nbconvert_exporter": "python",
   "pygments_lexer": "ipython3",
   "version": "3.9.7"
  },
  "orig_nbformat": 4,
  "vscode": {
   "interpreter": {
    "hash": "06856c2527dea3cf472b3c4994ec564df76496982852535c5a9520cd26601212"
   }
  }
 },
 "nbformat": 4,
 "nbformat_minor": 2
}
