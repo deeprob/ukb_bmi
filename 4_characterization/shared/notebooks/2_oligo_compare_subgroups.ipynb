{
 "cells": [
  {
   "cell_type": "code",
   "execution_count": 1,
   "metadata": {},
   "outputs": [],
   "source": [
    "import os\n",
    "import numpy as np\n",
    "import pandas as pd\n",
    "from scipy.stats import kstest,ttest_ind\n",
    "import seaborn as sns\n",
    "from matplotlib.ticker import MultipleLocator\n",
    "import matplotlib\n",
    "import matplotlib.pyplot as plt\n",
    "matplotlib.rcParams['pdf.fonttype'] = 42\n",
    "matplotlib.rcParams['ps.fonttype'] = 42\n",
    "matplotlib.rcParams.update({'font.size': 14, 'axes.linewidth': 2, 'xtick.major.width': 1.5, 'xtick.major.size': 7, 'ytick.major.width': 1.5, 'ytick.major.size': 7})\n",
    "from matplotlib.backends.backend_pdf import PdfPages"
   ]
  },
  {
   "cell_type": "code",
   "execution_count": 2,
   "metadata": {},
   "outputs": [],
   "source": [
    "def read_oligo_table(oligo_table, group):\n",
    "    oligo_df = pd.read_csv(oligo_table)\n",
    "    oligo_df[\"group\"] = group\n",
    "    return oligo_df"
   ]
  },
  {
   "cell_type": "code",
   "execution_count": 3,
   "metadata": {},
   "outputs": [],
   "source": [
    "root_dir = \"/data5/deepro/ukbiobank/papers/bmi_project/4_characterization\"\n",
    "groups = [\"white_british_male\", \"white_british_female\", \"pre_menopause\", \"post_menopause\"]\n",
    "\n",
    "\n",
    "oligo_dfs = []\n",
    "\n",
    "for group in groups:\n",
    "    filename = os.path.join(root_dir, group, \"data/oligogenic/oligo_table.csv\")\n",
    "    oligo_df_group = read_oligo_table(filename, group)\n",
    "    oligo_dfs.append(oligo_df_group)"
   ]
  },
  {
   "cell_type": "code",
   "execution_count": 4,
   "metadata": {},
   "outputs": [],
   "source": [
    "oligo_df = pd.concat(oligo_dfs)"
   ]
  },
  {
   "cell_type": "code",
   "execution_count": 7,
   "metadata": {},
   "outputs": [
    {
     "data": {
      "text/plain": [
       "<matplotlib.legend.Legend at 0x7fef73ad5e50>"
      ]
     },
     "execution_count": 7,
     "metadata": {},
     "output_type": "execute_result"
    },
    {
     "data": {
      "image/png": "[encoded data removed]",
      "text/plain": [
       "<Figure size 576x360 with 1 Axes>"
      ]
     },
     "metadata": {
      "needs_background": "light"
     },
     "output_type": "display_data"
    }
   ],
   "source": [
    "boxdf = oligo_df\n",
    "\n",
    "# Define Canvas\n",
    "fig,ax = plt.subplots(1, 1, figsize=(8, 5))\n",
    "\n",
    "# Box Plot\n",
    "sns_ax = sns.boxplot(\n",
    "    data=boxdf,\n",
    "    x=\"group\",\n",
    "    y=\"bmi\",\n",
    "    hue=\"vtype\",\n",
    "    hue_order=[\"Single hit\", \"Combo hit\"],\n",
    "    palette=[\"#00ADEE\", \"#FF3688\"],  # '#D1245D', '#00ADEE', '#D1245D', '#00ADEE' \"#0000a7\"\n",
    "    orient=\"v\",\n",
    "    width=0.25,\n",
    "    linewidth=2,\n",
    "    fliersize=0.0,\n",
    "    ax=ax\n",
    "    )\n",
    "\n",
    "# Adjust Axis\n",
    "# sns_ax.ax.set_yticks([-0.02, 0, 0.02, 0.04])\n",
    "# sns_ax.ax.set_ylim((-0.025, 0.05))\n",
    "sns_ax.set_xlabel(\"\")\n",
    "sns_ax.set_xticklabels([\"Male\", \"Female\", \"Pre\\nmenopause\", \"Post\\nmenopause\"], rotation=0)\n",
    "\n",
    "# Remove Spines\n",
    "ax.spines['right'].set_visible(False)\n",
    "ax.spines['top'].set_visible(False)\n",
    "\n",
    "# legend below as multiple columns\n",
    "h,l = sns_ax.axes.get_legend_handles_labels()\n",
    "sns_ax.axes.legend_.remove()\n",
    "sns_ax.legend(h,l, loc=\"upper center\", ncol=2, bbox_to_anchor=(0.5, 1))"
   ]
  },
  {
   "cell_type": "code",
   "execution_count": 9,
   "metadata": {},
   "outputs": [],
   "source": [
    "def run_ttest(lower_group, higher_group):\n",
    "    return ttest_ind(lower_group, higher_group, alternative=\"less\")"
   ]
  },
  {
   "cell_type": "code",
   "execution_count": 15,
   "metadata": {},
   "outputs": [
    {
     "name": "stdout",
     "output_type": "stream",
     "text": [
      "Running t-test for white_british_male\n",
      "TTest results:\tStatistics=-14.053091738662928;p-val=4.547002692081711e-45\n",
      "Running t-test for white_british_female\n",
      "TTest results:\tStatistics=-18.013745098687142;p-val=1.0947153659412274e-72\n",
      "Running t-test for pre_menopause\n",
      "TTest results:\tStatistics=-7.915384863723463;p-val=2.1806441417912557e-15\n",
      "Running t-test for post_menopause\n",
      "TTest results:\tStatistics=-11.121791110264978;p-val=5.668513151319463e-29\n"
     ]
    }
   ],
   "source": [
    "for g in groups:\n",
    "    print(f\"Running t-test for {g}\")\n",
    "    single_hit_g = oligo_df.loc[(oligo_df.vtype==\"Single hit\")&(oligo_df.group==g)]\n",
    "    combo_hit_g = oligo_df.loc[(oligo_df.vtype==\"Combo hit\")&(oligo_df.group==g)]\n",
    "    ttest_res = run_ttest(single_hit_g.bmi, combo_hit_g.bmi)\n",
    "    print(f\"TTest results:\\tStatistics={ttest_res[0]};p-val={ttest_res[1]}\")"
   ]
  },
  {
   "cell_type": "code",
   "execution_count": null,
   "metadata": {},
   "outputs": [],
   "source": []
  }
 ],
 "metadata": {
  "kernelspec": {
   "display_name": "starrseq",
   "language": "python",
   "name": "python3"
  },
  "language_info": {
   "codemirror_mode": {
    "name": "ipython",
    "version": 3
   },
   "file_extension": ".py",
   "mimetype": "text/x-python",
   "name": "python",
   "nbconvert_exporter": "python",
   "pygments_lexer": "ipython3",
   "version": "3.9.7"
  },
  "orig_nbformat": 4,
  "vscode": {
   "interpreter": {
    "hash": "06856c2527dea3cf472b3c4994ec564df76496982852535c5a9520cd26601212"
   }
  }
 },
 "nbformat": 4,
 "nbformat_minor": 2
}
