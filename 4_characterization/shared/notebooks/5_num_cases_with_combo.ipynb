{
 "cells": [
  {
   "cell_type": "code",
   "execution_count": 1,
   "metadata": {},
   "outputs": [],
   "source": [
    "import pandas as pd"
   ]
  },
  {
   "cell_type": "code",
   "execution_count": 2,
   "metadata": {},
   "outputs": [],
   "source": [
    "def get_merged_combo_file(combo_files):\n",
    "    combo_dfs = [pd.read_csv(cf) for cf in combo_files]\n",
    "    combo_df = pd.concat(combo_dfs)\n",
    "    return combo_df\n",
    "\n",
    "def get_case_samples_with_combos(combo_df):\n",
    "    return set(sum(list(map(lambda v: v.split(\",\"), combo_df.Case_Samples.values)), []))\n",
    "\n",
    "def get_ncasesamples(combo_files):\n",
    "    combo_df = get_merged_combo_file(combo_files)\n",
    "    case_samples = get_case_samples_with_combos(combo_df)\n",
    "    return len(case_samples)"
   ]
  },
  {
   "cell_type": "code",
   "execution_count": 3,
   "metadata": {},
   "outputs": [],
   "source": [
    "wb_combo_files = [\n",
    "    \"/data5/deepro/ukbiobank/papers/bmi_project/3_run_rarecomb/white_british/data/parsed_tables/combo_2.csv\",\n",
    "    \"/data5/deepro/ukbiobank/papers/bmi_project/3_run_rarecomb/white_british/data/parsed_tables/combo_3.csv\"\n",
    "]\n",
    "\n",
    "wbm_combo_files = [\n",
    "    \"/data5/deepro/ukbiobank/papers/bmi_project/3_run_rarecomb/white_british_male/data/parsed_tables/combo_2.csv\",\n",
    "    \"/data5/deepro/ukbiobank/papers/bmi_project/3_run_rarecomb/white_british_male/data/parsed_tables/combo_3.csv\"    \n",
    "]\n",
    "\n",
    "wbf_combo_files = [\n",
    "    \"/data5/deepro/ukbiobank/papers/bmi_project/3_run_rarecomb/white_british_female/data/parsed_tables/combo_2.csv\",\n",
    "    \"/data5/deepro/ukbiobank/papers/bmi_project/3_run_rarecomb/white_british_female/data/parsed_tables/combo_3.csv\"    \n",
    "]\n",
    "\n",
    "prem_combo_files = [\n",
    "    \"/data5/deepro/ukbiobank/papers/bmi_project/3_run_rarecomb/pre_menopause/data/parsed_tables/combo_2.csv\", \n",
    "]\n",
    "\n",
    "postm_combo_files = [\n",
    "    \"/data5/deepro/ukbiobank/papers/bmi_project/3_run_rarecomb/post_menopause/data/parsed_tables/combo_2.csv\",\n",
    "    \"/data5/deepro/ukbiobank/papers/bmi_project/3_run_rarecomb/post_menopause/data/parsed_tables/combo_3.csv\"    \n",
    "]\n",
    "\n",
    "low_bmi_combo_files = [\n",
    "    \"/data5/deepro/ukbiobank/papers/bmi_project/3_run_rarecomb/protective/data/parsed_tables/combo_2.csv\",\n",
    "    \"/data5/deepro/ukbiobank/papers/bmi_project/3_run_rarecomb/protective/data/parsed_tables/combo_3.csv\"\n",
    "]\n",
    "\n",
    "protective_combo_files = [\n",
    "    \"/data5/deepro/ukbiobank/papers/bmi_project/4_characterization/protective/protective_noicd/data/parsed_tables/combo_2.csv\",\n",
    "    \"/data5/deepro/ukbiobank/papers/bmi_project/4_characterization/protective/protective_noicd/data/parsed_tables/combo_3.csv\"\n",
    "]\n",
    "\n",
    "obesity_related_risk_combo_files = [\n",
    "    \"/data5/deepro/ukbiobank/papers/bmi_project/4_characterization/obesity_related_diseases/data/merged_combos/risk_combos.csv\", \n",
    "]\n",
    "\n",
    "obesity_related_protection_combo_files = [\n",
    "    \"/data5/deepro/ukbiobank/papers/bmi_project/4_characterization/obesity_related_diseases/data/merged_combos/protective_combos.csv\", \n",
    "]\n",
    "\n",
    "lifestyle_combo_files = [\n",
    "    \"/data5/deepro/ukbiobank/papers/bmi_project/3_run_rarecomb/lifestyle_white_british/data/parsed_tables/combo_3.csv\",\n",
    "    \"/data5/deepro/ukbiobank/papers/bmi_project/3_run_rarecomb/lifestyle_white_british/data/parsed_tables/combo_4.csv\"\n",
    "]\n",
    "\n"
   ]
  },
  {
   "cell_type": "code",
   "execution_count": 4,
   "metadata": {},
   "outputs": [
    {
     "data": {
      "text/plain": [
       "[683, 176, 267, 30, 107, 999, 79, 646, 3365, 849]"
      ]
     },
     "execution_count": 4,
     "metadata": {},
     "output_type": "execute_result"
    }
   ],
   "source": [
    "list(map(get_ncasesamples, [wb_combo_files, wbm_combo_files, wbf_combo_files, prem_combo_files, postm_combo_files, low_bmi_combo_files, protective_combo_files, obesity_related_risk_combo_files, obesity_related_protection_combo_files, lifestyle_combo_files]))"
   ]
  },
  {
   "cell_type": "code",
   "execution_count": null,
   "metadata": {},
   "outputs": [],
   "source": []
  }
 ],
 "metadata": {
  "kernelspec": {
   "display_name": "starrseq",
   "language": "python",
   "name": "python3"
  },
  "language_info": {
   "codemirror_mode": {
    "name": "ipython",
    "version": 3
   },
   "file_extension": ".py",
   "mimetype": "text/x-python",
   "name": "python",
   "nbconvert_exporter": "python",
   "pygments_lexer": "ipython3",
   "version": "3.9.7"
  },
  "orig_nbformat": 4
 },
 "nbformat": 4,
 "nbformat_minor": 2
}
