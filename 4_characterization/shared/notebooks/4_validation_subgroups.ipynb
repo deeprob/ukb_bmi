{
 "cells": [
  {
   "cell_type": "code",
   "execution_count": 1,
   "metadata": {},
   "outputs": [],
   "source": [
    "import os\n",
    "import numpy as np\n",
    "import pandas as pd\n",
    "from scipy.stats import kstest,ttest_ind\n",
    "import os\n",
    "import numpy as np\n",
    "import pandas as pd\n",
    "from scipy.stats import kstest,ttest_ind\n",
    "import seaborn as sns\n",
    "from matplotlib.ticker import MultipleLocator\n",
    "import matplotlib\n",
    "import matplotlib.pyplot as plt\n",
    "matplotlib.rcParams['pdf.fonttype'] = 42\n",
    "matplotlib.rcParams['ps.fonttype'] = 42\n",
    "matplotlib.rcParams['font.sans-serif'] = \"Arial\" # missing fonts:: https://alexanderlabwhoi.github.io/post/2021-03-missingfont/\n",
    "# Then, \"ALWAYS use sans-serif fonts\"\n",
    "matplotlib.rcParams['font.family'] = \"sans-serif\"\n",
    "matplotlib.rcParams.update({'font.size': 14, 'axes.linewidth': 2, 'xtick.major.width': 1.5, 'xtick.major.size': 7, 'ytick.major.width': 1.5, 'ytick.major.size': 7})\n",
    "from matplotlib.backends.backend_pdf import PdfPages"
   ]
  },
  {
   "cell_type": "code",
   "execution_count": 2,
   "metadata": {},
   "outputs": [],
   "source": [
    "def save_pdf(save_file, fig):\n",
    "    pdf = PdfPages(save_file)\n",
    "    pdf.savefig(fig, bbox_inches='tight')\n",
    "    pdf.close()\n",
    "    return"
   ]
  },
  {
   "cell_type": "code",
   "execution_count": 3,
   "metadata": {},
   "outputs": [],
   "source": [
    "def read_valid_table(valid_table, group):\n",
    "    valid_df = pd.read_csv(valid_table)\n",
    "    valid_df[\"group\"] = group\n",
    "    return valid_df"
   ]
  },
  {
   "cell_type": "code",
   "execution_count": 4,
   "metadata": {},
   "outputs": [],
   "source": [
    "root_dir = \"/data5/deepro/ukbiobank/papers/bmi_project/4_characterization\"\n",
    "groups = [\"white_british_male\", \"white_british_female\", \"pre_menopause\", \"post_menopause\"]\n",
    "\n",
    "\n",
    "valid_dfs = []\n",
    "\n",
    "for group in groups:\n",
    "    filename = os.path.join(root_dir, group, \"data/validation/valid_mean.csv\")\n",
    "    valid_df_group = read_valid_table(filename, group)\n",
    "    valid_dfs.append(valid_df_group)"
   ]
  },
  {
   "cell_type": "code",
   "execution_count": 5,
   "metadata": {},
   "outputs": [],
   "source": [
    "valid_df = pd.concat(valid_dfs)"
   ]
  },
  {
   "cell_type": "code",
   "execution_count": 6,
   "metadata": {},
   "outputs": [
    {
     "data": {
      "text/plain": [
       "<matplotlib.legend.Legend at 0x7f34ca9449d0>"
      ]
     },
     "execution_count": 6,
     "metadata": {},
     "output_type": "execute_result"
    },
    {
     "data": {
      "image/png": "[encoded data removed]",
      "text/plain": [
       "<Figure size 576x360 with 1 Axes>"
      ]
     },
     "metadata": {
      "needs_background": "light"
     },
     "output_type": "display_data"
    }
   ],
   "source": [
    "boxdf = valid_df\n",
    "\n",
    "# Define Canvas\n",
    "fig,ax = plt.subplots(1, 1, figsize=(8, 5))\n",
    "\n",
    "# Box Plot\n",
    "\n",
    "# sns_box = sns.boxplot(\n",
    "#     data=boxdf,\n",
    "#     x=\"group\",\n",
    "#     y=\"bmi\",\n",
    "#     hue=\"vtype\",\n",
    "#     hue_order=[\"No combinations\", \"Combinations\"],\n",
    "#     orient=\"v\",\n",
    "#     width=0.35,\n",
    "#     linewidth=2,\n",
    "#     fliersize=0, capprops={'color':'none'}, boxprops={'facecolor':'none', 'edgecolor':'k'}, whiskerprops={'color':'k'}, medianprops={'color':'k'},\n",
    "#     ax=ax\n",
    "#     )\n",
    "\n",
    "sns_ax = sns.boxplot(\n",
    "    data=boxdf,\n",
    "    x=\"group\",\n",
    "    y=\"bmi\",\n",
    "    hue=\"vtype\",\n",
    "    hue_order=[\"No combinations\", \"Combinations\"],\n",
    "    palette=[\"#08509b\", \"#a30f15\", ],  # '#D1245D', '#00ADEE', '#D1245D', '#00ADEE' \"#0000a7\" \"#c1272d\"\n",
    "    orient=\"v\",\n",
    "    width=0.35,\n",
    "    linewidth=2,\n",
    "    fliersize=0., capprops={'color':'none'}, boxprops={'edgecolor':'k'}, whiskerprops={'color':'k'}, medianprops={'color':'k'},\n",
    "    ax=ax\n",
    "    )\n",
    "\n",
    "# Adjust Axis\n",
    "ax.set_xlabel(\"\")\n",
    "ax.set_ylim((10, 50))\n",
    "ax.set_xticklabels([\"Male\", \"Female\", \"Pre\\nmenopause\", \"Post\\nmenopause\"], rotation=0) # sns_ax.get_xticklabels(\n",
    "\n",
    "# Remove Spines\n",
    "ax.spines['right'].set_visible(False)\n",
    "ax.spines['top'].set_visible(False)\n",
    "\n",
    "# legend below as multiple columns\n",
    "h,l = ax.get_legend_handles_labels()\n",
    "ax.legend_.remove()\n",
    "ax.legend(h,l, loc=\"upper center\", ncol=2, bbox_to_anchor=(0.5, -0.25))"
   ]
  },
  {
   "cell_type": "code",
   "execution_count": 9,
   "metadata": {},
   "outputs": [],
   "source": [
    "save_file = \"/data5/deepro/ukbiobank/papers/bmi_project/4_characterization/shared/data/validation/nonwhite.pdf\"\n",
    "save_pdf(save_file, fig)"
   ]
  },
  {
   "cell_type": "code",
   "execution_count": 7,
   "metadata": {},
   "outputs": [],
   "source": [
    "def run_ttest(lower_group, higher_group):\n",
    "    return ttest_ind(lower_group, higher_group, alternative=\"less\")"
   ]
  },
  {
   "cell_type": "code",
   "execution_count": 8,
   "metadata": {},
   "outputs": [
    {
     "name": "stdout",
     "output_type": "stream",
     "text": [
      "Running t-test for white_british_male\n",
      "TTest results:\tStatistics=-1.276433934981247;p-val=0.1009113765671698\n",
      "Running t-test for white_british_female\n",
      "TTest results:\tStatistics=-2.5880351719434502;p-val=0.004830025888019251\n",
      "Running t-test for pre_menopause\n",
      "TTest results:\tStatistics=-3.0695388220898145;p-val=0.001077284825475058\n",
      "Running t-test for post_menopause\n",
      "TTest results:\tStatistics=-1.889253706885167;p-val=0.029443454451975107\n"
     ]
    }
   ],
   "source": [
    "for g in groups:\n",
    "    print(f\"Running t-test for {g}\")\n",
    "    single_hit_g = valid_df.loc[(valid_df.vtype==\"No combinations\")&(valid_df.group==g)]\n",
    "    combo_hit_g = valid_df.loc[(valid_df.vtype==\"Combinations\")&(valid_df.group==g)]\n",
    "    ttest_res = run_ttest(single_hit_g.bmi, combo_hit_g.bmi)\n",
    "    print(f\"TTest results:\\tStatistics={ttest_res[0]};p-val={ttest_res[1]}\")"
   ]
  },
  {
   "cell_type": "code",
   "execution_count": null,
   "metadata": {},
   "outputs": [],
   "source": []
  }
 ],
 "metadata": {
  "kernelspec": {
   "display_name": "starrseq",
   "language": "python",
   "name": "python3"
  },
  "language_info": {
   "codemirror_mode": {
    "name": "ipython",
    "version": 3
   },
   "file_extension": ".py",
   "mimetype": "text/x-python",
   "name": "python",
   "nbconvert_exporter": "python",
   "pygments_lexer": "ipython3",
   "version": "3.9.7"
  },
  "orig_nbformat": 4,
  "vscode": {
   "interpreter": {
    "hash": "06856c2527dea3cf472b3c4994ec564df76496982852535c5a9520cd26601212"
   }
  }
 },
 "nbformat": 4,
 "nbformat_minor": 2
}
