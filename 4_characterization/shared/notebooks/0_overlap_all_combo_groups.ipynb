{
 "cells": [
  {
   "cell_type": "code",
   "execution_count": 24,
   "metadata": {},
   "outputs": [],
   "source": [
    "import os\n",
    "import pandas as pd\n",
    "import upsetplot\n",
    "from functools import reduce\n",
    "from itertools import combinations\n",
    "from matplotlib.ticker import MultipleLocator\n",
    "import matplotlib\n",
    "import matplotlib.pyplot as plt\n",
    "matplotlib.rcParams['pdf.fonttype'] = 42\n",
    "matplotlib.rcParams['ps.fonttype'] = 42\n",
    "matplotlib.rcParams.update({'font.size': 14, 'axes.linewidth': 2, 'xtick.major.width': 1.5, 'xtick.major.size': 7, 'ytick.major.width': 1.5, 'ytick.major.size': 7})\n",
    "from matplotlib.backends.backend_pdf import PdfPages"
   ]
  },
  {
   "cell_type": "code",
   "execution_count": 2,
   "metadata": {},
   "outputs": [],
   "source": [
    "combo_dir = \"/data5/deepro/ukbiobank/papers/bmi_project/3_run_rarecomb\"\n",
    "group_names = [\"white_british\", \"white_british_male\", \"white_british_female\", \"pre_menopause\", \"post_menopause\"]"
   ]
  },
  {
   "cell_type": "code",
   "execution_count": 3,
   "metadata": {},
   "outputs": [],
   "source": [
    "def get_sorted_combos(ser, ncombo):\n",
    "    return \";\".join(sorted(ser.loc[[f\"Item_{i}_symbol\" for i in range(1, ncombo + 1)]]))\n",
    "\n",
    "def get_combo_set(combo_dir, group):\n",
    "    combo2_file = os.path.join(combo_dir, group, \"data\", \"parsed_tables\", \"combo_2.csv\")\n",
    "    combo3_file = os.path.join(combo_dir, group, \"data\", \"parsed_tables\", \"combo_3.csv\")\n",
    "    try:\n",
    "        combo2_df = pd.read_csv(combo2_file)\n",
    "        combo2_df[\"combo_name\"] = combo2_df.apply(get_sorted_combos, args=(2, ), axis=1)\n",
    "        combo2_set = set(combo2_df.combo_name.to_list())\n",
    "    except FileNotFoundError:\n",
    "        combo2_set = set()\n",
    "    try:\n",
    "        combo3_df = pd.read_csv(combo3_file)\n",
    "        combo3_df[\"combo_name\"] = combo3_df.apply(get_sorted_combos, args=(3, ), axis=1)\n",
    "        combo3_set = set(combo3_df.combo_name.to_list())\n",
    "    except FileNotFoundError:\n",
    "        combo3_set =set()\n",
    "    combo_set = combo2_set.union(combo3_set)\n",
    "    return combo_set"
   ]
  },
  {
   "cell_type": "code",
   "execution_count": 16,
   "metadata": {},
   "outputs": [],
   "source": [
    "def set_add(a, b):\n",
    "    return a.intersection(b)\n",
    "\n",
    "def set_subtract(a,b):\n",
    "    return a.difference(b)\n",
    "\n",
    "def get_intersects(include_sets, exclude_sets):\n",
    "    intersect_sets = reduce(set_add, include_sets)\n",
    "    if len(exclude_sets)>0:\n",
    "        exclude_sets = [intersect_sets] + exclude_sets\n",
    "        intersect_sets = reduce(set_subtract, exclude_sets)\n",
    "    return intersect_sets\n",
    "\n",
    "def get_upset_df(combo_dir, groups):\n",
    "    # get the set of gene combinations for each group\n",
    "    combo_dict = {g: get_combo_set(combo_dir, g) for g in groups}\n",
    "    combo_boolean_dict = {g:[] for g in groups}\n",
    "    counts = []\n",
    "    unique_intersect_sets = dict()\n",
    "    for i in range(1, len(groups) + 1):\n",
    "        # get combinations of length i\n",
    "        all_combos = list(combinations(groups, i))\n",
    "        for combos in all_combos:\n",
    "            # get counts of elements that are unique to the combinations\n",
    "            include_combos = combos\n",
    "            exclude_combos = tuple(g for g in groups if g not in include_combos)\n",
    "            include_sets = [combo_dict[c] for c in include_combos]\n",
    "            exclude_sets = [combo_dict[c] for c in exclude_combos]\n",
    "            unique_intersects = get_intersects(include_sets, exclude_sets)\n",
    "            counts.append(len(unique_intersects))\n",
    "            unique_intersect_sets[(include_combos, exclude_combos)] = unique_intersects\n",
    "            for c in include_combos:\n",
    "                combo_boolean_dict[c].append(True)\n",
    "            for c in exclude_combos:\n",
    "                combo_boolean_dict[c].append(False)\n",
    "    combo_boolean_dict[\"counts\"] = counts\n",
    "    df = pd.DataFrame(combo_boolean_dict)\n",
    "    return df.set_index(groups), unique_intersect_sets"
   ]
  },
  {
   "cell_type": "code",
   "execution_count": 17,
   "metadata": {},
   "outputs": [],
   "source": [
    "upset_df, unique_intersects = get_upset_df(combo_dir, group_names)"
   ]
  },
  {
   "cell_type": "code",
   "execution_count": 18,
   "metadata": {},
   "outputs": [],
   "source": [
    "parsed_upset_df = upset_df.loc[upset_df.counts>0]"
   ]
  },
  {
   "cell_type": "code",
   "execution_count": 25,
   "metadata": {},
   "outputs": [
    {
     "data": {
      "image/png": "[encoded data removed]",
      "text/plain": [
       "<Figure size 512x352 with 4 Axes>"
      ]
     },
     "metadata": {
      "needs_background": "light"
     },
     "output_type": "display_data"
    }
   ],
   "source": [
    "fig = upsetplot.plot(parsed_upset_df.counts, show_counts=True)"
   ]
  },
  {
   "cell_type": "code",
   "execution_count": 23,
   "metadata": {},
   "outputs": [
    {
     "data": {
      "text/plain": [
       "{'CNGA4;KRT20;KRT33A',\n",
       " 'FOXK2;PKHD1L1;RYR1',\n",
       " 'LAMA1;PDE11A;RYR3',\n",
       " 'MYH8;PDE11A;RYR3',\n",
       " 'PBX2;VARS2',\n",
       " 'RHEBL1;SMARCD1'}"
      ]
     },
     "execution_count": 23,
     "metadata": {},
     "output_type": "execute_result"
    }
   ],
   "source": [
    "unique_intersects[('white_british_female', 'post_menopause',), ('white_british', 'white_british_male', 'pre_menopause',)]"
   ]
  },
  {
   "cell_type": "code",
   "execution_count": null,
   "metadata": {},
   "outputs": [],
   "source": []
  }
 ],
 "metadata": {
  "kernelspec": {
   "display_name": "starrseq",
   "language": "python",
   "name": "python3"
  },
  "language_info": {
   "codemirror_mode": {
    "name": "ipython",
    "version": 3
   },
   "file_extension": ".py",
   "mimetype": "text/x-python",
   "name": "python",
   "nbconvert_exporter": "python",
   "pygments_lexer": "ipython3",
   "version": "3.9.7"
  },
  "orig_nbformat": 4,
  "vscode": {
   "interpreter": {
    "hash": "06856c2527dea3cf472b3c4994ec564df76496982852535c5a9520cd26601212"
   }
  }
 },
 "nbformat": 4,
 "nbformat_minor": 2
}
