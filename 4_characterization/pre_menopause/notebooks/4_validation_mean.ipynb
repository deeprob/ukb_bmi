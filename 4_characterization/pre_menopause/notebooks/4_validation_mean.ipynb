{
 "cells": [
  {
   "cell_type": "code",
   "execution_count": 1,
   "metadata": {},
   "outputs": [],
   "source": [
    "import pandas as pd\n",
    "import numpy as np\n",
    "from scipy.stats import kstest,ttest_ind\n",
    "import seaborn as sns\n",
    "from matplotlib.ticker import MultipleLocator\n",
    "import matplotlib\n",
    "import matplotlib.pyplot as plt\n",
    "matplotlib.rcParams['pdf.fonttype'] = 42\n",
    "matplotlib.rcParams['ps.fonttype'] = 42\n",
    "matplotlib.rcParams.update({'font.size': 14, 'axes.linewidth': 2, 'xtick.major.width': 1.5, 'xtick.major.size': 7, 'ytick.major.width': 1.5, 'ytick.major.size': 7})\n",
    "from matplotlib.backends.backend_pdf import PdfPages"
   ]
  },
  {
   "cell_type": "code",
   "execution_count": 2,
   "metadata": {},
   "outputs": [],
   "source": [
    "variants_file = \"/data5/deepro/ukbiobank/papers/bmi_project/1_parse_data/annotate_vcf/data/variants_by_gene/lof_missense_pred_freq_0.01.tsv\"\n",
    "combinations2_file = \"/data5/deepro/ukbiobank/papers/bmi_project/3_run_rarecomb/pre_menopause/data/parsed_tables/combo_2.csv\"\n",
    "# combinations3_file = \"/data5/deepro/ukbiobank/papers/bmi_project/3_run_rarecomb/pre_menopause/data/parsed_tables/combo_3.csv\"\n",
    "phenotypes_file = \"/data5/deepro/ukbiobank/papers/bmi_project/2_prepare_data_for_analysis/non_white_british/data/samples.csv\""
   ]
  },
  {
   "cell_type": "code",
   "execution_count": 3,
   "metadata": {},
   "outputs": [],
   "source": [
    "variants_df = pd.read_csv(variants_file, sep=\"\\t\", low_memory=False, usecols=[\"Sample\", \"variant_id\", \"Gene\", \"SYMBOL\", \"Mut_type\"], dtype=str)\n",
    "combinations2_df = pd.read_csv(combinations2_file, low_memory=False)\n",
    "# combinations3_df = pd.read_csv(combinations3_file, low_memory=False)\n",
    "phenotypes_df = pd.read_csv(phenotypes_file, low_memory=False, usecols=[\"eid\", \"bmi\"], dtype={\"eid\": str, \"bmi\": np.float64})"
   ]
  },
  {
   "cell_type": "code",
   "execution_count": 4,
   "metadata": {},
   "outputs": [],
   "source": [
    "# get all single genes\n",
    "def get_unique_genes_from_combo_df(combo_df, ncombos):\n",
    "    gene_set = set()\n",
    "    for i in range(1, ncombos+1):\n",
    "        gene_set.update(list(combo_df[f\"Item_{i}_symbol\"]))\n",
    "    return gene_set\n",
    "\n",
    "\n",
    "def get_samples_with_hits(variants_df, gene_set):\n",
    "    return set(variants_df.loc[variants_df.SYMBOL.isin(gene_set)].Sample)\n",
    "\n",
    "def check_combo_func(gene_list, combo_list):\n",
    "    for combo in combo_list:\n",
    "        if all(gene in gene_list for gene in combo):\n",
    "            return True\n",
    "    return False\n",
    "\n",
    "def get_single_combo_phenos(variants_df, phenotypes_df, combinations_dfs, ncombos, ):\n",
    "    # get unique genes in combos\n",
    "    gene_set = set()\n",
    "    all_combos_sorted = []\n",
    "    for cdf,nc in zip(combinations_dfs, ncombos):\n",
    "        gs = get_unique_genes_from_combo_df(cdf, nc)\n",
    "        gene_set.update(gs)\n",
    "        # sort combos by their gene names for consistency of pipeline\n",
    "        acs = sorted(map(lambda x: tuple(sorted(x)), zip(*[cdf[f\"Item_{c}_symbol\"].to_list() for c in range(1, nc+1)])))\n",
    "        all_combos_sorted.append(acs)\n",
    "    all_combos_sorted = sum(all_combos_sorted, [])\n",
    "    # store gene to their combo mappings\n",
    "    gene_to_combo_map ={g:[] for g in gene_set}\n",
    "    for g in gene_set:\n",
    "        for c in all_combos_sorted:\n",
    "            if g in c:\n",
    "                gene_to_combo_map[g].append(c)\n",
    "    # get samples with a single hit of the gene and those with combinations\n",
    "    all_accepted_samples = set()\n",
    "    all_rejected_samples = set()\n",
    "    for g in gene_set:\n",
    "        # select samples with variants in those genes; these samples may have single or multiple hits\n",
    "        samples_list = variants_df.loc[variants_df.SYMBOL.isin([g])].Sample\n",
    "        samples_df = variants_df.loc[variants_df.Sample.isin(samples_list)].groupby(\"Sample\").aggregate(lambda x: list(x))\n",
    "        # exclude samples which have the combinations for these genes\n",
    "        rejected_series = samples_df.SYMBOL.apply(check_combo_func, args=(gene_to_combo_map[g], )) \n",
    "        rejected_samples = samples_df.loc[rejected_series].index.to_list()\n",
    "        accepted_samples = samples_df.loc[~rejected_series].index.to_list()\n",
    "        all_accepted_samples.update(accepted_samples)\n",
    "        all_rejected_samples.update(rejected_samples)\n",
    "    # get rid of samples with other combo hits from single gene hits\n",
    "    all_accepted_samples =  all_accepted_samples - all_rejected_samples\n",
    "    single_hit_pheno = phenotypes_df.loc[phenotypes_df.eid.isin(all_accepted_samples)]\n",
    "    combo_hit_pheno = phenotypes_df.loc[phenotypes_df.eid.isin(all_rejected_samples)]\n",
    "    non_combo_hit_pheno = phenotypes_df.loc[~phenotypes_df.eid.isin(all_rejected_samples)]\n",
    "    return single_hit_pheno, combo_hit_pheno, non_combo_hit_pheno"
   ]
  },
  {
   "cell_type": "code",
   "execution_count": 5,
   "metadata": {},
   "outputs": [],
   "source": [
    "single_hit_pheno, combo_hit_pheno, non_combo_hit_pheno = get_single_combo_phenos(variants_df, phenotypes_df, (combinations2_df, ), (2,)) #combinations3_df"
   ]
  },
  {
   "attachments": {},
   "cell_type": "markdown",
   "metadata": {},
   "source": [
    "# BMI comparison between individuals with and without the combinations in a non-white british cohort"
   ]
  },
  {
   "cell_type": "code",
   "execution_count": 6,
   "metadata": {},
   "outputs": [
    {
     "name": "stderr",
     "output_type": "stream",
     "text": [
      "/tmp/ipykernel_1553450/2580049384.py:1: SettingWithCopyWarning: \n",
      "A value is trying to be set on a copy of a slice from a DataFrame.\n",
      "Try using .loc[row_indexer,col_indexer] = value instead\n",
      "\n",
      "See the caveats in the documentation: https://pandas.pydata.org/pandas-docs/stable/user_guide/indexing.html#returning-a-view-versus-a-copy\n",
      "  combo_hit_pheno[\"vtype\"] = \"Combinations\"\n",
      "/tmp/ipykernel_1553450/2580049384.py:2: SettingWithCopyWarning: \n",
      "A value is trying to be set on a copy of a slice from a DataFrame.\n",
      "Try using .loc[row_indexer,col_indexer] = value instead\n",
      "\n",
      "See the caveats in the documentation: https://pandas.pydata.org/pandas-docs/stable/user_guide/indexing.html#returning-a-view-versus-a-copy\n",
      "  non_combo_hit_pheno[\"vtype\"] = \"No combinations\"\n"
     ]
    },
    {
     "data": {
      "text/plain": [
       "(15.0, 50.0)"
      ]
     },
     "execution_count": 6,
     "metadata": {},
     "output_type": "execute_result"
    },
    {
     "data": {
      "image/png": "[encoded data removed]",
      "text/plain": [
       "<Figure size 324x432 with 1 Axes>"
      ]
     },
     "metadata": {
      "needs_background": "light"
     },
     "output_type": "display_data"
    }
   ],
   "source": [
    "combo_hit_pheno[\"vtype\"] = \"Combinations\"\n",
    "non_combo_hit_pheno[\"vtype\"] = \"No combinations\"\n",
    "\n",
    "boxdf = pd.concat((non_combo_hit_pheno, combo_hit_pheno), axis=0)\n",
    "\n",
    "# Box Plot\n",
    "sns_ax = sns.catplot(\n",
    "    data=boxdf,\n",
    "    palette=[\"#00ADEE\", '#D1245D'],  # \"#eecc16\", \"#008176\" '#D1245D', '#00ADEE', '#D1245D', '#00ADEE' \"#0000a7\"\n",
    "    kind=\"box\",\n",
    "    x=\"vtype\",\n",
    "    y=\"bmi\",\n",
    "    orient=\"v\",\n",
    "    height=6,\n",
    "    aspect=0.75,\n",
    "    width=0.3,\n",
    "    linewidth=2.5,\n",
    "    fliersize=0.25,\n",
    "    whis=0.75,\n",
    "\n",
    "    )\n",
    "\n",
    "sns_ax.set_xlabels(\"\")\n",
    "sns_ax.set_ylabels(\"BMI\")\n",
    "sns_ax.ax.set_ylim(15, 50)"
   ]
  },
  {
   "cell_type": "code",
   "execution_count": 7,
   "metadata": {},
   "outputs": [
    {
     "data": {
      "text/plain": [
       "(Ttest_indResult(statistic=-1.0998386208037088, pvalue=0.1357052426712163),\n",
       " KstestResult(statistic=0.1491145649097984, pvalue=0.6583379559593991))"
      ]
     },
     "execution_count": 7,
     "metadata": {},
     "output_type": "execute_result"
    }
   ],
   "source": [
    "ttest_ind(non_combo_hit_pheno.bmi, combo_hit_pheno.bmi, alternative=\"less\"), kstest(non_combo_hit_pheno.bmi, combo_hit_pheno.bmi)"
   ]
  },
  {
   "cell_type": "code",
   "execution_count": null,
   "metadata": {},
   "outputs": [],
   "source": []
  }
 ],
 "metadata": {
  "kernelspec": {
   "display_name": "starrseq",
   "language": "python",
   "name": "python3"
  },
  "language_info": {
   "codemirror_mode": {
    "name": "ipython",
    "version": 3
   },
   "file_extension": ".py",
   "mimetype": "text/x-python",
   "name": "python",
   "nbconvert_exporter": "python",
   "pygments_lexer": "ipython3",
   "version": "3.9.7"
  },
  "orig_nbformat": 4,
  "vscode": {
   "interpreter": {
    "hash": "06856c2527dea3cf472b3c4994ec564df76496982852535c5a9520cd26601212"
   }
  }
 },
 "nbformat": 4,
 "nbformat_minor": 2
}
