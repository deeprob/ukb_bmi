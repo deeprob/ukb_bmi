{
 "cells": [
  {
   "cell_type": "code",
   "execution_count": 1,
   "metadata": {},
   "outputs": [],
   "source": [
    "import pandas as pd\n",
    "import os\n",
    "from scipy.stats import kstest,ttest_ind\n",
    "\n",
    "# libraries related to plotting\n",
    "import seaborn as sns\n",
    "import matplotlib.pyplot as plt\n",
    "from matplotlib.ticker import MultipleLocator\n",
    "import matplotlib\n",
    "matplotlib.rcParams['pdf.fonttype'] = 42\n",
    "matplotlib.rcParams['ps.fonttype'] = 42\n",
    "matplotlib.rcParams.update({'font.size': 14, 'axes.linewidth': 2, 'xtick.major.width': 1.5, 'xtick.major.size': 7, 'ytick.major.width': 1.5, 'ytick.major.size': 7})\n",
    "from matplotlib.backends.backend_pdf import PdfPages"
   ]
  },
  {
   "cell_type": "code",
   "execution_count": 2,
   "metadata": {},
   "outputs": [],
   "source": [
    "combo2_file = \"../data/additive/combo2.csv\"\n",
    "combo3_file = \"../data/additive/combo3.csv\"\n",
    "df2 = pd.read_csv(combo2_file, usecols=[\"Expected_value\", \"Observed_value\"])\n",
    "df3 = pd.read_csv(combo3_file, usecols=[\"Expected_value\", \"Observed_value\"])\n",
    "\n",
    "df = pd.concat((df2, df3))\n",
    "\n",
    "plot_df = df.melt(value_vars=[\"Observed_value\", \"Expected_value\"])"
   ]
  },
  {
   "cell_type": "code",
   "execution_count": 5,
   "metadata": {},
   "outputs": [
    {
     "data": {
      "text/html": [
       "<div>\n",
       "<style scoped>\n",
       "    .dataframe tbody tr th:only-of-type {\n",
       "        vertical-align: middle;\n",
       "    }\n",
       "\n",
       "    .dataframe tbody tr th {\n",
       "        vertical-align: top;\n",
       "    }\n",
       "\n",
       "    .dataframe thead th {\n",
       "        text-align: right;\n",
       "    }\n",
       "</style>\n",
       "<table border=\"1\" class=\"dataframe\">\n",
       "  <thead>\n",
       "    <tr style=\"text-align: right;\">\n",
       "      <th></th>\n",
       "      <th>variable</th>\n",
       "      <th>value</th>\n",
       "    </tr>\n",
       "  </thead>\n",
       "  <tbody>\n",
       "    <tr>\n",
       "      <th>0</th>\n",
       "      <td>Observed_value</td>\n",
       "      <td>32.104671</td>\n",
       "    </tr>\n",
       "    <tr>\n",
       "      <th>1</th>\n",
       "      <td>Observed_value</td>\n",
       "      <td>31.583713</td>\n",
       "    </tr>\n",
       "    <tr>\n",
       "      <th>2</th>\n",
       "      <td>Observed_value</td>\n",
       "      <td>31.548012</td>\n",
       "    </tr>\n",
       "    <tr>\n",
       "      <th>3</th>\n",
       "      <td>Observed_value</td>\n",
       "      <td>36.222810</td>\n",
       "    </tr>\n",
       "    <tr>\n",
       "      <th>4</th>\n",
       "      <td>Observed_value</td>\n",
       "      <td>29.813745</td>\n",
       "    </tr>\n",
       "    <tr>\n",
       "      <th>...</th>\n",
       "      <td>...</td>\n",
       "      <td>...</td>\n",
       "    </tr>\n",
       "    <tr>\n",
       "      <th>175</th>\n",
       "      <td>Expected_value</td>\n",
       "      <td>27.337645</td>\n",
       "    </tr>\n",
       "    <tr>\n",
       "      <th>176</th>\n",
       "      <td>Expected_value</td>\n",
       "      <td>27.277123</td>\n",
       "    </tr>\n",
       "    <tr>\n",
       "      <th>177</th>\n",
       "      <td>Expected_value</td>\n",
       "      <td>27.206623</td>\n",
       "    </tr>\n",
       "    <tr>\n",
       "      <th>178</th>\n",
       "      <td>Expected_value</td>\n",
       "      <td>27.221528</td>\n",
       "    </tr>\n",
       "    <tr>\n",
       "      <th>179</th>\n",
       "      <td>Expected_value</td>\n",
       "      <td>27.397396</td>\n",
       "    </tr>\n",
       "  </tbody>\n",
       "</table>\n",
       "<p>180 rows × 2 columns</p>\n",
       "</div>"
      ],
      "text/plain": [
       "           variable      value\n",
       "0    Observed_value  32.104671\n",
       "1    Observed_value  31.583713\n",
       "2    Observed_value  31.548012\n",
       "3    Observed_value  36.222810\n",
       "4    Observed_value  29.813745\n",
       "..              ...        ...\n",
       "175  Expected_value  27.337645\n",
       "176  Expected_value  27.277123\n",
       "177  Expected_value  27.206623\n",
       "178  Expected_value  27.221528\n",
       "179  Expected_value  27.397396\n",
       "\n",
       "[180 rows x 2 columns]"
      ]
     },
     "execution_count": 5,
     "metadata": {},
     "output_type": "execute_result"
    }
   ],
   "source": [
    "plot_df"
   ]
  },
  {
   "cell_type": "code",
   "execution_count": 59,
   "metadata": {},
   "outputs": [
    {
     "data": {
      "text/plain": [
       "<matplotlib.lines.Line2D at 0x7fe52ea31490>"
      ]
     },
     "execution_count": 59,
     "metadata": {},
     "output_type": "execute_result"
    }
   ],
   "source": []
  },
  {
   "cell_type": "code",
   "execution_count": 69,
   "metadata": {},
   "outputs": [
    {
     "data": {
      "image/png": "[encoded data removed]",
      "text/plain": [
       "<Figure size 288x432 with 1 Axes>"
      ]
     },
     "metadata": {
      "needs_background": "light"
     },
     "output_type": "display_data"
    }
   ],
   "source": [
    "fig,ax = plt.subplots(1,1,figsize=(4,6))\n",
    "\n",
    "g = sns.histplot(\n",
    "    data=plot_df, x='value', \n",
    "    hue='variable', hue_order=[\"Observed_value\", \"Expected_value\"],\n",
    "    edgecolor=\"k\",\n",
    "    linewidth=0.2,\n",
    "    palette=[ \"lightgrey\", \"lightgrey\"], kde=True,\n",
    "    element=\"bars\", fill=True, bins=30, line_kws={\"linewidth\":2},\n",
    "    ax=ax)\n",
    "g.axes.lines[1].set_color(\"#c1272d\")\n",
    "g.axes.lines[0].set_color(\"royalblue\")\n",
    "\n",
    "# kde = sns.kdeplot(\n",
    "#     data=plot_df, x='value', hue='variable', \n",
    "#     hue_order=[\"Observed_value\", \"Expected_value\"], \n",
    "#     palette=[\"#c1272d\", \"royalblue\"], linewidth=5, fill=False, common_norm=False)\n",
    "\n",
    "ax = plt.gca()\n",
    "ax.xaxis.set_major_locator(MultipleLocator(2))\n",
    "g.set_xlabel(\"BMI\")\n",
    "# g.set_title('Expected vs Observed for Obesity Risk Combinations');\n",
    "# g.set_ylim(-0.05, 1.05)\n",
    "ax.spines[['right', 'top']].set_visible(False)"
   ]
  },
  {
   "cell_type": "code",
   "execution_count": null,
   "metadata": {},
   "outputs": [],
   "source": []
  },
  {
   "cell_type": "code",
   "execution_count": null,
   "metadata": {},
   "outputs": [],
   "source": []
  },
  {
   "cell_type": "code",
   "execution_count": 10,
   "metadata": {},
   "outputs": [
    {
     "data": {
      "image/png": "[encoded data removed]",
      "text/plain": [
       "<Figure size 360x360 with 1 Axes>"
      ]
     },
     "metadata": {
      "needs_background": "light"
     },
     "output_type": "display_data"
    }
   ],
   "source": [
    "fig = plt.figure(figsize=(5,5))\n",
    "g = sns.kdeplot(\n",
    "    data=plot_df, x='value', hue='variable', \n",
    "    hue_order=[\"Observed_value\", \"Expected_value\"], \n",
    "    palette=[\"#c1272d\", \"#eecc16\"], \n",
    "    fill=False, linewidth=5,)\n",
    "ax = plt.gca()\n",
    "ax.xaxis.set_major_locator(MultipleLocator(2))\n",
    "g.set_xlabel(\"BMI\")\n",
    "# g.set_title('Expected vs Observed for Obesity Risk Combinations');\n",
    "g.set_ylim(-0.05, 1.05)\n",
    "ax.spines[['right', 'top']].set_visible(False)\n",
    "\n",
    "# pdf = PdfPages('figures/obs_exp.pdf')\n",
    "# pdf.savefig(fig, bbox_inches='tight')\n",
    "# pdf.close()"
   ]
  },
  {
   "cell_type": "code",
   "execution_count": 7,
   "metadata": {},
   "outputs": [
    {
     "data": {
      "text/plain": [
       "(Ttest_indResult(statistic=-26.666528650119236, pvalue=2.2574118963680666e-64),\n",
       " KstestResult(statistic=1.0, pvalue=2.1975064116804014e-53))"
      ]
     },
     "execution_count": 7,
     "metadata": {},
     "output_type": "execute_result"
    }
   ],
   "source": [
    "ttest_ind(plot_df.loc[plot_df.variable==\"Expected_value\", \"value\"], plot_df.loc[plot_df.variable==\"Observed_value\", \"value\"], alternative=\"less\"), kstest(plot_df.loc[plot_df.variable==\"Expected_value\", \"value\"], plot_df.loc[plot_df.variable==\"Observed_value\", \"value\"])"
   ]
  },
  {
   "cell_type": "code",
   "execution_count": null,
   "metadata": {},
   "outputs": [],
   "source": []
  }
 ],
 "metadata": {
  "kernelspec": {
   "display_name": "starrseq",
   "language": "python",
   "name": "python3"
  },
  "language_info": {
   "codemirror_mode": {
    "name": "ipython",
    "version": 3
   },
   "file_extension": ".py",
   "mimetype": "text/x-python",
   "name": "python",
   "nbconvert_exporter": "python",
   "pygments_lexer": "ipython3",
   "version": "3.9.7"
  },
  "orig_nbformat": 4,
  "vscode": {
   "interpreter": {
    "hash": "06856c2527dea3cf472b3c4994ec564df76496982852535c5a9520cd26601212"
   }
  }
 },
 "nbformat": 4,
 "nbformat_minor": 2
}
