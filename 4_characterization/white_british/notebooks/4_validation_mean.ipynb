{
 "cells": [
  {
   "cell_type": "code",
   "execution_count": 1,
   "metadata": {},
   "outputs": [],
   "source": [
    "import pandas as pd\n",
    "import numpy as np\n",
    "from scipy.stats import kstest,ttest_ind\n",
    "import seaborn as sns\n",
    "from matplotlib.ticker import MultipleLocator\n",
    "import matplotlib\n",
    "import matplotlib.pyplot as plt\n",
    "matplotlib.rcParams['pdf.fonttype'] = 42\n",
    "matplotlib.rcParams['ps.fonttype'] = 42\n",
    "matplotlib.rcParams.update({'font.size': 14, 'axes.linewidth': 2, 'xtick.major.width': 1.5, 'xtick.major.size': 7, 'ytick.major.width': 1.5, 'ytick.major.size': 7})\n",
    "from matplotlib.backends.backend_pdf import PdfPages"
   ]
  },
  {
   "cell_type": "code",
   "execution_count": 2,
   "metadata": {},
   "outputs": [],
   "source": [
    "valid_file = \"/data5/deepro/ukbiobank/papers/bmi_project/4_characterization/white_british/data/validation/valid_mean.csv\"\n",
    "valid_df = pd.read_csv(valid_file)"
   ]
  },
  {
   "attachments": {},
   "cell_type": "markdown",
   "metadata": {},
   "source": [
    "# BMI comparison between individuals with and without the combinations in a non-white british cohort"
   ]
  },
  {
   "cell_type": "code",
   "execution_count": 3,
   "metadata": {},
   "outputs": [
    {
     "data": {
      "text/plain": [
       "(15.0, 50.0)"
      ]
     },
     "execution_count": 3,
     "metadata": {},
     "output_type": "execute_result"
    },
    {
     "data": {
      "image/png": "[encoded data removed]",
      "text/plain": [
       "<Figure size 324x432 with 1 Axes>"
      ]
     },
     "metadata": {
      "needs_background": "light"
     },
     "output_type": "display_data"
    }
   ],
   "source": [
    "boxdf = valid_df\n",
    "\n",
    "# Box Plot\n",
    "sns_ax = sns.catplot(\n",
    "    data=boxdf,\n",
    "    palette=[\"#00ADEE\", '#D1245D'],  # \"#eecc16\", \"#008176\" '#D1245D', '#00ADEE', '#D1245D', '#00ADEE' \"#0000a7\"\n",
    "    kind=\"box\",\n",
    "    x=\"vtype\",\n",
    "    y=\"bmi\",\n",
    "    orient=\"v\",\n",
    "    height=6,\n",
    "    aspect=0.75,\n",
    "    width=0.3,\n",
    "    linewidth=2.5,\n",
    "    fliersize=0.25,\n",
    "    whis=0.75,\n",
    "\n",
    "    )\n",
    "\n",
    "sns_ax.set_xlabels(\"\")\n",
    "sns_ax.set_ylabels(\"BMI\")\n",
    "sns_ax.ax.set_ylim(15, 50)"
   ]
  },
  {
   "cell_type": "code",
   "execution_count": 5,
   "metadata": {},
   "outputs": [],
   "source": [
    "combo_hit_pheno = valid_df.loc[valid_df.vtype==\"Combinations\"]\n",
    "non_combo_hit_pheno = valid_df.loc[valid_df.vtype==\"No combinations\"]"
   ]
  },
  {
   "cell_type": "code",
   "execution_count": 6,
   "metadata": {},
   "outputs": [
    {
     "data": {
      "text/plain": [
       "(Ttest_indResult(statistic=-1.7590782682697255, pvalue=0.03928675272946077),\n",
       " KstestResult(statistic=0.06284307263289723, pvalue=0.3131129465563275))"
      ]
     },
     "execution_count": 6,
     "metadata": {},
     "output_type": "execute_result"
    }
   ],
   "source": [
    "ttest_ind(non_combo_hit_pheno.bmi, combo_hit_pheno.bmi, alternative=\"less\"), kstest(non_combo_hit_pheno.bmi, combo_hit_pheno.bmi)"
   ]
  },
  {
   "cell_type": "code",
   "execution_count": null,
   "metadata": {},
   "outputs": [],
   "source": []
  }
 ],
 "metadata": {
  "kernelspec": {
   "display_name": "starrseq",
   "language": "python",
   "name": "python3"
  },
  "language_info": {
   "codemirror_mode": {
    "name": "ipython",
    "version": 3
   },
   "file_extension": ".py",
   "mimetype": "text/x-python",
   "name": "python",
   "nbconvert_exporter": "python",
   "pygments_lexer": "ipython3",
   "version": "3.9.7"
  },
  "orig_nbformat": 4,
  "vscode": {
   "interpreter": {
    "hash": "06856c2527dea3cf472b3c4994ec564df76496982852535c5a9520cd26601212"
   }
  }
 },
 "nbformat": 4,
 "nbformat_minor": 2
}
