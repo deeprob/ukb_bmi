{
 "cells": [
  {
   "cell_type": "code",
   "execution_count": 1,
   "metadata": {},
   "outputs": [],
   "source": [
    "import pandas as pd\n",
    "import numpy as np\n",
    "from scipy.stats import kstest,ttest_ind\n",
    "import seaborn as sns\n",
    "from matplotlib.ticker import MultipleLocator\n",
    "import matplotlib\n",
    "import matplotlib.pyplot as plt\n",
    "matplotlib.rcParams['pdf.fonttype'] = 42\n",
    "matplotlib.rcParams['ps.fonttype'] = 42\n",
    "matplotlib.rcParams.update({'font.size': 14, 'axes.linewidth': 2, 'xtick.major.width': 1.5, 'xtick.major.size': 7, 'ytick.major.width': 1.5, 'ytick.major.size': 7})\n",
    "from matplotlib.backends.backend_pdf import PdfPages"
   ]
  },
  {
   "cell_type": "code",
   "execution_count": 2,
   "metadata": {},
   "outputs": [],
   "source": [
    "variants_file = \"/data5/deepro/ukbiobank/papers/bmi_project/1_parse_data/annotate_vcf/data/variants_by_gene/lof_missense_pred_freq_0.01.tsv\"\n",
    "combinations2_file = \"/data5/deepro/ukbiobank/papers/bmi_project/3_run_rarecomb/white_british/data/parsed_tables/combo_2.csv\"\n",
    "combinations3_file = \"/data5/deepro/ukbiobank/papers/bmi_project/3_run_rarecomb/white_british/data/parsed_tables/combo_3.csv\"\n",
    "phenotypes_file = \"/data5/deepro/ukbiobank/papers/bmi_project/2_prepare_data_for_analysis/white_british/data/samples_with_residuals.csv\""
   ]
  },
  {
   "cell_type": "code",
   "execution_count": 3,
   "metadata": {},
   "outputs": [],
   "source": [
    "variants_df = pd.read_csv(variants_file, sep=\"\\t\", low_memory=False, usecols=[\"Sample\", \"variant_id\", \"Gene\", \"SYMBOL\", \"Mut_type\"], dtype=str)\n",
    "combinations2_df = pd.read_csv(combinations2_file, low_memory=False)\n",
    "combinations3_df = pd.read_csv(combinations3_file, low_memory=False)\n",
    "phenotypes_df = pd.read_csv(phenotypes_file, low_memory=False, usecols=[\"eid\", \"bmi\"], dtype={\"eid\": str, \"bmi\": np.float64})"
   ]
  },
  {
   "cell_type": "code",
   "execution_count": 4,
   "metadata": {},
   "outputs": [],
   "source": [
    "# get all single genes\n",
    "def get_unique_genes_from_combo_df(combo_df, ncombos):\n",
    "    gene_set = set()\n",
    "    for i in range(1, ncombos+1):\n",
    "        gene_set.update(list(combo_df[f\"Item_{i}_symbol\"]))\n",
    "    return gene_set\n",
    "\n",
    "\n",
    "def get_samples_with_hits(variants_df, gene_set):\n",
    "    return set(variants_df.loc[variants_df.SYMBOL.isin(gene_set)].Sample)\n",
    "\n",
    "def check_combo_func(gene_list, combo_list):\n",
    "    for combo in combo_list:\n",
    "        if all(gene in gene_list for gene in combo):\n",
    "            return True\n",
    "    return False\n",
    "\n",
    "def get_single_combo_phenos(variants_df, phenotypes_df, combinations_df, ncombos, ):\n",
    "    # get unique genes in combos\n",
    "    gene_set = get_unique_genes_from_combo_df(combinations_df, 2)\n",
    "    # sort combos by their gene names for consistency of pipeline\n",
    "    all_combos_sorted = sorted(map(lambda x: tuple(sorted(x)), zip(*[combinations_df[f\"Item_{c}_symbol\"].to_list() for c in range(1, ncombos+1)])))\n",
    "    # store gene to their combo mappings\n",
    "    gene_to_combo_map ={g:[] for g in gene_set}\n",
    "    for g in gene_set:\n",
    "        for c in all_combos_sorted:\n",
    "            if g in c:\n",
    "                gene_to_combo_map[g].append(c)\n",
    "    # get samples with a single hit of the gene and those with combinations\n",
    "    all_accepted_samples = set()\n",
    "    all_rejected_samples = set()\n",
    "    for g in gene_set:\n",
    "        # select samples with variants in those genes\n",
    "        samples_list = variants_df.loc[variants_df.SYMBOL.isin([g])].Sample\n",
    "        samples_df = variants_df.loc[variants_df.Sample.isin(samples_list)].groupby(\"Sample\").aggregate(lambda x: list(x))\n",
    "        # exclude samples which have the combinations for these genes\n",
    "        rejected_series = samples_df.SYMBOL.apply(check_combo_func, args=(gene_to_combo_map[g], )) \n",
    "        rejected_samples = samples_df.loc[rejected_series].index.to_list()\n",
    "        accepted_samples = samples_df.loc[~rejected_series].index.to_list()\n",
    "        all_accepted_samples.update(accepted_samples)\n",
    "        all_rejected_samples.update(rejected_samples)\n",
    "    # get rid of samples with other combo hits from single gene hits\n",
    "    all_accepted_samples =  all_accepted_samples - all_rejected_samples\n",
    "    single_hit_pheno = phenotypes_df.loc[phenotypes_df.eid.isin(all_accepted_samples)]\n",
    "    combo_hit_pheno = phenotypes_df.loc[phenotypes_df.eid.isin(all_rejected_samples)]\n",
    "    return single_hit_pheno, combo_hit_pheno"
   ]
  },
  {
   "cell_type": "code",
   "execution_count": 5,
   "metadata": {},
   "outputs": [],
   "source": [
    "single_hit_pheno_c2, combo_hit_pheno_c2 = get_single_combo_phenos(variants_df, phenotypes_df, combinations2_df, 2)\n",
    "single_hit_pheno_c3, combo_hit_pheno_c3 = get_single_combo_phenos(variants_df, phenotypes_df, combinations3_df, 3)"
   ]
  },
  {
   "attachments": {},
   "cell_type": "markdown",
   "metadata": {},
   "source": [
    "# Violin plot"
   ]
  },
  {
   "cell_type": "code",
   "execution_count": 6,
   "metadata": {},
   "outputs": [
    {
     "name": "stderr",
     "output_type": "stream",
     "text": [
      "/tmp/ipykernel_4058640/905299485.py:1: SettingWithCopyWarning: \n",
      "A value is trying to be set on a copy of a slice from a DataFrame.\n",
      "Try using .loc[row_indexer,col_indexer] = value instead\n",
      "\n",
      "See the caveats in the documentation: https://pandas.pydata.org/pandas-docs/stable/user_guide/indexing.html#returning-a-view-versus-a-copy\n",
      "  single_hit_pheno_c2[\"vtype\"] = \"Single hit\"\n",
      "/tmp/ipykernel_4058640/905299485.py:2: SettingWithCopyWarning: \n",
      "A value is trying to be set on a copy of a slice from a DataFrame.\n",
      "Try using .loc[row_indexer,col_indexer] = value instead\n",
      "\n",
      "See the caveats in the documentation: https://pandas.pydata.org/pandas-docs/stable/user_guide/indexing.html#returning-a-view-versus-a-copy\n",
      "  combo_hit_pheno_c2[\"vtype\"] = \"Combo hit\"\n",
      "/tmp/ipykernel_4058640/905299485.py:3: SettingWithCopyWarning: \n",
      "A value is trying to be set on a copy of a slice from a DataFrame.\n",
      "Try using .loc[row_indexer,col_indexer] = value instead\n",
      "\n",
      "See the caveats in the documentation: https://pandas.pydata.org/pandas-docs/stable/user_guide/indexing.html#returning-a-view-versus-a-copy\n",
      "  single_hit_pheno_c2[\"ncombo\"] = \"Digenic\"\n",
      "/tmp/ipykernel_4058640/905299485.py:4: SettingWithCopyWarning: \n",
      "A value is trying to be set on a copy of a slice from a DataFrame.\n",
      "Try using .loc[row_indexer,col_indexer] = value instead\n",
      "\n",
      "See the caveats in the documentation: https://pandas.pydata.org/pandas-docs/stable/user_guide/indexing.html#returning-a-view-versus-a-copy\n",
      "  combo_hit_pheno_c2[\"ncombo\"] = \"Digenic\"\n",
      "/tmp/ipykernel_4058640/905299485.py:6: SettingWithCopyWarning: \n",
      "A value is trying to be set on a copy of a slice from a DataFrame.\n",
      "Try using .loc[row_indexer,col_indexer] = value instead\n",
      "\n",
      "See the caveats in the documentation: https://pandas.pydata.org/pandas-docs/stable/user_guide/indexing.html#returning-a-view-versus-a-copy\n",
      "  single_hit_pheno_c3[\"vtype\"] = \"Single hit\"\n",
      "/tmp/ipykernel_4058640/905299485.py:7: SettingWithCopyWarning: \n",
      "A value is trying to be set on a copy of a slice from a DataFrame.\n",
      "Try using .loc[row_indexer,col_indexer] = value instead\n",
      "\n",
      "See the caveats in the documentation: https://pandas.pydata.org/pandas-docs/stable/user_guide/indexing.html#returning-a-view-versus-a-copy\n",
      "  combo_hit_pheno_c3[\"vtype\"] = \"Combo hit\"\n",
      "/tmp/ipykernel_4058640/905299485.py:8: SettingWithCopyWarning: \n",
      "A value is trying to be set on a copy of a slice from a DataFrame.\n",
      "Try using .loc[row_indexer,col_indexer] = value instead\n",
      "\n",
      "See the caveats in the documentation: https://pandas.pydata.org/pandas-docs/stable/user_guide/indexing.html#returning-a-view-versus-a-copy\n",
      "  single_hit_pheno_c3[\"ncombo\"] = \"Trigenic\"\n",
      "/tmp/ipykernel_4058640/905299485.py:9: SettingWithCopyWarning: \n",
      "A value is trying to be set on a copy of a slice from a DataFrame.\n",
      "Try using .loc[row_indexer,col_indexer] = value instead\n",
      "\n",
      "See the caveats in the documentation: https://pandas.pydata.org/pandas-docs/stable/user_guide/indexing.html#returning-a-view-versus-a-copy\n",
      "  combo_hit_pheno_c3[\"ncombo\"] = \"Trigenic\"\n"
     ]
    }
   ],
   "source": [
    "single_hit_pheno_c2[\"vtype\"] = \"Single hit\"\n",
    "combo_hit_pheno_c2[\"vtype\"] = \"Combo hit\"\n",
    "single_hit_pheno_c2[\"ncombo\"] = \"Digenic\"\n",
    "combo_hit_pheno_c2[\"ncombo\"] = \"Digenic\"\n",
    "\n",
    "single_hit_pheno_c3[\"vtype\"] = \"Single hit\"\n",
    "combo_hit_pheno_c3[\"vtype\"] = \"Combo hit\"\n",
    "single_hit_pheno_c3[\"ncombo\"] = \"Trigenic\"\n",
    "combo_hit_pheno_c3[\"ncombo\"] = \"Trigenic\""
   ]
  },
  {
   "cell_type": "code",
   "execution_count": 7,
   "metadata": {},
   "outputs": [],
   "source": [
    "violin_df = pd.concat((single_hit_pheno_c2, combo_hit_pheno_c2, single_hit_pheno_c3, combo_hit_pheno_c3), axis=0)"
   ]
  },
  {
   "cell_type": "code",
   "execution_count": 22,
   "metadata": {},
   "outputs": [
    {
     "data": {
      "image/png": "[encoded data removed]",
      "text/plain": [
       "<Figure size 576x432 with 1 Axes>"
      ]
     },
     "metadata": {
      "needs_background": "light"
     },
     "output_type": "display_data"
    }
   ],
   "source": [
    "fig = plt.figure(figsize=(8,6))\n",
    "sns_ax = sns.violinplot(\n",
    "    data=violin_df, x=\"vtype\", y=\"bmi\", \n",
    "    hue=\"ncombo\", split=True,\n",
    "    width=0.4, linewidth=2.5,\n",
    "    palette=[\"#008176\", \"#eecc16\"],  # \"#eecc16\", \"#c1272d\"\n",
    "    hue_order= [\"Digenic\", \"Trigenic\"],\n",
    "    )\n",
    "\n",
    "ax = plt.gca()\n",
    "sns_ax.set_xlabel(\"\")\n",
    "ax.spines[['right', 'top']].set_visible(False)\n"
   ]
  },
  {
   "cell_type": "code",
   "execution_count": null,
   "metadata": {},
   "outputs": [],
   "source": []
  },
  {
   "cell_type": "code",
   "execution_count": null,
   "metadata": {},
   "outputs": [],
   "source": []
  },
  {
   "cell_type": "code",
   "execution_count": 6,
   "metadata": {},
   "outputs": [
    {
     "name": "stderr",
     "output_type": "stream",
     "text": [
      "/tmp/ipykernel_4012371/1314108267.py:1: SettingWithCopyWarning: \n",
      "A value is trying to be set on a copy of a slice from a DataFrame.\n",
      "Try using .loc[row_indexer,col_indexer] = value instead\n",
      "\n",
      "See the caveats in the documentation: https://pandas.pydata.org/pandas-docs/stable/user_guide/indexing.html#returning-a-view-versus-a-copy\n",
      "  single_hit_pheno_c2[\"vtype\"] = \"single_hit\"\n",
      "/tmp/ipykernel_4012371/1314108267.py:2: SettingWithCopyWarning: \n",
      "A value is trying to be set on a copy of a slice from a DataFrame.\n",
      "Try using .loc[row_indexer,col_indexer] = value instead\n",
      "\n",
      "See the caveats in the documentation: https://pandas.pydata.org/pandas-docs/stable/user_guide/indexing.html#returning-a-view-versus-a-copy\n",
      "  combo_hit_pheno_c2[\"vtype\"] = \"combo_hit\"\n"
     ]
    },
    {
     "data": {
      "image/png": "[encoded data removed]",
      "text/plain": [
       "<Figure size 288x288 with 1 Axes>"
      ]
     },
     "metadata": {
      "needs_background": "light"
     },
     "output_type": "display_data"
    }
   ],
   "source": [
    "boxdf = pd.concat((single_hit_pheno_c2, combo_hit_pheno_c2), axis=0)\n",
    "\n",
    "# Box Plot\n",
    "sns_ax = sns.catplot(\n",
    "    data=boxdf,\n",
    "    palette=[\"#c1272d\", \"#00ADEE\"],  # \"#eecc16\", \"#008176\" '#D1245D', '#00ADEE', '#D1245D', '#00ADEE' \"#0000a7\"\n",
    "    kind=\"box\",\n",
    "    x=\"vtype\",\n",
    "    y=\"bmi\",\n",
    "    orient=\"v\",\n",
    "    height=4,\n",
    "    aspect=1,\n",
    "    width=0.4,\n",
    "    linewidth=2.5,\n",
    "    fliersize=3.5\n",
    "    )"
   ]
  },
  {
   "cell_type": "code",
   "execution_count": 7,
   "metadata": {},
   "outputs": [
    {
     "name": "stderr",
     "output_type": "stream",
     "text": [
      "/tmp/ipykernel_4012371/3610404233.py:1: SettingWithCopyWarning: \n",
      "A value is trying to be set on a copy of a slice from a DataFrame.\n",
      "Try using .loc[row_indexer,col_indexer] = value instead\n",
      "\n",
      "See the caveats in the documentation: https://pandas.pydata.org/pandas-docs/stable/user_guide/indexing.html#returning-a-view-versus-a-copy\n",
      "  single_hit_pheno_c3[\"vtype\"] = \"single_hit\"\n",
      "/tmp/ipykernel_4012371/3610404233.py:2: SettingWithCopyWarning: \n",
      "A value is trying to be set on a copy of a slice from a DataFrame.\n",
      "Try using .loc[row_indexer,col_indexer] = value instead\n",
      "\n",
      "See the caveats in the documentation: https://pandas.pydata.org/pandas-docs/stable/user_guide/indexing.html#returning-a-view-versus-a-copy\n",
      "  combo_hit_pheno_c3[\"vtype\"] = \"combo_hit\"\n"
     ]
    },
    {
     "data": {
      "image/png": "[encoded data removed]",
      "text/plain": [
       "<Figure size 288x288 with 1 Axes>"
      ]
     },
     "metadata": {
      "needs_background": "light"
     },
     "output_type": "display_data"
    }
   ],
   "source": [
    "boxdf = pd.concat((single_hit_pheno_c3, combo_hit_pheno_c3), axis=0)\n",
    "# # Define Canvas\n",
    "# fig,ax = plt.subplots(1, 1, figsize=(8, 8))\n",
    "\n",
    "# Box Plot\n",
    "sns_ax = sns.catplot(\n",
    "    data=boxdf,\n",
    "    palette=[\"#c1272d\", \"#00ADEE\"],  # \"#eecc16\", \"#008176\" '#D1245D', '#00ADEE', '#D1245D', '#00ADEE' \"#0000a7\"\n",
    "    kind=\"box\",\n",
    "    x=\"vtype\",\n",
    "    y=\"bmi\",\n",
    "    orient=\"v\",\n",
    "    height=4,\n",
    "    aspect=1,\n",
    "    width=0.4,\n",
    "    linewidth=2.5,\n",
    "    fliersize=3.5\n",
    "    )"
   ]
  },
  {
   "cell_type": "code",
   "execution_count": null,
   "metadata": {},
   "outputs": [],
   "source": []
  },
  {
   "cell_type": "code",
   "execution_count": null,
   "metadata": {},
   "outputs": [],
   "source": []
  },
  {
   "cell_type": "code",
   "execution_count": 8,
   "metadata": {},
   "outputs": [
    {
     "data": {
      "text/plain": [
       "(Ttest_indResult(statistic=-10.400470428015863, pvalue=1.4621164126916534e-25),\n",
       " KstestResult(statistic=0.32861802904881665, pvalue=8.849310932759738e-24))"
      ]
     },
     "execution_count": 8,
     "metadata": {},
     "output_type": "execute_result"
    }
   ],
   "source": [
    "ttest_ind(single_hit_pheno_c2.bmi, combo_hit_pheno_c2.bmi, alternative=\"less\"), kstest(single_hit_pheno_c2.bmi, combo_hit_pheno_c2.bmi)"
   ]
  },
  {
   "cell_type": "code",
   "execution_count": 9,
   "metadata": {},
   "outputs": [
    {
     "data": {
      "text/plain": [
       "(Ttest_indResult(statistic=-26.510898062286397, pvalue=8.810889200687164e-155),\n",
       " KstestResult(statistic=0.4330296110581548, pvalue=2.5767301611682205e-149))"
      ]
     },
     "execution_count": 9,
     "metadata": {},
     "output_type": "execute_result"
    }
   ],
   "source": [
    "ttest_ind(single_hit_pheno_c3.bmi, combo_hit_pheno_c3.bmi, alternative=\"less\"), kstest(single_hit_pheno_c3.bmi, combo_hit_pheno_c3.bmi)"
   ]
  },
  {
   "cell_type": "code",
   "execution_count": null,
   "metadata": {},
   "outputs": [],
   "source": []
  }
 ],
 "metadata": {
  "kernelspec": {
   "display_name": "starrseq",
   "language": "python",
   "name": "python3"
  },
  "language_info": {
   "codemirror_mode": {
    "name": "ipython",
    "version": 3
   },
   "file_extension": ".py",
   "mimetype": "text/x-python",
   "name": "python",
   "nbconvert_exporter": "python",
   "pygments_lexer": "ipython3",
   "version": "3.9.7"
  },
  "orig_nbformat": 4,
  "vscode": {
   "interpreter": {
    "hash": "06856c2527dea3cf472b3c4994ec564df76496982852535c5a9520cd26601212"
   }
  }
 },
 "nbformat": 4,
 "nbformat_minor": 2
}
