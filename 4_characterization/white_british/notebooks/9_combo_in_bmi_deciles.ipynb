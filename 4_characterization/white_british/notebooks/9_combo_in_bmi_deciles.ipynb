{
 "cells": [
  {
   "cell_type": "code",
   "execution_count": 1,
   "metadata": {},
   "outputs": [],
   "source": [
    "import numpy as np\n",
    "import pandas as pd\n",
    "from scipy.stats import kstest,ttest_ind\n",
    "import itertools as it\n",
    "from collections import Counter\n",
    "import seaborn as sns\n",
    "from matplotlib.ticker import MultipleLocator\n",
    "import matplotlib\n",
    "import matplotlib.pyplot as plt\n",
    "matplotlib.rcParams['pdf.fonttype'] = 42\n",
    "matplotlib.rcParams['ps.fonttype'] = 42\n",
    "matplotlib.rcParams.update({'font.size': 14, 'axes.linewidth': 2, 'xtick.major.width': 1.5, 'xtick.major.size': 7, 'ytick.major.width': 1.5, 'ytick.major.size': 7})"
   ]
  },
  {
   "cell_type": "code",
   "execution_count": 2,
   "metadata": {},
   "outputs": [],
   "source": [
    "variants_file = \"/data5/UK_Biobank/annotations/vep/2022_03_13/data/variants_by_gene/lof_missense_pred_freq_0.01.tsv\"\n",
    "phenotypes_file = \"/data5/deepro/ukbiobank/papers/bmi_project/2_prepare_data_for_analysis/white_british/data/samples_with_residuals.csv\"\n",
    "icd_file = \"/data5/deepro/ukbiobank/papers/bmi_project/1_parse_data/prepare_icd_codes/data/ukb30075_icd10.csv\""
   ]
  },
  {
   "cell_type": "code",
   "execution_count": 3,
   "metadata": {},
   "outputs": [],
   "source": [
    "combinations_files = [\n",
    "    \"/data5/deepro/ukbiobank/papers/bmi_project/3_run_rarecomb/white_british/data/parsed_tables/combo_2.csv\",\n",
    "    \"/data5/deepro/ukbiobank/papers/bmi_project/3_run_rarecomb/white_british/data/parsed_tables/combo_3.csv\"\n",
    "    ]"
   ]
  },
  {
   "cell_type": "code",
   "execution_count": 4,
   "metadata": {},
   "outputs": [],
   "source": [
    "def get_merged_combo_file(combo_files):\n",
    "    combo_dfs = [pd.read_csv(cf) for cf in combo_files]\n",
    "    combo_df = pd.concat(combo_dfs)\n",
    "    return combo_df"
   ]
  },
  {
   "cell_type": "code",
   "execution_count": 5,
   "metadata": {},
   "outputs": [],
   "source": [
    "combo_df = get_merged_combo_file(combinations_files)"
   ]
  },
  {
   "cell_type": "code",
   "execution_count": 6,
   "metadata": {},
   "outputs": [],
   "source": [
    "variants_df = pd.read_csv(variants_file, sep=\"\\t\", low_memory=False, usecols=[\"Sample\", \"variant_id\", \"Gene\", \"SYMBOL\", \"Mut_type\"], dtype=str)\n",
    "phenotypes_df = pd.read_csv(phenotypes_file, low_memory=False, usecols=[\"eid\", \"bmi\"], dtype={\"eid\": str, \"bmi\": np.float64})\n",
    "icd_df = pd.read_csv(icd_file, low_memory=False, dtype={\"eid\": str})"
   ]
  },
  {
   "cell_type": "code",
   "execution_count": 7,
   "metadata": {},
   "outputs": [],
   "source": [
    "variant_type_dict = {\"eid\":[], \"vtype\":[]}\n",
    "\n",
    "for uci in combo_df.unique_combo_id:\n",
    "    genes = uci.split(\"_\")\n",
    "    svdf = variants_df.loc[(variants_df.Gene.isin(genes))]\n",
    "    for group in svdf.groupby(\"Sample\"):\n",
    "        # if the set of genes is present in the sample variant df, that means the sample contains the combo\n",
    "        if set(genes).issubset(set(group[1].Gene)):\n",
    "            variant_type_dict[\"eid\"].append(group[0])\n",
    "            variant_type_dict[\"vtype\"].append(\"-\".join(sorted(group[1].Mut_type.unique())))"
   ]
  },
  {
   "cell_type": "code",
   "execution_count": 8,
   "metadata": {},
   "outputs": [],
   "source": [
    "# adding Quantile_rank column to the DataFrame\n",
    "decile_cut = pd.qcut(phenotypes_df['bmi'], 10, labels = False, retbins=True)\n",
    "phenotypes_df['Decile_rank'] = decile_cut[0]"
   ]
  },
  {
   "cell_type": "code",
   "execution_count": 9,
   "metadata": {},
   "outputs": [],
   "source": [
    "vtype_bmi_df = pd.DataFrame(variant_type_dict).merge(phenotypes_df, left_on=\"eid\", right_on=\"eid\")"
   ]
  },
  {
   "cell_type": "code",
   "execution_count": 12,
   "metadata": {},
   "outputs": [],
   "source": [
    "save_sample_file = \"/data5/deepro/ukbiobank/papers/bmi_project/4_characterization/white_british/data/enrichment/icd/samples_bmidecile1to3.txt\"\n",
    "\n",
    "with open(save_sample_file, \"w\") as f:\n",
    "    for sample in vtype_bmi_df.loc[vtype_bmi_df.Decile_rank<3, \"eid\"]:\n",
    "        f.write(f\"{sample}\\n\")"
   ]
  },
  {
   "cell_type": "code",
   "execution_count": 23,
   "metadata": {},
   "outputs": [],
   "source": [
    "profile_df = vtype_bmi_df.merge(icd_df, left_on=\"eid\", right_on=\"eid\")"
   ]
  },
  {
   "cell_type": "code",
   "execution_count": 64,
   "metadata": {},
   "outputs": [],
   "source": [
    "icd_columns = list(icd_df.columns)[1:]"
   ]
  },
  {
   "cell_type": "code",
   "execution_count": 88,
   "metadata": {},
   "outputs": [],
   "source": [
    "vtype_bmi_df[\"Diagnosis\"] = ~profile_df.loc[:, icd_columns].isna().all(axis=1)"
   ]
  },
  {
   "cell_type": "code",
   "execution_count": 89,
   "metadata": {},
   "outputs": [],
   "source": [
    "def create_decile_rank_plot(df):\n",
    "    fig,ax = plt.subplots(1,1,figsize=(8, 6))\n",
    "    g = sns.countplot(data=df, x=\"Decile_rank\", palette=\"Reds\", ax=ax,  linewidth=4, edgecolor=\"k\",) #facecolor=(0,0,0,0),\n",
    "    xticklabels = [\" - \".join([str(int(decile_cut[1][i])), str(int(decile_cut[1][i+1]))]) for i in range(10)]\n",
    "    g.set_xticklabels(xticklabels, rotation=0, ha=\"center\", fontsize=10)\n",
    "    g.set_xlabel(\"\")\n",
    "    return fig,ax"
   ]
  },
  {
   "cell_type": "code",
   "execution_count": 90,
   "metadata": {},
   "outputs": [
    {
     "data": {
      "text/plain": [
       "(<Figure size 576x432 with 1 Axes>, <AxesSubplot:ylabel='count'>)"
      ]
     },
     "execution_count": 90,
     "metadata": {},
     "output_type": "execute_result"
    },
    {
     "data": {
      "image/png": "[encoded data removed]",
      "text/plain": [
       "<Figure size 576x432 with 1 Axes>"
      ]
     },
     "metadata": {
      "needs_background": "light"
     },
     "output_type": "display_data"
    }
   ],
   "source": [
    "create_decile_rank_plot(vtype_bmi_df)"
   ]
  },
  {
   "cell_type": "code",
   "execution_count": 130,
   "metadata": {},
   "outputs": [],
   "source": [
    "all_icd_list = sum([icds.split(\",\") for icds in profile_df.loc[profile_df.Decile_rank<=2, icd_columns].apply(lambda x: ','.join(x.dropna().astype(str)),axis=1).values.flatten() if icds], [])"
   ]
  },
  {
   "cell_type": "code",
   "execution_count": 91,
   "metadata": {},
   "outputs": [
    {
     "data": {
      "text/html": [
       "<div>\n",
       "<style scoped>\n",
       "    .dataframe tbody tr th:only-of-type {\n",
       "        vertical-align: middle;\n",
       "    }\n",
       "\n",
       "    .dataframe tbody tr th {\n",
       "        vertical-align: top;\n",
       "    }\n",
       "\n",
       "    .dataframe thead th {\n",
       "        text-align: right;\n",
       "    }\n",
       "</style>\n",
       "<table border=\"1\" class=\"dataframe\">\n",
       "  <thead>\n",
       "    <tr style=\"text-align: right;\">\n",
       "      <th></th>\n",
       "      <th>eid</th>\n",
       "      <th>vtype</th>\n",
       "      <th>bmi</th>\n",
       "      <th>Decile_rank</th>\n",
       "      <th>Decile_label</th>\n",
       "      <th>Diagnosis</th>\n",
       "    </tr>\n",
       "  </thead>\n",
       "  <tbody>\n",
       "    <tr>\n",
       "      <th>0</th>\n",
       "      <td>1326452</td>\n",
       "      <td>missense</td>\n",
       "      <td>35.61130</td>\n",
       "      <td>9</td>\n",
       "      <td>33.3984 - 68.9505</td>\n",
       "      <td>True</td>\n",
       "    </tr>\n",
       "    <tr>\n",
       "      <th>1</th>\n",
       "      <td>1373844</td>\n",
       "      <td>lof-missense</td>\n",
       "      <td>31.97200</td>\n",
       "      <td>8</td>\n",
       "      <td>30.70712 - 33.3984</td>\n",
       "      <td>True</td>\n",
       "    </tr>\n",
       "    <tr>\n",
       "      <th>2</th>\n",
       "      <td>2051742</td>\n",
       "      <td>lof-missense</td>\n",
       "      <td>44.61120</td>\n",
       "      <td>9</td>\n",
       "      <td>33.3984 - 68.9505</td>\n",
       "      <td>True</td>\n",
       "    </tr>\n",
       "    <tr>\n",
       "      <th>3</th>\n",
       "      <td>2369124</td>\n",
       "      <td>missense</td>\n",
       "      <td>34.72960</td>\n",
       "      <td>9</td>\n",
       "      <td>33.3984 - 68.9505</td>\n",
       "      <td>True</td>\n",
       "    </tr>\n",
       "    <tr>\n",
       "      <th>4</th>\n",
       "      <td>2395237</td>\n",
       "      <td>missense</td>\n",
       "      <td>31.21750</td>\n",
       "      <td>8</td>\n",
       "      <td>30.70712 - 33.3984</td>\n",
       "      <td>True</td>\n",
       "    </tr>\n",
       "    <tr>\n",
       "      <th>...</th>\n",
       "      <td>...</td>\n",
       "      <td>...</td>\n",
       "      <td>...</td>\n",
       "      <td>...</td>\n",
       "      <td>...</td>\n",
       "      <td>...</td>\n",
       "    </tr>\n",
       "    <tr>\n",
       "      <th>1156</th>\n",
       "      <td>5187507</td>\n",
       "      <td>missense</td>\n",
       "      <td>26.77900</td>\n",
       "      <td>5</td>\n",
       "      <td>26.6948 - 27.7857</td>\n",
       "      <td>True</td>\n",
       "    </tr>\n",
       "    <tr>\n",
       "      <th>1157</th>\n",
       "      <td>5312084</td>\n",
       "      <td>missense</td>\n",
       "      <td>31.53875</td>\n",
       "      <td>8</td>\n",
       "      <td>30.70712 - 33.3984</td>\n",
       "      <td>True</td>\n",
       "    </tr>\n",
       "    <tr>\n",
       "      <th>1158</th>\n",
       "      <td>5518706</td>\n",
       "      <td>missense</td>\n",
       "      <td>21.08120</td>\n",
       "      <td>0</td>\n",
       "      <td>12.1212 - 22.112</td>\n",
       "      <td>False</td>\n",
       "    </tr>\n",
       "    <tr>\n",
       "      <th>1159</th>\n",
       "      <td>5770663</td>\n",
       "      <td>missense</td>\n",
       "      <td>24.95910</td>\n",
       "      <td>3</td>\n",
       "      <td>24.6559 - 25.683</td>\n",
       "      <td>True</td>\n",
       "    </tr>\n",
       "    <tr>\n",
       "      <th>1160</th>\n",
       "      <td>5804257</td>\n",
       "      <td>lof-missense</td>\n",
       "      <td>27.43940</td>\n",
       "      <td>5</td>\n",
       "      <td>26.6948 - 27.7857</td>\n",
       "      <td>True</td>\n",
       "    </tr>\n",
       "  </tbody>\n",
       "</table>\n",
       "<p>1161 rows × 6 columns</p>\n",
       "</div>"
      ],
      "text/plain": [
       "          eid         vtype       bmi  Decile_rank        Decile_label  \\\n",
       "0     1326452      missense  35.61130            9   33.3984 - 68.9505   \n",
       "1     1373844  lof-missense  31.97200            8  30.70712 - 33.3984   \n",
       "2     2051742  lof-missense  44.61120            9   33.3984 - 68.9505   \n",
       "3     2369124      missense  34.72960            9   33.3984 - 68.9505   \n",
       "4     2395237      missense  31.21750            8  30.70712 - 33.3984   \n",
       "...       ...           ...       ...          ...                 ...   \n",
       "1156  5187507      missense  26.77900            5   26.6948 - 27.7857   \n",
       "1157  5312084      missense  31.53875            8  30.70712 - 33.3984   \n",
       "1158  5518706      missense  21.08120            0    12.1212 - 22.112   \n",
       "1159  5770663      missense  24.95910            3    24.6559 - 25.683   \n",
       "1160  5804257  lof-missense  27.43940            5   26.6948 - 27.7857   \n",
       "\n",
       "      Diagnosis  \n",
       "0          True  \n",
       "1          True  \n",
       "2          True  \n",
       "3          True  \n",
       "4          True  \n",
       "...         ...  \n",
       "1156       True  \n",
       "1157       True  \n",
       "1158      False  \n",
       "1159       True  \n",
       "1160       True  \n",
       "\n",
       "[1161 rows x 6 columns]"
      ]
     },
     "execution_count": 91,
     "metadata": {},
     "output_type": "execute_result"
    }
   ],
   "source": [
    "vtype_bmi_df"
   ]
  },
  {
   "cell_type": "code",
   "execution_count": 97,
   "metadata": {},
   "outputs": [],
   "source": [
    "icd_bmi_df = vtype_bmi_df.groupby(\"Decile_rank\").agg({\"Diagnosis\": sum, \"eid\": len})\n",
    "icd_bmi_df[\"No_diagnosis\"] = icd_bmi_df.eid - icd_bmi_df.Diagnosis"
   ]
  },
  {
   "cell_type": "code",
   "execution_count": 104,
   "metadata": {},
   "outputs": [
    {
     "data": {
      "text/html": [
       "<div>\n",
       "<style scoped>\n",
       "    .dataframe tbody tr th:only-of-type {\n",
       "        vertical-align: middle;\n",
       "    }\n",
       "\n",
       "    .dataframe tbody tr th {\n",
       "        vertical-align: top;\n",
       "    }\n",
       "\n",
       "    .dataframe thead th {\n",
       "        text-align: right;\n",
       "    }\n",
       "</style>\n",
       "<table border=\"1\" class=\"dataframe\">\n",
       "  <thead>\n",
       "    <tr style=\"text-align: right;\">\n",
       "      <th></th>\n",
       "      <th>Diagnosis</th>\n",
       "      <th>eid</th>\n",
       "      <th>No_diagnosis</th>\n",
       "    </tr>\n",
       "    <tr>\n",
       "      <th>Decile_rank</th>\n",
       "      <th></th>\n",
       "      <th></th>\n",
       "      <th></th>\n",
       "    </tr>\n",
       "  </thead>\n",
       "  <tbody>\n",
       "    <tr>\n",
       "      <th>0</th>\n",
       "      <td>25</td>\n",
       "      <td>31</td>\n",
       "      <td>6</td>\n",
       "    </tr>\n",
       "    <tr>\n",
       "      <th>1</th>\n",
       "      <td>23</td>\n",
       "      <td>27</td>\n",
       "      <td>4</td>\n",
       "    </tr>\n",
       "    <tr>\n",
       "      <th>2</th>\n",
       "      <td>31</td>\n",
       "      <td>39</td>\n",
       "      <td>8</td>\n",
       "    </tr>\n",
       "    <tr>\n",
       "      <th>3</th>\n",
       "      <td>57</td>\n",
       "      <td>64</td>\n",
       "      <td>7</td>\n",
       "    </tr>\n",
       "    <tr>\n",
       "      <th>4</th>\n",
       "      <td>53</td>\n",
       "      <td>60</td>\n",
       "      <td>7</td>\n",
       "    </tr>\n",
       "    <tr>\n",
       "      <th>5</th>\n",
       "      <td>62</td>\n",
       "      <td>72</td>\n",
       "      <td>10</td>\n",
       "    </tr>\n",
       "    <tr>\n",
       "      <th>6</th>\n",
       "      <td>60</td>\n",
       "      <td>69</td>\n",
       "      <td>9</td>\n",
       "    </tr>\n",
       "    <tr>\n",
       "      <th>7</th>\n",
       "      <td>110</td>\n",
       "      <td>126</td>\n",
       "      <td>16</td>\n",
       "    </tr>\n",
       "    <tr>\n",
       "      <th>8</th>\n",
       "      <td>286</td>\n",
       "      <td>336</td>\n",
       "      <td>50</td>\n",
       "    </tr>\n",
       "    <tr>\n",
       "      <th>9</th>\n",
       "      <td>296</td>\n",
       "      <td>337</td>\n",
       "      <td>41</td>\n",
       "    </tr>\n",
       "  </tbody>\n",
       "</table>\n",
       "</div>"
      ],
      "text/plain": [
       "             Diagnosis  eid  No_diagnosis\n",
       "Decile_rank                              \n",
       "0                   25   31             6\n",
       "1                   23   27             4\n",
       "2                   31   39             8\n",
       "3                   57   64             7\n",
       "4                   53   60             7\n",
       "5                   62   72            10\n",
       "6                   60   69             9\n",
       "7                  110  126            16\n",
       "8                  286  336            50\n",
       "9                  296  337            41"
      ]
     },
     "execution_count": 104,
     "metadata": {},
     "output_type": "execute_result"
    }
   ],
   "source": [
    "icd_bmi_df"
   ]
  },
  {
   "cell_type": "code",
   "execution_count": 102,
   "metadata": {},
   "outputs": [
    {
     "data": {
      "text/plain": [
       "array([[  6,   4,   8,   7,   7,  10,   9,  16,  50,  41],\n",
       "       [ 25,  23,  31,  57,  53,  62,  60, 110, 286, 296]])"
      ]
     },
     "execution_count": 102,
     "metadata": {},
     "output_type": "execute_result"
    }
   ],
   "source": [
    "icd_bmi_df.loc[:, [\"No_diagnosis\", \"Diagnosis\"]].T.values"
   ]
  },
  {
   "cell_type": "code",
   "execution_count": 95,
   "metadata": {},
   "outputs": [],
   "source": [
    "from scipy.stats import chi2_contingency"
   ]
  },
  {
   "cell_type": "code",
   "execution_count": 103,
   "metadata": {},
   "outputs": [
    {
     "data": {
      "text/plain": [
       "(4.237518033045606,\n",
       " 0.8950956572727011,\n",
       " 9,\n",
       " array([[  4.21877692,   3.6744186 ,   5.30749354,   8.70973299,\n",
       "           8.16537468,   9.79844961,   9.39018088,  17.14728682,\n",
       "          45.72609819,  45.86218777],\n",
       "        [ 26.78122308,  23.3255814 ,  33.69250646,  55.29026701,\n",
       "          51.83462532,  62.20155039,  59.60981912, 108.85271318,\n",
       "         290.27390181, 291.13781223]]))"
      ]
     },
     "execution_count": 103,
     "metadata": {},
     "output_type": "execute_result"
    }
   ],
   "source": [
    "chi2_contingency(icd_bmi_df.loc[:, [\"No_diagnosis\", \"Diagnosis\"]].T.values)"
   ]
  },
  {
   "cell_type": "code",
   "execution_count": null,
   "metadata": {},
   "outputs": [],
   "source": []
  },
  {
   "cell_type": "code",
   "execution_count": 15,
   "metadata": {},
   "outputs": [
    {
     "data": {
      "image/png": "[encoded data removed]",
      "text/plain": [
       "<Figure size 432x288 with 1 Axes>"
      ]
     },
     "metadata": {
      "needs_background": "light"
     },
     "output_type": "display_data"
    }
   ],
   "source": [
    "g = sns.countplot(data=vtype_bmi_df, x=\"Decile_rank\", hue=\"vtype\", palette=\"Reds\", )\n",
    "g.set_yscale(\"log\")"
   ]
  },
  {
   "cell_type": "code",
   "execution_count": 16,
   "metadata": {},
   "outputs": [
    {
     "data": {
      "image/png": "[encoded data removed]",
      "text/plain": [
       "<Figure size 576x432 with 1 Axes>"
      ]
     },
     "metadata": {
      "needs_background": "light"
     },
     "output_type": "display_data"
    }
   ],
   "source": [
    "boxdf = vtype_bmi_df\n",
    "\n",
    "# Define Canvas\n",
    "fig,ax = plt.subplots(1, 1, figsize=(8, 6))\n",
    "\n",
    "# Box Plot\n",
    "sns_strip = sns.stripplot(\n",
    "    data=boxdf,\n",
    "    palette=[\"#00ADEE\", \"#eecc16\", \"#c1272d\", ],  # '#D1245D', '#00ADEE', '#D1245D', '#00ADEE' \"#0000a7\"\n",
    "    x=\"vtype\",\n",
    "    y=\"bmi\",\n",
    "    order=[\"missense\", \"lof-missense\", \"lof\"],\n",
    "    orient=\"v\",\n",
    "    s=4,\n",
    "    alpha=0.15, ec='black', linewidth=1, jitter=True, facecolors=\"none\", dodge=False, ax=ax \n",
    "    )\n",
    "\n",
    "sns_box = sns.boxplot(\n",
    "    data=boxdf,\n",
    "    palette=[\"#00ADEE\", \"#eecc16\", \"#c1272d\", ],  # '#D1245D', '#00ADEE', '#D1245D', '#00ADEE' \"#0000a7\"\n",
    "    x=\"vtype\",\n",
    "    y=\"bmi\",\n",
    "    order=[\"missense\", \"lof-missense\", \"lof\"],\n",
    "    hue_order=[\"missense\", \"lof-missense\", \"lof\"],\n",
    "    dodge=False, width=0.25, linewidth=4, fliersize=0.5)\n",
    "\n",
    "\n",
    "# Adjust Axis\n",
    "# ax.set_yticks([-0.02, 0, 0.02, 0.04])\n",
    "# ax.set_ylim((-0.025, 0.05))\n",
    "# ax.set_ylabel('Percentage')\n",
    "# ax.set_xticklabels([\"Akbari\\ngenes\", \"Turcot\\ngenes\", \"Digenic\\ncombinations\", \"Trigenic\\ncombinations\", ], rotation=0)\n",
    "ax.set_xlabel(\"\")\n",
    "\n",
    "# Remove Spines\n",
    "ax.spines['right'].set_visible(False)\n",
    "ax.spines['top'].set_visible(False);"
   ]
  },
  {
   "cell_type": "code",
   "execution_count": 17,
   "metadata": {},
   "outputs": [
    {
     "name": "stdout",
     "output_type": "stream",
     "text": [
      "Testing missense vs lof-missense\n",
      "Ttest_indResult(statistic=-2.0402606732858475, pvalue=0.04155203247447314)\n",
      "Testing missense vs lof\n",
      "Ttest_indResult(statistic=0.41068712172784744, pvalue=0.6814229852633193)\n",
      "Testing lof-missense vs lof\n",
      "Ttest_indResult(statistic=0.7013571697486168, pvalue=0.4834534578453238)\n"
     ]
    }
   ],
   "source": [
    "for test_vars in list(it.combinations(vtype_bmi_df.vtype.unique(), 2)):\n",
    "    bmi_g1 = vtype_bmi_df.loc[vtype_bmi_df.vtype==test_vars[0], \"bmi\"]\n",
    "    bmi_g2 = vtype_bmi_df.loc[vtype_bmi_df.vtype==test_vars[1], \"bmi\"]\n",
    "    print(f\"Testing {test_vars[0]} vs {test_vars[1]}\")\n",
    "    print(ttest_ind(bmi_g1, bmi_g2))"
   ]
  },
  {
   "cell_type": "code",
   "execution_count": null,
   "metadata": {},
   "outputs": [],
   "source": []
  }
 ],
 "metadata": {
  "kernelspec": {
   "display_name": "starrseq",
   "language": "python",
   "name": "python3"
  },
  "language_info": {
   "codemirror_mode": {
    "name": "ipython",
    "version": 3
   },
   "file_extension": ".py",
   "mimetype": "text/x-python",
   "name": "python",
   "nbconvert_exporter": "python",
   "pygments_lexer": "ipython3",
   "version": "3.9.7"
  },
  "orig_nbformat": 4
 },
 "nbformat": 4,
 "nbformat_minor": 2
}
