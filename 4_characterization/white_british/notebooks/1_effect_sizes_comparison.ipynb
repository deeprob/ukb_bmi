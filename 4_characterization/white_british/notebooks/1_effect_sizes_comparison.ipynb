{
 "cells": [
  {
   "cell_type": "code",
   "execution_count": 1,
   "metadata": {},
   "outputs": [],
   "source": [
    "import numpy as np\n",
    "import pandas as pd\n",
    "from scipy.stats import kstest,ttest_ind\n",
    "import seaborn as sns\n",
    "from matplotlib.ticker import MultipleLocator\n",
    "import matplotlib\n",
    "import matplotlib.pyplot as plt\n",
    "matplotlib.rcParams['pdf.fonttype'] = 42\n",
    "matplotlib.rcParams['ps.fonttype'] = 42\n",
    "matplotlib.rcParams.update({'font.size': 14, 'axes.linewidth': 2, 'xtick.major.width': 1.5, 'xtick.major.size': 7, 'ytick.major.width': 1.5, 'ytick.major.size': 7})\n",
    "from matplotlib.backends.backend_pdf import PdfPages"
   ]
  },
  {
   "cell_type": "code",
   "execution_count": 2,
   "metadata": {},
   "outputs": [],
   "source": [
    "efs_table = \"../data/effect_sizes/all.csv\"\n",
    "efs_df = pd.read_csv(efs_table)"
   ]
  },
  {
   "cell_type": "code",
   "execution_count": 3,
   "metadata": {},
   "outputs": [
    {
     "data": {
      "image/png": "[encoded data removed]",
      "text/plain": [
       "<Figure size 576x432 with 1 Axes>"
      ]
     },
     "metadata": {
      "needs_background": "light"
     },
     "output_type": "display_data"
    }
   ],
   "source": [
    "boxdf = efs_df\n",
    "\n",
    "# Define Canvas\n",
    "fig,ax = plt.subplots(1, 1, figsize=(8, 6))\n",
    "\n",
    "# Box Plot\n",
    "sns_strip = sns.stripplot(\n",
    "    data=boxdf,\n",
    "    palette=[\"#00ADEE\", \"#008176\", \"#eecc16\", \"#c1272d\", ],  # '#D1245D', '#00ADEE', '#D1245D', '#00ADEE' \"#0000a7\"\n",
    "    x=\"Description\",\n",
    "    y=\"Effect Size\",\n",
    "    order=[\"Akbari et. al.\", \"Turcot et. al.\", \"Digenic combinations\", \"Trigenic combinations\"],\n",
    "    orient=\"v\",\n",
    "    s=4,\n",
    "    alpha=0.75, ec='black', linewidth=1, jitter=False, facecolors=\"none\", dodge=False, ax=ax \n",
    "    )\n",
    "\n",
    "sns_box = sns.boxplot(\n",
    "    data=boxdf,\n",
    "    palette=[\"#00ADEE\", \"#008176\", \"#eecc16\", \"#FF3688\", ],  # '#D1245D', '#00ADEE', '#D1245D', '#00ADEE' \"#0000a7\"\n",
    "    x=\"Description\",\n",
    "    y=\"Effect Size\",\n",
    "    order=[\"Akbari et. al.\", \"Turcot et. al.\", \"Digenic combinations\", \"Trigenic combinations\"],\n",
    "    hue_order=[\"Akbari et. al.\", \"Turcot et. al.\", \"Digenic combinations\", \"Trigenic combinations\"],\n",
    "    dodge=False, width=0.25, linewidth=4, fliersize=7)\n",
    "\n",
    "\n",
    "# Adjust Axis\n",
    "ax.set_yticks([-0.02, 0, 0.02, 0.04])\n",
    "ax.set_ylim((-0.025, 0.05))\n",
    "# ax.set_ylabel('Percentage')\n",
    "ax.set_xticklabels([\"Akbari\\ngenes\", \"Turcot\\ngenes\", \"Digenic\\ncombinations\", \"Trigenic\\ncombinations\", ], rotation=0)\n",
    "ax.set_xlabel(\"\")\n",
    "\n",
    "# Remove Spines\n",
    "ax.spines['right'].set_visible(False)\n",
    "ax.spines['top'].set_visible(False);"
   ]
  },
  {
   "cell_type": "code",
   "execution_count": null,
   "metadata": {},
   "outputs": [],
   "source": []
  },
  {
   "cell_type": "code",
   "execution_count": null,
   "metadata": {},
   "outputs": [],
   "source": []
  },
  {
   "cell_type": "code",
   "execution_count": null,
   "metadata": {},
   "outputs": [],
   "source": []
  },
  {
   "cell_type": "code",
   "execution_count": 4,
   "metadata": {},
   "outputs": [],
   "source": [
    "digenic_effect_sizes = boxdf.loc[boxdf[\"Description\"]==\"Digenic combinations\", \"Effect Size\"]\n",
    "trigenic_effect_sizes = boxdf.loc[boxdf[\"Description\"]==\"Trigenic combinations\", \"Effect Size\"]\n",
    "akbari_effect_sizes = boxdf.loc[boxdf[\"Description\"]==\"Akbari et. al.\", \"Effect Size\"]\n",
    "turcot_effect_sizes = boxdf.loc[boxdf[\"Description\"]==\"Turcot et. al.\", \"Effect Size\"]"
   ]
  },
  {
   "cell_type": "code",
   "execution_count": 5,
   "metadata": {},
   "outputs": [
    {
     "data": {
      "text/plain": [
       "(Ttest_indResult(statistic=2.3357370249654372, pvalue=0.014751183840673006),\n",
       " KstestResult(statistic=0.8, pvalue=0.0004422821760278195))"
      ]
     },
     "execution_count": 5,
     "metadata": {},
     "output_type": "execute_result"
    }
   ],
   "source": [
    "ttest_ind(digenic_effect_sizes, akbari_effect_sizes, alternative=\"greater\"), kstest(digenic_effect_sizes, akbari_effect_sizes)"
   ]
  },
  {
   "cell_type": "code",
   "execution_count": 6,
   "metadata": {},
   "outputs": [
    {
     "data": {
      "text/plain": [
       "(Ttest_indResult(statistic=3.1565435609479473, pvalue=0.002729706003066182),\n",
       " KstestResult(statistic=0.8571428571428571, pvalue=0.0005159958720331037))"
      ]
     },
     "execution_count": 6,
     "metadata": {},
     "output_type": "execute_result"
    }
   ],
   "source": [
    "ttest_ind(digenic_effect_sizes, turcot_effect_sizes, alternative=\"greater\"), kstest(digenic_effect_sizes, turcot_effect_sizes)"
   ]
  },
  {
   "cell_type": "code",
   "execution_count": 7,
   "metadata": {},
   "outputs": [
    {
     "data": {
      "text/plain": [
       "(Ttest_indResult(statistic=4.996720653699655, pvalue=1.5412443741862547e-06),\n",
       " KstestResult(statistic=0.8, pvalue=1.989870879293143e-06))"
      ]
     },
     "execution_count": 7,
     "metadata": {},
     "output_type": "execute_result"
    }
   ],
   "source": [
    "ttest_ind(trigenic_effect_sizes, akbari_effect_sizes, alternative=\"greater\"), kstest(trigenic_effect_sizes, akbari_effect_sizes)"
   ]
  },
  {
   "cell_type": "code",
   "execution_count": 8,
   "metadata": {},
   "outputs": [
    {
     "data": {
      "text/plain": [
       "(Ttest_indResult(statistic=6.57760720929622, pvalue=2.08725217482329e-09),\n",
       " KstestResult(statistic=0.8571428571428571, pvalue=1.4081441675140027e-05))"
      ]
     },
     "execution_count": 8,
     "metadata": {},
     "output_type": "execute_result"
    }
   ],
   "source": [
    "ttest_ind(trigenic_effect_sizes, turcot_effect_sizes, alternative=\"greater\"), kstest(trigenic_effect_sizes, turcot_effect_sizes)"
   ]
  },
  {
   "cell_type": "code",
   "execution_count": 9,
   "metadata": {},
   "outputs": [],
   "source": [
    "all_combo_effect_sizes = pd.concat((digenic_effect_sizes, trigenic_effect_sizes))\n",
    "published_studies_effect_sizes = pd.concat((akbari_effect_sizes, turcot_effect_sizes))"
   ]
  },
  {
   "cell_type": "code",
   "execution_count": 10,
   "metadata": {},
   "outputs": [
    {
     "data": {
      "text/plain": [
       "(Ttest_indResult(statistic=6.741614682620024, pvalue=4.36244682736719e-10),\n",
       " KstestResult(statistic=0.8235294117647058, pvalue=8.739453605244307e-11))"
      ]
     },
     "execution_count": 10,
     "metadata": {},
     "output_type": "execute_result"
    }
   ],
   "source": [
    "ttest_ind(all_combo_effect_sizes, published_studies_effect_sizes, alternative=\"greater\"), kstest(all_combo_effect_sizes, published_studies_effect_sizes)"
   ]
  },
  {
   "cell_type": "code",
   "execution_count": null,
   "metadata": {},
   "outputs": [],
   "source": []
  }
 ],
 "metadata": {
  "kernelspec": {
   "display_name": "starrseq",
   "language": "python",
   "name": "python3"
  },
  "language_info": {
   "codemirror_mode": {
    "name": "ipython",
    "version": 3
   },
   "file_extension": ".py",
   "mimetype": "text/x-python",
   "name": "python",
   "nbconvert_exporter": "python",
   "pygments_lexer": "ipython3",
   "version": "3.9.7"
  },
  "orig_nbformat": 4,
  "vscode": {
   "interpreter": {
    "hash": "06856c2527dea3cf472b3c4994ec564df76496982852535c5a9520cd26601212"
   }
  }
 },
 "nbformat": 4,
 "nbformat_minor": 2
}
