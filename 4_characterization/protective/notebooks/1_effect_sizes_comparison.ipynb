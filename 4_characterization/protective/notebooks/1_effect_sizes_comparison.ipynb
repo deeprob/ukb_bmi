{
 "cells": [
  {
   "cell_type": "code",
   "execution_count": 3,
   "metadata": {},
   "outputs": [],
   "source": [
    "import numpy as np\n",
    "import pandas as pd\n",
    "from scipy.stats import kstest,ttest_ind\n",
    "import seaborn as sns\n",
    "from matplotlib.ticker import MultipleLocator\n",
    "import matplotlib\n",
    "import matplotlib.pyplot as plt\n",
    "matplotlib.rcParams['pdf.fonttype'] = 42\n",
    "matplotlib.rcParams['ps.fonttype'] = 42\n",
    "matplotlib.rcParams.update({'font.size': 14, 'axes.linewidth': 2, 'xtick.major.width': 1.5, 'xtick.major.size': 7, 'ytick.major.width': 1.5, 'ytick.major.size': 7})\n",
    "from matplotlib.backends.backend_pdf import PdfPages"
   ]
  },
  {
   "cell_type": "code",
   "execution_count": 4,
   "metadata": {},
   "outputs": [],
   "source": [
    "efs_table = \"/data5/deepro/ukbiobank/papers/bmi_project/4_characterization/protective/data/effect_sizes/all.csv\"\n",
    "efs_df = pd.read_csv(efs_table)"
   ]
  },
  {
   "cell_type": "code",
   "execution_count": 5,
   "metadata": {},
   "outputs": [
    {
     "data": {
      "text/plain": [
       "[Text(0, 0, 'Digenic\\ncombinations'),\n",
       " Text(1, 0, 'Trigenic\\ncombinations'),\n",
       " Text(2, 0, 'Akbari et. al.'),\n",
       " Text(3, 0, 'Turcot et. al.')]"
      ]
     },
     "execution_count": 5,
     "metadata": {},
     "output_type": "execute_result"
    },
    {
     "data": {
      "image/png": "[encoded data removed]",
      "text/plain": [
       "<Figure size 540x360 with 1 Axes>"
      ]
     },
     "metadata": {
      "needs_background": "light"
     },
     "output_type": "display_data"
    }
   ],
   "source": [
    "boxdf = efs_df\n",
    "\n",
    "# # Define Canvas\n",
    "# fig,ax = plt.subplots(1, 1, figsize=(8, 8))\n",
    "\n",
    "# Box Plot\n",
    "sns_ax = sns.catplot(\n",
    "    data=boxdf,\n",
    "    palette=[\"#c1272d\", \"#00ADEE\", \"#eecc16\", \"#008176\"],  # '#D1245D', '#00ADEE', '#D1245D', '#00ADEE' \"#0000a7\"\n",
    "    kind=\"box\",\n",
    "    x=\"Description\",\n",
    "    y=\"Effect Size\",\n",
    "    orient=\"v\",\n",
    "    aspect=1.5,\n",
    "    width=0.25,\n",
    "    linewidth=2.5,\n",
    "    fliersize=3.5\n",
    "    )\n",
    "\n",
    "\n",
    "# Adjust Axis\n",
    "# sns_ax.ax.set_yticks([-0.02, 0, 0.02, 0.04])\n",
    "# sns_ax.ax.set_ylim((-0.025, 0.5))\n",
    "# ax.set_ylabel('Percentage')\n",
    "sns_ax.ax.set_xticklabels([\"Digenic\\ncombinations\", \"Trigenic\\ncombinations\", \"Akbari et. al.\", \"Turcot et. al.\"],\n",
    "    rotation=0)\n",
    "# ax.set_ticklabels(\n",
    "#     [],\n",
    "#     rotation=90)\n",
    "\n",
    "# # Remove Spines\n",
    "# ax.spines['right'].set_visible(False)\n",
    "# ax.spines['top'].set_visible(False)"
   ]
  },
  {
   "cell_type": "code",
   "execution_count": 6,
   "metadata": {},
   "outputs": [],
   "source": [
    "digenic_effect_sizes = boxdf.loc[boxdf[\"Description\"]==\"Digenic combinations\", \"Effect Size\"]\n",
    "trigenic_effect_sizes = boxdf.loc[boxdf[\"Description\"]==\"Trigenic combinations\", \"Effect Size\"]\n",
    "akbari_effect_sizes = boxdf.loc[boxdf[\"Description\"]==\"Akbari et. al.\", \"Effect Size\"]\n",
    "turcot_effect_sizes = boxdf.loc[boxdf[\"Description\"]==\"Turcot et. al.\", \"Effect Size\"]"
   ]
  },
  {
   "cell_type": "code",
   "execution_count": 7,
   "metadata": {},
   "outputs": [
    {
     "data": {
      "text/plain": [
       "(Ttest_indResult(statistic=3.1140306619078366, pvalue=0.0019763303161623334),\n",
       " KstestResult(statistic=0.8, pvalue=4.9135143684653215e-05))"
      ]
     },
     "execution_count": 7,
     "metadata": {},
     "output_type": "execute_result"
    }
   ],
   "source": [
    "ttest_ind(digenic_effect_sizes, akbari_effect_sizes, alternative=\"greater\"), kstest(digenic_effect_sizes, akbari_effect_sizes)"
   ]
  },
  {
   "cell_type": "code",
   "execution_count": 8,
   "metadata": {},
   "outputs": [
    {
     "data": {
      "text/plain": [
       "(Ttest_indResult(statistic=4.158973053469578, pvalue=0.00013699517693096882),\n",
       " KstestResult(statistic=0.8571428571428571, pvalue=0.0001375380685727512))"
      ]
     },
     "execution_count": 8,
     "metadata": {},
     "output_type": "execute_result"
    }
   ],
   "source": [
    "ttest_ind(digenic_effect_sizes, turcot_effect_sizes, alternative=\"greater\"), kstest(digenic_effect_sizes, turcot_effect_sizes)"
   ]
  },
  {
   "cell_type": "code",
   "execution_count": 9,
   "metadata": {},
   "outputs": [
    {
     "data": {
      "text/plain": [
       "(Ttest_indResult(statistic=7.294084066245243, pvalue=3.6170968831862396e-11),\n",
       " KstestResult(statistic=0.8, pvalue=1.570305634523983e-06))"
      ]
     },
     "execution_count": 9,
     "metadata": {},
     "output_type": "execute_result"
    }
   ],
   "source": [
    "ttest_ind(trigenic_effect_sizes, akbari_effect_sizes, alternative=\"greater\"), kstest(trigenic_effect_sizes, akbari_effect_sizes)"
   ]
  },
  {
   "cell_type": "code",
   "execution_count": 10,
   "metadata": {},
   "outputs": [
    {
     "data": {
      "text/plain": [
       "(Ttest_indResult(statistic=9.198587299134543, pvalue=3.606204307235232e-15),\n",
       " KstestResult(statistic=0.8571428571428571, pvalue=1.0425046762629897e-05))"
      ]
     },
     "execution_count": 10,
     "metadata": {},
     "output_type": "execute_result"
    }
   ],
   "source": [
    "ttest_ind(trigenic_effect_sizes, turcot_effect_sizes, alternative=\"greater\"), kstest(trigenic_effect_sizes, turcot_effect_sizes)"
   ]
  },
  {
   "cell_type": "code",
   "execution_count": 11,
   "metadata": {},
   "outputs": [],
   "source": [
    "all_combo_effect_sizes = pd.concat((digenic_effect_sizes, trigenic_effect_sizes))\n",
    "published_studies_effect_sizes = pd.concat((akbari_effect_sizes, turcot_effect_sizes))"
   ]
  },
  {
   "cell_type": "code",
   "execution_count": 12,
   "metadata": {},
   "outputs": [
    {
     "data": {
      "text/plain": [
       "(Ttest_indResult(statistic=8.803730339353377, pvalue=3.556032955051476e-15),\n",
       " KstestResult(statistic=0.8235294117647058, pvalue=4.212186155427844e-11))"
      ]
     },
     "execution_count": 12,
     "metadata": {},
     "output_type": "execute_result"
    }
   ],
   "source": [
    "ttest_ind(all_combo_effect_sizes, published_studies_effect_sizes, alternative=\"greater\"), kstest(all_combo_effect_sizes, published_studies_effect_sizes)"
   ]
  },
  {
   "cell_type": "code",
   "execution_count": null,
   "metadata": {},
   "outputs": [],
   "source": []
  }
 ],
 "metadata": {
  "kernelspec": {
   "display_name": "starrseq",
   "language": "python",
   "name": "python3"
  },
  "language_info": {
   "codemirror_mode": {
    "name": "ipython",
    "version": 3
   },
   "file_extension": ".py",
   "mimetype": "text/x-python",
   "name": "python",
   "nbconvert_exporter": "python",
   "pygments_lexer": "ipython3",
   "version": "3.9.7"
  },
  "orig_nbformat": 4,
  "vscode": {
   "interpreter": {
    "hash": "06856c2527dea3cf472b3c4994ec564df76496982852535c5a9520cd26601212"
   }
  }
 },
 "nbformat": 4,
 "nbformat_minor": 2
}
