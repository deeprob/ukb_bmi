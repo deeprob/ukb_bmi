{
 "cells": [
  {
   "cell_type": "code",
   "execution_count": 1,
   "metadata": {},
   "outputs": [],
   "source": [
    "import numpy as np\n",
    "import pandas as pd"
   ]
  },
  {
   "cell_type": "code",
   "execution_count": 2,
   "metadata": {},
   "outputs": [],
   "source": [
    "gv_file = \"/data5/deepro/ukbiobank/papers/bmi_project/4_characterization/protective/protective_noicd/data/variably_expressive/gene_variants.csv\"\n",
    "gv_formatted_file = \"/data5/deepro/ukbiobank/papers/bmi_project/4_characterization/protective/protective_noicd/data/variably_expressive/gene_variants_formatted.csv\""
   ]
  },
  {
   "cell_type": "code",
   "execution_count": 3,
   "metadata": {},
   "outputs": [],
   "source": [
    "gv_df = pd.read_csv(gv_file, usecols=[\"Sample\", \"SYMBOL\", \"Mut_type\", \"variant_id\", \"obesity_type\"])"
   ]
  },
  {
   "cell_type": "code",
   "execution_count": 4,
   "metadata": {},
   "outputs": [],
   "source": [
    "grouped_gv_df = gv_df.groupby([\"variant_id\", \"SYMBOL\", \"Mut_type\"]).agg({\"Sample\": lambda x: len(x), \"obesity_type\": lambda x: \"variably_expressive\" if len(np.unique(x))>1 else np.unique(x)[0]})"
   ]
  },
  {
   "cell_type": "code",
   "execution_count": 7,
   "metadata": {},
   "outputs": [],
   "source": [
    "ot_color_dict = {\"protection\": \"#1e61a5\", \"risk\": \"#ab162a\", \"variably_expressive\": \"#ba6598\"}"
   ]
  },
  {
   "cell_type": "code",
   "execution_count": 9,
   "metadata": {},
   "outputs": [],
   "source": [
    "grouped_gv_df[\"obesity_type_color\"] = grouped_gv_df.obesity_type.map(ot_color_dict)"
   ]
  },
  {
   "cell_type": "code",
   "execution_count": 10,
   "metadata": {},
   "outputs": [
    {
     "data": {
      "text/html": [
       "<div>\n",
       "<style scoped>\n",
       "    .dataframe tbody tr th:only-of-type {\n",
       "        vertical-align: middle;\n",
       "    }\n",
       "\n",
       "    .dataframe tbody tr th {\n",
       "        vertical-align: top;\n",
       "    }\n",
       "\n",
       "    .dataframe thead th {\n",
       "        text-align: right;\n",
       "    }\n",
       "</style>\n",
       "<table border=\"1\" class=\"dataframe\">\n",
       "  <thead>\n",
       "    <tr style=\"text-align: right;\">\n",
       "      <th></th>\n",
       "      <th></th>\n",
       "      <th></th>\n",
       "      <th>Sample</th>\n",
       "      <th>obesity_type</th>\n",
       "      <th>obesity_type_color</th>\n",
       "    </tr>\n",
       "    <tr>\n",
       "      <th>variant_id</th>\n",
       "      <th>SYMBOL</th>\n",
       "      <th>Mut_type</th>\n",
       "      <th></th>\n",
       "      <th></th>\n",
       "      <th></th>\n",
       "    </tr>\n",
       "  </thead>\n",
       "  <tbody>\n",
       "    <tr>\n",
       "      <th>chr11_77147904_G_A</th>\n",
       "      <th>MYO7A</th>\n",
       "      <th>missense</th>\n",
       "      <td>1</td>\n",
       "      <td>risk</td>\n",
       "      <td>#ab162a</td>\n",
       "    </tr>\n",
       "    <tr>\n",
       "      <th>chr11_77156001_T_C</th>\n",
       "      <th>MYO7A</th>\n",
       "      <th>missense</th>\n",
       "      <td>1</td>\n",
       "      <td>risk</td>\n",
       "      <td>#ab162a</td>\n",
       "    </tr>\n",
       "    <tr>\n",
       "      <th>chr11_77158332_G_A</th>\n",
       "      <th>MYO7A</th>\n",
       "      <th>missense</th>\n",
       "      <td>7</td>\n",
       "      <td>variably_expressive</td>\n",
       "      <td>#ba6598</td>\n",
       "    </tr>\n",
       "    <tr>\n",
       "      <th>chr11_77159450_G_A</th>\n",
       "      <th>MYO7A</th>\n",
       "      <th>missense</th>\n",
       "      <td>4</td>\n",
       "      <td>risk</td>\n",
       "      <td>#ab162a</td>\n",
       "    </tr>\n",
       "    <tr>\n",
       "      <th>chr11_77160193_A_T</th>\n",
       "      <th>MYO7A</th>\n",
       "      <th>missense</th>\n",
       "      <td>1</td>\n",
       "      <td>protection</td>\n",
       "      <td>#1e61a5</td>\n",
       "    </tr>\n",
       "    <tr>\n",
       "      <th>...</th>\n",
       "      <th>...</th>\n",
       "      <th>...</th>\n",
       "      <td>...</td>\n",
       "      <td>...</td>\n",
       "      <td>...</td>\n",
       "    </tr>\n",
       "    <tr>\n",
       "      <th>chr6_32584185_C_CT</th>\n",
       "      <th>HLA-DRB1</th>\n",
       "      <th>lof</th>\n",
       "      <td>8</td>\n",
       "      <td>variably_expressive</td>\n",
       "      <td>#ba6598</td>\n",
       "    </tr>\n",
       "    <tr>\n",
       "      <th>chr6_32584279_AC_A</th>\n",
       "      <th>HLA-DRB1</th>\n",
       "      <th>lof</th>\n",
       "      <td>4</td>\n",
       "      <td>risk</td>\n",
       "      <td>#ab162a</td>\n",
       "    </tr>\n",
       "    <tr>\n",
       "      <th>chr6_32584283_A_AG</th>\n",
       "      <th>HLA-DRB1</th>\n",
       "      <th>lof</th>\n",
       "      <td>4</td>\n",
       "      <td>risk</td>\n",
       "      <td>#ab162a</td>\n",
       "    </tr>\n",
       "    <tr>\n",
       "      <th>chr6_32584366_C_T</th>\n",
       "      <th>HLA-DRB1</th>\n",
       "      <th>lof</th>\n",
       "      <td>1</td>\n",
       "      <td>protection</td>\n",
       "      <td>#1e61a5</td>\n",
       "    </tr>\n",
       "    <tr>\n",
       "      <th>chr6_32584369_AG_A</th>\n",
       "      <th>HLA-DRB1</th>\n",
       "      <th>lof</th>\n",
       "      <td>1</td>\n",
       "      <td>risk</td>\n",
       "      <td>#ab162a</td>\n",
       "    </tr>\n",
       "  </tbody>\n",
       "</table>\n",
       "<p>375 rows × 3 columns</p>\n",
       "</div>"
      ],
      "text/plain": [
       "                                      Sample         obesity_type  \\\n",
       "variant_id         SYMBOL   Mut_type                                \n",
       "chr11_77147904_G_A MYO7A    missense       1                 risk   \n",
       "chr11_77156001_T_C MYO7A    missense       1                 risk   \n",
       "chr11_77158332_G_A MYO7A    missense       7  variably_expressive   \n",
       "chr11_77159450_G_A MYO7A    missense       4                 risk   \n",
       "chr11_77160193_A_T MYO7A    missense       1           protection   \n",
       "...                                      ...                  ...   \n",
       "chr6_32584185_C_CT HLA-DRB1 lof            8  variably_expressive   \n",
       "chr6_32584279_AC_A HLA-DRB1 lof            4                 risk   \n",
       "chr6_32584283_A_AG HLA-DRB1 lof            4                 risk   \n",
       "chr6_32584366_C_T  HLA-DRB1 lof            1           protection   \n",
       "chr6_32584369_AG_A HLA-DRB1 lof            1                 risk   \n",
       "\n",
       "                                     obesity_type_color  \n",
       "variant_id         SYMBOL   Mut_type                     \n",
       "chr11_77147904_G_A MYO7A    missense            #ab162a  \n",
       "chr11_77156001_T_C MYO7A    missense            #ab162a  \n",
       "chr11_77158332_G_A MYO7A    missense            #ba6598  \n",
       "chr11_77159450_G_A MYO7A    missense            #ab162a  \n",
       "chr11_77160193_A_T MYO7A    missense            #1e61a5  \n",
       "...                                                 ...  \n",
       "chr6_32584185_C_CT HLA-DRB1 lof                 #ba6598  \n",
       "chr6_32584279_AC_A HLA-DRB1 lof                 #ab162a  \n",
       "chr6_32584283_A_AG HLA-DRB1 lof                 #ab162a  \n",
       "chr6_32584366_C_T  HLA-DRB1 lof                 #1e61a5  \n",
       "chr6_32584369_AG_A HLA-DRB1 lof                 #ab162a  \n",
       "\n",
       "[375 rows x 3 columns]"
      ]
     },
     "execution_count": 10,
     "metadata": {},
     "output_type": "execute_result"
    }
   ],
   "source": [
    "grouped_gv_df"
   ]
  },
  {
   "cell_type": "code",
   "execution_count": 11,
   "metadata": {},
   "outputs": [],
   "source": [
    "grouped_gv_df.to_csv(gv_formatted_file, index=True)"
   ]
  },
  {
   "cell_type": "code",
   "execution_count": null,
   "metadata": {},
   "outputs": [],
   "source": []
  }
 ],
 "metadata": {
  "kernelspec": {
   "display_name": "starrseq",
   "language": "python",
   "name": "python3"
  },
  "language_info": {
   "codemirror_mode": {
    "name": "ipython",
    "version": 3
   },
   "file_extension": ".py",
   "mimetype": "text/x-python",
   "name": "python",
   "nbconvert_exporter": "python",
   "pygments_lexer": "ipython3",
   "version": "3.9.7"
  },
  "orig_nbformat": 4
 },
 "nbformat": 4,
 "nbformat_minor": 2
}
