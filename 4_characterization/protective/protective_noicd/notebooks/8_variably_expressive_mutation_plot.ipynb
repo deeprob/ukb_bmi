{
 "cells": [
  {
   "attachments": {},
   "cell_type": "markdown",
   "metadata": {},
   "source": [
    "# Creating the environment\n",
    "This env is required to run this notebook with trackviewer\n",
    "\n",
    "\n",
    "$ conda create -n genome-view -c conda-forge -c bioconda jupyter r-irkernel bioconductor-trackviewer\n",
    "\n",
    "Note: Trackviewer citation: https://www.nature.com/articles/s41592-019-0430-y#Sec2"
   ]
  },
  {
   "attachments": {},
   "cell_type": "markdown",
   "metadata": {},
   "source": [
    "# Example from their package \n",
    "link: https://www.bioconductor.org/packages/release/bioc/vignettes/trackViewer/inst/doc/trackViewer.html#Lolliplot"
   ]
  },
  {
   "cell_type": "code",
   "execution_count": 1,
   "metadata": {
    "vscode": {
     "languageId": "r"
    }
   },
   "outputs": [
    {
     "name": "stderr",
     "output_type": "stream",
     "text": [
      "Warning message:\n",
      "“package ‘repr’ was built under R version 4.2.2”\n",
      "Warning message:\n",
      "“package ‘trackViewer’ was built under R version 4.2.2”\n",
      "Loading required package: GenomicRanges\n",
      "\n",
      "Warning message:\n",
      "“package ‘GenomicRanges’ was built under R version 4.2.2”\n",
      "Loading required package: stats4\n",
      "\n",
      "Loading required package: BiocGenerics\n",
      "\n",
      "Warning message:\n",
      "“package ‘BiocGenerics’ was built under R version 4.2.1”\n",
      "\n",
      "Attaching package: ‘BiocGenerics’\n",
      "\n",
      "\n",
      "The following objects are masked from ‘package:stats’:\n",
      "\n",
      "    IQR, mad, sd, var, xtabs\n",
      "\n",
      "\n",
      "The following objects are masked from ‘package:base’:\n",
      "\n",
      "    anyDuplicated, aperm, append, as.data.frame, basename, cbind,\n",
      "    colnames, dirname, do.call, duplicated, eval, evalq, Filter, Find,\n",
      "    get, grep, grepl, intersect, is.unsorted, lapply, Map, mapply,\n",
      "    match, mget, order, paste, pmax, pmax.int, pmin, pmin.int,\n",
      "    Position, rank, rbind, Reduce, rownames, sapply, setdiff, sort,\n",
      "    table, tapply, union, unique, unsplit, which.max, which.min\n",
      "\n",
      "\n",
      "Loading required package: S4Vectors\n",
      "\n",
      "Warning message:\n",
      "“package ‘S4Vectors’ was built under R version 4.2.1”\n",
      "\n",
      "Attaching package: ‘S4Vectors’\n",
      "\n",
      "\n",
      "The following objects are masked from ‘package:base’:\n",
      "\n",
      "    expand.grid, I, unname\n",
      "\n",
      "\n",
      "Loading required package: IRanges\n",
      "\n",
      "Warning message:\n",
      "“package ‘IRanges’ was built under R version 4.2.1”\n",
      "Loading required package: GenomeInfoDb\n",
      "\n",
      "Warning message:\n",
      "“package ‘GenomeInfoDb’ was built under R version 4.2.2”\n",
      "Loading required package: grid\n",
      "\n",
      "Loading required package: Rcpp\n",
      "\n",
      "Warning message:\n",
      "“package ‘Rcpp’ was built under R version 4.2.2”\n",
      "Warning message:\n",
      "\"package 'tidyr' was built under R version 4.2.2\"\n",
      "\n",
      "Attaching package: 'tidyr'\n",
      "\n",
      "\n",
      "The following object is masked from 'package:S4Vectors':\n",
      "\n",
      "    expand\n",
      "\n",
      "\n",
      "Warning message:\n",
      "\"package 'dplyr' was built under R version 4.2.3\"\n",
      "\n",
      "Attaching package: 'dplyr'\n",
      "\n",
      "\n",
      "The following objects are masked from 'package:GenomicRanges':\n",
      "\n",
      "    intersect, setdiff, union\n",
      "\n",
      "\n",
      "The following object is masked from 'package:GenomeInfoDb':\n",
      "\n",
      "    intersect\n",
      "\n",
      "\n",
      "The following objects are masked from 'package:IRanges':\n",
      "\n",
      "    collapse, desc, intersect, setdiff, slice, union\n",
      "\n",
      "\n",
      "The following objects are masked from 'package:S4Vectors':\n",
      "\n",
      "    first, intersect, rename, setdiff, setequal, union\n",
      "\n",
      "\n",
      "The following objects are masked from 'package:BiocGenerics':\n",
      "\n",
      "    combine, intersect, setdiff, union\n",
      "\n",
      "\n",
      "The following objects are masked from 'package:stats':\n",
      "\n",
      "    filter, lag\n",
      "\n",
      "\n",
      "The following objects are masked from 'package:base':\n",
      "\n",
      "    intersect, setdiff, setequal, union\n",
      "\n",
      "\n"
     ]
    }
   ],
   "source": [
    "library(repr)\n",
    "library(trackViewer)\n",
    "library(tidyr)\n",
    "library(dplyr)"
   ]
  },
  {
   "cell_type": "code",
   "execution_count": 6,
   "metadata": {
    "vscode": {
     "languageId": "r"
    }
   },
   "outputs": [],
   "source": [
    "gencode_file = \"/data5/bx_reference/hg38/annotations/gene_annotations/GENCODE39/gencode.v39.basic.parsed.exons.tsv\"\n",
    "variant_file = \"/data5/deepro/ukbiobank/papers/bmi_project/4_characterization/protective/protective_noicd/data/variably_expressive/gene_variants_formatted.csv\""
   ]
  },
  {
   "cell_type": "code",
   "execution_count": 72,
   "metadata": {
    "vscode": {
     "languageId": "r"
    }
   },
   "outputs": [],
   "source": [
    "gencode_df = read.csv(file = gencode_file, sep=\"\\t\")[ ,c('Chrom', 'Start', 'End', 'Feature', 'gene_name')]\n",
    "variant_df = read.csv(file = variant_file)[ ,c('Sample', 'SYMBOL', 'Mut_type', 'variant_id', 'obesity_type', 'obesity_type_color')]"
   ]
  },
  {
   "cell_type": "code",
   "execution_count": 73,
   "metadata": {
    "vscode": {
     "languageId": "r"
    }
   },
   "outputs": [],
   "source": [
    "variant_df = separate(variant_df, variant_id, c(\"Chrom\", \"Location\", \"Ref\", \"Alt\"), \"_\")"
   ]
  },
  {
   "attachments": {},
   "cell_type": "markdown",
   "metadata": {},
   "source": [
    "# TTN\n"
   ]
  },
  {
   "cell_type": "code",
   "execution_count": 207,
   "metadata": {
    "vscode": {
     "languageId": "r"
    }
   },
   "outputs": [
    {
     "data": {
      "text/html": [
       "<strong>png:</strong> 2"
      ],
      "text/latex": [
       "\\textbf{png:} 2"
      ],
      "text/markdown": [
       "**png:** 2"
      ],
      "text/plain": [
       "png \n",
       "  2 "
      ]
     },
     "metadata": {},
     "output_type": "display_data"
    }
   ],
   "source": [
    "gene_df = variant_df[variant_df$SYMBOL==\"TTN\",]\n",
    "class(gene_df$Location) = \"integer\"\n",
    "gene_df = gene_df[order(gene_df$Location),]\n",
    "gencode_gene_df = gencode_df[gencode_df$gene_name==\"TTN\",] %>% distinct()\n",
    "\n",
    "gene_df_selected = gene_df[1:11,]\n",
    "\n",
    "# creating function to computer product\n",
    "is_present = function(df){\n",
    "    start = df[\"Start\"]\n",
    "    end = df[\"End\"]\n",
    "    class(start) = \"numeric\"\n",
    "    class(end) = \"numeric\"\n",
    "    flag = FALSE\n",
    "    for (l in gene_df_selected$Location) {\n",
    "        if((l > start) & (l < end)) {\n",
    "            flag = TRUE \n",
    "            break\n",
    "            } \n",
    "    }\n",
    "\n",
    "  # return product\n",
    "  return(flag)\n",
    "}\n",
    "\n",
    "gencode_gene_df_selected = gencode_gene_df[apply(gencode_gene_df, 1, is_present),]\n",
    "gencode_gene_df_selected$Width = gencode_gene_df_selected$End - gencode_gene_df_selected$Start\n",
    "\n",
    "SNP <- gene_df_selected$Location\n",
    "# defining the initial snps \n",
    "sample.gr <- GRanges(\"chr2\", IRanges(SNP, width=1, names=SNP))\n",
    "# adding features to the genomic regions\n",
    "features <- GRanges(\"chr2\", IRanges(gencode_gene_df_selected$Start, \n",
    "                                    width=gencode_gene_df_selected$Width,\n",
    "                    fill = rep(c(\"#FF8833\", \"#51C6E6\", \"#DFA32D\"), each = 1, length.out = length(gencode_gene_df_selected$Start)),\n",
    "                    height = rep(c(0.025, 0.025), each = 1, length.out = length(gencode_gene_df_selected$Start))))\n",
    "## adding colors to unique features\n",
    "sample.gr$color <- gene_df_selected$obesity_type_color\n",
    "# sample.gr$border <- sample(c(\"gray30\", \"gray30\"), length(SNP), replace=TRUE)\n",
    "sample.gr$alpha <- 1 #sample(100:255, length(SNP), replace = TRUE)/255\n",
    "# ## adding index labels to nodes : not working\n",
    "# sample.gr$node.label <- as.character(1:length(sample.gr))\n",
    "# sample.gr$node.label.col <- \n",
    "#   ifelse(sample.gr$alpha>0.5 | sample.gr$color==1, \"white\", \"black\")\n",
    "# sample.gr$node.label.cex <- 1\n",
    "#Try a score value greater than 10\n",
    "sample.gr$score <- gene_df_selected$Sample\n",
    "# # add xticks\n",
    "# xaxis <- c(1, 200, 400, 701, 1000, 1200, 1402)\n",
    "## use list to define more attributes. see ?grid::gpar to get more details.\n",
    "legend <- c(\"#ab162a\", \"#1e61a5\", \"#ba6598\") ## legend fill color\n",
    "names(legend) <- c(\"risk\", \"protection\", \"variably_expressive\") ## legend labels\n",
    "legend <- list(labels=c(\"risk\", \"protection\", \"variably_expressive\") , \n",
    "               col=c(\"#ab162a\", \"#1e61a5\", \"#ba6598\"), \n",
    "               fill=c(\"#ab162a\", \"#1e61a5\", \"#ba6598\"))\n",
    "\n",
    "\n",
    "pdf(file = \"../data/variably_expressive/lolliplots/TTN.pdf\",   # The directory you want to save the file in\n",
    "    width = 8, # The width of the plot in inches\n",
    "    height = 6) # The height of the plot in inches\n",
    "options(repr.plot.width=12, repr.plot.height=10)\n",
    "lolliplot(sample.gr, features, legend=legend)\n",
    "dev.off()"
   ]
  },
  {
   "attachments": {},
   "cell_type": "markdown",
   "metadata": {},
   "source": [
    "# RYR3"
   ]
  },
  {
   "cell_type": "code",
   "execution_count": 225,
   "metadata": {
    "vscode": {
     "languageId": "r"
    }
   },
   "outputs": [
    {
     "data": {
      "text/html": [
       "<strong>png:</strong> 2"
      ],
      "text/latex": [
       "\\textbf{png:} 2"
      ],
      "text/markdown": [
       "**png:** 2"
      ],
      "text/plain": [
       "png \n",
       "  2 "
      ]
     },
     "metadata": {},
     "output_type": "display_data"
    }
   ],
   "source": [
    "gene_df = variant_df[variant_df$SYMBOL==\"RYR3\",]\n",
    "class(gene_df$Location) = \"integer\"\n",
    "gene_df = gene_df[order(gene_df$Location),]\n",
    "gencode_gene_df = gencode_df[gencode_df$gene_name==\"RYR3\",] %>% distinct()\n",
    "\n",
    "gene_df_selected = gene_df[16:32,]\n",
    "\n",
    "# creating function to computer product\n",
    "is_present = function(df){\n",
    "    start = df[\"Start\"]\n",
    "    end = df[\"End\"]\n",
    "    class(start) = \"numeric\"\n",
    "    class(end) = \"numeric\"\n",
    "    flag = FALSE\n",
    "    for (l in gene_df_selected$Location) {\n",
    "        if((l > start) & (l < end)) {\n",
    "            flag = TRUE \n",
    "            break\n",
    "            } \n",
    "    }\n",
    "\n",
    "  # return product\n",
    "  return(flag)\n",
    "}\n",
    "\n",
    "gencode_gene_df_selected = gencode_gene_df[apply(gencode_gene_df, 1, is_present),]\n",
    "gencode_gene_df_selected$Width = gencode_gene_df_selected$End - gencode_gene_df_selected$Start\n",
    "\n",
    "SNP <- gene_df_selected$Location\n",
    "# defining the initial snps \n",
    "sample.gr <- GRanges(\"chr2\", IRanges(SNP, width=1, names=SNP))\n",
    "# adding features to the genomic regions\n",
    "features <- GRanges(\"chr2\", IRanges(gencode_gene_df_selected$Start, \n",
    "                                    width=gencode_gene_df_selected$Width,\n",
    "                    fill = rep(c(\"#FF8833\", \"#51C6E6\", \"#DFA32D\"), each = 1, length.out = length(gencode_gene_df_selected$Start)),\n",
    "                    height = rep(c(0.025, 0.025), each = 1, length.out = length(gencode_gene_df_selected$Start))))\n",
    "## adding colors to unique features\n",
    "sample.gr$color <- gene_df_selected$obesity_type_color\n",
    "# sample.gr$border <- sample(c(\"gray30\", \"gray30\"), length(SNP), replace=TRUE)\n",
    "sample.gr$alpha <- 1 #sample(100:255, length(SNP), replace = TRUE)/255\n",
    "# ## adding index labels to nodes : not working\n",
    "# sample.gr$node.label <- as.character(1:length(sample.gr))\n",
    "# sample.gr$node.label.col <- \n",
    "#   ifelse(sample.gr$alpha>0.5 | sample.gr$color==1, \"white\", \"black\")\n",
    "# sample.gr$node.label.cex <- 1\n",
    "#Try a score value greater than 10\n",
    "sample.gr$score <- gene_df_selected$Sample\n",
    "# # add xticks\n",
    "# xaxis <- c(1, 200, 400, 701, 1000, 1200, 1402)\n",
    "## use list to define more attributes. see ?grid::gpar to get more details.\n",
    "legend <- c(\"#ab162a\", \"#1e61a5\", \"#ba6598\") ## legend fill color\n",
    "names(legend) <- c(\"risk\", \"protection\", \"variably_expressive\") ## legend labels\n",
    "legend <- list(labels=c(\"risk\", \"protection\", \"variably_expressive\") , \n",
    "               col=c(\"#ab162a\", \"#1e61a5\", \"#ba6598\"), \n",
    "               fill=c(\"#ab162a\", \"#1e61a5\", \"#ba6598\"))\n",
    "\n",
    "\n",
    "pdf(file = \"../data/variably_expressive/lolliplots/RYR3.pdf\",   # The directory you want to save the file in\n",
    "    width = 8, # The width of the plot in inches\n",
    "    height = 6) # The height of the plot in inches\n",
    "options(repr.plot.width=12, repr.plot.height=10)\n",
    "lolliplot(sample.gr, features, legend=legend)\n",
    "dev.off()"
   ]
  },
  {
   "cell_type": "code",
   "execution_count": 221,
   "metadata": {
    "vscode": {
     "languageId": "r"
    }
   },
   "outputs": [
    {
     "data": {
      "text/html": [
       "<table class=\"dataframe\">\n",
       "<caption>A data.frame: 20 × 9</caption>\n",
       "<thead>\n",
       "\t<tr><th></th><th scope=col>Sample</th><th scope=col>SYMBOL</th><th scope=col>Mut_type</th><th scope=col>Chrom</th><th scope=col>Location</th><th scope=col>Ref</th><th scope=col>Alt</th><th scope=col>obesity_type</th><th scope=col>obesity_type_color</th></tr>\n",
       "\t<tr><th></th><th scope=col>&lt;int&gt;</th><th scope=col>&lt;chr&gt;</th><th scope=col>&lt;chr&gt;</th><th scope=col>&lt;chr&gt;</th><th scope=col>&lt;int&gt;</th><th scope=col>&lt;chr&gt;</th><th scope=col>&lt;chr&gt;</th><th scope=col>&lt;chr&gt;</th><th scope=col>&lt;chr&gt;</th></tr>\n",
       "</thead>\n",
       "<tbody>\n",
       "\t<tr><th scope=row>62</th><td>2</td><td>RYR3</td><td>missense</td><td>chr15</td><td>33662195</td><td>G</td><td>A</td><td>risk               </td><td>#ab162a</td></tr>\n",
       "\t<tr><th scope=row>63</th><td>1</td><td>RYR3</td><td>missense</td><td>chr15</td><td>33662280</td><td>G</td><td>A</td><td>protection         </td><td>#1e61a5</td></tr>\n",
       "\t<tr><th scope=row>64</th><td>7</td><td>RYR3</td><td>missense</td><td>chr15</td><td>33707052</td><td>A</td><td>C</td><td>risk               </td><td>#ab162a</td></tr>\n",
       "\t<tr><th scope=row>65</th><td>4</td><td>RYR3</td><td>missense</td><td>chr15</td><td>33722793</td><td>G</td><td>A</td><td>risk               </td><td>#ab162a</td></tr>\n",
       "\t<tr><th scope=row>66</th><td>3</td><td>RYR3</td><td>missense</td><td>chr15</td><td>33724099</td><td>G</td><td>A</td><td>variably_expressive</td><td>#ba6598</td></tr>\n",
       "\t<tr><th scope=row>67</th><td>2</td><td>RYR3</td><td>missense</td><td>chr15</td><td>33738457</td><td>C</td><td>T</td><td>risk               </td><td>#ab162a</td></tr>\n",
       "\t<tr><th scope=row>68</th><td>1</td><td>RYR3</td><td>missense</td><td>chr15</td><td>33738516</td><td>G</td><td>A</td><td>risk               </td><td>#ab162a</td></tr>\n",
       "\t<tr><th scope=row>69</th><td>1</td><td>RYR3</td><td>missense</td><td>chr15</td><td>33738577</td><td>C</td><td>T</td><td>risk               </td><td>#ab162a</td></tr>\n",
       "\t<tr><th scope=row>70</th><td>8</td><td>RYR3</td><td>missense</td><td>chr15</td><td>33739987</td><td>C</td><td>G</td><td>variably_expressive</td><td>#ba6598</td></tr>\n",
       "\t<tr><th scope=row>71</th><td>1</td><td>RYR3</td><td>missense</td><td>chr15</td><td>33742434</td><td>C</td><td>T</td><td>risk               </td><td>#ab162a</td></tr>\n",
       "\t<tr><th scope=row>72</th><td>1</td><td>RYR3</td><td>missense</td><td>chr15</td><td>33748201</td><td>G</td><td>C</td><td>risk               </td><td>#ab162a</td></tr>\n",
       "\t<tr><th scope=row>73</th><td>1</td><td>RYR3</td><td>missense</td><td>chr15</td><td>33750007</td><td>A</td><td>G</td><td>risk               </td><td>#ab162a</td></tr>\n",
       "\t<tr><th scope=row>74</th><td>1</td><td>RYR3</td><td>missense</td><td>chr15</td><td>33750268</td><td>A</td><td>G</td><td>risk               </td><td>#ab162a</td></tr>\n",
       "\t<tr><th scope=row>75</th><td>1</td><td>RYR3</td><td>missense</td><td>chr15</td><td>33757497</td><td>A</td><td>G</td><td>risk               </td><td>#ab162a</td></tr>\n",
       "\t<tr><th scope=row>76</th><td>3</td><td>RYR3</td><td>missense</td><td>chr15</td><td>33785748</td><td>G</td><td>A</td><td>risk               </td><td>#ab162a</td></tr>\n",
       "\t<tr><th scope=row>77</th><td>1</td><td>RYR3</td><td>missense</td><td>chr15</td><td>33785838</td><td>G</td><td>A</td><td>risk               </td><td>#ab162a</td></tr>\n",
       "\t<tr><th scope=row>78</th><td>2</td><td>RYR3</td><td>missense</td><td>chr15</td><td>33785974</td><td>G</td><td>A</td><td>variably_expressive</td><td>#ba6598</td></tr>\n",
       "\t<tr><th scope=row>79</th><td>1</td><td>RYR3</td><td>missense</td><td>chr15</td><td>33788343</td><td>G</td><td>A</td><td>risk               </td><td>#ab162a</td></tr>\n",
       "\t<tr><th scope=row>80</th><td>4</td><td>RYR3</td><td>missense</td><td>chr15</td><td>33801900</td><td>T</td><td>C</td><td>risk               </td><td>#ab162a</td></tr>\n",
       "\t<tr><th scope=row>81</th><td>1</td><td>RYR3</td><td>missense</td><td>chr15</td><td>33818675</td><td>C</td><td>T</td><td>protection         </td><td>#1e61a5</td></tr>\n",
       "</tbody>\n",
       "</table>\n"
      ],
      "text/latex": [
       "A data.frame: 20 × 9\n",
       "\\begin{tabular}{r|lllllllll}\n",
       "  & Sample & SYMBOL & Mut\\_type & Chrom & Location & Ref & Alt & obesity\\_type & obesity\\_type\\_color\\\\\n",
       "  & <int> & <chr> & <chr> & <chr> & <int> & <chr> & <chr> & <chr> & <chr>\\\\\n",
       "\\hline\n",
       "\t62 & 2 & RYR3 & missense & chr15 & 33662195 & G & A & risk                & \\#ab162a\\\\\n",
       "\t63 & 1 & RYR3 & missense & chr15 & 33662280 & G & A & protection          & \\#1e61a5\\\\\n",
       "\t64 & 7 & RYR3 & missense & chr15 & 33707052 & A & C & risk                & \\#ab162a\\\\\n",
       "\t65 & 4 & RYR3 & missense & chr15 & 33722793 & G & A & risk                & \\#ab162a\\\\\n",
       "\t66 & 3 & RYR3 & missense & chr15 & 33724099 & G & A & variably\\_expressive & \\#ba6598\\\\\n",
       "\t67 & 2 & RYR3 & missense & chr15 & 33738457 & C & T & risk                & \\#ab162a\\\\\n",
       "\t68 & 1 & RYR3 & missense & chr15 & 33738516 & G & A & risk                & \\#ab162a\\\\\n",
       "\t69 & 1 & RYR3 & missense & chr15 & 33738577 & C & T & risk                & \\#ab162a\\\\\n",
       "\t70 & 8 & RYR3 & missense & chr15 & 33739987 & C & G & variably\\_expressive & \\#ba6598\\\\\n",
       "\t71 & 1 & RYR3 & missense & chr15 & 33742434 & C & T & risk                & \\#ab162a\\\\\n",
       "\t72 & 1 & RYR3 & missense & chr15 & 33748201 & G & C & risk                & \\#ab162a\\\\\n",
       "\t73 & 1 & RYR3 & missense & chr15 & 33750007 & A & G & risk                & \\#ab162a\\\\\n",
       "\t74 & 1 & RYR3 & missense & chr15 & 33750268 & A & G & risk                & \\#ab162a\\\\\n",
       "\t75 & 1 & RYR3 & missense & chr15 & 33757497 & A & G & risk                & \\#ab162a\\\\\n",
       "\t76 & 3 & RYR3 & missense & chr15 & 33785748 & G & A & risk                & \\#ab162a\\\\\n",
       "\t77 & 1 & RYR3 & missense & chr15 & 33785838 & G & A & risk                & \\#ab162a\\\\\n",
       "\t78 & 2 & RYR3 & missense & chr15 & 33785974 & G & A & variably\\_expressive & \\#ba6598\\\\\n",
       "\t79 & 1 & RYR3 & missense & chr15 & 33788343 & G & A & risk                & \\#ab162a\\\\\n",
       "\t80 & 4 & RYR3 & missense & chr15 & 33801900 & T & C & risk                & \\#ab162a\\\\\n",
       "\t81 & 1 & RYR3 & missense & chr15 & 33818675 & C & T & protection          & \\#1e61a5\\\\\n",
       "\\end{tabular}\n"
      ],
      "text/markdown": [
       "\n",
       "A data.frame: 20 × 9\n",
       "\n",
       "| <!--/--> | Sample &lt;int&gt; | SYMBOL &lt;chr&gt; | Mut_type &lt;chr&gt; | Chrom &lt;chr&gt; | Location &lt;int&gt; | Ref &lt;chr&gt; | Alt &lt;chr&gt; | obesity_type &lt;chr&gt; | obesity_type_color &lt;chr&gt; |\n",
       "|---|---|---|---|---|---|---|---|---|---|\n",
       "| 62 | 2 | RYR3 | missense | chr15 | 33662195 | G | A | risk                | #ab162a |\n",
       "| 63 | 1 | RYR3 | missense | chr15 | 33662280 | G | A | protection          | #1e61a5 |\n",
       "| 64 | 7 | RYR3 | missense | chr15 | 33707052 | A | C | risk                | #ab162a |\n",
       "| 65 | 4 | RYR3 | missense | chr15 | 33722793 | G | A | risk                | #ab162a |\n",
       "| 66 | 3 | RYR3 | missense | chr15 | 33724099 | G | A | variably_expressive | #ba6598 |\n",
       "| 67 | 2 | RYR3 | missense | chr15 | 33738457 | C | T | risk                | #ab162a |\n",
       "| 68 | 1 | RYR3 | missense | chr15 | 33738516 | G | A | risk                | #ab162a |\n",
       "| 69 | 1 | RYR3 | missense | chr15 | 33738577 | C | T | risk                | #ab162a |\n",
       "| 70 | 8 | RYR3 | missense | chr15 | 33739987 | C | G | variably_expressive | #ba6598 |\n",
       "| 71 | 1 | RYR3 | missense | chr15 | 33742434 | C | T | risk                | #ab162a |\n",
       "| 72 | 1 | RYR3 | missense | chr15 | 33748201 | G | C | risk                | #ab162a |\n",
       "| 73 | 1 | RYR3 | missense | chr15 | 33750007 | A | G | risk                | #ab162a |\n",
       "| 74 | 1 | RYR3 | missense | chr15 | 33750268 | A | G | risk                | #ab162a |\n",
       "| 75 | 1 | RYR3 | missense | chr15 | 33757497 | A | G | risk                | #ab162a |\n",
       "| 76 | 3 | RYR3 | missense | chr15 | 33785748 | G | A | risk                | #ab162a |\n",
       "| 77 | 1 | RYR3 | missense | chr15 | 33785838 | G | A | risk                | #ab162a |\n",
       "| 78 | 2 | RYR3 | missense | chr15 | 33785974 | G | A | variably_expressive | #ba6598 |\n",
       "| 79 | 1 | RYR3 | missense | chr15 | 33788343 | G | A | risk                | #ab162a |\n",
       "| 80 | 4 | RYR3 | missense | chr15 | 33801900 | T | C | risk                | #ab162a |\n",
       "| 81 | 1 | RYR3 | missense | chr15 | 33818675 | C | T | protection          | #1e61a5 |\n",
       "\n"
      ],
      "text/plain": [
       "   Sample SYMBOL Mut_type Chrom Location Ref Alt obesity_type       \n",
       "62 2      RYR3   missense chr15 33662195 G   A   risk               \n",
       "63 1      RYR3   missense chr15 33662280 G   A   protection         \n",
       "64 7      RYR3   missense chr15 33707052 A   C   risk               \n",
       "65 4      RYR3   missense chr15 33722793 G   A   risk               \n",
       "66 3      RYR3   missense chr15 33724099 G   A   variably_expressive\n",
       "67 2      RYR3   missense chr15 33738457 C   T   risk               \n",
       "68 1      RYR3   missense chr15 33738516 G   A   risk               \n",
       "69 1      RYR3   missense chr15 33738577 C   T   risk               \n",
       "70 8      RYR3   missense chr15 33739987 C   G   variably_expressive\n",
       "71 1      RYR3   missense chr15 33742434 C   T   risk               \n",
       "72 1      RYR3   missense chr15 33748201 G   C   risk               \n",
       "73 1      RYR3   missense chr15 33750007 A   G   risk               \n",
       "74 1      RYR3   missense chr15 33750268 A   G   risk               \n",
       "75 1      RYR3   missense chr15 33757497 A   G   risk               \n",
       "76 3      RYR3   missense chr15 33785748 G   A   risk               \n",
       "77 1      RYR3   missense chr15 33785838 G   A   risk               \n",
       "78 2      RYR3   missense chr15 33785974 G   A   variably_expressive\n",
       "79 1      RYR3   missense chr15 33788343 G   A   risk               \n",
       "80 4      RYR3   missense chr15 33801900 T   C   risk               \n",
       "81 1      RYR3   missense chr15 33818675 C   T   protection         \n",
       "   obesity_type_color\n",
       "62 #ab162a           \n",
       "63 #1e61a5           \n",
       "64 #ab162a           \n",
       "65 #ab162a           \n",
       "66 #ba6598           \n",
       "67 #ab162a           \n",
       "68 #ab162a           \n",
       "69 #ab162a           \n",
       "70 #ba6598           \n",
       "71 #ab162a           \n",
       "72 #ab162a           \n",
       "73 #ab162a           \n",
       "74 #ab162a           \n",
       "75 #ab162a           \n",
       "76 #ab162a           \n",
       "77 #ab162a           \n",
       "78 #ba6598           \n",
       "79 #ab162a           \n",
       "80 #ab162a           \n",
       "81 #1e61a5           "
      ]
     },
     "metadata": {},
     "output_type": "display_data"
    }
   ],
   "source": [
    "gene_df[13:32,]"
   ]
  },
  {
   "cell_type": "code",
   "execution_count": null,
   "metadata": {
    "vscode": {
     "languageId": "r"
    }
   },
   "outputs": [],
   "source": []
  },
  {
   "cell_type": "code",
   "execution_count": null,
   "metadata": {
    "vscode": {
     "languageId": "r"
    }
   },
   "outputs": [],
   "source": []
  },
  {
   "cell_type": "code",
   "execution_count": null,
   "metadata": {
    "vscode": {
     "languageId": "r"
    }
   },
   "outputs": [],
   "source": []
  }
 ],
 "metadata": {
  "kernelspec": {
   "display_name": "R",
   "language": "R",
   "name": "ir"
  },
  "language_info": {
   "codemirror_mode": "r",
   "file_extension": ".r",
   "mimetype": "text/x-r-source",
   "name": "R",
   "pygments_lexer": "r",
   "version": "4.2.0"
  },
  "orig_nbformat": 4
 },
 "nbformat": 4,
 "nbformat_minor": 2
}
